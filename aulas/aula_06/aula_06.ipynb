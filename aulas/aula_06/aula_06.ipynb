{
 "cells": [
  {
   "cell_type": "markdown",
   "id": "ad0d383d",
   "metadata": {},
   "source": [
    "# Função assert, Função try... except, e Tratamento de Erros"
   ]
  },
  {
   "cell_type": "markdown",
   "id": "a495aaa6",
   "metadata": {},
   "source": [
    "## Função assert"
   ]
  },
  {
   "cell_type": "markdown",
   "id": "9dd241a8",
   "metadata": {},
   "source": [
    "A função *assert* é usada como mecanismo de teste unitário. Testes unitários são testes que realizamos em uma única parte do código, como por exemplo uma função, métodos de uma classe, e assim por diante.\n",
    "\n",
    "Além disso, a função *assert* pode ser usada para testar os parâmetros que recebemos em nossas funções, garantindo assim que eles são válidos e não farão com que as nossas funções tenham comportamentos indesejados (*bugs*).\n",
    "\n",
    "Em sua utilização básica, testamos uma condição e, se essa condição for verdadeira, a aplicação continuará a sua execução; caso a condição seja falsa, a função *assert* gerará um erro do tipo AssertionError. "
   ]
  },
  {
   "cell_type": "code",
   "execution_count": null,
   "id": "4dd5ced4",
   "metadata": {},
   "outputs": [],
   "source": []
  }
 ],
 "metadata": {
  "kernelspec": {
   "display_name": "Python 3 (ipykernel)",
   "language": "python",
   "name": "python3"
  },
  "language_info": {
   "codemirror_mode": {
    "name": "ipython",
    "version": 3
   },
   "file_extension": ".py",
   "mimetype": "text/x-python",
   "name": "python",
   "nbconvert_exporter": "python",
   "pygments_lexer": "ipython3",
   "version": "3.9.6"
  }
 },
 "nbformat": 4,
 "nbformat_minor": 5
}
