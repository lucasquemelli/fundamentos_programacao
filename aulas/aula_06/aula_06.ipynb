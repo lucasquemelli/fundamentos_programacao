{
 "cells": [
  {
   "cell_type": "markdown",
   "id": "ad0d383d",
   "metadata": {},
   "source": [
    "# Função assert, Função try... except, e Tratamento de Erros"
   ]
  },
  {
   "cell_type": "markdown",
   "id": "a495aaa6",
   "metadata": {},
   "source": [
    "## Função assert"
   ]
  },
  {
   "cell_type": "markdown",
   "id": "9dd241a8",
   "metadata": {},
   "source": [
    "A função *assert* é usada como mecanismo de teste unitário. Testes unitários são testes que realizamos em uma única parte do código, como por exemplo uma função, métodos de uma classe, e assim por diante.\n",
    "\n",
    "Além disso, a função *assert* pode ser usada para testar os parâmetros que recebemos em nossas funções, garantindo assim que eles são válidos e não farão com que as nossas funções tenham comportamentos indesejados (*bugs*).\n",
    "\n",
    "Em sua utilização básica, testamos uma condição e, se essa condição for verdadeira, a aplicação continuará a sua execução; caso a condição seja falsa, a função *assert* gerará um erro do tipo AssertionError. "
   ]
  },
  {
   "cell_type": "markdown",
   "id": "c4976241",
   "metadata": {},
   "source": [
    "### Declarando a função assert"
   ]
  },
  {
   "cell_type": "markdown",
   "id": "de76787b",
   "metadata": {},
   "source": [
    "Podemos usar a função *assert* de duas maneiras.\n",
    "\n",
    "- Declarando somente a função: assert <condição>\n",
    "- Declarando a função e a mensagem de erro: assert <condição>[, < mensagem >]"
   ]
  },
  {
   "cell_type": "code",
   "execution_count": 1,
   "id": "c710605d",
   "metadata": {},
   "outputs": [
    {
     "ename": "AssertionError",
     "evalue": "",
     "output_type": "error",
     "traceback": [
      "\u001b[1;31m---------------------------------------------------------------------------\u001b[0m",
      "\u001b[1;31mAssertionError\u001b[0m                            Traceback (most recent call last)",
      "\u001b[1;32mC:\\Users\\USURIO~3\\AppData\\Local\\Temp/ipykernel_13772/1662866028.py\u001b[0m in \u001b[0;36m<module>\u001b[1;34m\u001b[0m\n\u001b[0;32m      1\u001b[0m \u001b[0mx\u001b[0m \u001b[1;33m=\u001b[0m \u001b[1;36m10\u001b[0m\u001b[1;33m\u001b[0m\u001b[1;33m\u001b[0m\u001b[0m\n\u001b[1;32m----> 2\u001b[1;33m \u001b[1;32massert\u001b[0m \u001b[0mx\u001b[0m \u001b[1;33m<\u001b[0m \u001b[1;36m10\u001b[0m\u001b[1;33m\u001b[0m\u001b[1;33m\u001b[0m\u001b[0m\n\u001b[0m",
      "\u001b[1;31mAssertionError\u001b[0m: "
     ]
    }
   ],
   "source": [
    "x = 10\n",
    "assert x < 10"
   ]
  },
  {
   "cell_type": "code",
   "execution_count": 2,
   "id": "ad7ec542",
   "metadata": {},
   "outputs": [
    {
     "ename": "AssertionError",
     "evalue": "a variável deve ser menor do que 10",
     "output_type": "error",
     "traceback": [
      "\u001b[1;31m---------------------------------------------------------------------------\u001b[0m",
      "\u001b[1;31mAssertionError\u001b[0m                            Traceback (most recent call last)",
      "\u001b[1;32mC:\\Users\\USURIO~3\\AppData\\Local\\Temp/ipykernel_13772/3012605615.py\u001b[0m in \u001b[0;36m<module>\u001b[1;34m\u001b[0m\n\u001b[1;32m----> 1\u001b[1;33m \u001b[1;32massert\u001b[0m \u001b[0mx\u001b[0m \u001b[1;33m<\u001b[0m \u001b[1;36m10\u001b[0m\u001b[1;33m,\u001b[0m \u001b[1;34m'a variável deve ser menor do que 10'\u001b[0m\u001b[1;33m\u001b[0m\u001b[1;33m\u001b[0m\u001b[0m\n\u001b[0m",
      "\u001b[1;31mAssertionError\u001b[0m: a variável deve ser menor do que 10"
     ]
    }
   ],
   "source": [
    "assert x < 10, 'a variável deve ser menor do que 10'"
   ]
  },
  {
   "cell_type": "markdown",
   "id": "3c9b8ca0",
   "metadata": {},
   "source": [
    "### Testes unitários"
   ]
  },
  {
   "cell_type": "code",
   "execution_count": 3,
   "id": "5d6e9214",
   "metadata": {},
   "outputs": [],
   "source": [
    "class ClickCounter:\n",
    "    def __init__(self, count_param = 0):\n",
    "        self.count = count_param\n",
    "        \n",
    "    def reset(self):\n",
    "        self.count = 0\n",
    "        \n",
    "    def click(self, count_param = 1):\n",
    "        if (self.count == 25):\n",
    "            print(\"O número máximo foi atingido!\")\n",
    "        else:\n",
    "            self.count += count_param\n",
    "        \n",
    "    def leitura(self):\n",
    "        return self.count"
   ]
  },
  {
   "cell_type": "code",
   "execution_count": 4,
   "id": "8ddf7649",
   "metadata": {},
   "outputs": [],
   "source": [
    "contador = ClickCounter()"
   ]
  },
  {
   "cell_type": "code",
   "execution_count": 5,
   "id": "fe51bfc8",
   "metadata": {},
   "outputs": [
    {
     "data": {
      "text/plain": [
       "0"
      ]
     },
     "execution_count": 5,
     "metadata": {},
     "output_type": "execute_result"
    }
   ],
   "source": [
    "contador.leitura()"
   ]
  },
  {
   "cell_type": "code",
   "execution_count": 6,
   "id": "29d4116b",
   "metadata": {},
   "outputs": [],
   "source": [
    "contador.click(5)"
   ]
  },
  {
   "cell_type": "code",
   "execution_count": 7,
   "id": "0bafffe0",
   "metadata": {},
   "outputs": [
    {
     "data": {
      "text/plain": [
       "5"
      ]
     },
     "execution_count": 7,
     "metadata": {},
     "output_type": "execute_result"
    }
   ],
   "source": [
    "contador.leitura()"
   ]
  },
  {
   "cell_type": "markdown",
   "id": "ab170105",
   "metadata": {},
   "source": [
    "Sempre que instanciarmos a função ClickCounter, o contador deve obrigatoriamente estar valendo 0. Portanto, podemos criar uma função *assert* para garantir que essa condição seja obedecida:"
   ]
  },
  {
   "cell_type": "code",
   "execution_count": 8,
   "id": "113f4a3f",
   "metadata": {},
   "outputs": [],
   "source": [
    "contador = ClickCounter()\n",
    "assert contador.leitura() == 0"
   ]
  },
  {
   "cell_type": "markdown",
   "id": "fb8b93d1",
   "metadata": {},
   "source": [
    "Caso a condição acima não seja obedecida, podemos fazer:"
   ]
  },
  {
   "cell_type": "code",
   "execution_count": 12,
   "id": "baa9ff2a",
   "metadata": {},
   "outputs": [
    {
     "ename": "AssertionError",
     "evalue": "A numeração do contador deve iniciar-se em 0.",
     "output_type": "error",
     "traceback": [
      "\u001b[1;31m---------------------------------------------------------------------------\u001b[0m",
      "\u001b[1;31mAssertionError\u001b[0m                            Traceback (most recent call last)",
      "\u001b[1;32mC:\\Users\\USURIO~3\\AppData\\Local\\Temp/ipykernel_13772/3069267521.py\u001b[0m in \u001b[0;36m<module>\u001b[1;34m\u001b[0m\n\u001b[0;32m      1\u001b[0m \u001b[0mcontador\u001b[0m \u001b[1;33m=\u001b[0m \u001b[0mClickCounter\u001b[0m\u001b[1;33m(\u001b[0m\u001b[1;36m2\u001b[0m\u001b[1;33m)\u001b[0m\u001b[1;33m\u001b[0m\u001b[1;33m\u001b[0m\u001b[0m\n\u001b[1;32m----> 2\u001b[1;33m \u001b[1;32massert\u001b[0m \u001b[0mcontador\u001b[0m\u001b[1;33m.\u001b[0m\u001b[0mleitura\u001b[0m\u001b[1;33m(\u001b[0m\u001b[1;33m)\u001b[0m \u001b[1;33m==\u001b[0m \u001b[1;36m0\u001b[0m\u001b[1;33m,\u001b[0m \u001b[1;34m'A numeração do contador deve iniciar-se em 0.'\u001b[0m\u001b[1;33m\u001b[0m\u001b[1;33m\u001b[0m\u001b[0m\n\u001b[0m",
      "\u001b[1;31mAssertionError\u001b[0m: A numeração do contador deve iniciar-se em 0."
     ]
    }
   ],
   "source": [
    "contador = ClickCounter(2)\n",
    "assert contador.leitura() == 0, 'A numeração do contador deve iniciar-se em 0.'"
   ]
  },
  {
   "cell_type": "code",
   "execution_count": 13,
   "id": "14fc4bf2",
   "metadata": {},
   "outputs": [
    {
     "ename": "AssertionError",
     "evalue": "O valor do contador deve ser numérico e inteiro.",
     "output_type": "error",
     "traceback": [
      "\u001b[1;31m---------------------------------------------------------------------------\u001b[0m",
      "\u001b[1;31mAssertionError\u001b[0m                            Traceback (most recent call last)",
      "\u001b[1;32mC:\\Users\\USURIO~3\\AppData\\Local\\Temp/ipykernel_13772/3239590833.py\u001b[0m in \u001b[0;36m<module>\u001b[1;34m\u001b[0m\n\u001b[0;32m      1\u001b[0m \u001b[0mcontador\u001b[0m \u001b[1;33m=\u001b[0m \u001b[0mClickCounter\u001b[0m\u001b[1;33m(\u001b[0m\u001b[1;34m'0'\u001b[0m\u001b[1;33m)\u001b[0m\u001b[1;33m\u001b[0m\u001b[1;33m\u001b[0m\u001b[0m\n\u001b[1;32m----> 2\u001b[1;33m \u001b[1;32massert\u001b[0m \u001b[0misinstance\u001b[0m\u001b[1;33m(\u001b[0m\u001b[0mcontador\u001b[0m\u001b[1;33m.\u001b[0m\u001b[0mleitura\u001b[0m\u001b[1;33m(\u001b[0m\u001b[1;33m)\u001b[0m\u001b[1;33m,\u001b[0m \u001b[0mint\u001b[0m\u001b[1;33m)\u001b[0m\u001b[1;33m,\u001b[0m \u001b[1;34m'O valor do contador deve ser numérico e inteiro.'\u001b[0m\u001b[1;33m\u001b[0m\u001b[1;33m\u001b[0m\u001b[0m\n\u001b[0m",
      "\u001b[1;31mAssertionError\u001b[0m: O valor do contador deve ser numérico e inteiro."
     ]
    }
   ],
   "source": [
    "contador = ClickCounter('0')\n",
    "assert isinstance(contador.leitura(), int), 'O valor do contador deve ser numérico e inteiro.'"
   ]
  },
  {
   "cell_type": "code",
   "execution_count": null,
   "id": "8faca6a0",
   "metadata": {},
   "outputs": [],
   "source": []
  }
 ],
 "metadata": {
  "kernelspec": {
   "display_name": "Python 3 (ipykernel)",
   "language": "python",
   "name": "python3"
  },
  "language_info": {
   "codemirror_mode": {
    "name": "ipython",
    "version": 3
   },
   "file_extension": ".py",
   "mimetype": "text/x-python",
   "name": "python",
   "nbconvert_exporter": "python",
   "pygments_lexer": "ipython3",
   "version": "3.9.6"
  }
 },
 "nbformat": 4,
 "nbformat_minor": 5
}
