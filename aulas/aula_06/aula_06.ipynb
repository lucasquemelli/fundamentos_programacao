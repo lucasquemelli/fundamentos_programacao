{
 "cells": [
  {
   "cell_type": "markdown",
   "id": "ad0d383d",
   "metadata": {},
   "source": [
    "# Função assert, Função try... except, e Tratamento de Erros"
   ]
  },
  {
   "cell_type": "markdown",
   "id": "a495aaa6",
   "metadata": {},
   "source": [
    "## Função assert"
   ]
  },
  {
   "cell_type": "markdown",
   "id": "9dd241a8",
   "metadata": {},
   "source": [
    "A função *assert* é usada como mecanismo de teste unitário. Testes unitários são testes que realizamos em uma única parte do código, como por exemplo uma função, métodos de uma classe, e assim por diante.\n",
    "\n",
    "Além disso, a função *assert* pode ser usada para testar os parâmetros que recebemos em nossas funções, garantindo assim que eles são válidos e não farão com que as nossas funções tenham comportamentos indesejados (*bugs*).\n",
    "\n",
    "Em sua utilização básica, testamos uma condição e, se essa condição for verdadeira, a aplicação continuará a sua execução; caso a condição seja falsa, a função *assert* gerará um erro do tipo AssertionError. "
   ]
  },
  {
   "cell_type": "markdown",
   "id": "c6c182cb",
   "metadata": {},
   "source": [
    "### Declarando a função assert"
   ]
  },
  {
   "cell_type": "markdown",
   "id": "f20bb35e",
   "metadata": {},
   "source": [
    "Podemos usar a função *assert* de duas maneiras.\n",
    "\n",
    "- Declarando somente a função: assert <condição>\n",
    "- Declarando a função e a mensagem de erro: assert <condição>[, < mensagem >]"
   ]
  },
  {
   "cell_type": "code",
   "execution_count": 1,
   "id": "a1ba6254",
   "metadata": {},
   "outputs": [
    {
     "ename": "AssertionError",
     "evalue": "",
     "output_type": "error",
     "traceback": [
      "\u001b[1;31m---------------------------------------------------------------------------\u001b[0m",
      "\u001b[1;31mAssertionError\u001b[0m                            Traceback (most recent call last)",
      "\u001b[1;32mC:\\Users\\USURIO~3\\AppData\\Local\\Temp/ipykernel_14068/1662866028.py\u001b[0m in \u001b[0;36m<module>\u001b[1;34m\u001b[0m\n\u001b[0;32m      1\u001b[0m \u001b[0mx\u001b[0m \u001b[1;33m=\u001b[0m \u001b[1;36m10\u001b[0m\u001b[1;33m\u001b[0m\u001b[1;33m\u001b[0m\u001b[0m\n\u001b[1;32m----> 2\u001b[1;33m \u001b[1;32massert\u001b[0m \u001b[0mx\u001b[0m \u001b[1;33m<\u001b[0m \u001b[1;36m10\u001b[0m\u001b[1;33m\u001b[0m\u001b[1;33m\u001b[0m\u001b[0m\n\u001b[0m",
      "\u001b[1;31mAssertionError\u001b[0m: "
     ]
    }
   ],
   "source": [
    "x = 10\n",
    "assert x < 10"
   ]
  },
  {
   "cell_type": "code",
   "execution_count": 2,
   "id": "b49de47f",
   "metadata": {},
   "outputs": [
    {
     "ename": "AssertionError",
     "evalue": "a variável deve ser menor do que 10",
     "output_type": "error",
     "traceback": [
      "\u001b[1;31m---------------------------------------------------------------------------\u001b[0m",
      "\u001b[1;31mAssertionError\u001b[0m                            Traceback (most recent call last)",
      "\u001b[1;32mC:\\Users\\USURIO~3\\AppData\\Local\\Temp/ipykernel_14068/3012605615.py\u001b[0m in \u001b[0;36m<module>\u001b[1;34m\u001b[0m\n\u001b[1;32m----> 1\u001b[1;33m \u001b[1;32massert\u001b[0m \u001b[0mx\u001b[0m \u001b[1;33m<\u001b[0m \u001b[1;36m10\u001b[0m\u001b[1;33m,\u001b[0m \u001b[1;34m'a variável deve ser menor do que 10'\u001b[0m\u001b[1;33m\u001b[0m\u001b[1;33m\u001b[0m\u001b[0m\n\u001b[0m",
      "\u001b[1;31mAssertionError\u001b[0m: a variável deve ser menor do que 10"
     ]
    }
   ],
   "source": [
    "assert x < 10, 'a variável deve ser menor do que 10'"
   ]
  },
  {
   "cell_type": "code",
   "execution_count": null,
   "id": "46c4b03d",
   "metadata": {},
   "outputs": [],
   "source": []
  }
 ],
 "metadata": {
  "kernelspec": {
   "display_name": "Python 3 (ipykernel)",
   "language": "python",
   "name": "python3"
  },
  "language_info": {
   "codemirror_mode": {
    "name": "ipython",
    "version": 3
   },
   "file_extension": ".py",
   "mimetype": "text/x-python",
   "name": "python",
   "nbconvert_exporter": "python",
   "pygments_lexer": "ipython3",
   "version": "3.9.6"
  }
 },
 "nbformat": 4,
 "nbformat_minor": 5
}
