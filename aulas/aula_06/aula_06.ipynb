{
 "cells": [
  {
   "cell_type": "markdown",
   "id": "ad0d383d",
   "metadata": {},
   "source": [
    "# Função assert, Função try... except, e Tratamento de Erros"
   ]
  },
  {
   "cell_type": "markdown",
   "id": "a495aaa6",
   "metadata": {},
   "source": [
    "## Função assert"
   ]
  },
  {
   "cell_type": "markdown",
   "id": "9dd241a8",
   "metadata": {},
   "source": [
    "A função *assert* é usada como mecanismo de teste unitário. Testes unitários são testes que realizamos em uma única parte do código, como por exemplo uma função, métodos de uma classe, e assim por diante.\n",
    "\n",
    "Além disso, a função *assert* pode ser usada para testar os parâmetros que recebemos em nossas funções, garantindo assim que eles são válidos e não farão com que as nossas funções tenham comportamentos indesejados (*bugs*).\n",
    "\n",
    "Em sua utilização básica, testamos uma condição e, se essa condição for verdadeira, a aplicação continuará a sua execução; caso a condição seja falsa, a função *assert* gerará um erro do tipo AssertionError. "
   ]
  },
  {
   "cell_type": "markdown",
   "id": "efbe23ce",
   "metadata": {},
   "source": [
    "### Declarando a função assert"
   ]
  },
  {
   "cell_type": "markdown",
   "id": "327ef4ed",
   "metadata": {},
   "source": [
    "Podemos usar a função *assert* de duas maneiras.\n",
    "\n",
    "- Declarando somente a função: assert <condição>\n",
    "- Declarando a função e a mensagem de erro: assert <condição>[, < mensagem >]"
   ]
  },
  {
   "cell_type": "code",
   "execution_count": 1,
   "id": "55935e23",
   "metadata": {},
   "outputs": [
    {
     "ename": "AssertionError",
     "evalue": "",
     "output_type": "error",
     "traceback": [
      "\u001b[1;31m---------------------------------------------------------------------------\u001b[0m",
      "\u001b[1;31mAssertionError\u001b[0m                            Traceback (most recent call last)",
      "\u001b[1;32mC:\\Users\\USURIO~3\\AppData\\Local\\Temp/ipykernel_13772/1662866028.py\u001b[0m in \u001b[0;36m<module>\u001b[1;34m\u001b[0m\n\u001b[0;32m      1\u001b[0m \u001b[0mx\u001b[0m \u001b[1;33m=\u001b[0m \u001b[1;36m10\u001b[0m\u001b[1;33m\u001b[0m\u001b[1;33m\u001b[0m\u001b[0m\n\u001b[1;32m----> 2\u001b[1;33m \u001b[1;32massert\u001b[0m \u001b[0mx\u001b[0m \u001b[1;33m<\u001b[0m \u001b[1;36m10\u001b[0m\u001b[1;33m\u001b[0m\u001b[1;33m\u001b[0m\u001b[0m\n\u001b[0m",
      "\u001b[1;31mAssertionError\u001b[0m: "
     ]
    }
   ],
   "source": [
    "x = 10\n",
    "assert x < 10"
   ]
  },
  {
   "cell_type": "code",
   "execution_count": 2,
   "id": "5d9334ad",
   "metadata": {},
   "outputs": [
    {
     "ename": "AssertionError",
     "evalue": "a variável deve ser menor do que 10",
     "output_type": "error",
     "traceback": [
      "\u001b[1;31m---------------------------------------------------------------------------\u001b[0m",
      "\u001b[1;31mAssertionError\u001b[0m                            Traceback (most recent call last)",
      "\u001b[1;32mC:\\Users\\USURIO~3\\AppData\\Local\\Temp/ipykernel_13772/3012605615.py\u001b[0m in \u001b[0;36m<module>\u001b[1;34m\u001b[0m\n\u001b[1;32m----> 1\u001b[1;33m \u001b[1;32massert\u001b[0m \u001b[0mx\u001b[0m \u001b[1;33m<\u001b[0m \u001b[1;36m10\u001b[0m\u001b[1;33m,\u001b[0m \u001b[1;34m'a variável deve ser menor do que 10'\u001b[0m\u001b[1;33m\u001b[0m\u001b[1;33m\u001b[0m\u001b[0m\n\u001b[0m",
      "\u001b[1;31mAssertionError\u001b[0m: a variável deve ser menor do que 10"
     ]
    }
   ],
   "source": [
    "assert x < 10, 'a variável deve ser menor do que 10'"
   ]
  },
  {
   "cell_type": "markdown",
   "id": "d4f62a9a",
   "metadata": {},
   "source": [
    "### Testes unitários"
   ]
  },
  {
   "cell_type": "code",
   "execution_count": 3,
   "id": "cd1872f5",
   "metadata": {},
   "outputs": [],
   "source": [
    "class ClickCounter:\n",
    "    def __init__(self, count_param = 0):\n",
    "        self.count = count_param\n",
    "        \n",
    "    def reset(self):\n",
    "        self.count = 0\n",
    "        \n",
    "    def click(self, count_param = 1):\n",
    "        if (self.count == 25):\n",
    "            print(\"O número máximo foi atingido!\")\n",
    "        else:\n",
    "            self.count += count_param\n",
    "        \n",
    "    def leitura(self):\n",
    "        return self.count"
   ]
  },
  {
   "cell_type": "code",
   "execution_count": 4,
   "id": "567f74ce",
   "metadata": {},
   "outputs": [],
   "source": [
    "contador = ClickCounter()"
   ]
  },
  {
   "cell_type": "code",
   "execution_count": 5,
   "id": "0c250d76",
   "metadata": {},
   "outputs": [
    {
     "data": {
      "text/plain": [
       "0"
      ]
     },
     "execution_count": 5,
     "metadata": {},
     "output_type": "execute_result"
    }
   ],
   "source": [
    "contador.leitura()"
   ]
  },
  {
   "cell_type": "code",
   "execution_count": 6,
   "id": "c90e1c7b",
   "metadata": {},
   "outputs": [],
   "source": [
    "contador.click(5)"
   ]
  },
  {
   "cell_type": "code",
   "execution_count": 7,
   "id": "ae961811",
   "metadata": {},
   "outputs": [
    {
     "data": {
      "text/plain": [
       "5"
      ]
     },
     "execution_count": 7,
     "metadata": {},
     "output_type": "execute_result"
    }
   ],
   "source": [
    "contador.leitura()"
   ]
  },
  {
   "cell_type": "markdown",
   "id": "6196bba4",
   "metadata": {},
   "source": [
    "Sempre que instanciarmos a função ClickCounter, o contador deve obrigatoriamente estar valendo 0. Portanto, podemos criar uma função *assert* para garantir que essa condição seja obedecida:"
   ]
  },
  {
   "cell_type": "code",
   "execution_count": 8,
   "id": "07096a49",
   "metadata": {},
   "outputs": [],
   "source": [
    "contador = ClickCounter()\n",
    "assert contador.leitura() == 0"
   ]
  },
  {
   "cell_type": "markdown",
   "id": "681a8b2b",
   "metadata": {},
   "source": [
    "Caso a condição acima não seja obedecida, podemos fazer:"
   ]
  },
  {
   "cell_type": "code",
   "execution_count": 12,
   "id": "5fa38b57",
   "metadata": {},
   "outputs": [
    {
     "ename": "AssertionError",
     "evalue": "A numeração do contador deve iniciar-se em 0.",
     "output_type": "error",
     "traceback": [
      "\u001b[1;31m---------------------------------------------------------------------------\u001b[0m",
      "\u001b[1;31mAssertionError\u001b[0m                            Traceback (most recent call last)",
      "\u001b[1;32mC:\\Users\\USURIO~3\\AppData\\Local\\Temp/ipykernel_13772/3069267521.py\u001b[0m in \u001b[0;36m<module>\u001b[1;34m\u001b[0m\n\u001b[0;32m      1\u001b[0m \u001b[0mcontador\u001b[0m \u001b[1;33m=\u001b[0m \u001b[0mClickCounter\u001b[0m\u001b[1;33m(\u001b[0m\u001b[1;36m2\u001b[0m\u001b[1;33m)\u001b[0m\u001b[1;33m\u001b[0m\u001b[1;33m\u001b[0m\u001b[0m\n\u001b[1;32m----> 2\u001b[1;33m \u001b[1;32massert\u001b[0m \u001b[0mcontador\u001b[0m\u001b[1;33m.\u001b[0m\u001b[0mleitura\u001b[0m\u001b[1;33m(\u001b[0m\u001b[1;33m)\u001b[0m \u001b[1;33m==\u001b[0m \u001b[1;36m0\u001b[0m\u001b[1;33m,\u001b[0m \u001b[1;34m'A numeração do contador deve iniciar-se em 0.'\u001b[0m\u001b[1;33m\u001b[0m\u001b[1;33m\u001b[0m\u001b[0m\n\u001b[0m",
      "\u001b[1;31mAssertionError\u001b[0m: A numeração do contador deve iniciar-se em 0."
     ]
    }
   ],
   "source": [
    "contador = ClickCounter(2)\n",
    "assert contador.leitura() == 0, 'A numeração do contador deve iniciar-se em 0.'"
   ]
  },
  {
   "cell_type": "markdown",
   "id": "ab207f96",
   "metadata": {},
   "source": [
    "Caso instanciarmos o contador com zero, porém como uma *string*, deve acionar um alerta como o abaixo:"
   ]
  },
  {
   "cell_type": "code",
   "execution_count": 13,
   "id": "71387da1",
   "metadata": {},
   "outputs": [
    {
     "ename": "AssertionError",
     "evalue": "O valor do contador deve ser numérico e inteiro.",
     "output_type": "error",
     "traceback": [
      "\u001b[1;31m---------------------------------------------------------------------------\u001b[0m",
      "\u001b[1;31mAssertionError\u001b[0m                            Traceback (most recent call last)",
      "\u001b[1;32mC:\\Users\\USURIO~3\\AppData\\Local\\Temp/ipykernel_13772/3239590833.py\u001b[0m in \u001b[0;36m<module>\u001b[1;34m\u001b[0m\n\u001b[0;32m      1\u001b[0m \u001b[0mcontador\u001b[0m \u001b[1;33m=\u001b[0m \u001b[0mClickCounter\u001b[0m\u001b[1;33m(\u001b[0m\u001b[1;34m'0'\u001b[0m\u001b[1;33m)\u001b[0m\u001b[1;33m\u001b[0m\u001b[1;33m\u001b[0m\u001b[0m\n\u001b[1;32m----> 2\u001b[1;33m \u001b[1;32massert\u001b[0m \u001b[0misinstance\u001b[0m\u001b[1;33m(\u001b[0m\u001b[0mcontador\u001b[0m\u001b[1;33m.\u001b[0m\u001b[0mleitura\u001b[0m\u001b[1;33m(\u001b[0m\u001b[1;33m)\u001b[0m\u001b[1;33m,\u001b[0m \u001b[0mint\u001b[0m\u001b[1;33m)\u001b[0m\u001b[1;33m,\u001b[0m \u001b[1;34m'O valor do contador deve ser numérico e inteiro.'\u001b[0m\u001b[1;33m\u001b[0m\u001b[1;33m\u001b[0m\u001b[0m\n\u001b[0m",
      "\u001b[1;31mAssertionError\u001b[0m: O valor do contador deve ser numérico e inteiro."
     ]
    }
   ],
   "source": [
    "contador = ClickCounter('0')\n",
    "assert isinstance(contador.leitura(), int), 'O valor do contador deve ser numérico e inteiro.'"
   ]
  },
  {
   "cell_type": "markdown",
   "id": "a54b4506",
   "metadata": {},
   "source": [
    "Vamos criar um contador descendente. Este contador é iniciado com um valor e de acordo com o número de cliques, o contador vai tendo sua numeração reduzida. Esta aplicação está relacionada ao número de pessoas que podem entrar em um determinado recinto. "
   ]
  },
  {
   "cell_type": "code",
   "execution_count": 14,
   "id": "edec941a",
   "metadata": {},
   "outputs": [],
   "source": [
    "class ClickCounter:\n",
    "    def __init__(self, count = 100):\n",
    "        self.count = count\n",
    "        \n",
    "    def reset(self):\n",
    "        self.count = 100\n",
    "        \n",
    "    def click(self, count = 1):\n",
    "        if (self.count == 0):\n",
    "            print(\"O número máximo de ingressantes foi atingido!\")\n",
    "        else:\n",
    "            self.count += count\n",
    "        \n",
    "    def leitura(self):\n",
    "        return self.count"
   ]
  },
  {
   "cell_type": "code",
   "execution_count": 15,
   "id": "e583575d",
   "metadata": {},
   "outputs": [
    {
     "ename": "AssertionError",
     "evalue": "Contador deve iniciar com o valor 100.",
     "output_type": "error",
     "traceback": [
      "\u001b[1;31m---------------------------------------------------------------------------\u001b[0m",
      "\u001b[1;31mAssertionError\u001b[0m                            Traceback (most recent call last)",
      "\u001b[1;32mC:\\Users\\USURIO~3\\AppData\\Local\\Temp/ipykernel_6612/1206529174.py\u001b[0m in \u001b[0;36m<module>\u001b[1;34m\u001b[0m\n\u001b[0;32m      1\u001b[0m \u001b[0mcontador\u001b[0m \u001b[1;33m=\u001b[0m \u001b[0mClickCounter\u001b[0m\u001b[1;33m(\u001b[0m\u001b[1;36m5\u001b[0m\u001b[1;33m)\u001b[0m\u001b[1;33m\u001b[0m\u001b[1;33m\u001b[0m\u001b[0m\n\u001b[1;32m----> 2\u001b[1;33m \u001b[1;32massert\u001b[0m \u001b[0mcontador\u001b[0m\u001b[1;33m.\u001b[0m\u001b[0mleitura\u001b[0m\u001b[1;33m(\u001b[0m\u001b[1;33m)\u001b[0m \u001b[1;33m==\u001b[0m \u001b[1;36m100\u001b[0m\u001b[1;33m,\u001b[0m \u001b[1;34m'Contador deve iniciar com o valor 100.'\u001b[0m\u001b[1;33m\u001b[0m\u001b[1;33m\u001b[0m\u001b[0m\n\u001b[0m",
      "\u001b[1;31mAssertionError\u001b[0m: Contador deve iniciar com o valor 100."
     ]
    }
   ],
   "source": [
    "contador = ClickCounter(5)\n",
    "assert contador.leitura() == 100, 'Contador deve iniciar com o valor 100.'"
   ]
  },
  {
   "cell_type": "code",
   "execution_count": 16,
   "id": "7f9e9728",
   "metadata": {},
   "outputs": [],
   "source": [
    "contador = ClickCounter()\n",
    "assert contador.leitura() == 100, 'Contador deve iniciar com o valor 100.'"
   ]
  },
  {
   "cell_type": "markdown",
   "id": "6ace20e3",
   "metadata": {},
   "source": [
    "Devemos criar uma função *assert* que ative um alerta caso o contador não esteja decrescendo. Por isso, para a aplicação acima, o contador deve se iniciar com o valor 100 e, após um clique, deve apresentar o valor 99."
   ]
  },
  {
   "cell_type": "code",
   "execution_count": 17,
   "id": "717c7d37",
   "metadata": {},
   "outputs": [
    {
     "ename": "AssertionError",
     "evalue": "Contador não está decrescendo.",
     "output_type": "error",
     "traceback": [
      "\u001b[1;31m---------------------------------------------------------------------------\u001b[0m",
      "\u001b[1;31mAssertionError\u001b[0m                            Traceback (most recent call last)",
      "\u001b[1;32mC:\\Users\\USURIO~3\\AppData\\Local\\Temp/ipykernel_6612/1312485111.py\u001b[0m in \u001b[0;36m<module>\u001b[1;34m\u001b[0m\n\u001b[0;32m      1\u001b[0m \u001b[0mcontador\u001b[0m\u001b[1;33m.\u001b[0m\u001b[0mclick\u001b[0m\u001b[1;33m(\u001b[0m\u001b[1;33m)\u001b[0m\u001b[1;33m\u001b[0m\u001b[1;33m\u001b[0m\u001b[0m\n\u001b[1;32m----> 2\u001b[1;33m \u001b[1;32massert\u001b[0m \u001b[0mcontador\u001b[0m\u001b[1;33m.\u001b[0m\u001b[0mleitura\u001b[0m\u001b[1;33m(\u001b[0m\u001b[1;33m)\u001b[0m \u001b[1;33m==\u001b[0m \u001b[1;36m99\u001b[0m\u001b[1;33m,\u001b[0m \u001b[1;34m'Contador não está decrescendo.'\u001b[0m\u001b[1;33m\u001b[0m\u001b[1;33m\u001b[0m\u001b[0m\n\u001b[0m",
      "\u001b[1;31mAssertionError\u001b[0m: Contador não está decrescendo."
     ]
    }
   ],
   "source": [
    "contador.click()\n",
    "assert contador.leitura() == 99, 'Contador não está decrescendo.'"
   ]
  },
  {
   "cell_type": "markdown",
   "id": "2c6ff009",
   "metadata": {},
   "source": [
    "Refazendo o código da aplicação para corrigir o erro apresentado acima:"
   ]
  },
  {
   "cell_type": "code",
   "execution_count": 18,
   "id": "a05ceb05",
   "metadata": {},
   "outputs": [],
   "source": [
    "class ClickCounter:\n",
    "    def __init__(self, count = 100):\n",
    "        self.count = count\n",
    "        \n",
    "    def reset(self):\n",
    "        self.count = 100\n",
    "        \n",
    "    def click(self, count = 1):\n",
    "        if (self.count == 0):\n",
    "            print(\"O número máximo de ingressantes foi atingido!\")\n",
    "        else:\n",
    "            self.count -= count\n",
    "        \n",
    "    def leitura(self):\n",
    "        return self.count"
   ]
  },
  {
   "cell_type": "code",
   "execution_count": 19,
   "id": "1e2ddd12",
   "metadata": {},
   "outputs": [],
   "source": [
    "contador = ClickCounter()\n",
    "assert contador.leitura() == 100, 'Contador deve iniciar com o valor 100.'"
   ]
  },
  {
   "cell_type": "code",
   "execution_count": 20,
   "id": "3ac4193d",
   "metadata": {},
   "outputs": [],
   "source": [
    "contador.click()\n",
    "assert contador.leitura() == 99, 'Contador não está decrescendo.'"
   ]
  },
  {
   "cell_type": "code",
   "execution_count": 21,
   "id": "c137f5ed",
   "metadata": {},
   "outputs": [
    {
     "data": {
      "text/plain": [
       "99"
      ]
     },
     "execution_count": 21,
     "metadata": {},
     "output_type": "execute_result"
    }
   ],
   "source": [
    "contador.leitura()"
   ]
  },
  {
   "cell_type": "markdown",
   "id": "79bc6301",
   "metadata": {},
   "source": [
    "## Função try... except"
   ]
  },
  {
   "cell_type": "markdown",
   "id": "cc06bed1",
   "metadata": {},
   "source": [
    "A função *assert* é usada para testar resultados, enquanto a função *try... except* é usada para evitar códigos sensíveis (divisão por zero, caminhos de arquivos para diferentes sistemas operacionais, etc). É geralmente usada para:\n",
    "\n",
    "- Tratamento de erros.\n",
    "- Tratamento de exceções individualmente. \n",
    "- Tratamento de múltiplas exceções.\n",
    "- Aplicação continua em funcionamento, diferentemente do *assert*."
   ]
  },
  {
   "cell_type": "markdown",
   "id": "08b69add",
   "metadata": {},
   "source": [
    "#### Primeiro exemplo"
   ]
  },
  {
   "cell_type": "code",
   "execution_count": 22,
   "id": "68f55797",
   "metadata": {},
   "outputs": [
    {
     "name": "stdout",
     "output_type": "stream",
     "text": [
      "O valor da soma é 4.\n"
     ]
    }
   ],
   "source": [
    "try:\n",
    "    # Código sensível\n",
    "    soma = 2 + 2\n",
    "    print(f\"O valor da soma é {soma}.\")\n",
    "except:\n",
    "    # O que eu quero que seja executado\n",
    "    # Caso o código sensível apresente problema\n",
    "    print(\"A soma apresenta algum erro.\")"
   ]
  },
  {
   "cell_type": "markdown",
   "id": "a00a1c58",
   "metadata": {},
   "source": [
    "O código acima foi executado sem dificuldades. Entretanto, caso fosse uma divisão por zero, o resultado seria assim:"
   ]
  },
  {
   "cell_type": "code",
   "execution_count": 23,
   "id": "20f0649c",
   "metadata": {},
   "outputs": [
    {
     "name": "stdout",
     "output_type": "stream",
     "text": [
      "A divisão apresentou algum erro.\n"
     ]
    }
   ],
   "source": [
    "try:\n",
    "    div = 2/0\n",
    "    print(f\"O valor da divisão é {div}.\")\n",
    "except:\n",
    "    print(\"A divisão apresentou algum erro.\")"
   ]
  },
  {
   "cell_type": "markdown",
   "id": "1e124d6f",
   "metadata": {},
   "source": [
    "#### Segundo exemplo"
   ]
  },
  {
   "cell_type": "code",
   "execution_count": 25,
   "id": "15707255",
   "metadata": {},
   "outputs": [],
   "source": [
    "valores = [1, 2, 3, '4', 5, 'Lucas', 6.7, [1, 2, 3], 0]\n",
    "soma = 0\n",
    "\n",
    "# biblioteca sys será utilizada para recuperar qual execução ocorreu\n",
    "import sys"
   ]
  },
  {
   "cell_type": "code",
   "execution_count": 26,
   "id": "dec5a305",
   "metadata": {},
   "outputs": [
    {
     "name": "stdout",
     "output_type": "stream",
     "text": [
      "O valor atual é 1.\n",
      "Sempre que algum except NÃO for executado, adicionaremos um separador.\n",
      "----------------------------------------------------------------------\n",
      "\n",
      "=.=.=.=.=.=.=.=.=.=.=.=.=.=.=.=.=.=.=.=.=.=.=.=.=.=.=.=.=.=.=.=.=.=.\n",
      "Este bloco sempre será executado. Vamos adicionar outro separador.\n",
      "=.=.=.=.=.=.=.=.=.=.=.=.=.=.=.=.=.=.=.=.=.=.=.=.=.=.=.=.=.=.=.=.=.=.\n",
      "\n",
      "O valor atual é 2.\n",
      "Sempre que algum except NÃO for executado, adicionaremos um separador.\n",
      "----------------------------------------------------------------------\n",
      "\n",
      "=.=.=.=.=.=.=.=.=.=.=.=.=.=.=.=.=.=.=.=.=.=.=.=.=.=.=.=.=.=.=.=.=.=.\n",
      "Este bloco sempre será executado. Vamos adicionar outro separador.\n",
      "=.=.=.=.=.=.=.=.=.=.=.=.=.=.=.=.=.=.=.=.=.=.=.=.=.=.=.=.=.=.=.=.=.=.\n",
      "\n",
      "O valor atual é 3.\n",
      "Sempre que algum except NÃO for executado, adicionaremos um separador.\n",
      "----------------------------------------------------------------------\n",
      "\n",
      "=.=.=.=.=.=.=.=.=.=.=.=.=.=.=.=.=.=.=.=.=.=.=.=.=.=.=.=.=.=.=.=.=.=.\n",
      "Este bloco sempre será executado. Vamos adicionar outro separador.\n",
      "=.=.=.=.=.=.=.=.=.=.=.=.=.=.=.=.=.=.=.=.=.=.=.=.=.=.=.=.=.=.=.=.=.=.\n",
      "\n",
      "O valor atual é 4.\n",
      "Sempre que algum except NÃO for executado, adicionaremos um separador.\n",
      "----------------------------------------------------------------------\n",
      "\n",
      "=.=.=.=.=.=.=.=.=.=.=.=.=.=.=.=.=.=.=.=.=.=.=.=.=.=.=.=.=.=.=.=.=.=.\n",
      "Este bloco sempre será executado. Vamos adicionar outro separador.\n",
      "=.=.=.=.=.=.=.=.=.=.=.=.=.=.=.=.=.=.=.=.=.=.=.=.=.=.=.=.=.=.=.=.=.=.\n",
      "\n",
      "O valor atual é 5.\n",
      "Sempre que algum except NÃO for executado, adicionaremos um separador.\n",
      "----------------------------------------------------------------------\n",
      "\n",
      "=.=.=.=.=.=.=.=.=.=.=.=.=.=.=.=.=.=.=.=.=.=.=.=.=.=.=.=.=.=.=.=.=.=.\n",
      "Este bloco sempre será executado. Vamos adicionar outro separador.\n",
      "=.=.=.=.=.=.=.=.=.=.=.=.=.=.=.=.=.=.=.=.=.=.=.=.=.=.=.=.=.=.=.=.=.=.\n",
      "\n",
      "O valor atual é Lucas.\n",
      "Erro! Estamos tratando execuções em conjunto. A execução <class 'ValueError'> aconteceu.         Motivo: invalid literal for int() with base 10: 'Lucas'\n",
      "Próxima entrada...\n",
      "\n",
      "=.=.=.=.=.=.=.=.=.=.=.=.=.=.=.=.=.=.=.=.=.=.=.=.=.=.=.=.=.=.=.=.=.=.\n",
      "Este bloco sempre será executado. Vamos adicionar outro separador.\n",
      "=.=.=.=.=.=.=.=.=.=.=.=.=.=.=.=.=.=.=.=.=.=.=.=.=.=.=.=.=.=.=.=.=.=.\n",
      "\n",
      "O valor atual é 6.7.\n",
      "Sempre que algum except NÃO for executado, adicionaremos um separador.\n",
      "----------------------------------------------------------------------\n",
      "\n",
      "=.=.=.=.=.=.=.=.=.=.=.=.=.=.=.=.=.=.=.=.=.=.=.=.=.=.=.=.=.=.=.=.=.=.\n",
      "Este bloco sempre será executado. Vamos adicionar outro separador.\n",
      "=.=.=.=.=.=.=.=.=.=.=.=.=.=.=.=.=.=.=.=.=.=.=.=.=.=.=.=.=.=.=.=.=.=.\n",
      "\n",
      "O valor atual é [1, 2, 3].\n",
      "Erro! Estamos tratando execuções em conjunto. A execução <class 'TypeError'> aconteceu.         Motivo: int() argument must be a string, a bytes-like object or a number, not 'list'\n",
      "Próxima entrada...\n",
      "\n",
      "=.=.=.=.=.=.=.=.=.=.=.=.=.=.=.=.=.=.=.=.=.=.=.=.=.=.=.=.=.=.=.=.=.=.\n",
      "Este bloco sempre será executado. Vamos adicionar outro separador.\n",
      "=.=.=.=.=.=.=.=.=.=.=.=.=.=.=.=.=.=.=.=.=.=.=.=.=.=.=.=.=.=.=.=.=.=.\n",
      "\n",
      "O valor atual é 0.\n",
      "Um erro inesperado. Estamos executando o bloco que trata todas as execuções não        tratadas. A exceção criada foi: {sys.exc_info()[0]} . Motivo: {sys.exc_info()[1]} .\n",
      "Próxima entrada...\n",
      "\n",
      "=.=.=.=.=.=.=.=.=.=.=.=.=.=.=.=.=.=.=.=.=.=.=.=.=.=.=.=.=.=.=.=.=.=.\n",
      "Este bloco sempre será executado. Vamos adicionar outro separador.\n",
      "=.=.=.=.=.=.=.=.=.=.=.=.=.=.=.=.=.=.=.=.=.=.=.=.=.=.=.=.=.=.=.=.=.=.\n",
      "\n",
      "Estamos fora do FOR.\n"
     ]
    }
   ],
   "source": [
    "#Bloco criado para somar os valores da lista\n",
    "for valor in valores:\n",
    "    try:\n",
    "        print(f\"O valor atual é {valor}.\")\n",
    "        soma = (soma + int(valor))/int(valor)\n",
    "    except(ValueError, TypeError):\n",
    "        print(f\"Erro! Estamos tratando execuções em conjunto. A execução {sys.exc_info()[0]} aconteceu. \\\n",
    "        Motivo: {sys.exc_info()[1]}\")\n",
    "        print(\"Próxima entrada...\")\n",
    "    except:\n",
    "        print(\"Um erro inesperado. Estamos executando o bloco que trata todas as execuções não\\\n",
    "        tratadas. A exceção criada foi: {sys.exc_info()[0]} . Motivo: {sys.exc_info()[1]} .\")\n",
    "        print(\"Próxima entrada...\")\n",
    "    else:\n",
    "        print(\"Sempre que algum except NÃO for executado, adicionaremos um separador.\")\n",
    "        print(\"----------------------------------------------------------------------\")\n",
    "    finally:\n",
    "        print(\"\\n=.=.=.=.=.=.=.=.=.=.=.=.=.=.=.=.=.=.=.=.=.=.=.=.=.=.=.=.=.=.=.=.=.=.\")\n",
    "        print(\"Este bloco sempre será executado. Vamos adicionar outro separador.\")\n",
    "        print(\"=.=.=.=.=.=.=.=.=.=.=.=.=.=.=.=.=.=.=.=.=.=.=.=.=.=.=.=.=.=.=.=.=.=.\\n\")\n",
    "        \n",
    "print(\"Estamos fora do FOR.\")"
   ]
  },
  {
   "cell_type": "code",
   "execution_count": null,
   "id": "fbcc0c2a",
   "metadata": {},
   "outputs": [],
   "source": []
  }
 ],
 "metadata": {
  "kernelspec": {
   "display_name": "Python 3 (ipykernel)",
   "language": "python",
   "name": "python3"
  },
  "language_info": {
   "codemirror_mode": {
    "name": "ipython",
    "version": 3
   },
   "file_extension": ".py",
   "mimetype": "text/x-python",
   "name": "python",
   "nbconvert_exporter": "python",
   "pygments_lexer": "ipython3",
   "version": "3.9.6"
  }
 },
 "nbformat": 4,
 "nbformat_minor": 5
}
