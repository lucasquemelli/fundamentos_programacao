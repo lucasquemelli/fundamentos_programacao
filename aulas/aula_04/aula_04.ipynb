{
 "cells": [
  {
   "cell_type": "markdown",
   "id": "f19e5e54",
   "metadata": {},
   "source": [
    "# Funções"
   ]
  },
  {
   "cell_type": "markdown",
   "id": "f9c8deb1",
   "metadata": {},
   "source": [
    "São blocos de códigos executáveis e possem um nome. Quase tudo que se repete pode ser uma função!"
   ]
  },
  {
   "cell_type": "markdown",
   "id": "9c1b7af7",
   "metadata": {},
   "source": [
    "#### Definindo uma função"
   ]
  },
  {
   "cell_type": "code",
   "execution_count": 1,
   "id": "4fa93524",
   "metadata": {},
   "outputs": [],
   "source": [
    "def bacon(nome):\n",
    "    print(f\"{nome} gosta muito de bacon!\")"
   ]
  },
  {
   "cell_type": "code",
   "execution_count": 2,
   "id": "a1d11b56",
   "metadata": {},
   "outputs": [
    {
     "data": {
      "text/plain": [
       "<function __main__.bacon(nome)>"
      ]
     },
     "execution_count": 2,
     "metadata": {},
     "output_type": "execute_result"
    }
   ],
   "source": [
    "bacon"
   ]
  },
  {
   "cell_type": "code",
   "execution_count": 4,
   "id": "2b7a24eb",
   "metadata": {},
   "outputs": [
    {
     "name": "stdout",
     "output_type": "stream",
     "text": [
      "Isaac gosta muito de bacon!\n"
     ]
    }
   ],
   "source": [
    "bacon('Isaac')"
   ]
  },
  {
   "cell_type": "code",
   "execution_count": null,
   "id": "cffefc7d",
   "metadata": {},
   "outputs": [],
   "source": []
  }
 ],
 "metadata": {
  "kernelspec": {
   "display_name": "Python 3 (ipykernel)",
   "language": "python",
   "name": "python3"
  },
  "language_info": {
   "codemirror_mode": {
    "name": "ipython",
    "version": 3
   },
   "file_extension": ".py",
   "mimetype": "text/x-python",
   "name": "python",
   "nbconvert_exporter": "python",
   "pygments_lexer": "ipython3",
   "version": "3.9.6"
  }
 },
 "nbformat": 4,
 "nbformat_minor": 5
}
