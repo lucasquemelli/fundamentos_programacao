{
 "cells": [
  {
   "cell_type": "markdown",
   "id": "9e5d09ae",
   "metadata": {},
   "source": [
    "# Funções"
   ]
  },
  {
   "cell_type": "markdown",
   "id": "5f5b0ae8",
   "metadata": {},
   "source": [
    "São blocos de códigos executáveis e possem um nome. Quase tudo que se repete pode ser uma função!"
   ]
  },
  {
   "cell_type": "markdown",
   "id": "3be6971c",
   "metadata": {},
   "source": [
    "## Definindo uma função"
   ]
  },
  {
   "cell_type": "markdown",
   "id": "153d281d",
   "metadata": {},
   "source": [
    "String como argumento:"
   ]
  },
  {
   "cell_type": "code",
   "execution_count": 1,
   "id": "488091c3",
   "metadata": {},
   "outputs": [],
   "source": [
    "def bacon(nome):\n",
    "    print(f\"{nome} gosta muito de bacon!\")"
   ]
  },
  {
   "cell_type": "code",
   "execution_count": 2,
   "id": "490f3bf1",
   "metadata": {},
   "outputs": [
    {
     "data": {
      "text/plain": [
       "<function __main__.bacon(nome)>"
      ]
     },
     "execution_count": 2,
     "metadata": {},
     "output_type": "execute_result"
    }
   ],
   "source": [
    "bacon"
   ]
  },
  {
   "cell_type": "code",
   "execution_count": 4,
   "id": "ce38869d",
   "metadata": {},
   "outputs": [
    {
     "name": "stdout",
     "output_type": "stream",
     "text": [
      "Isaac gosta muito de bacon!\n"
     ]
    }
   ],
   "source": [
    "bacon('Isaac')"
   ]
  },
  {
   "cell_type": "markdown",
   "id": "240babe6",
   "metadata": {},
   "source": [
    "Número como argumento:"
   ]
  },
  {
   "cell_type": "code",
   "execution_count": 7,
   "id": "3c2d4e92",
   "metadata": {},
   "outputs": [],
   "source": [
    "def ao_quadrado(num):\n",
    "    resultado = num ** 2\n",
    "    print(f\"O resultado de {num} ao quadrado é: {resultado}.\")"
   ]
  },
  {
   "cell_type": "code",
   "execution_count": 8,
   "id": "4d6a92b4",
   "metadata": {},
   "outputs": [
    {
     "name": "stdout",
     "output_type": "stream",
     "text": [
      "O resultado de 2 ao quadrado é: 4.\n"
     ]
    }
   ],
   "source": [
    "ao_quadrado(2)"
   ]
  },
  {
   "cell_type": "code",
   "execution_count": 9,
   "id": "c12d9f24",
   "metadata": {},
   "outputs": [
    {
     "ename": "NameError",
     "evalue": "name 'resultado' is not defined",
     "output_type": "error",
     "traceback": [
      "\u001b[1;31m---------------------------------------------------------------------------\u001b[0m",
      "\u001b[1;31mNameError\u001b[0m                                 Traceback (most recent call last)",
      "\u001b[1;32mC:\\Users\\USURIO~3\\AppData\\Local\\Temp/ipykernel_7180/1046101132.py\u001b[0m in \u001b[0;36m<module>\u001b[1;34m\u001b[0m\n\u001b[1;32m----> 1\u001b[1;33m \u001b[0mresultado\u001b[0m\u001b[1;33m\u001b[0m\u001b[1;33m\u001b[0m\u001b[0m\n\u001b[0m",
      "\u001b[1;31mNameError\u001b[0m: name 'resultado' is not defined"
     ]
    }
   ],
   "source": [
    "resultado"
   ]
  },
  {
   "cell_type": "markdown",
   "id": "a78f558b",
   "metadata": {},
   "source": [
    "Se quisermos exibir o resultado de uma função, também podemos utilizar **return** ao final da função. Assim:"
   ]
  },
  {
   "cell_type": "code",
   "execution_count": 10,
   "id": "067cf9eb",
   "metadata": {},
   "outputs": [],
   "source": [
    "def ao_quadrado(num):\n",
    "    resultado = num ** 2\n",
    "    \n",
    "    return resultado"
   ]
  },
  {
   "cell_type": "code",
   "execution_count": 12,
   "id": "a6254b04",
   "metadata": {},
   "outputs": [
    {
     "data": {
      "text/plain": [
       "4"
      ]
     },
     "execution_count": 12,
     "metadata": {},
     "output_type": "execute_result"
    }
   ],
   "source": [
    "ao_quadrado(2)"
   ]
  },
  {
   "cell_type": "markdown",
   "id": "855e2c6b",
   "metadata": {},
   "source": [
    "Também podemos retornar uma operação com o resultado:"
   ]
  },
  {
   "cell_type": "code",
   "execution_count": 14,
   "id": "77d55b62",
   "metadata": {},
   "outputs": [],
   "source": [
    "def conta(num):\n",
    "    resultado = num ** 2\n",
    "    \n",
    "    return resultado + 2"
   ]
  },
  {
   "cell_type": "code",
   "execution_count": 15,
   "id": "3f197f56",
   "metadata": {},
   "outputs": [
    {
     "data": {
      "text/plain": [
       "6"
      ]
     },
     "execution_count": 15,
     "metadata": {},
     "output_type": "execute_result"
    }
   ],
   "source": [
    "conta(2)"
   ]
  },
  {
   "cell_type": "markdown",
   "id": "34f0d7f3",
   "metadata": {},
   "source": [
    "Se quisermos salvar o resultado de uma função em uma variável, fazemos:"
   ]
  },
  {
   "cell_type": "code",
   "execution_count": 16,
   "id": "2986f341",
   "metadata": {},
   "outputs": [
    {
     "data": {
      "text/plain": [
       "11"
      ]
     },
     "execution_count": 16,
     "metadata": {},
     "output_type": "execute_result"
    }
   ],
   "source": [
    "content = conta(3)\n",
    "content"
   ]
  },
  {
   "cell_type": "markdown",
   "id": "d2f417fd",
   "metadata": {},
   "source": [
    "Podemos criar uma função sem argumento:"
   ]
  },
  {
   "cell_type": "code",
   "execution_count": 17,
   "id": "94d4ffc4",
   "metadata": {},
   "outputs": [],
   "source": [
    "def show_my_name():\n",
    "    print(\"Lucas Quemelli\")"
   ]
  },
  {
   "cell_type": "code",
   "execution_count": 18,
   "id": "c85e54fa",
   "metadata": {},
   "outputs": [
    {
     "name": "stdout",
     "output_type": "stream",
     "text": [
      "Lucas Quemelli\n"
     ]
    }
   ],
   "source": [
    "show_my_name()"
   ]
  },
  {
   "cell_type": "markdown",
   "id": "9b8535f9",
   "metadata": {},
   "source": [
    "Entretanto, para seguir as boas práticas do Python, sempre que não retornarmos nada de uma função, devemos inserir **return None** ao final. Assim:"
   ]
  },
  {
   "cell_type": "code",
   "execution_count": 19,
   "id": "384eacca",
   "metadata": {},
   "outputs": [],
   "source": [
    "def show_name():\n",
    "    print(\"Lucas\")\n",
    "    \n",
    "    return None"
   ]
  },
  {
   "cell_type": "code",
   "execution_count": 20,
   "id": "d2206b0b",
   "metadata": {},
   "outputs": [
    {
     "name": "stdout",
     "output_type": "stream",
     "text": [
      "Lucas\n"
     ]
    }
   ],
   "source": [
    "show_name()"
   ]
  },
  {
   "cell_type": "markdown",
   "id": "71aef7e6",
   "metadata": {},
   "source": [
    "## Argumento de função"
   ]
  },
  {
   "cell_type": "markdown",
   "id": "ca216a79",
   "metadata": {},
   "source": [
    "#### Argumentos obrigatórios e opcionais"
   ]
  },
  {
   "cell_type": "markdown",
   "id": "2110fdaa",
   "metadata": {},
   "source": [
    "Existem argumentos obrigatórios e opcionais. Para tornar um argumento obrigatório em opcional, nós declaramos valores no próprio argumento."
   ]
  },
  {
   "cell_type": "code",
   "execution_count": 22,
   "id": "a180d89d",
   "metadata": {},
   "outputs": [],
   "source": [
    "def quadrado(num = 4):\n",
    "    resultado = num ** 2\n",
    "    \n",
    "    return resultado"
   ]
  },
  {
   "cell_type": "markdown",
   "id": "4a8ee478",
   "metadata": {},
   "source": [
    "O argumento da função acima significa: se eu não passar nenhum argumento para a função *quadrado*, utilize como argumento o valor 4."
   ]
  },
  {
   "cell_type": "code",
   "execution_count": 26,
   "id": "917e48a5",
   "metadata": {},
   "outputs": [
    {
     "data": {
      "text/plain": [
       "4"
      ]
     },
     "execution_count": 26,
     "metadata": {},
     "output_type": "execute_result"
    }
   ],
   "source": [
    "quadrado(2)"
   ]
  },
  {
   "cell_type": "code",
   "execution_count": 27,
   "id": "b63242fc",
   "metadata": {},
   "outputs": [
    {
     "data": {
      "text/plain": [
       "9"
      ]
     },
     "execution_count": 27,
     "metadata": {},
     "output_type": "execute_result"
    }
   ],
   "source": [
    "quadrado(3)"
   ]
  },
  {
   "cell_type": "code",
   "execution_count": 28,
   "id": "44fefe46",
   "metadata": {},
   "outputs": [
    {
     "data": {
      "text/plain": [
       "16"
      ]
     },
     "execution_count": 28,
     "metadata": {},
     "output_type": "execute_result"
    }
   ],
   "source": [
    "quadrado()"
   ]
  },
  {
   "cell_type": "code",
   "execution_count": 30,
   "id": "67933238",
   "metadata": {},
   "outputs": [],
   "source": [
    "def quadrado(exp, num = 4):\n",
    "    resultado = num ** exp\n",
    "    print(f\"O expoente inserido é: {exp}.\")\n",
    "    print(f\"A base inserida é: {num}.\")\n",
    "          \n",
    "    return resultado"
   ]
  },
  {
   "cell_type": "code",
   "execution_count": 31,
   "id": "09df1a58",
   "metadata": {},
   "outputs": [
    {
     "name": "stdout",
     "output_type": "stream",
     "text": [
      "O expoente inserido é: 2.\n",
      "A base inserida é: 4.\n"
     ]
    },
    {
     "data": {
      "text/plain": [
       "16"
      ]
     },
     "execution_count": 31,
     "metadata": {},
     "output_type": "execute_result"
    }
   ],
   "source": [
    "quadrado(2)"
   ]
  },
  {
   "cell_type": "code",
   "execution_count": 32,
   "id": "879c32f1",
   "metadata": {},
   "outputs": [
    {
     "name": "stdout",
     "output_type": "stream",
     "text": [
      "O expoente inserido é: 2.\n",
      "A base inserida é: 5.\n"
     ]
    },
    {
     "data": {
      "text/plain": [
       "25"
      ]
     },
     "execution_count": 32,
     "metadata": {},
     "output_type": "execute_result"
    }
   ],
   "source": [
    "quadrado(2, 5)"
   ]
  },
  {
   "cell_type": "code",
   "execution_count": 33,
   "id": "72ffa41c",
   "metadata": {},
   "outputs": [
    {
     "name": "stdout",
     "output_type": "stream",
     "text": [
      "O expoente inserido é: 4.\n",
      "A base inserida é: 5.\n"
     ]
    },
    {
     "data": {
      "text/plain": [
       "625"
      ]
     },
     "execution_count": 33,
     "metadata": {},
     "output_type": "execute_result"
    }
   ],
   "source": [
    "quadrado(4, 5)"
   ]
  },
  {
   "cell_type": "markdown",
   "id": "be947cdf",
   "metadata": {},
   "source": [
    "O argumento obrigatório sempre vem primeiro."
   ]
  },
  {
   "cell_type": "markdown",
   "id": "e5fb2b6f",
   "metadata": {},
   "source": [
    "#### *args"
   ]
  },
  {
   "cell_type": "markdown",
   "id": "242fa46d",
   "metadata": {},
   "source": [
    "Argumento que cria uma tupla - ordem importa - para adição infinita de argumentos."
   ]
  },
  {
   "cell_type": "code",
   "execution_count": 36,
   "id": "5b3c43f6",
   "metadata": {},
   "outputs": [],
   "source": [
    "def quadrado(exp, num = 4, *args):\n",
    "    resultado = num ** exp\n",
    "    print(f\"O expoente inserido é: {exp}.\")\n",
    "    print(f\"A base inserida é: {num}.\")\n",
    "    print(f\"O conteúdo de args é: {args}.\")\n",
    "          \n",
    "    return resultado"
   ]
  },
  {
   "cell_type": "code",
   "execution_count": 37,
   "id": "3973d99d",
   "metadata": {},
   "outputs": [
    {
     "name": "stdout",
     "output_type": "stream",
     "text": [
      "O expoente inserido é: 2.\n",
      "A base inserida é: 7.\n",
      "O conteúdo de args é: ('Lucas',).\n"
     ]
    },
    {
     "data": {
      "text/plain": [
       "49"
      ]
     },
     "execution_count": 37,
     "metadata": {},
     "output_type": "execute_result"
    }
   ],
   "source": [
    "quadrado(2, 7, 'Lucas')"
   ]
  },
  {
   "cell_type": "code",
   "execution_count": 38,
   "id": "23d929da",
   "metadata": {},
   "outputs": [
    {
     "name": "stdout",
     "output_type": "stream",
     "text": [
      "O expoente inserido é: 2.\n",
      "A base inserida é: 7.\n",
      "O conteúdo de args é: ('Lucas', 'Assis').\n"
     ]
    },
    {
     "data": {
      "text/plain": [
       "49"
      ]
     },
     "execution_count": 38,
     "metadata": {},
     "output_type": "execute_result"
    }
   ],
   "source": [
    "quadrado(2, 7, 'Lucas', 'Assis')"
   ]
  },
  {
   "cell_type": "code",
   "execution_count": 39,
   "id": "0fd0b705",
   "metadata": {},
   "outputs": [
    {
     "name": "stdout",
     "output_type": "stream",
     "text": [
      "O expoente inserido é: 2.\n",
      "A base inserida é: 7.\n",
      "O conteúdo de args é: ('Lucas', 'Assis', 'Quemelli').\n"
     ]
    },
    {
     "data": {
      "text/plain": [
       "49"
      ]
     },
     "execution_count": 39,
     "metadata": {},
     "output_type": "execute_result"
    }
   ],
   "source": [
    "quadrado(2, 7, 'Lucas', 'Assis', 'Quemelli')"
   ]
  },
  {
   "cell_type": "code",
   "execution_count": null,
   "id": "a197e5dc",
   "metadata": {},
   "outputs": [],
   "source": []
  }
 ],
 "metadata": {
  "kernelspec": {
   "display_name": "Python 3 (ipykernel)",
   "language": "python",
   "name": "python3"
  },
  "language_info": {
   "codemirror_mode": {
    "name": "ipython",
    "version": 3
   },
   "file_extension": ".py",
   "mimetype": "text/x-python",
   "name": "python",
   "nbconvert_exporter": "python",
   "pygments_lexer": "ipython3",
   "version": "3.9.6"
  }
 },
 "nbformat": 4,
 "nbformat_minor": 5
}
