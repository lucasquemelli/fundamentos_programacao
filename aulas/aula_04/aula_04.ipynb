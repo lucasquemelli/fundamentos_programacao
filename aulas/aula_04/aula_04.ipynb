{
 "cells": [
  {
   "cell_type": "markdown",
   "id": "5528167c",
   "metadata": {},
   "source": [
    "# Funções"
   ]
  },
  {
   "cell_type": "markdown",
   "id": "155ee61c",
   "metadata": {},
   "source": [
    "São blocos de códigos executáveis e possem um nome. Quase tudo que se repete pode ser uma função!"
   ]
  },
  {
   "cell_type": "markdown",
   "id": "4f7fde7a",
   "metadata": {},
   "source": [
    "#### Definindo uma função"
   ]
  },
  {
   "cell_type": "markdown",
   "id": "8cdfc31a",
   "metadata": {},
   "source": [
    "String como argumento:"
   ]
  },
  {
   "cell_type": "code",
   "execution_count": 1,
   "id": "6a6982e2",
   "metadata": {},
   "outputs": [],
   "source": [
    "def bacon(nome):\n",
    "    print(f\"{nome} gosta muito de bacon!\")"
   ]
  },
  {
   "cell_type": "code",
   "execution_count": 2,
   "id": "5d29108c",
   "metadata": {},
   "outputs": [
    {
     "data": {
      "text/plain": [
       "<function __main__.bacon(nome)>"
      ]
     },
     "execution_count": 2,
     "metadata": {},
     "output_type": "execute_result"
    }
   ],
   "source": [
    "bacon"
   ]
  },
  {
   "cell_type": "code",
   "execution_count": 4,
   "id": "e166d2be",
   "metadata": {},
   "outputs": [
    {
     "name": "stdout",
     "output_type": "stream",
     "text": [
      "Isaac gosta muito de bacon!\n"
     ]
    }
   ],
   "source": [
    "bacon('Isaac')"
   ]
  },
  {
   "cell_type": "markdown",
   "id": "bfd0df1c",
   "metadata": {},
   "source": [
    "Número como argumento:"
   ]
  },
  {
   "cell_type": "code",
   "execution_count": 7,
   "id": "923e7956",
   "metadata": {},
   "outputs": [],
   "source": [
    "def ao_quadrado(num):\n",
    "    resultado = num ** 2\n",
    "    print(f\"O resultado de {num} ao quadrado é: {resultado}.\")"
   ]
  },
  {
   "cell_type": "code",
   "execution_count": 8,
   "id": "5c8e7c6b",
   "metadata": {},
   "outputs": [
    {
     "name": "stdout",
     "output_type": "stream",
     "text": [
      "O resultado de 2 ao quadrado é: 4.\n"
     ]
    }
   ],
   "source": [
    "ao_quadrado(2)"
   ]
  },
  {
   "cell_type": "code",
   "execution_count": 9,
   "id": "4c6ceb54",
   "metadata": {},
   "outputs": [
    {
     "ename": "NameError",
     "evalue": "name 'resultado' is not defined",
     "output_type": "error",
     "traceback": [
      "\u001b[1;31m---------------------------------------------------------------------------\u001b[0m",
      "\u001b[1;31mNameError\u001b[0m                                 Traceback (most recent call last)",
      "\u001b[1;32mC:\\Users\\USURIO~3\\AppData\\Local\\Temp/ipykernel_7180/1046101132.py\u001b[0m in \u001b[0;36m<module>\u001b[1;34m\u001b[0m\n\u001b[1;32m----> 1\u001b[1;33m \u001b[0mresultado\u001b[0m\u001b[1;33m\u001b[0m\u001b[1;33m\u001b[0m\u001b[0m\n\u001b[0m",
      "\u001b[1;31mNameError\u001b[0m: name 'resultado' is not defined"
     ]
    }
   ],
   "source": [
    "resultado"
   ]
  },
  {
   "cell_type": "markdown",
   "id": "a68af487",
   "metadata": {},
   "source": [
    "Se quisermos exibir o resultado de uma função, também podemos utilizar **return** ao final da função. Assim:"
   ]
  },
  {
   "cell_type": "code",
   "execution_count": 10,
   "id": "61421f6d",
   "metadata": {},
   "outputs": [],
   "source": [
    "def ao_quadrado(num):\n",
    "    resultado = num ** 2\n",
    "    \n",
    "    return resultado"
   ]
  },
  {
   "cell_type": "code",
   "execution_count": 12,
   "id": "1c82c8c1",
   "metadata": {},
   "outputs": [
    {
     "data": {
      "text/plain": [
       "4"
      ]
     },
     "execution_count": 12,
     "metadata": {},
     "output_type": "execute_result"
    }
   ],
   "source": [
    "ao_quadrado(2)"
   ]
  },
  {
   "cell_type": "markdown",
   "id": "8c75db92",
   "metadata": {},
   "source": [
    "Também podemos retornar uma operação com o resultado:"
   ]
  },
  {
   "cell_type": "code",
   "execution_count": 14,
   "id": "de0a786c",
   "metadata": {},
   "outputs": [],
   "source": [
    "def conta(num):\n",
    "    resultado = num ** 2\n",
    "    \n",
    "    return resultado + 2"
   ]
  },
  {
   "cell_type": "code",
   "execution_count": 15,
   "id": "f4ae63b8",
   "metadata": {},
   "outputs": [
    {
     "data": {
      "text/plain": [
       "6"
      ]
     },
     "execution_count": 15,
     "metadata": {},
     "output_type": "execute_result"
    }
   ],
   "source": [
    "conta(2)"
   ]
  },
  {
   "cell_type": "markdown",
   "id": "00afc154",
   "metadata": {},
   "source": [
    "Se quisermos salvar o resultado de uma função em uma variável, fazemos:"
   ]
  },
  {
   "cell_type": "code",
   "execution_count": 16,
   "id": "8a3cb2d8",
   "metadata": {},
   "outputs": [
    {
     "data": {
      "text/plain": [
       "11"
      ]
     },
     "execution_count": 16,
     "metadata": {},
     "output_type": "execute_result"
    }
   ],
   "source": [
    "content = conta(3)\n",
    "content"
   ]
  },
  {
   "cell_type": "markdown",
   "id": "fbe2f77e",
   "metadata": {},
   "source": [
    "Podemos criar uma função sem argumento:"
   ]
  },
  {
   "cell_type": "code",
   "execution_count": 17,
   "id": "ca8436f2",
   "metadata": {},
   "outputs": [],
   "source": [
    "def show_my_name():\n",
    "    print(\"Lucas Quemelli\")"
   ]
  },
  {
   "cell_type": "code",
   "execution_count": 18,
   "id": "2a1cd849",
   "metadata": {},
   "outputs": [
    {
     "name": "stdout",
     "output_type": "stream",
     "text": [
      "Lucas Quemelli\n"
     ]
    }
   ],
   "source": [
    "show_my_name()"
   ]
  },
  {
   "cell_type": "code",
   "execution_count": null,
   "id": "082f8436",
   "metadata": {},
   "outputs": [],
   "source": []
  }
 ],
 "metadata": {
  "kernelspec": {
   "display_name": "Python 3 (ipykernel)",
   "language": "python",
   "name": "python3"
  },
  "language_info": {
   "codemirror_mode": {
    "name": "ipython",
    "version": 3
   },
   "file_extension": ".py",
   "mimetype": "text/x-python",
   "name": "python",
   "nbconvert_exporter": "python",
   "pygments_lexer": "ipython3",
   "version": "3.9.6"
  }
 },
 "nbformat": 4,
 "nbformat_minor": 5
}
