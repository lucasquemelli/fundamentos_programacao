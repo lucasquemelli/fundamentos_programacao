{
 "cells": [
  {
   "cell_type": "markdown",
   "id": "37a63343",
   "metadata": {},
   "source": [
    "# Funções"
   ]
  },
  {
   "cell_type": "markdown",
   "id": "6c47fb4b",
   "metadata": {},
   "source": [
    "São blocos de códigos executáveis e possem um nome. Quase tudo que se repete pode ser uma função!"
   ]
  },
  {
   "cell_type": "markdown",
   "id": "c70ca391",
   "metadata": {},
   "source": [
    "## Definindo uma função"
   ]
  },
  {
   "cell_type": "markdown",
   "id": "d6ab84ff",
   "metadata": {},
   "source": [
    "String como argumento:"
   ]
  },
  {
   "cell_type": "code",
   "execution_count": 1,
   "id": "f7aaa105",
   "metadata": {},
   "outputs": [],
   "source": [
    "def bacon(nome):\n",
    "    print(f\"{nome} gosta muito de bacon!\")"
   ]
  },
  {
   "cell_type": "code",
   "execution_count": 2,
   "id": "c3bf6f7b",
   "metadata": {},
   "outputs": [
    {
     "data": {
      "text/plain": [
       "<function __main__.bacon(nome)>"
      ]
     },
     "execution_count": 2,
     "metadata": {},
     "output_type": "execute_result"
    }
   ],
   "source": [
    "bacon"
   ]
  },
  {
   "cell_type": "code",
   "execution_count": 4,
   "id": "cf965e22",
   "metadata": {},
   "outputs": [
    {
     "name": "stdout",
     "output_type": "stream",
     "text": [
      "Isaac gosta muito de bacon!\n"
     ]
    }
   ],
   "source": [
    "bacon('Isaac')"
   ]
  },
  {
   "cell_type": "markdown",
   "id": "b88fdffb",
   "metadata": {},
   "source": [
    "Número como argumento:"
   ]
  },
  {
   "cell_type": "code",
   "execution_count": 7,
   "id": "23070519",
   "metadata": {},
   "outputs": [],
   "source": [
    "def ao_quadrado(num):\n",
    "    resultado = num ** 2\n",
    "    print(f\"O resultado de {num} ao quadrado é: {resultado}.\")"
   ]
  },
  {
   "cell_type": "code",
   "execution_count": 8,
   "id": "e8a8c18f",
   "metadata": {},
   "outputs": [
    {
     "name": "stdout",
     "output_type": "stream",
     "text": [
      "O resultado de 2 ao quadrado é: 4.\n"
     ]
    }
   ],
   "source": [
    "ao_quadrado(2)"
   ]
  },
  {
   "cell_type": "code",
   "execution_count": 9,
   "id": "25640f78",
   "metadata": {},
   "outputs": [
    {
     "ename": "NameError",
     "evalue": "name 'resultado' is not defined",
     "output_type": "error",
     "traceback": [
      "\u001b[1;31m---------------------------------------------------------------------------\u001b[0m",
      "\u001b[1;31mNameError\u001b[0m                                 Traceback (most recent call last)",
      "\u001b[1;32mC:\\Users\\USURIO~3\\AppData\\Local\\Temp/ipykernel_7180/1046101132.py\u001b[0m in \u001b[0;36m<module>\u001b[1;34m\u001b[0m\n\u001b[1;32m----> 1\u001b[1;33m \u001b[0mresultado\u001b[0m\u001b[1;33m\u001b[0m\u001b[1;33m\u001b[0m\u001b[0m\n\u001b[0m",
      "\u001b[1;31mNameError\u001b[0m: name 'resultado' is not defined"
     ]
    }
   ],
   "source": [
    "resultado"
   ]
  },
  {
   "cell_type": "markdown",
   "id": "f76eb824",
   "metadata": {},
   "source": [
    "Se quisermos exibir o resultado de uma função, também podemos utilizar **return** ao final da função. Assim:"
   ]
  },
  {
   "cell_type": "code",
   "execution_count": 10,
   "id": "54f7833d",
   "metadata": {},
   "outputs": [],
   "source": [
    "def ao_quadrado(num):\n",
    "    resultado = num ** 2\n",
    "    \n",
    "    return resultado"
   ]
  },
  {
   "cell_type": "code",
   "execution_count": 12,
   "id": "6d72d68a",
   "metadata": {},
   "outputs": [
    {
     "data": {
      "text/plain": [
       "4"
      ]
     },
     "execution_count": 12,
     "metadata": {},
     "output_type": "execute_result"
    }
   ],
   "source": [
    "ao_quadrado(2)"
   ]
  },
  {
   "cell_type": "markdown",
   "id": "85680a80",
   "metadata": {},
   "source": [
    "Também podemos retornar uma operação com o resultado:"
   ]
  },
  {
   "cell_type": "code",
   "execution_count": 14,
   "id": "63acc595",
   "metadata": {},
   "outputs": [],
   "source": [
    "def conta(num):\n",
    "    resultado = num ** 2\n",
    "    \n",
    "    return resultado + 2"
   ]
  },
  {
   "cell_type": "code",
   "execution_count": 15,
   "id": "db607736",
   "metadata": {},
   "outputs": [
    {
     "data": {
      "text/plain": [
       "6"
      ]
     },
     "execution_count": 15,
     "metadata": {},
     "output_type": "execute_result"
    }
   ],
   "source": [
    "conta(2)"
   ]
  },
  {
   "cell_type": "markdown",
   "id": "ac519da1",
   "metadata": {},
   "source": [
    "Se quisermos salvar o resultado de uma função em uma variável, fazemos:"
   ]
  },
  {
   "cell_type": "code",
   "execution_count": 16,
   "id": "dfa27b9c",
   "metadata": {},
   "outputs": [
    {
     "data": {
      "text/plain": [
       "11"
      ]
     },
     "execution_count": 16,
     "metadata": {},
     "output_type": "execute_result"
    }
   ],
   "source": [
    "content = conta(3)\n",
    "content"
   ]
  },
  {
   "cell_type": "markdown",
   "id": "1661880c",
   "metadata": {},
   "source": [
    "Podemos criar uma função sem argumento:"
   ]
  },
  {
   "cell_type": "code",
   "execution_count": 17,
   "id": "57cdb7df",
   "metadata": {},
   "outputs": [],
   "source": [
    "def show_my_name():\n",
    "    print(\"Lucas Quemelli\")"
   ]
  },
  {
   "cell_type": "code",
   "execution_count": 18,
   "id": "bf7b21cc",
   "metadata": {},
   "outputs": [
    {
     "name": "stdout",
     "output_type": "stream",
     "text": [
      "Lucas Quemelli\n"
     ]
    }
   ],
   "source": [
    "show_my_name()"
   ]
  },
  {
   "cell_type": "markdown",
   "id": "5374bf14",
   "metadata": {},
   "source": [
    "Entretanto, para seguir as boas práticas do Python, sempre que não retornarmos nada de uma função, devemos inserir **return None** ao final. Assim:"
   ]
  },
  {
   "cell_type": "code",
   "execution_count": 19,
   "id": "ce8c6b21",
   "metadata": {},
   "outputs": [],
   "source": [
    "def show_name():\n",
    "    print(\"Lucas\")\n",
    "    \n",
    "    return None"
   ]
  },
  {
   "cell_type": "code",
   "execution_count": 20,
   "id": "331a39c1",
   "metadata": {},
   "outputs": [
    {
     "name": "stdout",
     "output_type": "stream",
     "text": [
      "Lucas\n"
     ]
    }
   ],
   "source": [
    "show_name()"
   ]
  },
  {
   "cell_type": "markdown",
   "id": "e9ddaf33",
   "metadata": {},
   "source": [
    "## Argumento de função"
   ]
  },
  {
   "cell_type": "markdown",
   "id": "8a0f8189",
   "metadata": {},
   "source": [
    "#### Argumentos obrigatórios e opcionais"
   ]
  },
  {
   "cell_type": "markdown",
   "id": "b6adb2e0",
   "metadata": {},
   "source": [
    "Existem argumentos obrigatórios e opcionais. Para tornar um argumento obrigatório em opcional, nós declaramos valores no próprio argumento."
   ]
  },
  {
   "cell_type": "code",
   "execution_count": 22,
   "id": "35fd42e6",
   "metadata": {},
   "outputs": [],
   "source": [
    "def quadrado(num = 4):\n",
    "    resultado = num ** 2\n",
    "    \n",
    "    return resultado"
   ]
  },
  {
   "cell_type": "markdown",
   "id": "4878cb79",
   "metadata": {},
   "source": [
    "O argumento da função acima significa: se eu não passar nenhum argumento para a função *quadrado*, utilize como argumento o valor 4."
   ]
  },
  {
   "cell_type": "code",
   "execution_count": 26,
   "id": "490d1b22",
   "metadata": {},
   "outputs": [
    {
     "data": {
      "text/plain": [
       "4"
      ]
     },
     "execution_count": 26,
     "metadata": {},
     "output_type": "execute_result"
    }
   ],
   "source": [
    "quadrado(2)"
   ]
  },
  {
   "cell_type": "code",
   "execution_count": 27,
   "id": "4ad925b3",
   "metadata": {},
   "outputs": [
    {
     "data": {
      "text/plain": [
       "9"
      ]
     },
     "execution_count": 27,
     "metadata": {},
     "output_type": "execute_result"
    }
   ],
   "source": [
    "quadrado(3)"
   ]
  },
  {
   "cell_type": "code",
   "execution_count": 28,
   "id": "25ba12db",
   "metadata": {},
   "outputs": [
    {
     "data": {
      "text/plain": [
       "16"
      ]
     },
     "execution_count": 28,
     "metadata": {},
     "output_type": "execute_result"
    }
   ],
   "source": [
    "quadrado()"
   ]
  },
  {
   "cell_type": "code",
   "execution_count": 30,
   "id": "4bf9e102",
   "metadata": {},
   "outputs": [],
   "source": [
    "def quadrado(exp, num = 4):\n",
    "    resultado = num ** exp\n",
    "    print(f\"O expoente inserido é: {exp}.\")\n",
    "    print(f\"A base inserida é: {num}.\")\n",
    "          \n",
    "    return resultado"
   ]
  },
  {
   "cell_type": "code",
   "execution_count": 31,
   "id": "f6f372e0",
   "metadata": {},
   "outputs": [
    {
     "name": "stdout",
     "output_type": "stream",
     "text": [
      "O expoente inserido é: 2.\n",
      "A base inserida é: 4.\n"
     ]
    },
    {
     "data": {
      "text/plain": [
       "16"
      ]
     },
     "execution_count": 31,
     "metadata": {},
     "output_type": "execute_result"
    }
   ],
   "source": [
    "quadrado(2)"
   ]
  },
  {
   "cell_type": "code",
   "execution_count": 32,
   "id": "57b2c5b8",
   "metadata": {},
   "outputs": [
    {
     "name": "stdout",
     "output_type": "stream",
     "text": [
      "O expoente inserido é: 2.\n",
      "A base inserida é: 5.\n"
     ]
    },
    {
     "data": {
      "text/plain": [
       "25"
      ]
     },
     "execution_count": 32,
     "metadata": {},
     "output_type": "execute_result"
    }
   ],
   "source": [
    "quadrado(2, 5)"
   ]
  },
  {
   "cell_type": "code",
   "execution_count": 33,
   "id": "c5c6d4f1",
   "metadata": {},
   "outputs": [
    {
     "name": "stdout",
     "output_type": "stream",
     "text": [
      "O expoente inserido é: 4.\n",
      "A base inserida é: 5.\n"
     ]
    },
    {
     "data": {
      "text/plain": [
       "625"
      ]
     },
     "execution_count": 33,
     "metadata": {},
     "output_type": "execute_result"
    }
   ],
   "source": [
    "quadrado(4, 5)"
   ]
  },
  {
   "cell_type": "markdown",
   "id": "e28f24bc",
   "metadata": {},
   "source": [
    "O argumento obrigatório sempre vem primeiro."
   ]
  },
  {
   "cell_type": "markdown",
   "id": "688b6e3e",
   "metadata": {},
   "source": [
    "#### *args"
   ]
  },
  {
   "cell_type": "markdown",
   "id": "120f92a6",
   "metadata": {},
   "source": [
    "Argumento que cria uma tupla - ordem importa - para adição infinita de argumentos."
   ]
  },
  {
   "cell_type": "code",
   "execution_count": 36,
   "id": "21eb748d",
   "metadata": {},
   "outputs": [],
   "source": [
    "def quadrado(exp, num = 4, *args):\n",
    "    resultado = num ** exp\n",
    "    print(f\"O expoente inserido é: {exp}.\")\n",
    "    print(f\"A base inserida é: {num}.\")\n",
    "    print(f\"O conteúdo de args é: {args}.\")\n",
    "          \n",
    "    return resultado"
   ]
  },
  {
   "cell_type": "code",
   "execution_count": 37,
   "id": "51e5b6dd",
   "metadata": {},
   "outputs": [
    {
     "name": "stdout",
     "output_type": "stream",
     "text": [
      "O expoente inserido é: 2.\n",
      "A base inserida é: 7.\n",
      "O conteúdo de args é: ('Lucas',).\n"
     ]
    },
    {
     "data": {
      "text/plain": [
       "49"
      ]
     },
     "execution_count": 37,
     "metadata": {},
     "output_type": "execute_result"
    }
   ],
   "source": [
    "quadrado(2, 7, 'Lucas')"
   ]
  },
  {
   "cell_type": "code",
   "execution_count": 38,
   "id": "d3e0a534",
   "metadata": {},
   "outputs": [
    {
     "name": "stdout",
     "output_type": "stream",
     "text": [
      "O expoente inserido é: 2.\n",
      "A base inserida é: 7.\n",
      "O conteúdo de args é: ('Lucas', 'Assis').\n"
     ]
    },
    {
     "data": {
      "text/plain": [
       "49"
      ]
     },
     "execution_count": 38,
     "metadata": {},
     "output_type": "execute_result"
    }
   ],
   "source": [
    "quadrado(2, 7, 'Lucas', 'Assis')"
   ]
  },
  {
   "cell_type": "code",
   "execution_count": 39,
   "id": "bf2173f5",
   "metadata": {},
   "outputs": [
    {
     "name": "stdout",
     "output_type": "stream",
     "text": [
      "O expoente inserido é: 2.\n",
      "A base inserida é: 7.\n",
      "O conteúdo de args é: ('Lucas', 'Assis', 'Quemelli').\n"
     ]
    },
    {
     "data": {
      "text/plain": [
       "49"
      ]
     },
     "execution_count": 39,
     "metadata": {},
     "output_type": "execute_result"
    }
   ],
   "source": [
    "quadrado(2, 7, 'Lucas', 'Assis', 'Quemelli')"
   ]
  },
  {
   "cell_type": "markdown",
   "id": "bd8ac45b",
   "metadata": {},
   "source": [
    "#### kwargs"
   ]
  },
  {
   "cell_type": "markdown",
   "id": "09752f8c",
   "metadata": {},
   "source": [
    "Argumento que cria um dicionário para adição infinita de argumentos."
   ]
  },
  {
   "cell_type": "code",
   "execution_count": 40,
   "id": "9fe01459",
   "metadata": {},
   "outputs": [],
   "source": [
    "def quadrado(exp, num = 4, *args, **kwargs):\n",
    "    resultado = num ** exp\n",
    "    print(f\"O expoente inserido é: {exp}.\")\n",
    "    print(f\"A base inserida é: {num}.\")\n",
    "    print(f\"O conteúdo de args é: {args}.\")\n",
    "    print(f\"O conteúdo de kwargs é: {kwargs}.\")\n",
    "          \n",
    "    return resultado"
   ]
  },
  {
   "cell_type": "code",
   "execution_count": 41,
   "id": "c67a3e91",
   "metadata": {},
   "outputs": [
    {
     "name": "stdout",
     "output_type": "stream",
     "text": [
      "O expoente inserido é: 2.\n",
      "A base inserida é: 7.\n",
      "O conteúdo de args é: ('Lucas', 'Quemelli').\n",
      "O conteúdo de kwargs é: {'nome': 'Lucas', 'idade': 28}.\n"
     ]
    },
    {
     "data": {
      "text/plain": [
       "49"
      ]
     },
     "execution_count": 41,
     "metadata": {},
     "output_type": "execute_result"
    }
   ],
   "source": [
    "quadrado(2, 7, 'Lucas', 'Quemelli', nome = 'Lucas', idade = 28)"
   ]
  },
  {
   "cell_type": "markdown",
   "id": "64706a1c",
   "metadata": {},
   "source": [
    "Os argumentos args e kwargs são considerados **flags**: são usados para sinalização. "
   ]
  },
  {
   "cell_type": "markdown",
   "id": "500b628b",
   "metadata": {},
   "source": [
    "## Docstrings"
   ]
  },
  {
   "cell_type": "code",
   "execution_count": 42,
   "id": "22f68e4c",
   "metadata": {},
   "outputs": [],
   "source": [
    "def soma(a, b):\n",
    "    \"\"\" Retorna a soma de a e b. \"\"\"\n",
    "    return a + b"
   ]
  },
  {
   "cell_type": "code",
   "execution_count": 43,
   "id": "0745e704",
   "metadata": {},
   "outputs": [
    {
     "data": {
      "text/plain": [
       "4"
      ]
     },
     "execution_count": 43,
     "metadata": {},
     "output_type": "execute_result"
    }
   ],
   "source": [
    "soma(2, 2)"
   ]
  },
  {
   "cell_type": "code",
   "execution_count": null,
   "id": "cce07cf5",
   "metadata": {},
   "outputs": [],
   "source": []
  }
 ],
 "metadata": {
  "kernelspec": {
   "display_name": "Python 3 (ipykernel)",
   "language": "python",
   "name": "python3"
  },
  "language_info": {
   "codemirror_mode": {
    "name": "ipython",
    "version": 3
   },
   "file_extension": ".py",
   "mimetype": "text/x-python",
   "name": "python",
   "nbconvert_exporter": "python",
   "pygments_lexer": "ipython3",
   "version": "3.9.6"
  }
 },
 "nbformat": 4,
 "nbformat_minor": 5
}
