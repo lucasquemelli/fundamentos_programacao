{
 "cells": [
  {
   "cell_type": "markdown",
   "id": "b66895c8",
   "metadata": {},
   "source": [
    "# Funções"
   ]
  },
  {
   "cell_type": "markdown",
   "id": "09980d19",
   "metadata": {},
   "source": [
    "São blocos de códigos executáveis e possem um nome. Quase tudo que se repete pode ser uma função!"
   ]
  },
  {
   "cell_type": "markdown",
   "id": "07a98455",
   "metadata": {},
   "source": [
    "#### Definindo uma função"
   ]
  },
  {
   "cell_type": "markdown",
   "id": "fdb2ea85",
   "metadata": {},
   "source": [
    "String como argumento:"
   ]
  },
  {
   "cell_type": "code",
   "execution_count": 1,
   "id": "3b9d6d56",
   "metadata": {},
   "outputs": [],
   "source": [
    "def bacon(nome):\n",
    "    print(f\"{nome} gosta muito de bacon!\")"
   ]
  },
  {
   "cell_type": "code",
   "execution_count": 2,
   "id": "9d4397ce",
   "metadata": {},
   "outputs": [
    {
     "data": {
      "text/plain": [
       "<function __main__.bacon(nome)>"
      ]
     },
     "execution_count": 2,
     "metadata": {},
     "output_type": "execute_result"
    }
   ],
   "source": [
    "bacon"
   ]
  },
  {
   "cell_type": "code",
   "execution_count": 4,
   "id": "dffcaf93",
   "metadata": {},
   "outputs": [
    {
     "name": "stdout",
     "output_type": "stream",
     "text": [
      "Isaac gosta muito de bacon!\n"
     ]
    }
   ],
   "source": [
    "bacon('Isaac')"
   ]
  },
  {
   "cell_type": "markdown",
   "id": "49ae8dc6",
   "metadata": {},
   "source": [
    "Número como argumento:"
   ]
  },
  {
   "cell_type": "code",
   "execution_count": 7,
   "id": "daea1248",
   "metadata": {},
   "outputs": [],
   "source": [
    "def ao_quadrado(num):\n",
    "    resultado = num ** 2\n",
    "    print(f\"O resultado de {num} ao quadrado é: {resultado}.\")"
   ]
  },
  {
   "cell_type": "code",
   "execution_count": 8,
   "id": "09c7a42d",
   "metadata": {},
   "outputs": [
    {
     "name": "stdout",
     "output_type": "stream",
     "text": [
      "O resultado de 2 ao quadrado é: 4.\n"
     ]
    }
   ],
   "source": [
    "ao_quadrado(2)"
   ]
  },
  {
   "cell_type": "code",
   "execution_count": 9,
   "id": "6370ae5d",
   "metadata": {},
   "outputs": [
    {
     "ename": "NameError",
     "evalue": "name 'resultado' is not defined",
     "output_type": "error",
     "traceback": [
      "\u001b[1;31m---------------------------------------------------------------------------\u001b[0m",
      "\u001b[1;31mNameError\u001b[0m                                 Traceback (most recent call last)",
      "\u001b[1;32mC:\\Users\\USURIO~3\\AppData\\Local\\Temp/ipykernel_7180/1046101132.py\u001b[0m in \u001b[0;36m<module>\u001b[1;34m\u001b[0m\n\u001b[1;32m----> 1\u001b[1;33m \u001b[0mresultado\u001b[0m\u001b[1;33m\u001b[0m\u001b[1;33m\u001b[0m\u001b[0m\n\u001b[0m",
      "\u001b[1;31mNameError\u001b[0m: name 'resultado' is not defined"
     ]
    }
   ],
   "source": [
    "resultado"
   ]
  },
  {
   "cell_type": "markdown",
   "id": "647977ac",
   "metadata": {},
   "source": [
    "Se quisermos exibir o resultado de uma função, também podemos utilizar **return** ao final da função. Assim:"
   ]
  },
  {
   "cell_type": "code",
   "execution_count": 10,
   "id": "872edaa4",
   "metadata": {},
   "outputs": [],
   "source": [
    "def ao_quadrado(num):\n",
    "    resultado = num ** 2\n",
    "    \n",
    "    return resultado"
   ]
  },
  {
   "cell_type": "code",
   "execution_count": 12,
   "id": "1d304d33",
   "metadata": {},
   "outputs": [
    {
     "data": {
      "text/plain": [
       "4"
      ]
     },
     "execution_count": 12,
     "metadata": {},
     "output_type": "execute_result"
    }
   ],
   "source": [
    "ao_quadrado(2)"
   ]
  },
  {
   "cell_type": "markdown",
   "id": "c8641393",
   "metadata": {},
   "source": [
    "Também podemos retornar uma operação com o resultado:"
   ]
  },
  {
   "cell_type": "code",
   "execution_count": 14,
   "id": "3da4ab63",
   "metadata": {},
   "outputs": [],
   "source": [
    "def conta(num):\n",
    "    resultado = num ** 2\n",
    "    \n",
    "    return resultado + 2"
   ]
  },
  {
   "cell_type": "code",
   "execution_count": 15,
   "id": "41858933",
   "metadata": {},
   "outputs": [
    {
     "data": {
      "text/plain": [
       "6"
      ]
     },
     "execution_count": 15,
     "metadata": {},
     "output_type": "execute_result"
    }
   ],
   "source": [
    "conta(2)"
   ]
  },
  {
   "cell_type": "markdown",
   "id": "e58ecb41",
   "metadata": {},
   "source": [
    "Se quisermos salvar o resultado de uma função em uma variável, fazemos:"
   ]
  },
  {
   "cell_type": "code",
   "execution_count": 16,
   "id": "2155c837",
   "metadata": {},
   "outputs": [
    {
     "data": {
      "text/plain": [
       "11"
      ]
     },
     "execution_count": 16,
     "metadata": {},
     "output_type": "execute_result"
    }
   ],
   "source": [
    "content = conta(3)\n",
    "content"
   ]
  },
  {
   "cell_type": "markdown",
   "id": "64a4ab73",
   "metadata": {},
   "source": [
    "Podemos criar uma função sem argumento:"
   ]
  },
  {
   "cell_type": "code",
   "execution_count": 17,
   "id": "fb0b0fb2",
   "metadata": {},
   "outputs": [],
   "source": [
    "def show_my_name():\n",
    "    print(\"Lucas Quemelli\")"
   ]
  },
  {
   "cell_type": "code",
   "execution_count": 18,
   "id": "24909711",
   "metadata": {},
   "outputs": [
    {
     "name": "stdout",
     "output_type": "stream",
     "text": [
      "Lucas Quemelli\n"
     ]
    }
   ],
   "source": [
    "show_my_name()"
   ]
  },
  {
   "cell_type": "markdown",
   "id": "40ee180f",
   "metadata": {},
   "source": [
    "Entretanto, para seguir as boas práticas do Python, sempre que não retornarmos nada de uma função, devemos inserir **return None** ao final. Assim:"
   ]
  },
  {
   "cell_type": "code",
   "execution_count": 19,
   "id": "72689017",
   "metadata": {},
   "outputs": [],
   "source": [
    "def show_name():\n",
    "    print(\"Lucas\")\n",
    "    \n",
    "    return None"
   ]
  },
  {
   "cell_type": "code",
   "execution_count": 20,
   "id": "1bb84f66",
   "metadata": {},
   "outputs": [
    {
     "name": "stdout",
     "output_type": "stream",
     "text": [
      "Lucas\n"
     ]
    }
   ],
   "source": [
    "show_name()"
   ]
  },
  {
   "cell_type": "markdown",
   "id": "575b66f7",
   "metadata": {},
   "source": [
    "#### Argumento de função"
   ]
  },
  {
   "cell_type": "markdown",
   "id": "bedfa69e",
   "metadata": {},
   "source": [
    "Existem argumentos obrigatórios e opcionais. Para tornar um argumento obrigatório em opcional, nós declaramos valores no próprio argumento."
   ]
  },
  {
   "cell_type": "code",
   "execution_count": 22,
   "id": "cbdab207",
   "metadata": {},
   "outputs": [],
   "source": [
    "def quadrado(num = 4):\n",
    "    resultado = num ** 2\n",
    "    \n",
    "    return resultado"
   ]
  },
  {
   "cell_type": "markdown",
   "id": "b13356e9",
   "metadata": {},
   "source": [
    "O argumento da função acima significa: se eu não passar nenhum argumento para a função *quadrado*, utilize como argumento o valor 4."
   ]
  },
  {
   "cell_type": "code",
   "execution_count": 26,
   "id": "09114d34",
   "metadata": {},
   "outputs": [
    {
     "data": {
      "text/plain": [
       "4"
      ]
     },
     "execution_count": 26,
     "metadata": {},
     "output_type": "execute_result"
    }
   ],
   "source": [
    "quadrado(2)"
   ]
  },
  {
   "cell_type": "code",
   "execution_count": 27,
   "id": "bc5680e6",
   "metadata": {},
   "outputs": [
    {
     "data": {
      "text/plain": [
       "9"
      ]
     },
     "execution_count": 27,
     "metadata": {},
     "output_type": "execute_result"
    }
   ],
   "source": [
    "quadrado(3)"
   ]
  },
  {
   "cell_type": "code",
   "execution_count": 28,
   "id": "78b707a0",
   "metadata": {},
   "outputs": [
    {
     "data": {
      "text/plain": [
       "16"
      ]
     },
     "execution_count": 28,
     "metadata": {},
     "output_type": "execute_result"
    }
   ],
   "source": [
    "quadrado()"
   ]
  },
  {
   "cell_type": "code",
   "execution_count": null,
   "id": "5be2b787",
   "metadata": {},
   "outputs": [],
   "source": []
  }
 ],
 "metadata": {
  "kernelspec": {
   "display_name": "Python 3 (ipykernel)",
   "language": "python",
   "name": "python3"
  },
  "language_info": {
   "codemirror_mode": {
    "name": "ipython",
    "version": 3
   },
   "file_extension": ".py",
   "mimetype": "text/x-python",
   "name": "python",
   "nbconvert_exporter": "python",
   "pygments_lexer": "ipython3",
   "version": "3.9.6"
  }
 },
 "nbformat": 4,
 "nbformat_minor": 5
}
