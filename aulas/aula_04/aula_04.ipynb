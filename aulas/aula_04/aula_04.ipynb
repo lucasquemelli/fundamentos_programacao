{
 "cells": [
  {
   "cell_type": "markdown",
   "id": "1baeae2b",
   "metadata": {},
   "source": [
    "# Funções"
   ]
  },
  {
   "cell_type": "markdown",
   "id": "64db1e02",
   "metadata": {},
   "source": [
    "São blocos de códigos executáveis e possem um nome. Quase tudo que se repete pode ser uma função!"
   ]
  },
  {
   "cell_type": "markdown",
   "id": "8321664f",
   "metadata": {},
   "source": [
    "#### Definindo uma função"
   ]
  },
  {
   "cell_type": "markdown",
   "id": "9f329f1e",
   "metadata": {},
   "source": [
    "String como argumento:"
   ]
  },
  {
   "cell_type": "code",
   "execution_count": 1,
   "id": "a9c870e2",
   "metadata": {},
   "outputs": [],
   "source": [
    "def bacon(nome):\n",
    "    print(f\"{nome} gosta muito de bacon!\")"
   ]
  },
  {
   "cell_type": "code",
   "execution_count": 2,
   "id": "81d43bb3",
   "metadata": {},
   "outputs": [
    {
     "data": {
      "text/plain": [
       "<function __main__.bacon(nome)>"
      ]
     },
     "execution_count": 2,
     "metadata": {},
     "output_type": "execute_result"
    }
   ],
   "source": [
    "bacon"
   ]
  },
  {
   "cell_type": "code",
   "execution_count": 4,
   "id": "c729272a",
   "metadata": {},
   "outputs": [
    {
     "name": "stdout",
     "output_type": "stream",
     "text": [
      "Isaac gosta muito de bacon!\n"
     ]
    }
   ],
   "source": [
    "bacon('Isaac')"
   ]
  },
  {
   "cell_type": "markdown",
   "id": "217310bd",
   "metadata": {},
   "source": [
    "Número como argumento:"
   ]
  },
  {
   "cell_type": "code",
   "execution_count": 7,
   "id": "89f63df2",
   "metadata": {},
   "outputs": [],
   "source": [
    "def ao_quadrado(num):\n",
    "    resultado = num ** 2\n",
    "    print(f\"O resultado de {num} ao quadrado é: {resultado}.\")"
   ]
  },
  {
   "cell_type": "code",
   "execution_count": 8,
   "id": "8979b4b6",
   "metadata": {},
   "outputs": [
    {
     "name": "stdout",
     "output_type": "stream",
     "text": [
      "O resultado de 2 ao quadrado é: 4.\n"
     ]
    }
   ],
   "source": [
    "ao_quadrado(2)"
   ]
  },
  {
   "cell_type": "code",
   "execution_count": null,
   "id": "beaa32ee",
   "metadata": {},
   "outputs": [],
   "source": []
  }
 ],
 "metadata": {
  "kernelspec": {
   "display_name": "Python 3 (ipykernel)",
   "language": "python",
   "name": "python3"
  },
  "language_info": {
   "codemirror_mode": {
    "name": "ipython",
    "version": 3
   },
   "file_extension": ".py",
   "mimetype": "text/x-python",
   "name": "python",
   "nbconvert_exporter": "python",
   "pygments_lexer": "ipython3",
   "version": "3.9.6"
  }
 },
 "nbformat": 4,
 "nbformat_minor": 5
}
