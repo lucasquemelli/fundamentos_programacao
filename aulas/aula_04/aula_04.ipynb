{
 "cells": [
  {
   "cell_type": "markdown",
   "id": "991e19fd",
   "metadata": {},
   "source": [
    "# Funções"
   ]
  },
  {
   "cell_type": "markdown",
   "id": "5aa781b3",
   "metadata": {},
   "source": [
    "São blocos de códigos executáveis e possem um nome. Quase tudo que se repete pode ser uma função!"
   ]
  },
  {
   "cell_type": "markdown",
   "id": "601f09b5",
   "metadata": {},
   "source": [
    "#### Definindo uma função"
   ]
  },
  {
   "cell_type": "markdown",
   "id": "833d2f31",
   "metadata": {},
   "source": [
    "String como argumento:"
   ]
  },
  {
   "cell_type": "code",
   "execution_count": 1,
   "id": "d08adbe8",
   "metadata": {},
   "outputs": [],
   "source": [
    "def bacon(nome):\n",
    "    print(f\"{nome} gosta muito de bacon!\")"
   ]
  },
  {
   "cell_type": "code",
   "execution_count": 2,
   "id": "40db6a47",
   "metadata": {},
   "outputs": [
    {
     "data": {
      "text/plain": [
       "<function __main__.bacon(nome)>"
      ]
     },
     "execution_count": 2,
     "metadata": {},
     "output_type": "execute_result"
    }
   ],
   "source": [
    "bacon"
   ]
  },
  {
   "cell_type": "code",
   "execution_count": 4,
   "id": "6f142929",
   "metadata": {},
   "outputs": [
    {
     "name": "stdout",
     "output_type": "stream",
     "text": [
      "Isaac gosta muito de bacon!\n"
     ]
    }
   ],
   "source": [
    "bacon('Isaac')"
   ]
  },
  {
   "cell_type": "markdown",
   "id": "5e3a4bd5",
   "metadata": {},
   "source": [
    "Número como argumento:"
   ]
  },
  {
   "cell_type": "code",
   "execution_count": 7,
   "id": "c3c53c3c",
   "metadata": {},
   "outputs": [],
   "source": [
    "def ao_quadrado(num):\n",
    "    resultado = num ** 2\n",
    "    print(f\"O resultado de {num} ao quadrado é: {resultado}.\")"
   ]
  },
  {
   "cell_type": "code",
   "execution_count": 8,
   "id": "dddfdb31",
   "metadata": {},
   "outputs": [
    {
     "name": "stdout",
     "output_type": "stream",
     "text": [
      "O resultado de 2 ao quadrado é: 4.\n"
     ]
    }
   ],
   "source": [
    "ao_quadrado(2)"
   ]
  },
  {
   "cell_type": "code",
   "execution_count": 9,
   "id": "7ba06178",
   "metadata": {},
   "outputs": [
    {
     "ename": "NameError",
     "evalue": "name 'resultado' is not defined",
     "output_type": "error",
     "traceback": [
      "\u001b[1;31m---------------------------------------------------------------------------\u001b[0m",
      "\u001b[1;31mNameError\u001b[0m                                 Traceback (most recent call last)",
      "\u001b[1;32mC:\\Users\\USURIO~3\\AppData\\Local\\Temp/ipykernel_7180/1046101132.py\u001b[0m in \u001b[0;36m<module>\u001b[1;34m\u001b[0m\n\u001b[1;32m----> 1\u001b[1;33m \u001b[0mresultado\u001b[0m\u001b[1;33m\u001b[0m\u001b[1;33m\u001b[0m\u001b[0m\n\u001b[0m",
      "\u001b[1;31mNameError\u001b[0m: name 'resultado' is not defined"
     ]
    }
   ],
   "source": [
    "resultado"
   ]
  },
  {
   "cell_type": "markdown",
   "id": "007d4f18",
   "metadata": {},
   "source": [
    "Se quisermos exibir o resultado de uma função, também podemos utilizar **return** ao final da função. Assim:"
   ]
  },
  {
   "cell_type": "code",
   "execution_count": 10,
   "id": "8d8912b8",
   "metadata": {},
   "outputs": [],
   "source": [
    "def ao_quadrado(num):\n",
    "    resultado = num ** 2\n",
    "    \n",
    "    return resultado"
   ]
  },
  {
   "cell_type": "code",
   "execution_count": 12,
   "id": "ecb2e875",
   "metadata": {},
   "outputs": [
    {
     "data": {
      "text/plain": [
       "4"
      ]
     },
     "execution_count": 12,
     "metadata": {},
     "output_type": "execute_result"
    }
   ],
   "source": [
    "ao_quadrado(2)"
   ]
  },
  {
   "cell_type": "markdown",
   "id": "9c740ebb",
   "metadata": {},
   "source": [
    "Também podemos retornar uma operação com o resultado:"
   ]
  },
  {
   "cell_type": "code",
   "execution_count": 14,
   "id": "f4d539f8",
   "metadata": {},
   "outputs": [],
   "source": [
    "def conta(num):\n",
    "    resultado = num ** 2\n",
    "    \n",
    "    return resultado + 2"
   ]
  },
  {
   "cell_type": "code",
   "execution_count": 15,
   "id": "e2050a67",
   "metadata": {},
   "outputs": [
    {
     "data": {
      "text/plain": [
       "6"
      ]
     },
     "execution_count": 15,
     "metadata": {},
     "output_type": "execute_result"
    }
   ],
   "source": [
    "conta(2)"
   ]
  },
  {
   "cell_type": "markdown",
   "id": "7ae346ac",
   "metadata": {},
   "source": [
    "Se quisermos salvar o resultado de uma função em uma variável, fazemos:"
   ]
  },
  {
   "cell_type": "code",
   "execution_count": 16,
   "id": "61b58a5e",
   "metadata": {},
   "outputs": [
    {
     "data": {
      "text/plain": [
       "11"
      ]
     },
     "execution_count": 16,
     "metadata": {},
     "output_type": "execute_result"
    }
   ],
   "source": [
    "content = conta(3)\n",
    "content"
   ]
  },
  {
   "cell_type": "markdown",
   "id": "26ace2df",
   "metadata": {},
   "source": [
    "Podemos criar uma função sem argumento:"
   ]
  },
  {
   "cell_type": "code",
   "execution_count": 17,
   "id": "2602d146",
   "metadata": {},
   "outputs": [],
   "source": [
    "def show_my_name():\n",
    "    print(\"Lucas Quemelli\")"
   ]
  },
  {
   "cell_type": "code",
   "execution_count": 18,
   "id": "f96c57cf",
   "metadata": {},
   "outputs": [
    {
     "name": "stdout",
     "output_type": "stream",
     "text": [
      "Lucas Quemelli\n"
     ]
    }
   ],
   "source": [
    "show_my_name()"
   ]
  },
  {
   "cell_type": "markdown",
   "id": "7a08e8b9",
   "metadata": {},
   "source": [
    "Entretanto, para seguir as boas práticas do Python, sempre que não retornarmos nada de uma função, devemos inserir **return None** ao final. Assim:"
   ]
  },
  {
   "cell_type": "code",
   "execution_count": 19,
   "id": "37bf8e1a",
   "metadata": {},
   "outputs": [],
   "source": [
    "def show_name():\n",
    "    print(\"Lucas\")\n",
    "    \n",
    "    return None"
   ]
  },
  {
   "cell_type": "code",
   "execution_count": 20,
   "id": "df97afdf",
   "metadata": {},
   "outputs": [
    {
     "name": "stdout",
     "output_type": "stream",
     "text": [
      "Lucas\n"
     ]
    }
   ],
   "source": [
    "show_name()"
   ]
  },
  {
   "cell_type": "markdown",
   "id": "7c488c8e",
   "metadata": {},
   "source": [
    "#### Argumento de função"
   ]
  },
  {
   "cell_type": "markdown",
   "id": "be5dbd68",
   "metadata": {},
   "source": [
    "Existem argumentos obrigatórios e opcionais. Para tornar um argumento obrigatório em opcional, nós declaramos valores no próprio argumento."
   ]
  },
  {
   "cell_type": "code",
   "execution_count": 22,
   "id": "8bfdb48e",
   "metadata": {},
   "outputs": [],
   "source": [
    "def quadrado(num = 4):\n",
    "    resultado = num ** 2\n",
    "    \n",
    "    return resultado"
   ]
  },
  {
   "cell_type": "markdown",
   "id": "6b27ac10",
   "metadata": {},
   "source": [
    "O argumento da função acima significa: se eu não passar nenhum argumento para a função *quadrado*, utilize como argumento o valor 4."
   ]
  },
  {
   "cell_type": "code",
   "execution_count": 26,
   "id": "c0f5c4f7",
   "metadata": {},
   "outputs": [
    {
     "data": {
      "text/plain": [
       "4"
      ]
     },
     "execution_count": 26,
     "metadata": {},
     "output_type": "execute_result"
    }
   ],
   "source": [
    "quadrado(2)"
   ]
  },
  {
   "cell_type": "code",
   "execution_count": 27,
   "id": "9557243c",
   "metadata": {},
   "outputs": [
    {
     "data": {
      "text/plain": [
       "9"
      ]
     },
     "execution_count": 27,
     "metadata": {},
     "output_type": "execute_result"
    }
   ],
   "source": [
    "quadrado(3)"
   ]
  },
  {
   "cell_type": "code",
   "execution_count": 28,
   "id": "38851c56",
   "metadata": {},
   "outputs": [
    {
     "data": {
      "text/plain": [
       "16"
      ]
     },
     "execution_count": 28,
     "metadata": {},
     "output_type": "execute_result"
    }
   ],
   "source": [
    "quadrado()"
   ]
  },
  {
   "cell_type": "code",
   "execution_count": 30,
   "id": "23268feb",
   "metadata": {},
   "outputs": [],
   "source": [
    "def quadrado(exp, num = 4):\n",
    "    resultado = num ** exp\n",
    "    print(f\"O expoente inserido é: {exp}.\")\n",
    "    print(f\"A base inserida é: {num}.\")\n",
    "          \n",
    "    return resultado"
   ]
  },
  {
   "cell_type": "code",
   "execution_count": 31,
   "id": "93c04e71",
   "metadata": {},
   "outputs": [
    {
     "name": "stdout",
     "output_type": "stream",
     "text": [
      "O expoente inserido é: 2.\n",
      "A base inserida é: 4.\n"
     ]
    },
    {
     "data": {
      "text/plain": [
       "16"
      ]
     },
     "execution_count": 31,
     "metadata": {},
     "output_type": "execute_result"
    }
   ],
   "source": [
    "quadrado(2)"
   ]
  },
  {
   "cell_type": "code",
   "execution_count": 32,
   "id": "316a65aa",
   "metadata": {},
   "outputs": [
    {
     "name": "stdout",
     "output_type": "stream",
     "text": [
      "O expoente inserido é: 2.\n",
      "A base inserida é: 5.\n"
     ]
    },
    {
     "data": {
      "text/plain": [
       "25"
      ]
     },
     "execution_count": 32,
     "metadata": {},
     "output_type": "execute_result"
    }
   ],
   "source": [
    "quadrado(2, 5)"
   ]
  },
  {
   "cell_type": "code",
   "execution_count": 33,
   "id": "8c1d2346",
   "metadata": {},
   "outputs": [
    {
     "name": "stdout",
     "output_type": "stream",
     "text": [
      "O expoente inserido é: 4.\n",
      "A base inserida é: 5.\n"
     ]
    },
    {
     "data": {
      "text/plain": [
       "625"
      ]
     },
     "execution_count": 33,
     "metadata": {},
     "output_type": "execute_result"
    }
   ],
   "source": [
    "quadrado(4, 5)"
   ]
  },
  {
   "cell_type": "code",
   "execution_count": null,
   "id": "ef006d5b",
   "metadata": {},
   "outputs": [],
   "source": []
  }
 ],
 "metadata": {
  "kernelspec": {
   "display_name": "Python 3 (ipykernel)",
   "language": "python",
   "name": "python3"
  },
  "language_info": {
   "codemirror_mode": {
    "name": "ipython",
    "version": 3
   },
   "file_extension": ".py",
   "mimetype": "text/x-python",
   "name": "python",
   "nbconvert_exporter": "python",
   "pygments_lexer": "ipython3",
   "version": "3.9.6"
  }
 },
 "nbformat": 4,
 "nbformat_minor": 5
}
