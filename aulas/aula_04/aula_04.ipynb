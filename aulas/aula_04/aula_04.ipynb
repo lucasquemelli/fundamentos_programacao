{
 "cells": [
  {
   "cell_type": "markdown",
   "id": "c20a0743",
   "metadata": {},
   "source": [
    "# Funções"
   ]
  },
  {
   "cell_type": "markdown",
   "id": "b1e81c6f",
   "metadata": {},
   "source": [
    "São blocos de códigos executáveis e possem um nome. Quase tudo que se repete pode ser uma função!"
   ]
  },
  {
   "cell_type": "markdown",
   "id": "5715a673",
   "metadata": {},
   "source": [
    "## Definindo uma função"
   ]
  },
  {
   "cell_type": "markdown",
   "id": "e3028061",
   "metadata": {},
   "source": [
    "String como argumento:"
   ]
  },
  {
   "cell_type": "code",
   "execution_count": 1,
   "id": "97ef8fb3",
   "metadata": {},
   "outputs": [],
   "source": [
    "def bacon(nome):\n",
    "    print(f\"{nome} gosta muito de bacon!\")"
   ]
  },
  {
   "cell_type": "code",
   "execution_count": 2,
   "id": "9018fe26",
   "metadata": {},
   "outputs": [
    {
     "data": {
      "text/plain": [
       "<function __main__.bacon(nome)>"
      ]
     },
     "execution_count": 2,
     "metadata": {},
     "output_type": "execute_result"
    }
   ],
   "source": [
    "bacon"
   ]
  },
  {
   "cell_type": "code",
   "execution_count": 4,
   "id": "7ac9795c",
   "metadata": {},
   "outputs": [
    {
     "name": "stdout",
     "output_type": "stream",
     "text": [
      "Isaac gosta muito de bacon!\n"
     ]
    }
   ],
   "source": [
    "bacon('Isaac')"
   ]
  },
  {
   "cell_type": "markdown",
   "id": "486df6c1",
   "metadata": {},
   "source": [
    "Número como argumento:"
   ]
  },
  {
   "cell_type": "code",
   "execution_count": 7,
   "id": "d4d45872",
   "metadata": {},
   "outputs": [],
   "source": [
    "def ao_quadrado(num):\n",
    "    resultado = num ** 2\n",
    "    print(f\"O resultado de {num} ao quadrado é: {resultado}.\")"
   ]
  },
  {
   "cell_type": "code",
   "execution_count": 8,
   "id": "018126cc",
   "metadata": {},
   "outputs": [
    {
     "name": "stdout",
     "output_type": "stream",
     "text": [
      "O resultado de 2 ao quadrado é: 4.\n"
     ]
    }
   ],
   "source": [
    "ao_quadrado(2)"
   ]
  },
  {
   "cell_type": "code",
   "execution_count": 9,
   "id": "39829722",
   "metadata": {},
   "outputs": [
    {
     "ename": "NameError",
     "evalue": "name 'resultado' is not defined",
     "output_type": "error",
     "traceback": [
      "\u001b[1;31m---------------------------------------------------------------------------\u001b[0m",
      "\u001b[1;31mNameError\u001b[0m                                 Traceback (most recent call last)",
      "\u001b[1;32mC:\\Users\\USURIO~3\\AppData\\Local\\Temp/ipykernel_7180/1046101132.py\u001b[0m in \u001b[0;36m<module>\u001b[1;34m\u001b[0m\n\u001b[1;32m----> 1\u001b[1;33m \u001b[0mresultado\u001b[0m\u001b[1;33m\u001b[0m\u001b[1;33m\u001b[0m\u001b[0m\n\u001b[0m",
      "\u001b[1;31mNameError\u001b[0m: name 'resultado' is not defined"
     ]
    }
   ],
   "source": [
    "resultado"
   ]
  },
  {
   "cell_type": "markdown",
   "id": "5e56cb40",
   "metadata": {},
   "source": [
    "Se quisermos exibir o resultado de uma função, também podemos utilizar **return** ao final da função. Assim:"
   ]
  },
  {
   "cell_type": "code",
   "execution_count": 10,
   "id": "c4e24490",
   "metadata": {},
   "outputs": [],
   "source": [
    "def ao_quadrado(num):\n",
    "    resultado = num ** 2\n",
    "    \n",
    "    return resultado"
   ]
  },
  {
   "cell_type": "code",
   "execution_count": 12,
   "id": "c2fbe47e",
   "metadata": {},
   "outputs": [
    {
     "data": {
      "text/plain": [
       "4"
      ]
     },
     "execution_count": 12,
     "metadata": {},
     "output_type": "execute_result"
    }
   ],
   "source": [
    "ao_quadrado(2)"
   ]
  },
  {
   "cell_type": "markdown",
   "id": "f0f11d91",
   "metadata": {},
   "source": [
    "Também podemos retornar uma operação com o resultado:"
   ]
  },
  {
   "cell_type": "code",
   "execution_count": 14,
   "id": "6a7d640c",
   "metadata": {},
   "outputs": [],
   "source": [
    "def conta(num):\n",
    "    resultado = num ** 2\n",
    "    \n",
    "    return resultado + 2"
   ]
  },
  {
   "cell_type": "code",
   "execution_count": 15,
   "id": "aacac367",
   "metadata": {},
   "outputs": [
    {
     "data": {
      "text/plain": [
       "6"
      ]
     },
     "execution_count": 15,
     "metadata": {},
     "output_type": "execute_result"
    }
   ],
   "source": [
    "conta(2)"
   ]
  },
  {
   "cell_type": "markdown",
   "id": "97a6866c",
   "metadata": {},
   "source": [
    "Se quisermos salvar o resultado de uma função em uma variável, fazemos:"
   ]
  },
  {
   "cell_type": "code",
   "execution_count": 16,
   "id": "e1f58867",
   "metadata": {},
   "outputs": [
    {
     "data": {
      "text/plain": [
       "11"
      ]
     },
     "execution_count": 16,
     "metadata": {},
     "output_type": "execute_result"
    }
   ],
   "source": [
    "content = conta(3)\n",
    "content"
   ]
  },
  {
   "cell_type": "markdown",
   "id": "e513d2b5",
   "metadata": {},
   "source": [
    "Podemos criar uma função sem argumento:"
   ]
  },
  {
   "cell_type": "code",
   "execution_count": 17,
   "id": "81451eae",
   "metadata": {},
   "outputs": [],
   "source": [
    "def show_my_name():\n",
    "    print(\"Lucas Quemelli\")"
   ]
  },
  {
   "cell_type": "code",
   "execution_count": 18,
   "id": "673f32a6",
   "metadata": {},
   "outputs": [
    {
     "name": "stdout",
     "output_type": "stream",
     "text": [
      "Lucas Quemelli\n"
     ]
    }
   ],
   "source": [
    "show_my_name()"
   ]
  },
  {
   "cell_type": "markdown",
   "id": "1e02a23c",
   "metadata": {},
   "source": [
    "Entretanto, para seguir as boas práticas do Python, sempre que não retornarmos nada de uma função, devemos inserir **return None** ao final. Assim:"
   ]
  },
  {
   "cell_type": "code",
   "execution_count": 19,
   "id": "50910727",
   "metadata": {},
   "outputs": [],
   "source": [
    "def show_name():\n",
    "    print(\"Lucas\")\n",
    "    \n",
    "    return None"
   ]
  },
  {
   "cell_type": "code",
   "execution_count": 20,
   "id": "8460dc18",
   "metadata": {},
   "outputs": [
    {
     "name": "stdout",
     "output_type": "stream",
     "text": [
      "Lucas\n"
     ]
    }
   ],
   "source": [
    "show_name()"
   ]
  },
  {
   "cell_type": "markdown",
   "id": "f96525c9",
   "metadata": {},
   "source": [
    "## Argumento de função"
   ]
  },
  {
   "cell_type": "markdown",
   "id": "ba3d3c72",
   "metadata": {},
   "source": [
    "#### Argumentos obrigatórios e opcionais"
   ]
  },
  {
   "cell_type": "markdown",
   "id": "89d27cdb",
   "metadata": {},
   "source": [
    "Existem argumentos obrigatórios e opcionais. Para tornar um argumento obrigatório em opcional, nós declaramos valores no próprio argumento."
   ]
  },
  {
   "cell_type": "code",
   "execution_count": 22,
   "id": "307a6af1",
   "metadata": {},
   "outputs": [],
   "source": [
    "def quadrado(num = 4):\n",
    "    resultado = num ** 2\n",
    "    \n",
    "    return resultado"
   ]
  },
  {
   "cell_type": "markdown",
   "id": "32aba7b8",
   "metadata": {},
   "source": [
    "O argumento da função acima significa: se eu não passar nenhum argumento para a função *quadrado*, utilize como argumento o valor 4."
   ]
  },
  {
   "cell_type": "code",
   "execution_count": 26,
   "id": "9ba993ab",
   "metadata": {},
   "outputs": [
    {
     "data": {
      "text/plain": [
       "4"
      ]
     },
     "execution_count": 26,
     "metadata": {},
     "output_type": "execute_result"
    }
   ],
   "source": [
    "quadrado(2)"
   ]
  },
  {
   "cell_type": "code",
   "execution_count": 27,
   "id": "0bdefac1",
   "metadata": {},
   "outputs": [
    {
     "data": {
      "text/plain": [
       "9"
      ]
     },
     "execution_count": 27,
     "metadata": {},
     "output_type": "execute_result"
    }
   ],
   "source": [
    "quadrado(3)"
   ]
  },
  {
   "cell_type": "code",
   "execution_count": 28,
   "id": "6c3d3f26",
   "metadata": {},
   "outputs": [
    {
     "data": {
      "text/plain": [
       "16"
      ]
     },
     "execution_count": 28,
     "metadata": {},
     "output_type": "execute_result"
    }
   ],
   "source": [
    "quadrado()"
   ]
  },
  {
   "cell_type": "code",
   "execution_count": 30,
   "id": "9e87c1ed",
   "metadata": {},
   "outputs": [],
   "source": [
    "def quadrado(exp, num = 4):\n",
    "    resultado = num ** exp\n",
    "    print(f\"O expoente inserido é: {exp}.\")\n",
    "    print(f\"A base inserida é: {num}.\")\n",
    "          \n",
    "    return resultado"
   ]
  },
  {
   "cell_type": "code",
   "execution_count": 31,
   "id": "d1c765b9",
   "metadata": {},
   "outputs": [
    {
     "name": "stdout",
     "output_type": "stream",
     "text": [
      "O expoente inserido é: 2.\n",
      "A base inserida é: 4.\n"
     ]
    },
    {
     "data": {
      "text/plain": [
       "16"
      ]
     },
     "execution_count": 31,
     "metadata": {},
     "output_type": "execute_result"
    }
   ],
   "source": [
    "quadrado(2)"
   ]
  },
  {
   "cell_type": "code",
   "execution_count": 32,
   "id": "c06b368d",
   "metadata": {},
   "outputs": [
    {
     "name": "stdout",
     "output_type": "stream",
     "text": [
      "O expoente inserido é: 2.\n",
      "A base inserida é: 5.\n"
     ]
    },
    {
     "data": {
      "text/plain": [
       "25"
      ]
     },
     "execution_count": 32,
     "metadata": {},
     "output_type": "execute_result"
    }
   ],
   "source": [
    "quadrado(2, 5)"
   ]
  },
  {
   "cell_type": "code",
   "execution_count": 33,
   "id": "5b4da4a1",
   "metadata": {},
   "outputs": [
    {
     "name": "stdout",
     "output_type": "stream",
     "text": [
      "O expoente inserido é: 4.\n",
      "A base inserida é: 5.\n"
     ]
    },
    {
     "data": {
      "text/plain": [
       "625"
      ]
     },
     "execution_count": 33,
     "metadata": {},
     "output_type": "execute_result"
    }
   ],
   "source": [
    "quadrado(4, 5)"
   ]
  },
  {
   "cell_type": "markdown",
   "id": "069328cc",
   "metadata": {},
   "source": [
    "O argumento obrigatório sempre vem primeiro."
   ]
  },
  {
   "cell_type": "markdown",
   "id": "d09b208e",
   "metadata": {},
   "source": [
    "#### *args"
   ]
  },
  {
   "cell_type": "markdown",
   "id": "ea5fc72a",
   "metadata": {},
   "source": [
    "Argumento que cria uma tupla - ordem importa - para adição infinita de argumentos."
   ]
  },
  {
   "cell_type": "code",
   "execution_count": 36,
   "id": "3fbdb27e",
   "metadata": {},
   "outputs": [],
   "source": [
    "def quadrado(exp, num = 4, *args):\n",
    "    resultado = num ** exp\n",
    "    print(f\"O expoente inserido é: {exp}.\")\n",
    "    print(f\"A base inserida é: {num}.\")\n",
    "    print(f\"O conteúdo de args é: {args}.\")\n",
    "          \n",
    "    return resultado"
   ]
  },
  {
   "cell_type": "code",
   "execution_count": 37,
   "id": "5474e803",
   "metadata": {},
   "outputs": [
    {
     "name": "stdout",
     "output_type": "stream",
     "text": [
      "O expoente inserido é: 2.\n",
      "A base inserida é: 7.\n",
      "O conteúdo de args é: ('Lucas',).\n"
     ]
    },
    {
     "data": {
      "text/plain": [
       "49"
      ]
     },
     "execution_count": 37,
     "metadata": {},
     "output_type": "execute_result"
    }
   ],
   "source": [
    "quadrado(2, 7, 'Lucas')"
   ]
  },
  {
   "cell_type": "code",
   "execution_count": 38,
   "id": "ddc4fead",
   "metadata": {},
   "outputs": [
    {
     "name": "stdout",
     "output_type": "stream",
     "text": [
      "O expoente inserido é: 2.\n",
      "A base inserida é: 7.\n",
      "O conteúdo de args é: ('Lucas', 'Assis').\n"
     ]
    },
    {
     "data": {
      "text/plain": [
       "49"
      ]
     },
     "execution_count": 38,
     "metadata": {},
     "output_type": "execute_result"
    }
   ],
   "source": [
    "quadrado(2, 7, 'Lucas', 'Assis')"
   ]
  },
  {
   "cell_type": "code",
   "execution_count": 39,
   "id": "0f4852ad",
   "metadata": {},
   "outputs": [
    {
     "name": "stdout",
     "output_type": "stream",
     "text": [
      "O expoente inserido é: 2.\n",
      "A base inserida é: 7.\n",
      "O conteúdo de args é: ('Lucas', 'Assis', 'Quemelli').\n"
     ]
    },
    {
     "data": {
      "text/plain": [
       "49"
      ]
     },
     "execution_count": 39,
     "metadata": {},
     "output_type": "execute_result"
    }
   ],
   "source": [
    "quadrado(2, 7, 'Lucas', 'Assis', 'Quemelli')"
   ]
  },
  {
   "cell_type": "markdown",
   "id": "f908c4c0",
   "metadata": {},
   "source": [
    "#### kwargs"
   ]
  },
  {
   "cell_type": "markdown",
   "id": "f7d6fa5a",
   "metadata": {},
   "source": [
    "Argumento que cria um dicionário para adição infinita de argumentos."
   ]
  },
  {
   "cell_type": "code",
   "execution_count": 40,
   "id": "3a2cdbc4",
   "metadata": {},
   "outputs": [],
   "source": [
    "def quadrado(exp, num = 4, *args, **kwargs):\n",
    "    resultado = num ** exp\n",
    "    print(f\"O expoente inserido é: {exp}.\")\n",
    "    print(f\"A base inserida é: {num}.\")\n",
    "    print(f\"O conteúdo de args é: {args}.\")\n",
    "    print(f\"O conteúdo de kwargs é: {kwargs}.\")\n",
    "          \n",
    "    return resultado"
   ]
  },
  {
   "cell_type": "code",
   "execution_count": 41,
   "id": "776ec4f4",
   "metadata": {},
   "outputs": [
    {
     "name": "stdout",
     "output_type": "stream",
     "text": [
      "O expoente inserido é: 2.\n",
      "A base inserida é: 7.\n",
      "O conteúdo de args é: ('Lucas', 'Quemelli').\n",
      "O conteúdo de kwargs é: {'nome': 'Lucas', 'idade': 28}.\n"
     ]
    },
    {
     "data": {
      "text/plain": [
       "49"
      ]
     },
     "execution_count": 41,
     "metadata": {},
     "output_type": "execute_result"
    }
   ],
   "source": [
    "quadrado(2, 7, 'Lucas', 'Quemelli', nome = 'Lucas', idade = 28)"
   ]
  },
  {
   "cell_type": "markdown",
   "id": "d4e9af57",
   "metadata": {},
   "source": [
    "Os argumentos args e kwargs são considerados **flags**: são usados para sinalização. "
   ]
  },
  {
   "cell_type": "code",
   "execution_count": null,
   "id": "3365bc8f",
   "metadata": {},
   "outputs": [],
   "source": []
  }
 ],
 "metadata": {
  "kernelspec": {
   "display_name": "Python 3 (ipykernel)",
   "language": "python",
   "name": "python3"
  },
  "language_info": {
   "codemirror_mode": {
    "name": "ipython",
    "version": 3
   },
   "file_extension": ".py",
   "mimetype": "text/x-python",
   "name": "python",
   "nbconvert_exporter": "python",
   "pygments_lexer": "ipython3",
   "version": "3.9.6"
  }
 },
 "nbformat": 4,
 "nbformat_minor": 5
}
