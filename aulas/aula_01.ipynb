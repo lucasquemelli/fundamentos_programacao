{
 "cells": [
  {
   "cell_type": "markdown",
   "id": "0cf6c731",
   "metadata": {},
   "source": [
    "# Libraries"
   ]
  },
  {
   "cell_type": "code",
   "execution_count": 1,
   "id": "a74878c9",
   "metadata": {},
   "outputs": [],
   "source": [
    "import pandas as pd\n",
    "import numpy as np"
   ]
  },
  {
   "cell_type": "markdown",
   "id": "573d855c",
   "metadata": {},
   "source": [
    "# Dataset"
   ]
  },
  {
   "cell_type": "code",
   "execution_count": 2,
   "id": "673e253c",
   "metadata": {},
   "outputs": [
    {
     "data": {
      "text/html": [
       "<div>\n",
       "<style scoped>\n",
       "    .dataframe tbody tr th:only-of-type {\n",
       "        vertical-align: middle;\n",
       "    }\n",
       "\n",
       "    .dataframe tbody tr th {\n",
       "        vertical-align: top;\n",
       "    }\n",
       "\n",
       "    .dataframe thead th {\n",
       "        text-align: right;\n",
       "    }\n",
       "</style>\n",
       "<table border=\"1\" class=\"dataframe\">\n",
       "  <thead>\n",
       "    <tr style=\"text-align: right;\">\n",
       "      <th></th>\n",
       "      <th>id</th>\n",
       "      <th>first_name</th>\n",
       "      <th>gender</th>\n",
       "      <th>age</th>\n",
       "      <th>married</th>\n",
       "      <th>recently_bought</th>\n",
       "    </tr>\n",
       "  </thead>\n",
       "  <tbody>\n",
       "    <tr>\n",
       "      <th>0</th>\n",
       "      <td>1</td>\n",
       "      <td>Kynthia</td>\n",
       "      <td>Female</td>\n",
       "      <td>59</td>\n",
       "      <td>False</td>\n",
       "      <td>True</td>\n",
       "    </tr>\n",
       "    <tr>\n",
       "      <th>1</th>\n",
       "      <td>2</td>\n",
       "      <td>Calley</td>\n",
       "      <td>Female</td>\n",
       "      <td>17</td>\n",
       "      <td>False</td>\n",
       "      <td>False</td>\n",
       "    </tr>\n",
       "    <tr>\n",
       "      <th>2</th>\n",
       "      <td>3</td>\n",
       "      <td>Therese</td>\n",
       "      <td>Male</td>\n",
       "      <td>60</td>\n",
       "      <td>False</td>\n",
       "      <td>False</td>\n",
       "    </tr>\n",
       "    <tr>\n",
       "      <th>3</th>\n",
       "      <td>4</td>\n",
       "      <td>Ag</td>\n",
       "      <td>Male</td>\n",
       "      <td>21</td>\n",
       "      <td>False</td>\n",
       "      <td>False</td>\n",
       "    </tr>\n",
       "    <tr>\n",
       "      <th>4</th>\n",
       "      <td>5</td>\n",
       "      <td>Chrissy</td>\n",
       "      <td>Male</td>\n",
       "      <td>26</td>\n",
       "      <td>True</td>\n",
       "      <td>False</td>\n",
       "    </tr>\n",
       "    <tr>\n",
       "      <th>...</th>\n",
       "      <td>...</td>\n",
       "      <td>...</td>\n",
       "      <td>...</td>\n",
       "      <td>...</td>\n",
       "      <td>...</td>\n",
       "      <td>...</td>\n",
       "    </tr>\n",
       "    <tr>\n",
       "      <th>995</th>\n",
       "      <td>996</td>\n",
       "      <td>Kermy</td>\n",
       "      <td>Female</td>\n",
       "      <td>78</td>\n",
       "      <td>False</td>\n",
       "      <td>False</td>\n",
       "    </tr>\n",
       "    <tr>\n",
       "      <th>996</th>\n",
       "      <td>997</td>\n",
       "      <td>Shem</td>\n",
       "      <td>Male</td>\n",
       "      <td>70</td>\n",
       "      <td>False</td>\n",
       "      <td>False</td>\n",
       "    </tr>\n",
       "    <tr>\n",
       "      <th>997</th>\n",
       "      <td>998</td>\n",
       "      <td>Jerad</td>\n",
       "      <td>Male</td>\n",
       "      <td>61</td>\n",
       "      <td>False</td>\n",
       "      <td>True</td>\n",
       "    </tr>\n",
       "    <tr>\n",
       "      <th>998</th>\n",
       "      <td>999</td>\n",
       "      <td>Pierce</td>\n",
       "      <td>Female</td>\n",
       "      <td>22</td>\n",
       "      <td>False</td>\n",
       "      <td>False</td>\n",
       "    </tr>\n",
       "    <tr>\n",
       "      <th>999</th>\n",
       "      <td>1000</td>\n",
       "      <td>Austin</td>\n",
       "      <td>Male</td>\n",
       "      <td>54</td>\n",
       "      <td>True</td>\n",
       "      <td>True</td>\n",
       "    </tr>\n",
       "  </tbody>\n",
       "</table>\n",
       "<p>1000 rows × 6 columns</p>\n",
       "</div>"
      ],
      "text/plain": [
       "       id first_name  gender  age  married  recently_bought\n",
       "0       1    Kynthia  Female   59    False             True\n",
       "1       2     Calley  Female   17    False            False\n",
       "2       3    Therese    Male   60    False            False\n",
       "3       4         Ag    Male   21    False            False\n",
       "4       5    Chrissy    Male   26     True            False\n",
       "..    ...        ...     ...  ...      ...              ...\n",
       "995   996      Kermy  Female   78    False            False\n",
       "996   997       Shem    Male   70    False            False\n",
       "997   998      Jerad    Male   61    False             True\n",
       "998   999     Pierce  Female   22    False            False\n",
       "999  1000     Austin    Male   54     True             True\n",
       "\n",
       "[1000 rows x 6 columns]"
      ]
     },
     "execution_count": 2,
     "metadata": {},
     "output_type": "execute_result"
    }
   ],
   "source": [
    "data = pd.read_csv(\"https://raw.githubusercontent.com/lucasquemelli/fundamentos_programacao/main/dataset/aula_1.csv\")\n",
    "data"
   ]
  },
  {
   "cell_type": "code",
   "execution_count": 3,
   "id": "582cac01",
   "metadata": {},
   "outputs": [
    {
     "data": {
      "text/html": [
       "<div>\n",
       "<style scoped>\n",
       "    .dataframe tbody tr th:only-of-type {\n",
       "        vertical-align: middle;\n",
       "    }\n",
       "\n",
       "    .dataframe tbody tr th {\n",
       "        vertical-align: top;\n",
       "    }\n",
       "\n",
       "    .dataframe thead th {\n",
       "        text-align: right;\n",
       "    }\n",
       "</style>\n",
       "<table border=\"1\" class=\"dataframe\">\n",
       "  <thead>\n",
       "    <tr style=\"text-align: right;\">\n",
       "      <th></th>\n",
       "      <th>id</th>\n",
       "      <th>first_name</th>\n",
       "      <th>gender</th>\n",
       "      <th>age</th>\n",
       "      <th>married</th>\n",
       "      <th>recently_bought</th>\n",
       "    </tr>\n",
       "  </thead>\n",
       "  <tbody>\n",
       "    <tr>\n",
       "      <th>912</th>\n",
       "      <td>913</td>\n",
       "      <td>Nicolais</td>\n",
       "      <td>Male</td>\n",
       "      <td>32</td>\n",
       "      <td>False</td>\n",
       "      <td>True</td>\n",
       "    </tr>\n",
       "    <tr>\n",
       "      <th>128</th>\n",
       "      <td>129</td>\n",
       "      <td>Tiffie</td>\n",
       "      <td>Female</td>\n",
       "      <td>70</td>\n",
       "      <td>False</td>\n",
       "      <td>False</td>\n",
       "    </tr>\n",
       "    <tr>\n",
       "      <th>548</th>\n",
       "      <td>549</td>\n",
       "      <td>Sawyer</td>\n",
       "      <td>Male</td>\n",
       "      <td>18</td>\n",
       "      <td>False</td>\n",
       "      <td>True</td>\n",
       "    </tr>\n",
       "    <tr>\n",
       "      <th>203</th>\n",
       "      <td>204</td>\n",
       "      <td>Ron</td>\n",
       "      <td>Male</td>\n",
       "      <td>77</td>\n",
       "      <td>False</td>\n",
       "      <td>True</td>\n",
       "    </tr>\n",
       "    <tr>\n",
       "      <th>814</th>\n",
       "      <td>815</td>\n",
       "      <td>Ree</td>\n",
       "      <td>Male</td>\n",
       "      <td>69</td>\n",
       "      <td>False</td>\n",
       "      <td>True</td>\n",
       "    </tr>\n",
       "  </tbody>\n",
       "</table>\n",
       "</div>"
      ],
      "text/plain": [
       "      id first_name  gender  age  married  recently_bought\n",
       "912  913   Nicolais    Male   32    False             True\n",
       "128  129     Tiffie  Female   70    False            False\n",
       "548  549     Sawyer    Male   18    False             True\n",
       "203  204        Ron    Male   77    False             True\n",
       "814  815        Ree    Male   69    False             True"
      ]
     },
     "execution_count": 3,
     "metadata": {},
     "output_type": "execute_result"
    }
   ],
   "source": [
    "data.sample(5)"
   ]
  },
  {
   "cell_type": "markdown",
   "id": "b3907f3b",
   "metadata": {},
   "source": [
    "# Problemas"
   ]
  },
  {
   "cell_type": "markdown",
   "id": "e6170a2e",
   "metadata": {},
   "source": [
    "1. Selecionar clientes entre 18 e 65 anos."
   ]
  },
  {
   "cell_type": "code",
   "execution_count": 4,
   "id": "5443584e",
   "metadata": {},
   "outputs": [
    {
     "data": {
      "text/html": [
       "<div>\n",
       "<style scoped>\n",
       "    .dataframe tbody tr th:only-of-type {\n",
       "        vertical-align: middle;\n",
       "    }\n",
       "\n",
       "    .dataframe tbody tr th {\n",
       "        vertical-align: top;\n",
       "    }\n",
       "\n",
       "    .dataframe thead th {\n",
       "        text-align: right;\n",
       "    }\n",
       "</style>\n",
       "<table border=\"1\" class=\"dataframe\">\n",
       "  <thead>\n",
       "    <tr style=\"text-align: right;\">\n",
       "      <th></th>\n",
       "      <th>id</th>\n",
       "      <th>first_name</th>\n",
       "      <th>gender</th>\n",
       "      <th>age</th>\n",
       "      <th>married</th>\n",
       "      <th>recently_bought</th>\n",
       "    </tr>\n",
       "  </thead>\n",
       "  <tbody>\n",
       "    <tr>\n",
       "      <th>0</th>\n",
       "      <td>1</td>\n",
       "      <td>Kynthia</td>\n",
       "      <td>Female</td>\n",
       "      <td>59</td>\n",
       "      <td>False</td>\n",
       "      <td>True</td>\n",
       "    </tr>\n",
       "    <tr>\n",
       "      <th>2</th>\n",
       "      <td>3</td>\n",
       "      <td>Therese</td>\n",
       "      <td>Male</td>\n",
       "      <td>60</td>\n",
       "      <td>False</td>\n",
       "      <td>False</td>\n",
       "    </tr>\n",
       "    <tr>\n",
       "      <th>3</th>\n",
       "      <td>4</td>\n",
       "      <td>Ag</td>\n",
       "      <td>Male</td>\n",
       "      <td>21</td>\n",
       "      <td>False</td>\n",
       "      <td>False</td>\n",
       "    </tr>\n",
       "    <tr>\n",
       "      <th>4</th>\n",
       "      <td>5</td>\n",
       "      <td>Chrissy</td>\n",
       "      <td>Male</td>\n",
       "      <td>26</td>\n",
       "      <td>True</td>\n",
       "      <td>False</td>\n",
       "    </tr>\n",
       "    <tr>\n",
       "      <th>5</th>\n",
       "      <td>6</td>\n",
       "      <td>Karel</td>\n",
       "      <td>Female</td>\n",
       "      <td>59</td>\n",
       "      <td>False</td>\n",
       "      <td>False</td>\n",
       "    </tr>\n",
       "    <tr>\n",
       "      <th>...</th>\n",
       "      <td>...</td>\n",
       "      <td>...</td>\n",
       "      <td>...</td>\n",
       "      <td>...</td>\n",
       "      <td>...</td>\n",
       "      <td>...</td>\n",
       "    </tr>\n",
       "    <tr>\n",
       "      <th>991</th>\n",
       "      <td>992</td>\n",
       "      <td>Gabrila</td>\n",
       "      <td>Male</td>\n",
       "      <td>45</td>\n",
       "      <td>False</td>\n",
       "      <td>False</td>\n",
       "    </tr>\n",
       "    <tr>\n",
       "      <th>993</th>\n",
       "      <td>994</td>\n",
       "      <td>Theodosia</td>\n",
       "      <td>Female</td>\n",
       "      <td>18</td>\n",
       "      <td>True</td>\n",
       "      <td>False</td>\n",
       "    </tr>\n",
       "    <tr>\n",
       "      <th>997</th>\n",
       "      <td>998</td>\n",
       "      <td>Jerad</td>\n",
       "      <td>Male</td>\n",
       "      <td>61</td>\n",
       "      <td>False</td>\n",
       "      <td>True</td>\n",
       "    </tr>\n",
       "    <tr>\n",
       "      <th>998</th>\n",
       "      <td>999</td>\n",
       "      <td>Pierce</td>\n",
       "      <td>Female</td>\n",
       "      <td>22</td>\n",
       "      <td>False</td>\n",
       "      <td>False</td>\n",
       "    </tr>\n",
       "    <tr>\n",
       "      <th>999</th>\n",
       "      <td>1000</td>\n",
       "      <td>Austin</td>\n",
       "      <td>Male</td>\n",
       "      <td>54</td>\n",
       "      <td>True</td>\n",
       "      <td>True</td>\n",
       "    </tr>\n",
       "  </tbody>\n",
       "</table>\n",
       "<p>738 rows × 6 columns</p>\n",
       "</div>"
      ],
      "text/plain": [
       "       id first_name  gender  age  married  recently_bought\n",
       "0       1    Kynthia  Female   59    False             True\n",
       "2       3    Therese    Male   60    False            False\n",
       "3       4         Ag    Male   21    False            False\n",
       "4       5    Chrissy    Male   26     True            False\n",
       "5       6      Karel  Female   59    False            False\n",
       "..    ...        ...     ...  ...      ...              ...\n",
       "991   992    Gabrila    Male   45    False            False\n",
       "993   994  Theodosia  Female   18     True            False\n",
       "997   998      Jerad    Male   61    False             True\n",
       "998   999     Pierce  Female   22    False            False\n",
       "999  1000     Austin    Male   54     True             True\n",
       "\n",
       "[738 rows x 6 columns]"
      ]
     },
     "execution_count": 4,
     "metadata": {},
     "output_type": "execute_result"
    }
   ],
   "source": [
    "data[(data['age']>=18) & (data['age']<=65)]"
   ]
  },
  {
   "cell_type": "markdown",
   "id": "47409992",
   "metadata": {},
   "source": [
    "2. Selecionar os clientes que são mulheres."
   ]
  },
  {
   "cell_type": "code",
   "execution_count": 5,
   "id": "d2af2e25",
   "metadata": {},
   "outputs": [
    {
     "data": {
      "text/html": [
       "<div>\n",
       "<style scoped>\n",
       "    .dataframe tbody tr th:only-of-type {\n",
       "        vertical-align: middle;\n",
       "    }\n",
       "\n",
       "    .dataframe tbody tr th {\n",
       "        vertical-align: top;\n",
       "    }\n",
       "\n",
       "    .dataframe thead th {\n",
       "        text-align: right;\n",
       "    }\n",
       "</style>\n",
       "<table border=\"1\" class=\"dataframe\">\n",
       "  <thead>\n",
       "    <tr style=\"text-align: right;\">\n",
       "      <th></th>\n",
       "      <th>id</th>\n",
       "      <th>first_name</th>\n",
       "      <th>gender</th>\n",
       "      <th>age</th>\n",
       "      <th>married</th>\n",
       "      <th>recently_bought</th>\n",
       "    </tr>\n",
       "  </thead>\n",
       "  <tbody>\n",
       "    <tr>\n",
       "      <th>0</th>\n",
       "      <td>1</td>\n",
       "      <td>Kynthia</td>\n",
       "      <td>Female</td>\n",
       "      <td>59</td>\n",
       "      <td>False</td>\n",
       "      <td>True</td>\n",
       "    </tr>\n",
       "    <tr>\n",
       "      <th>1</th>\n",
       "      <td>2</td>\n",
       "      <td>Calley</td>\n",
       "      <td>Female</td>\n",
       "      <td>17</td>\n",
       "      <td>False</td>\n",
       "      <td>False</td>\n",
       "    </tr>\n",
       "    <tr>\n",
       "      <th>5</th>\n",
       "      <td>6</td>\n",
       "      <td>Karel</td>\n",
       "      <td>Female</td>\n",
       "      <td>59</td>\n",
       "      <td>False</td>\n",
       "      <td>False</td>\n",
       "    </tr>\n",
       "    <tr>\n",
       "      <th>7</th>\n",
       "      <td>8</td>\n",
       "      <td>Charley</td>\n",
       "      <td>Female</td>\n",
       "      <td>60</td>\n",
       "      <td>False</td>\n",
       "      <td>True</td>\n",
       "    </tr>\n",
       "    <tr>\n",
       "      <th>8</th>\n",
       "      <td>9</td>\n",
       "      <td>Gisella</td>\n",
       "      <td>Female</td>\n",
       "      <td>59</td>\n",
       "      <td>False</td>\n",
       "      <td>False</td>\n",
       "    </tr>\n",
       "    <tr>\n",
       "      <th>...</th>\n",
       "      <td>...</td>\n",
       "      <td>...</td>\n",
       "      <td>...</td>\n",
       "      <td>...</td>\n",
       "      <td>...</td>\n",
       "      <td>...</td>\n",
       "    </tr>\n",
       "    <tr>\n",
       "      <th>990</th>\n",
       "      <td>991</td>\n",
       "      <td>Asia</td>\n",
       "      <td>Female</td>\n",
       "      <td>73</td>\n",
       "      <td>False</td>\n",
       "      <td>True</td>\n",
       "    </tr>\n",
       "    <tr>\n",
       "      <th>993</th>\n",
       "      <td>994</td>\n",
       "      <td>Theodosia</td>\n",
       "      <td>Female</td>\n",
       "      <td>18</td>\n",
       "      <td>True</td>\n",
       "      <td>False</td>\n",
       "    </tr>\n",
       "    <tr>\n",
       "      <th>994</th>\n",
       "      <td>995</td>\n",
       "      <td>Dita</td>\n",
       "      <td>Female</td>\n",
       "      <td>79</td>\n",
       "      <td>False</td>\n",
       "      <td>False</td>\n",
       "    </tr>\n",
       "    <tr>\n",
       "      <th>995</th>\n",
       "      <td>996</td>\n",
       "      <td>Kermy</td>\n",
       "      <td>Female</td>\n",
       "      <td>78</td>\n",
       "      <td>False</td>\n",
       "      <td>False</td>\n",
       "    </tr>\n",
       "    <tr>\n",
       "      <th>998</th>\n",
       "      <td>999</td>\n",
       "      <td>Pierce</td>\n",
       "      <td>Female</td>\n",
       "      <td>22</td>\n",
       "      <td>False</td>\n",
       "      <td>False</td>\n",
       "    </tr>\n",
       "  </tbody>\n",
       "</table>\n",
       "<p>496 rows × 6 columns</p>\n",
       "</div>"
      ],
      "text/plain": [
       "      id first_name  gender  age  married  recently_bought\n",
       "0      1    Kynthia  Female   59    False             True\n",
       "1      2     Calley  Female   17    False            False\n",
       "5      6      Karel  Female   59    False            False\n",
       "7      8    Charley  Female   60    False             True\n",
       "8      9    Gisella  Female   59    False            False\n",
       "..   ...        ...     ...  ...      ...              ...\n",
       "990  991       Asia  Female   73    False             True\n",
       "993  994  Theodosia  Female   18     True            False\n",
       "994  995       Dita  Female   79    False            False\n",
       "995  996      Kermy  Female   78    False            False\n",
       "998  999     Pierce  Female   22    False            False\n",
       "\n",
       "[496 rows x 6 columns]"
      ]
     },
     "execution_count": 5,
     "metadata": {},
     "output_type": "execute_result"
    }
   ],
   "source": [
    "data[data['gender']==\"Female\"]"
   ]
  },
  {
   "cell_type": "markdown",
   "id": "75b3600d",
   "metadata": {},
   "source": [
    "3. Selecionar os clientes que são homens e que são casados, ou os homens que não são casados, mas que compraram na loja recentemente."
   ]
  },
  {
   "cell_type": "code",
   "execution_count": 6,
   "id": "ea000e61",
   "metadata": {},
   "outputs": [
    {
     "data": {
      "text/html": [
       "<div>\n",
       "<style scoped>\n",
       "    .dataframe tbody tr th:only-of-type {\n",
       "        vertical-align: middle;\n",
       "    }\n",
       "\n",
       "    .dataframe tbody tr th {\n",
       "        vertical-align: top;\n",
       "    }\n",
       "\n",
       "    .dataframe thead th {\n",
       "        text-align: right;\n",
       "    }\n",
       "</style>\n",
       "<table border=\"1\" class=\"dataframe\">\n",
       "  <thead>\n",
       "    <tr style=\"text-align: right;\">\n",
       "      <th></th>\n",
       "      <th>id</th>\n",
       "      <th>first_name</th>\n",
       "      <th>gender</th>\n",
       "      <th>age</th>\n",
       "      <th>married</th>\n",
       "      <th>recently_bought</th>\n",
       "    </tr>\n",
       "  </thead>\n",
       "  <tbody>\n",
       "    <tr>\n",
       "      <th>4</th>\n",
       "      <td>5</td>\n",
       "      <td>Chrissy</td>\n",
       "      <td>Male</td>\n",
       "      <td>26</td>\n",
       "      <td>True</td>\n",
       "      <td>False</td>\n",
       "    </tr>\n",
       "    <tr>\n",
       "      <th>6</th>\n",
       "      <td>7</td>\n",
       "      <td>Gustavus</td>\n",
       "      <td>Male</td>\n",
       "      <td>30</td>\n",
       "      <td>True</td>\n",
       "      <td>True</td>\n",
       "    </tr>\n",
       "    <tr>\n",
       "      <th>17</th>\n",
       "      <td>18</td>\n",
       "      <td>Simeon</td>\n",
       "      <td>Male</td>\n",
       "      <td>73</td>\n",
       "      <td>True</td>\n",
       "      <td>True</td>\n",
       "    </tr>\n",
       "    <tr>\n",
       "      <th>19</th>\n",
       "      <td>20</td>\n",
       "      <td>Maynord</td>\n",
       "      <td>Male</td>\n",
       "      <td>29</td>\n",
       "      <td>True</td>\n",
       "      <td>True</td>\n",
       "    </tr>\n",
       "    <tr>\n",
       "      <th>21</th>\n",
       "      <td>22</td>\n",
       "      <td>Imogene</td>\n",
       "      <td>Male</td>\n",
       "      <td>64</td>\n",
       "      <td>True</td>\n",
       "      <td>False</td>\n",
       "    </tr>\n",
       "    <tr>\n",
       "      <th>...</th>\n",
       "      <td>...</td>\n",
       "      <td>...</td>\n",
       "      <td>...</td>\n",
       "      <td>...</td>\n",
       "      <td>...</td>\n",
       "      <td>...</td>\n",
       "    </tr>\n",
       "    <tr>\n",
       "      <th>973</th>\n",
       "      <td>974</td>\n",
       "      <td>Maressa</td>\n",
       "      <td>Male</td>\n",
       "      <td>59</td>\n",
       "      <td>True</td>\n",
       "      <td>True</td>\n",
       "    </tr>\n",
       "    <tr>\n",
       "      <th>974</th>\n",
       "      <td>975</td>\n",
       "      <td>Fanny</td>\n",
       "      <td>Male</td>\n",
       "      <td>45</td>\n",
       "      <td>True</td>\n",
       "      <td>True</td>\n",
       "    </tr>\n",
       "    <tr>\n",
       "      <th>976</th>\n",
       "      <td>977</td>\n",
       "      <td>Felizio</td>\n",
       "      <td>Male</td>\n",
       "      <td>38</td>\n",
       "      <td>True</td>\n",
       "      <td>True</td>\n",
       "    </tr>\n",
       "    <tr>\n",
       "      <th>981</th>\n",
       "      <td>982</td>\n",
       "      <td>Horten</td>\n",
       "      <td>Male</td>\n",
       "      <td>41</td>\n",
       "      <td>True</td>\n",
       "      <td>True</td>\n",
       "    </tr>\n",
       "    <tr>\n",
       "      <th>999</th>\n",
       "      <td>1000</td>\n",
       "      <td>Austin</td>\n",
       "      <td>Male</td>\n",
       "      <td>54</td>\n",
       "      <td>True</td>\n",
       "      <td>True</td>\n",
       "    </tr>\n",
       "  </tbody>\n",
       "</table>\n",
       "<p>260 rows × 6 columns</p>\n",
       "</div>"
      ],
      "text/plain": [
       "       id first_name gender  age  married  recently_bought\n",
       "4       5    Chrissy   Male   26     True            False\n",
       "6       7   Gustavus   Male   30     True             True\n",
       "17     18     Simeon   Male   73     True             True\n",
       "19     20    Maynord   Male   29     True             True\n",
       "21     22    Imogene   Male   64     True            False\n",
       "..    ...        ...    ...  ...      ...              ...\n",
       "973   974    Maressa   Male   59     True             True\n",
       "974   975      Fanny   Male   45     True             True\n",
       "976   977    Felizio   Male   38     True             True\n",
       "981   982     Horten   Male   41     True             True\n",
       "999  1000     Austin   Male   54     True             True\n",
       "\n",
       "[260 rows x 6 columns]"
      ]
     },
     "execution_count": 6,
     "metadata": {},
     "output_type": "execute_result"
    }
   ],
   "source": [
    "data[(data['gender']==\"Male\") & (data['married']==True)]"
   ]
  },
  {
   "cell_type": "code",
   "execution_count": 7,
   "id": "c1c28a05",
   "metadata": {},
   "outputs": [
    {
     "data": {
      "text/html": [
       "<div>\n",
       "<style scoped>\n",
       "    .dataframe tbody tr th:only-of-type {\n",
       "        vertical-align: middle;\n",
       "    }\n",
       "\n",
       "    .dataframe tbody tr th {\n",
       "        vertical-align: top;\n",
       "    }\n",
       "\n",
       "    .dataframe thead th {\n",
       "        text-align: right;\n",
       "    }\n",
       "</style>\n",
       "<table border=\"1\" class=\"dataframe\">\n",
       "  <thead>\n",
       "    <tr style=\"text-align: right;\">\n",
       "      <th></th>\n",
       "      <th>id</th>\n",
       "      <th>first_name</th>\n",
       "      <th>gender</th>\n",
       "      <th>age</th>\n",
       "      <th>married</th>\n",
       "      <th>recently_bought</th>\n",
       "    </tr>\n",
       "  </thead>\n",
       "  <tbody>\n",
       "    <tr>\n",
       "      <th>11</th>\n",
       "      <td>12</td>\n",
       "      <td>Constantine</td>\n",
       "      <td>Male</td>\n",
       "      <td>34</td>\n",
       "      <td>False</td>\n",
       "      <td>True</td>\n",
       "    </tr>\n",
       "    <tr>\n",
       "      <th>25</th>\n",
       "      <td>26</td>\n",
       "      <td>Farlee</td>\n",
       "      <td>Male</td>\n",
       "      <td>66</td>\n",
       "      <td>False</td>\n",
       "      <td>True</td>\n",
       "    </tr>\n",
       "    <tr>\n",
       "      <th>26</th>\n",
       "      <td>27</td>\n",
       "      <td>Blakelee</td>\n",
       "      <td>Male</td>\n",
       "      <td>68</td>\n",
       "      <td>False</td>\n",
       "      <td>True</td>\n",
       "    </tr>\n",
       "    <tr>\n",
       "      <th>28</th>\n",
       "      <td>29</td>\n",
       "      <td>Maudie</td>\n",
       "      <td>Male</td>\n",
       "      <td>65</td>\n",
       "      <td>False</td>\n",
       "      <td>True</td>\n",
       "    </tr>\n",
       "    <tr>\n",
       "      <th>29</th>\n",
       "      <td>30</td>\n",
       "      <td>Giordano</td>\n",
       "      <td>Male</td>\n",
       "      <td>78</td>\n",
       "      <td>False</td>\n",
       "      <td>True</td>\n",
       "    </tr>\n",
       "    <tr>\n",
       "      <th>...</th>\n",
       "      <td>...</td>\n",
       "      <td>...</td>\n",
       "      <td>...</td>\n",
       "      <td>...</td>\n",
       "      <td>...</td>\n",
       "      <td>...</td>\n",
       "    </tr>\n",
       "    <tr>\n",
       "      <th>975</th>\n",
       "      <td>976</td>\n",
       "      <td>Web</td>\n",
       "      <td>Male</td>\n",
       "      <td>72</td>\n",
       "      <td>False</td>\n",
       "      <td>True</td>\n",
       "    </tr>\n",
       "    <tr>\n",
       "      <th>983</th>\n",
       "      <td>984</td>\n",
       "      <td>Dulcea</td>\n",
       "      <td>Male</td>\n",
       "      <td>53</td>\n",
       "      <td>False</td>\n",
       "      <td>True</td>\n",
       "    </tr>\n",
       "    <tr>\n",
       "      <th>986</th>\n",
       "      <td>987</td>\n",
       "      <td>Reagen</td>\n",
       "      <td>Male</td>\n",
       "      <td>30</td>\n",
       "      <td>False</td>\n",
       "      <td>True</td>\n",
       "    </tr>\n",
       "    <tr>\n",
       "      <th>992</th>\n",
       "      <td>993</td>\n",
       "      <td>Wynnie</td>\n",
       "      <td>Male</td>\n",
       "      <td>15</td>\n",
       "      <td>False</td>\n",
       "      <td>True</td>\n",
       "    </tr>\n",
       "    <tr>\n",
       "      <th>997</th>\n",
       "      <td>998</td>\n",
       "      <td>Jerad</td>\n",
       "      <td>Male</td>\n",
       "      <td>61</td>\n",
       "      <td>False</td>\n",
       "      <td>True</td>\n",
       "    </tr>\n",
       "  </tbody>\n",
       "</table>\n",
       "<p>131 rows × 6 columns</p>\n",
       "</div>"
      ],
      "text/plain": [
       "      id   first_name gender  age  married  recently_bought\n",
       "11    12  Constantine   Male   34    False             True\n",
       "25    26       Farlee   Male   66    False             True\n",
       "26    27     Blakelee   Male   68    False             True\n",
       "28    29       Maudie   Male   65    False             True\n",
       "29    30     Giordano   Male   78    False             True\n",
       "..   ...          ...    ...  ...      ...              ...\n",
       "975  976          Web   Male   72    False             True\n",
       "983  984       Dulcea   Male   53    False             True\n",
       "986  987       Reagen   Male   30    False             True\n",
       "992  993       Wynnie   Male   15    False             True\n",
       "997  998        Jerad   Male   61    False             True\n",
       "\n",
       "[131 rows x 6 columns]"
      ]
     },
     "execution_count": 7,
     "metadata": {},
     "output_type": "execute_result"
    }
   ],
   "source": [
    "data[(data['gender']==\"Male\") & (data['married']==False) & (data['recently_bought']==True)]"
   ]
  },
  {
   "cell_type": "code",
   "execution_count": 8,
   "id": "79607ee7",
   "metadata": {},
   "outputs": [
    {
     "data": {
      "text/html": [
       "<div>\n",
       "<style scoped>\n",
       "    .dataframe tbody tr th:only-of-type {\n",
       "        vertical-align: middle;\n",
       "    }\n",
       "\n",
       "    .dataframe tbody tr th {\n",
       "        vertical-align: top;\n",
       "    }\n",
       "\n",
       "    .dataframe thead th {\n",
       "        text-align: right;\n",
       "    }\n",
       "</style>\n",
       "<table border=\"1\" class=\"dataframe\">\n",
       "  <thead>\n",
       "    <tr style=\"text-align: right;\">\n",
       "      <th></th>\n",
       "      <th>id</th>\n",
       "      <th>first_name</th>\n",
       "      <th>gender</th>\n",
       "      <th>age</th>\n",
       "      <th>married</th>\n",
       "      <th>recently_bought</th>\n",
       "    </tr>\n",
       "  </thead>\n",
       "  <tbody>\n",
       "    <tr>\n",
       "      <th>4</th>\n",
       "      <td>5</td>\n",
       "      <td>Chrissy</td>\n",
       "      <td>Male</td>\n",
       "      <td>26</td>\n",
       "      <td>True</td>\n",
       "      <td>False</td>\n",
       "    </tr>\n",
       "    <tr>\n",
       "      <th>6</th>\n",
       "      <td>7</td>\n",
       "      <td>Gustavus</td>\n",
       "      <td>Male</td>\n",
       "      <td>30</td>\n",
       "      <td>True</td>\n",
       "      <td>True</td>\n",
       "    </tr>\n",
       "    <tr>\n",
       "      <th>11</th>\n",
       "      <td>12</td>\n",
       "      <td>Constantine</td>\n",
       "      <td>Male</td>\n",
       "      <td>34</td>\n",
       "      <td>False</td>\n",
       "      <td>True</td>\n",
       "    </tr>\n",
       "    <tr>\n",
       "      <th>17</th>\n",
       "      <td>18</td>\n",
       "      <td>Simeon</td>\n",
       "      <td>Male</td>\n",
       "      <td>73</td>\n",
       "      <td>True</td>\n",
       "      <td>True</td>\n",
       "    </tr>\n",
       "    <tr>\n",
       "      <th>19</th>\n",
       "      <td>20</td>\n",
       "      <td>Maynord</td>\n",
       "      <td>Male</td>\n",
       "      <td>29</td>\n",
       "      <td>True</td>\n",
       "      <td>True</td>\n",
       "    </tr>\n",
       "    <tr>\n",
       "      <th>...</th>\n",
       "      <td>...</td>\n",
       "      <td>...</td>\n",
       "      <td>...</td>\n",
       "      <td>...</td>\n",
       "      <td>...</td>\n",
       "      <td>...</td>\n",
       "    </tr>\n",
       "    <tr>\n",
       "      <th>983</th>\n",
       "      <td>984</td>\n",
       "      <td>Dulcea</td>\n",
       "      <td>Male</td>\n",
       "      <td>53</td>\n",
       "      <td>False</td>\n",
       "      <td>True</td>\n",
       "    </tr>\n",
       "    <tr>\n",
       "      <th>986</th>\n",
       "      <td>987</td>\n",
       "      <td>Reagen</td>\n",
       "      <td>Male</td>\n",
       "      <td>30</td>\n",
       "      <td>False</td>\n",
       "      <td>True</td>\n",
       "    </tr>\n",
       "    <tr>\n",
       "      <th>992</th>\n",
       "      <td>993</td>\n",
       "      <td>Wynnie</td>\n",
       "      <td>Male</td>\n",
       "      <td>15</td>\n",
       "      <td>False</td>\n",
       "      <td>True</td>\n",
       "    </tr>\n",
       "    <tr>\n",
       "      <th>997</th>\n",
       "      <td>998</td>\n",
       "      <td>Jerad</td>\n",
       "      <td>Male</td>\n",
       "      <td>61</td>\n",
       "      <td>False</td>\n",
       "      <td>True</td>\n",
       "    </tr>\n",
       "    <tr>\n",
       "      <th>999</th>\n",
       "      <td>1000</td>\n",
       "      <td>Austin</td>\n",
       "      <td>Male</td>\n",
       "      <td>54</td>\n",
       "      <td>True</td>\n",
       "      <td>True</td>\n",
       "    </tr>\n",
       "  </tbody>\n",
       "</table>\n",
       "<p>391 rows × 6 columns</p>\n",
       "</div>"
      ],
      "text/plain": [
       "       id   first_name gender  age  married  recently_bought\n",
       "4       5      Chrissy   Male   26     True            False\n",
       "6       7     Gustavus   Male   30     True             True\n",
       "11     12  Constantine   Male   34    False             True\n",
       "17     18       Simeon   Male   73     True             True\n",
       "19     20      Maynord   Male   29     True             True\n",
       "..    ...          ...    ...  ...      ...              ...\n",
       "983   984       Dulcea   Male   53    False             True\n",
       "986   987       Reagen   Male   30    False             True\n",
       "992   993       Wynnie   Male   15    False             True\n",
       "997   998        Jerad   Male   61    False             True\n",
       "999  1000       Austin   Male   54     True             True\n",
       "\n",
       "[391 rows x 6 columns]"
      ]
     },
     "execution_count": 8,
     "metadata": {},
     "output_type": "execute_result"
    }
   ],
   "source": [
    "data[((data['gender']==\"Male\") & (data['married']==True)) | ((data['gender']==\"Male\") & (data['married']==False) & (data['recently_bought']==True))]"
   ]
  },
  {
   "cell_type": "markdown",
   "id": "cec414c4",
   "metadata": {},
   "source": [
    "# Condicionais"
   ]
  },
  {
   "cell_type": "code",
   "execution_count": 9,
   "id": "e86bd490",
   "metadata": {},
   "outputs": [
    {
     "name": "stdout",
     "output_type": "stream",
     "text": [
      "Maior que 18\n"
     ]
    }
   ],
   "source": [
    "for index, row in data.iterrows():\n",
    "    if(row['age'] >= 18):\n",
    "        print(\"Maior que 18\")\n",
    "        \n",
    "    else:\n",
    "        print(\"Menor que 18\")\n",
    "        \n",
    "    break"
   ]
  },
  {
   "cell_type": "code",
   "execution_count": 10,
   "id": "bbc58da5",
   "metadata": {},
   "outputs": [
    {
     "name": "stdout",
     "output_type": "stream",
     "text": [
      "0\n"
     ]
    }
   ],
   "source": [
    "for index, row in data.iterrows():\n",
    "    print(index)\n",
    "    break"
   ]
  },
  {
   "cell_type": "code",
   "execution_count": 11,
   "id": "a2da86e0",
   "metadata": {},
   "outputs": [
    {
     "name": "stdout",
     "output_type": "stream",
     "text": [
      "id                       1\n",
      "first_name         Kynthia\n",
      "gender              Female\n",
      "age                     59\n",
      "married              False\n",
      "recently_bought       True\n",
      "Name: 0, dtype: object\n"
     ]
    }
   ],
   "source": [
    "for index, row in data.iterrows():\n",
    "    print(row)\n",
    "    break"
   ]
  },
  {
   "cell_type": "markdown",
   "id": "3b7e2bdc",
   "metadata": {},
   "source": [
    "## Resolvendo os três problemas anteriores com condicionais"
   ]
  },
  {
   "cell_type": "code",
   "execution_count": 12,
   "id": "40734bf2",
   "metadata": {},
   "outputs": [],
   "source": [
    "mulheres = []\n",
    "homens = []\n",
    "\n",
    "for index, row in data.iterrows():\n",
    "    if (row['age'] >= 18):\n",
    "        if (row['age'] <= 65):\n",
    "            if (row['gender'] == 'Female'):\n",
    "                mulheres.append(row)\n",
    "            else:\n",
    "                if (row['married'] == True):\n",
    "                    homens.append(row)\n",
    "                elif (row['recently_bought'] == True):\n",
    "                    homens.append(row)"
   ]
  },
  {
   "cell_type": "code",
   "execution_count": 13,
   "id": "5f25db72",
   "metadata": {},
   "outputs": [
    {
     "data": {
      "text/plain": [
       "[id                       1\n",
       " first_name         Kynthia\n",
       " gender              Female\n",
       " age                     59\n",
       " married              False\n",
       " recently_bought       True\n",
       " Name: 0, dtype: object,\n",
       " id                      6\n",
       " first_name          Karel\n",
       " gender             Female\n",
       " age                    59\n",
       " married             False\n",
       " recently_bought     False\n",
       " Name: 5, dtype: object,\n",
       " id                       8\n",
       " first_name         Charley\n",
       " gender              Female\n",
       " age                     60\n",
       " married              False\n",
       " recently_bought       True\n",
       " Name: 7, dtype: object,\n",
       " id                       9\n",
       " first_name         Gisella\n",
       " gender              Female\n",
       " age                     59\n",
       " married              False\n",
       " recently_bought      False\n",
       " Name: 8, dtype: object,\n",
       " id                     10\n",
       " first_name          Renee\n",
       " gender             Female\n",
       " age                    32\n",
       " married              True\n",
       " recently_bought      True\n",
       " Name: 9, dtype: object]"
      ]
     },
     "execution_count": 13,
     "metadata": {},
     "output_type": "execute_result"
    }
   ],
   "source": [
    "mulheres[0:5]"
   ]
  },
  {
   "cell_type": "code",
   "execution_count": 14,
   "id": "44084789",
   "metadata": {},
   "outputs": [
    {
     "data": {
      "text/plain": [
       "[id                       5\n",
       " first_name         Chrissy\n",
       " gender                Male\n",
       " age                     26\n",
       " married               True\n",
       " recently_bought      False\n",
       " Name: 4, dtype: object,\n",
       " id                        7\n",
       " first_name         Gustavus\n",
       " gender                 Male\n",
       " age                      30\n",
       " married                True\n",
       " recently_bought        True\n",
       " Name: 6, dtype: object,\n",
       " id                          12\n",
       " first_name         Constantine\n",
       " gender                    Male\n",
       " age                         34\n",
       " married                  False\n",
       " recently_bought           True\n",
       " Name: 11, dtype: object,\n",
       " id                      20\n",
       " first_name         Maynord\n",
       " gender                Male\n",
       " age                     29\n",
       " married               True\n",
       " recently_bought       True\n",
       " Name: 19, dtype: object,\n",
       " id                      22\n",
       " first_name         Imogene\n",
       " gender                Male\n",
       " age                     64\n",
       " married               True\n",
       " recently_bought      False\n",
       " Name: 21, dtype: object]"
      ]
     },
     "execution_count": 14,
     "metadata": {},
     "output_type": "execute_result"
    }
   ],
   "source": [
    "homens[0:5]"
   ]
  },
  {
   "cell_type": "markdown",
   "id": "0794256b",
   "metadata": {},
   "source": [
    "# Problema"
   ]
  },
  {
   "cell_type": "markdown",
   "id": "b169756f",
   "metadata": {},
   "source": [
    "Em uma empresa trabalham 03 pessoas: Alice, Clara e Bianca. As três têm gostos de gênero de filmes distintos. Uma delas gosta de terror, outra gosta de ação e a outra gosta de romance. As três realizam trabalhos distintos. Uma delas Recupera os Dados, a outra faz EDA e a outra monta modelos de ML. \n",
    "\n",
    "- A pessoa que gosta de filmes de terror disse: não monto modelos de ML nem Recupero Dados.\n",
    "\n",
    "- A pessoa que gosta de filmes de ação disse: meu nome não é Clara nem Bianca.\n",
    "\n",
    "- A pessoa que gosta de filmes de romance disse: nem eu e nem Clara montamos modelos de ML.\n",
    "\n",
    "Qual o trabalho de cada pessoa?"
   ]
  },
  {
   "cell_type": "code",
   "execution_count": 15,
   "id": "9727e534",
   "metadata": {},
   "outputs": [
    {
     "data": {
      "text/html": [
       "<div>\n",
       "<style scoped>\n",
       "    .dataframe tbody tr th:only-of-type {\n",
       "        vertical-align: middle;\n",
       "    }\n",
       "\n",
       "    .dataframe tbody tr th {\n",
       "        vertical-align: top;\n",
       "    }\n",
       "\n",
       "    .dataframe thead th {\n",
       "        text-align: right;\n",
       "    }\n",
       "</style>\n",
       "<table border=\"1\" class=\"dataframe\">\n",
       "  <thead>\n",
       "    <tr style=\"text-align: right;\">\n",
       "      <th></th>\n",
       "      <th>Nome</th>\n",
       "      <th>Genero_Filme</th>\n",
       "      <th>Trabalho</th>\n",
       "    </tr>\n",
       "  </thead>\n",
       "  <tbody>\n",
       "    <tr>\n",
       "      <th>0</th>\n",
       "      <td>Alice</td>\n",
       "      <td>x</td>\n",
       "      <td>x</td>\n",
       "    </tr>\n",
       "    <tr>\n",
       "      <th>1</th>\n",
       "      <td>Clara</td>\n",
       "      <td>x</td>\n",
       "      <td>x</td>\n",
       "    </tr>\n",
       "    <tr>\n",
       "      <th>2</th>\n",
       "      <td>Bianca</td>\n",
       "      <td>x</td>\n",
       "      <td>x</td>\n",
       "    </tr>\n",
       "  </tbody>\n",
       "</table>\n",
       "</div>"
      ],
      "text/plain": [
       "     Nome Genero_Filme Trabalho\n",
       "0   Alice            x        x\n",
       "1   Clara            x        x\n",
       "2  Bianca            x        x"
      ]
     },
     "execution_count": 15,
     "metadata": {},
     "output_type": "execute_result"
    }
   ],
   "source": [
    "dataset = {'Nome': [\"Alice\", \"Clara\", \"Bianca\"], 'Genero_Filme': [\"x\", \"x\", \"x\"], 'Trabalho': [\"x\", \"x\", \"x\"]}\n",
    "df = pd.DataFrame(dataset)\n",
    "df"
   ]
  },
  {
   "cell_type": "code",
   "execution_count": 16,
   "id": "7f0030e5",
   "metadata": {},
   "outputs": [
    {
     "data": {
      "text/html": [
       "<div>\n",
       "<style scoped>\n",
       "    .dataframe tbody tr th:only-of-type {\n",
       "        vertical-align: middle;\n",
       "    }\n",
       "\n",
       "    .dataframe tbody tr th {\n",
       "        vertical-align: top;\n",
       "    }\n",
       "\n",
       "    .dataframe thead th {\n",
       "        text-align: right;\n",
       "    }\n",
       "</style>\n",
       "<table border=\"1\" class=\"dataframe\">\n",
       "  <thead>\n",
       "    <tr style=\"text-align: right;\">\n",
       "      <th></th>\n",
       "      <th>Nome</th>\n",
       "      <th>Genero_Filme</th>\n",
       "      <th>Trabalho</th>\n",
       "    </tr>\n",
       "  </thead>\n",
       "  <tbody>\n",
       "    <tr>\n",
       "      <th>0</th>\n",
       "      <td>Alice</td>\n",
       "      <td>ação</td>\n",
       "      <td>ML</td>\n",
       "    </tr>\n",
       "    <tr>\n",
       "      <th>1</th>\n",
       "      <td>Clara</td>\n",
       "      <td>x</td>\n",
       "      <td>x</td>\n",
       "    </tr>\n",
       "    <tr>\n",
       "      <th>2</th>\n",
       "      <td>Bianca</td>\n",
       "      <td>romance</td>\n",
       "      <td>x</td>\n",
       "    </tr>\n",
       "  </tbody>\n",
       "</table>\n",
       "</div>"
      ],
      "text/plain": [
       "     Nome Genero_Filme Trabalho\n",
       "0   Alice         ação       ML\n",
       "1   Clara            x        x\n",
       "2  Bianca      romance        x"
      ]
     },
     "execution_count": 16,
     "metadata": {},
     "output_type": "execute_result"
    }
   ],
   "source": [
    "df.loc[0, 'Genero_Filme'] = \"ação\"\n",
    "df.loc[0, 'Trabalho'] = \"ML\"\n",
    "df.loc[2, 'Genero_Filme'] = \"romance\"\n",
    "df"
   ]
  },
  {
   "cell_type": "code",
   "execution_count": 17,
   "id": "6dad002d",
   "metadata": {},
   "outputs": [
    {
     "data": {
      "text/html": [
       "<div>\n",
       "<style scoped>\n",
       "    .dataframe tbody tr th:only-of-type {\n",
       "        vertical-align: middle;\n",
       "    }\n",
       "\n",
       "    .dataframe tbody tr th {\n",
       "        vertical-align: top;\n",
       "    }\n",
       "\n",
       "    .dataframe thead th {\n",
       "        text-align: right;\n",
       "    }\n",
       "</style>\n",
       "<table border=\"1\" class=\"dataframe\">\n",
       "  <thead>\n",
       "    <tr style=\"text-align: right;\">\n",
       "      <th></th>\n",
       "      <th>Nome</th>\n",
       "      <th>Genero_Filme</th>\n",
       "      <th>Trabalho</th>\n",
       "    </tr>\n",
       "  </thead>\n",
       "  <tbody>\n",
       "    <tr>\n",
       "      <th>0</th>\n",
       "      <td>Alice</td>\n",
       "      <td>ação</td>\n",
       "      <td>ML</td>\n",
       "    </tr>\n",
       "    <tr>\n",
       "      <th>1</th>\n",
       "      <td>Clara</td>\n",
       "      <td>terror</td>\n",
       "      <td>x</td>\n",
       "    </tr>\n",
       "    <tr>\n",
       "      <th>2</th>\n",
       "      <td>Bianca</td>\n",
       "      <td>romance</td>\n",
       "      <td>x</td>\n",
       "    </tr>\n",
       "  </tbody>\n",
       "</table>\n",
       "</div>"
      ],
      "text/plain": [
       "     Nome Genero_Filme Trabalho\n",
       "0   Alice         ação       ML\n",
       "1   Clara       terror        x\n",
       "2  Bianca      romance        x"
      ]
     },
     "execution_count": 17,
     "metadata": {},
     "output_type": "execute_result"
    }
   ],
   "source": [
    "df.loc[1, 'Genero_Filme'] = \"terror\"\n",
    "df"
   ]
  },
  {
   "cell_type": "code",
   "execution_count": 18,
   "id": "2fc119cb",
   "metadata": {},
   "outputs": [
    {
     "data": {
      "text/html": [
       "<div>\n",
       "<style scoped>\n",
       "    .dataframe tbody tr th:only-of-type {\n",
       "        vertical-align: middle;\n",
       "    }\n",
       "\n",
       "    .dataframe tbody tr th {\n",
       "        vertical-align: top;\n",
       "    }\n",
       "\n",
       "    .dataframe thead th {\n",
       "        text-align: right;\n",
       "    }\n",
       "</style>\n",
       "<table border=\"1\" class=\"dataframe\">\n",
       "  <thead>\n",
       "    <tr style=\"text-align: right;\">\n",
       "      <th></th>\n",
       "      <th>Nome</th>\n",
       "      <th>Genero_Filme</th>\n",
       "      <th>Trabalho</th>\n",
       "    </tr>\n",
       "  </thead>\n",
       "  <tbody>\n",
       "    <tr>\n",
       "      <th>0</th>\n",
       "      <td>Alice</td>\n",
       "      <td>ação</td>\n",
       "      <td>ML</td>\n",
       "    </tr>\n",
       "    <tr>\n",
       "      <th>1</th>\n",
       "      <td>Clara</td>\n",
       "      <td>terror</td>\n",
       "      <td>EDA</td>\n",
       "    </tr>\n",
       "    <tr>\n",
       "      <th>2</th>\n",
       "      <td>Bianca</td>\n",
       "      <td>romance</td>\n",
       "      <td>x</td>\n",
       "    </tr>\n",
       "  </tbody>\n",
       "</table>\n",
       "</div>"
      ],
      "text/plain": [
       "     Nome Genero_Filme Trabalho\n",
       "0   Alice         ação       ML\n",
       "1   Clara       terror      EDA\n",
       "2  Bianca      romance        x"
      ]
     },
     "execution_count": 18,
     "metadata": {},
     "output_type": "execute_result"
    }
   ],
   "source": [
    "df.loc[1, 'Trabalho'] = \"EDA\"\n",
    "df"
   ]
  },
  {
   "cell_type": "code",
   "execution_count": 19,
   "id": "4704a8aa",
   "metadata": {},
   "outputs": [
    {
     "data": {
      "text/html": [
       "<div>\n",
       "<style scoped>\n",
       "    .dataframe tbody tr th:only-of-type {\n",
       "        vertical-align: middle;\n",
       "    }\n",
       "\n",
       "    .dataframe tbody tr th {\n",
       "        vertical-align: top;\n",
       "    }\n",
       "\n",
       "    .dataframe thead th {\n",
       "        text-align: right;\n",
       "    }\n",
       "</style>\n",
       "<table border=\"1\" class=\"dataframe\">\n",
       "  <thead>\n",
       "    <tr style=\"text-align: right;\">\n",
       "      <th></th>\n",
       "      <th>Nome</th>\n",
       "      <th>Genero_Filme</th>\n",
       "      <th>Trabalho</th>\n",
       "    </tr>\n",
       "  </thead>\n",
       "  <tbody>\n",
       "    <tr>\n",
       "      <th>0</th>\n",
       "      <td>Alice</td>\n",
       "      <td>ação</td>\n",
       "      <td>ML</td>\n",
       "    </tr>\n",
       "    <tr>\n",
       "      <th>1</th>\n",
       "      <td>Clara</td>\n",
       "      <td>terror</td>\n",
       "      <td>EDA</td>\n",
       "    </tr>\n",
       "    <tr>\n",
       "      <th>2</th>\n",
       "      <td>Bianca</td>\n",
       "      <td>romance</td>\n",
       "      <td>Rec</td>\n",
       "    </tr>\n",
       "  </tbody>\n",
       "</table>\n",
       "</div>"
      ],
      "text/plain": [
       "     Nome Genero_Filme Trabalho\n",
       "0   Alice         ação       ML\n",
       "1   Clara       terror      EDA\n",
       "2  Bianca      romance      Rec"
      ]
     },
     "execution_count": 19,
     "metadata": {},
     "output_type": "execute_result"
    }
   ],
   "source": [
    "df.loc[2, 'Trabalho'] = \"Rec\"\n",
    "df"
   ]
  },
  {
   "cell_type": "markdown",
   "id": "0307f88d",
   "metadata": {},
   "source": [
    "# Problema"
   ]
  },
  {
   "cell_type": "markdown",
   "id": "176e241b",
   "metadata": {},
   "source": [
    "Escreva uma aplicação que recebe três números e retorna a soma deles. Porém, se houver números repetidos, o valor dos números repetidos não é contabilizado.\n",
    "\n",
    "Por exemplo, na entrada (1, 2, 3) a soma é 6, na entrada (3, 2, 3) a soma é 2 e na entrada (3, 3, 3) a soma é 0."
   ]
  },
  {
   "cell_type": "code",
   "execution_count": 20,
   "id": "7307e0f8",
   "metadata": {},
   "outputs": [
    {
     "name": "stdout",
     "output_type": "stream",
     "text": [
      "Digite o primeiro número: 3\n",
      "\n",
      "Digite o segundo número: 3\n",
      "\n",
      "Digite o terceiro número: 3\n",
      "\n",
      "A soma é: 0.\n"
     ]
    }
   ],
   "source": [
    "def digite_numero():\n",
    "    a = int(input(\"Digite o primeiro número: \"))\n",
    "    b = int(input(\"\\nDigite o segundo número: \"))\n",
    "    c = int(input(\"\\nDigite o terceiro número: \"))\n",
    "    \n",
    "    return a, b, c\n",
    "\n",
    "def retorna_soma(a, b, c):\n",
    "    if ((a != b) & (a != c) & (b != c)):\n",
    "        z = a + b + c\n",
    "    elif ((a == b) & (a != c) & (b != c)):\n",
    "        z = c\n",
    "    elif ((a == c) & (a != b) & (b != c)):\n",
    "        z = b\n",
    "    elif ((b == c) & (a != b) & (a != c)):\n",
    "        z = a\n",
    "    else:\n",
    "        z = 0\n",
    "    print(f\"\\nA soma é: {z}.\")\n",
    "    \n",
    "if __name__ == '__main__':\n",
    "    a, b, c = digite_numero()\n",
    "    \n",
    "    retorna_soma(a, b, c)"
   ]
  },
  {
   "cell_type": "markdown",
   "id": "5625c30d",
   "metadata": {},
   "source": [
    "# Exercício"
   ]
  },
  {
   "cell_type": "markdown",
   "id": "5f9fac35",
   "metadata": {},
   "source": [
    "Em uma escola estudam quatro amigas: Raquel, Vivian, Bruna e Ana. Em um dia ensolarado, elas se reuniram para passear em um parque. Cada uma delas utilizou uma camiseta de cor diferente: Branco, Azul, Amarelo e Verde. Além disso, cada uma passou um protetor solar com fator de proteção (FPS) diferente. Cada uma delas tem um animal de estimação diferente e gosta de um suco diferente, além de terem idades diferentes. Todas elas sentaram em um banco de quatro lugares, cada uma ocupando um lugar diferente. \n",
    "\n",
    "- Na terceira posição do banco está a garota que tem o cachorro. Quem tem um peixe está em uma das pontas do banco. A garota que tem um gato está na primeira posição do banco. \n",
    "\n",
    "- Ana usou o protetor solar de FPS 50. Na segunda posição está a garota que usou protetor solar com FPS 55. A garota mais nova está ao lado da que usa protetor solar de menor FPS. \n",
    "\n",
    "- Quem gosta de suco de morango está na quarta posição do banco. A garota que gosta de suco de Maracujá está ao lado da que tem Pássaros. A garota que gosta de suco de Limão está ao lado da que gosta de suco de Maracujá. Quem gosta de suco de Laranja está em uma das pontas.\n",
    "\n",
    "- A garota de camiseta Azul está em algum lugar à esquerda da garota que tem 9 anos. A garota de 8 anos está na quarta posição. A garota de 11 anos está em uma das pontas. \n",
    "\n",
    "- Vivian tem Pássaros. \n",
    "\n",
    "- Raquel está na primeira posição.\n",
    "\n",
    "- A garota de camiseta Verde está na quarta posição do banco.\n",
    "\n",
    "- A garota de camiseta Branca está em uma das pontas.\n",
    "\n",
    "- A garota de 10 anos está ao lado da garota de 11 anos.\n",
    "\n",
    "- A garota que usou protetor solar de FPS 40 gosta de suco de Maracujá.\n",
    "\n",
    "- A garota que usou protetor solar de FPS 45 está em uma das pontas do banco. \n",
    "\n",
    "- Bruna tem cachorros."
   ]
  },
  {
   "cell_type": "markdown",
   "id": "1d5cf57c",
   "metadata": {},
   "source": [
    "Qual a característica (cor da camiseta, animal de estimação, protetor solar, suco que gosta, nome e idade) de cada uma das garotas?"
   ]
  },
  {
   "cell_type": "code",
   "execution_count": 21,
   "id": "044f69b8",
   "metadata": {},
   "outputs": [
    {
     "data": {
      "text/html": [
       "<div>\n",
       "<style scoped>\n",
       "    .dataframe tbody tr th:only-of-type {\n",
       "        vertical-align: middle;\n",
       "    }\n",
       "\n",
       "    .dataframe tbody tr th {\n",
       "        vertical-align: top;\n",
       "    }\n",
       "\n",
       "    .dataframe thead th {\n",
       "        text-align: right;\n",
       "    }\n",
       "</style>\n",
       "<table border=\"1\" class=\"dataframe\">\n",
       "  <thead>\n",
       "    <tr style=\"text-align: right;\">\n",
       "      <th></th>\n",
       "      <th>posicao_banco</th>\n",
       "      <th>cor_camiseta</th>\n",
       "      <th>animal_estimacao</th>\n",
       "      <th>protetor_solar</th>\n",
       "      <th>suco</th>\n",
       "      <th>nome</th>\n",
       "      <th>idade</th>\n",
       "    </tr>\n",
       "  </thead>\n",
       "  <tbody>\n",
       "    <tr>\n",
       "      <th>0</th>\n",
       "      <td>primeira</td>\n",
       "      <td>x</td>\n",
       "      <td>x</td>\n",
       "      <td>x</td>\n",
       "      <td>x</td>\n",
       "      <td>x</td>\n",
       "      <td>x</td>\n",
       "    </tr>\n",
       "    <tr>\n",
       "      <th>1</th>\n",
       "      <td>segunda</td>\n",
       "      <td>x</td>\n",
       "      <td>x</td>\n",
       "      <td>x</td>\n",
       "      <td>x</td>\n",
       "      <td>x</td>\n",
       "      <td>x</td>\n",
       "    </tr>\n",
       "    <tr>\n",
       "      <th>2</th>\n",
       "      <td>terceira</td>\n",
       "      <td>x</td>\n",
       "      <td>x</td>\n",
       "      <td>x</td>\n",
       "      <td>x</td>\n",
       "      <td>x</td>\n",
       "      <td>x</td>\n",
       "    </tr>\n",
       "    <tr>\n",
       "      <th>3</th>\n",
       "      <td>quarta</td>\n",
       "      <td>x</td>\n",
       "      <td>x</td>\n",
       "      <td>x</td>\n",
       "      <td>x</td>\n",
       "      <td>x</td>\n",
       "      <td>x</td>\n",
       "    </tr>\n",
       "  </tbody>\n",
       "</table>\n",
       "</div>"
      ],
      "text/plain": [
       "  posicao_banco cor_camiseta animal_estimacao protetor_solar suco nome idade\n",
       "0      primeira            x                x              x    x    x     x\n",
       "1       segunda            x                x              x    x    x     x\n",
       "2      terceira            x                x              x    x    x     x\n",
       "3        quarta            x                x              x    x    x     x"
      ]
     },
     "execution_count": 21,
     "metadata": {},
     "output_type": "execute_result"
    }
   ],
   "source": [
    "dataset = {'posicao_banco': [\"primeira\", \"segunda\", \"terceira\", \"quarta\"], 'cor_camiseta': [\"x\", \"x\", \"x\", \"x\"], 'animal_estimacao': [\"x\", \"x\", \"x\", \"x\"], 'protetor_solar': [\"x\", \"x\", \"x\", \"x\"], 'suco': [\"x\", \"x\", \"x\", \"x\"], 'nome': [\"x\", \"x\", \"x\", \"x\"], 'idade': [\"x\", \"x\", \"x\", \"x\"]}\n",
    "df = pd.DataFrame(dataset)\n",
    "df"
   ]
  },
  {
   "cell_type": "code",
   "execution_count": 22,
   "id": "5949b4bb",
   "metadata": {},
   "outputs": [
    {
     "data": {
      "text/html": [
       "<div>\n",
       "<style scoped>\n",
       "    .dataframe tbody tr th:only-of-type {\n",
       "        vertical-align: middle;\n",
       "    }\n",
       "\n",
       "    .dataframe tbody tr th {\n",
       "        vertical-align: top;\n",
       "    }\n",
       "\n",
       "    .dataframe thead th {\n",
       "        text-align: right;\n",
       "    }\n",
       "</style>\n",
       "<table border=\"1\" class=\"dataframe\">\n",
       "  <thead>\n",
       "    <tr style=\"text-align: right;\">\n",
       "      <th></th>\n",
       "      <th>posicao_banco</th>\n",
       "      <th>cor_camiseta</th>\n",
       "      <th>animal_estimacao</th>\n",
       "      <th>protetor_solar</th>\n",
       "      <th>suco</th>\n",
       "      <th>nome</th>\n",
       "      <th>idade</th>\n",
       "    </tr>\n",
       "  </thead>\n",
       "  <tbody>\n",
       "    <tr>\n",
       "      <th>0</th>\n",
       "      <td>primeira</td>\n",
       "      <td>x</td>\n",
       "      <td>gato</td>\n",
       "      <td>x</td>\n",
       "      <td>x</td>\n",
       "      <td>x</td>\n",
       "      <td>x</td>\n",
       "    </tr>\n",
       "    <tr>\n",
       "      <th>1</th>\n",
       "      <td>segunda</td>\n",
       "      <td>x</td>\n",
       "      <td>x</td>\n",
       "      <td>x</td>\n",
       "      <td>x</td>\n",
       "      <td>x</td>\n",
       "      <td>x</td>\n",
       "    </tr>\n",
       "    <tr>\n",
       "      <th>2</th>\n",
       "      <td>terceira</td>\n",
       "      <td>x</td>\n",
       "      <td>cachorro</td>\n",
       "      <td>x</td>\n",
       "      <td>x</td>\n",
       "      <td>x</td>\n",
       "      <td>x</td>\n",
       "    </tr>\n",
       "    <tr>\n",
       "      <th>3</th>\n",
       "      <td>quarta</td>\n",
       "      <td>x</td>\n",
       "      <td>peixe</td>\n",
       "      <td>x</td>\n",
       "      <td>x</td>\n",
       "      <td>x</td>\n",
       "      <td>x</td>\n",
       "    </tr>\n",
       "  </tbody>\n",
       "</table>\n",
       "</div>"
      ],
      "text/plain": [
       "  posicao_banco cor_camiseta animal_estimacao protetor_solar suco nome idade\n",
       "0      primeira            x             gato              x    x    x     x\n",
       "1       segunda            x                x              x    x    x     x\n",
       "2      terceira            x         cachorro              x    x    x     x\n",
       "3        quarta            x            peixe              x    x    x     x"
      ]
     },
     "execution_count": 22,
     "metadata": {},
     "output_type": "execute_result"
    }
   ],
   "source": [
    "df.loc[2, 'animal_estimacao'] = \"cachorro\"\n",
    "df.loc[0, 'animal_estimacao'] = \"gato\"\n",
    "df.loc[3, 'animal_estimacao'] = \"peixe\"\n",
    "df"
   ]
  },
  {
   "cell_type": "code",
   "execution_count": 23,
   "id": "da7852ef",
   "metadata": {},
   "outputs": [
    {
     "data": {
      "text/html": [
       "<div>\n",
       "<style scoped>\n",
       "    .dataframe tbody tr th:only-of-type {\n",
       "        vertical-align: middle;\n",
       "    }\n",
       "\n",
       "    .dataframe tbody tr th {\n",
       "        vertical-align: top;\n",
       "    }\n",
       "\n",
       "    .dataframe thead th {\n",
       "        text-align: right;\n",
       "    }\n",
       "</style>\n",
       "<table border=\"1\" class=\"dataframe\">\n",
       "  <thead>\n",
       "    <tr style=\"text-align: right;\">\n",
       "      <th></th>\n",
       "      <th>posicao_banco</th>\n",
       "      <th>cor_camiseta</th>\n",
       "      <th>animal_estimacao</th>\n",
       "      <th>protetor_solar</th>\n",
       "      <th>suco</th>\n",
       "      <th>nome</th>\n",
       "      <th>idade</th>\n",
       "    </tr>\n",
       "  </thead>\n",
       "  <tbody>\n",
       "    <tr>\n",
       "      <th>0</th>\n",
       "      <td>primeira</td>\n",
       "      <td>x</td>\n",
       "      <td>gato</td>\n",
       "      <td>x</td>\n",
       "      <td>x</td>\n",
       "      <td>x</td>\n",
       "      <td>x</td>\n",
       "    </tr>\n",
       "    <tr>\n",
       "      <th>1</th>\n",
       "      <td>segunda</td>\n",
       "      <td>x</td>\n",
       "      <td>x</td>\n",
       "      <td>FPS 55</td>\n",
       "      <td>x</td>\n",
       "      <td>x</td>\n",
       "      <td>x</td>\n",
       "    </tr>\n",
       "    <tr>\n",
       "      <th>2</th>\n",
       "      <td>terceira</td>\n",
       "      <td>x</td>\n",
       "      <td>cachorro</td>\n",
       "      <td>x</td>\n",
       "      <td>x</td>\n",
       "      <td>x</td>\n",
       "      <td>x</td>\n",
       "    </tr>\n",
       "    <tr>\n",
       "      <th>3</th>\n",
       "      <td>quarta</td>\n",
       "      <td>x</td>\n",
       "      <td>peixe</td>\n",
       "      <td>x</td>\n",
       "      <td>x</td>\n",
       "      <td>x</td>\n",
       "      <td>x</td>\n",
       "    </tr>\n",
       "  </tbody>\n",
       "</table>\n",
       "</div>"
      ],
      "text/plain": [
       "  posicao_banco cor_camiseta animal_estimacao protetor_solar suco nome idade\n",
       "0      primeira            x             gato              x    x    x     x\n",
       "1       segunda            x                x         FPS 55    x    x     x\n",
       "2      terceira            x         cachorro              x    x    x     x\n",
       "3        quarta            x            peixe              x    x    x     x"
      ]
     },
     "execution_count": 23,
     "metadata": {},
     "output_type": "execute_result"
    }
   ],
   "source": [
    "df.loc[1, 'protetor_solar'] = \"FPS 55\"\n",
    "df"
   ]
  },
  {
   "cell_type": "code",
   "execution_count": 24,
   "id": "68b9e482",
   "metadata": {},
   "outputs": [
    {
     "data": {
      "text/html": [
       "<div>\n",
       "<style scoped>\n",
       "    .dataframe tbody tr th:only-of-type {\n",
       "        vertical-align: middle;\n",
       "    }\n",
       "\n",
       "    .dataframe tbody tr th {\n",
       "        vertical-align: top;\n",
       "    }\n",
       "\n",
       "    .dataframe thead th {\n",
       "        text-align: right;\n",
       "    }\n",
       "</style>\n",
       "<table border=\"1\" class=\"dataframe\">\n",
       "  <thead>\n",
       "    <tr style=\"text-align: right;\">\n",
       "      <th></th>\n",
       "      <th>posicao_banco</th>\n",
       "      <th>cor_camiseta</th>\n",
       "      <th>animal_estimacao</th>\n",
       "      <th>protetor_solar</th>\n",
       "      <th>suco</th>\n",
       "      <th>nome</th>\n",
       "      <th>idade</th>\n",
       "    </tr>\n",
       "  </thead>\n",
       "  <tbody>\n",
       "    <tr>\n",
       "      <th>0</th>\n",
       "      <td>primeira</td>\n",
       "      <td>x</td>\n",
       "      <td>gato</td>\n",
       "      <td>x</td>\n",
       "      <td>x</td>\n",
       "      <td>x</td>\n",
       "      <td>x</td>\n",
       "    </tr>\n",
       "    <tr>\n",
       "      <th>1</th>\n",
       "      <td>segunda</td>\n",
       "      <td>x</td>\n",
       "      <td>passaros</td>\n",
       "      <td>FPS 55</td>\n",
       "      <td>x</td>\n",
       "      <td>x</td>\n",
       "      <td>x</td>\n",
       "    </tr>\n",
       "    <tr>\n",
       "      <th>2</th>\n",
       "      <td>terceira</td>\n",
       "      <td>x</td>\n",
       "      <td>cachorro</td>\n",
       "      <td>x</td>\n",
       "      <td>x</td>\n",
       "      <td>x</td>\n",
       "      <td>x</td>\n",
       "    </tr>\n",
       "    <tr>\n",
       "      <th>3</th>\n",
       "      <td>quarta</td>\n",
       "      <td>x</td>\n",
       "      <td>peixe</td>\n",
       "      <td>x</td>\n",
       "      <td>morango</td>\n",
       "      <td>x</td>\n",
       "      <td>x</td>\n",
       "    </tr>\n",
       "  </tbody>\n",
       "</table>\n",
       "</div>"
      ],
      "text/plain": [
       "  posicao_banco cor_camiseta animal_estimacao protetor_solar     suco nome  \\\n",
       "0      primeira            x             gato              x        x    x   \n",
       "1       segunda            x         passaros         FPS 55        x    x   \n",
       "2      terceira            x         cachorro              x        x    x   \n",
       "3        quarta            x            peixe              x  morango    x   \n",
       "\n",
       "  idade  \n",
       "0     x  \n",
       "1     x  \n",
       "2     x  \n",
       "3     x  "
      ]
     },
     "execution_count": 24,
     "metadata": {},
     "output_type": "execute_result"
    }
   ],
   "source": [
    "df.loc[3, 'suco'] = \"morango\"\n",
    "df.loc[1, 'animal_estimacao'] = \"passaros\"\n",
    "df"
   ]
  },
  {
   "cell_type": "code",
   "execution_count": 25,
   "id": "0c3b6a5a",
   "metadata": {},
   "outputs": [
    {
     "data": {
      "text/html": [
       "<div>\n",
       "<style scoped>\n",
       "    .dataframe tbody tr th:only-of-type {\n",
       "        vertical-align: middle;\n",
       "    }\n",
       "\n",
       "    .dataframe tbody tr th {\n",
       "        vertical-align: top;\n",
       "    }\n",
       "\n",
       "    .dataframe thead th {\n",
       "        text-align: right;\n",
       "    }\n",
       "</style>\n",
       "<table border=\"1\" class=\"dataframe\">\n",
       "  <thead>\n",
       "    <tr style=\"text-align: right;\">\n",
       "      <th></th>\n",
       "      <th>posicao_banco</th>\n",
       "      <th>cor_camiseta</th>\n",
       "      <th>animal_estimacao</th>\n",
       "      <th>protetor_solar</th>\n",
       "      <th>suco</th>\n",
       "      <th>nome</th>\n",
       "      <th>idade</th>\n",
       "    </tr>\n",
       "  </thead>\n",
       "  <tbody>\n",
       "    <tr>\n",
       "      <th>0</th>\n",
       "      <td>primeira</td>\n",
       "      <td>x</td>\n",
       "      <td>gato</td>\n",
       "      <td>x</td>\n",
       "      <td>laranja</td>\n",
       "      <td>x</td>\n",
       "      <td>x</td>\n",
       "    </tr>\n",
       "    <tr>\n",
       "      <th>1</th>\n",
       "      <td>segunda</td>\n",
       "      <td>x</td>\n",
       "      <td>passaros</td>\n",
       "      <td>FPS 55</td>\n",
       "      <td>limao</td>\n",
       "      <td>x</td>\n",
       "      <td>x</td>\n",
       "    </tr>\n",
       "    <tr>\n",
       "      <th>2</th>\n",
       "      <td>terceira</td>\n",
       "      <td>x</td>\n",
       "      <td>cachorro</td>\n",
       "      <td>x</td>\n",
       "      <td>maracuja</td>\n",
       "      <td>x</td>\n",
       "      <td>x</td>\n",
       "    </tr>\n",
       "    <tr>\n",
       "      <th>3</th>\n",
       "      <td>quarta</td>\n",
       "      <td>x</td>\n",
       "      <td>peixe</td>\n",
       "      <td>x</td>\n",
       "      <td>morango</td>\n",
       "      <td>x</td>\n",
       "      <td>x</td>\n",
       "    </tr>\n",
       "  </tbody>\n",
       "</table>\n",
       "</div>"
      ],
      "text/plain": [
       "  posicao_banco cor_camiseta animal_estimacao protetor_solar      suco nome  \\\n",
       "0      primeira            x             gato              x   laranja    x   \n",
       "1       segunda            x         passaros         FPS 55     limao    x   \n",
       "2      terceira            x         cachorro              x  maracuja    x   \n",
       "3        quarta            x            peixe              x   morango    x   \n",
       "\n",
       "  idade  \n",
       "0     x  \n",
       "1     x  \n",
       "2     x  \n",
       "3     x  "
      ]
     },
     "execution_count": 25,
     "metadata": {},
     "output_type": "execute_result"
    }
   ],
   "source": [
    "df.loc[0, 'suco'] = \"laranja\"\n",
    "df.loc[2, 'suco'] = \"maracuja\"\n",
    "df.loc[1, 'suco'] = \"limao\"\n",
    "df"
   ]
  },
  {
   "cell_type": "code",
   "execution_count": 26,
   "id": "a2e75884",
   "metadata": {},
   "outputs": [
    {
     "data": {
      "text/html": [
       "<div>\n",
       "<style scoped>\n",
       "    .dataframe tbody tr th:only-of-type {\n",
       "        vertical-align: middle;\n",
       "    }\n",
       "\n",
       "    .dataframe tbody tr th {\n",
       "        vertical-align: top;\n",
       "    }\n",
       "\n",
       "    .dataframe thead th {\n",
       "        text-align: right;\n",
       "    }\n",
       "</style>\n",
       "<table border=\"1\" class=\"dataframe\">\n",
       "  <thead>\n",
       "    <tr style=\"text-align: right;\">\n",
       "      <th></th>\n",
       "      <th>posicao_banco</th>\n",
       "      <th>cor_camiseta</th>\n",
       "      <th>animal_estimacao</th>\n",
       "      <th>protetor_solar</th>\n",
       "      <th>suco</th>\n",
       "      <th>nome</th>\n",
       "      <th>idade</th>\n",
       "    </tr>\n",
       "  </thead>\n",
       "  <tbody>\n",
       "    <tr>\n",
       "      <th>0</th>\n",
       "      <td>primeira</td>\n",
       "      <td>x</td>\n",
       "      <td>gato</td>\n",
       "      <td>x</td>\n",
       "      <td>laranja</td>\n",
       "      <td>x</td>\n",
       "      <td>11</td>\n",
       "    </tr>\n",
       "    <tr>\n",
       "      <th>1</th>\n",
       "      <td>segunda</td>\n",
       "      <td>x</td>\n",
       "      <td>passaros</td>\n",
       "      <td>FPS 55</td>\n",
       "      <td>limao</td>\n",
       "      <td>x</td>\n",
       "      <td>x</td>\n",
       "    </tr>\n",
       "    <tr>\n",
       "      <th>2</th>\n",
       "      <td>terceira</td>\n",
       "      <td>x</td>\n",
       "      <td>cachorro</td>\n",
       "      <td>x</td>\n",
       "      <td>maracuja</td>\n",
       "      <td>x</td>\n",
       "      <td>x</td>\n",
       "    </tr>\n",
       "    <tr>\n",
       "      <th>3</th>\n",
       "      <td>quarta</td>\n",
       "      <td>x</td>\n",
       "      <td>peixe</td>\n",
       "      <td>x</td>\n",
       "      <td>morango</td>\n",
       "      <td>x</td>\n",
       "      <td>8</td>\n",
       "    </tr>\n",
       "  </tbody>\n",
       "</table>\n",
       "</div>"
      ],
      "text/plain": [
       "  posicao_banco cor_camiseta animal_estimacao protetor_solar      suco nome  \\\n",
       "0      primeira            x             gato              x   laranja    x   \n",
       "1       segunda            x         passaros         FPS 55     limao    x   \n",
       "2      terceira            x         cachorro              x  maracuja    x   \n",
       "3        quarta            x            peixe              x   morango    x   \n",
       "\n",
       "  idade  \n",
       "0    11  \n",
       "1     x  \n",
       "2     x  \n",
       "3     8  "
      ]
     },
     "execution_count": 26,
     "metadata": {},
     "output_type": "execute_result"
    }
   ],
   "source": [
    "df.loc[3, 'idade'] = 8\n",
    "df.loc[0, 'idade'] = 11\n",
    "df"
   ]
  },
  {
   "cell_type": "code",
   "execution_count": 27,
   "id": "8c413009",
   "metadata": {},
   "outputs": [
    {
     "data": {
      "text/html": [
       "<div>\n",
       "<style scoped>\n",
       "    .dataframe tbody tr th:only-of-type {\n",
       "        vertical-align: middle;\n",
       "    }\n",
       "\n",
       "    .dataframe tbody tr th {\n",
       "        vertical-align: top;\n",
       "    }\n",
       "\n",
       "    .dataframe thead th {\n",
       "        text-align: right;\n",
       "    }\n",
       "</style>\n",
       "<table border=\"1\" class=\"dataframe\">\n",
       "  <thead>\n",
       "    <tr style=\"text-align: right;\">\n",
       "      <th></th>\n",
       "      <th>posicao_banco</th>\n",
       "      <th>cor_camiseta</th>\n",
       "      <th>animal_estimacao</th>\n",
       "      <th>protetor_solar</th>\n",
       "      <th>suco</th>\n",
       "      <th>nome</th>\n",
       "      <th>idade</th>\n",
       "    </tr>\n",
       "  </thead>\n",
       "  <tbody>\n",
       "    <tr>\n",
       "      <th>0</th>\n",
       "      <td>primeira</td>\n",
       "      <td>x</td>\n",
       "      <td>gato</td>\n",
       "      <td>x</td>\n",
       "      <td>laranja</td>\n",
       "      <td>x</td>\n",
       "      <td>11</td>\n",
       "    </tr>\n",
       "    <tr>\n",
       "      <th>1</th>\n",
       "      <td>segunda</td>\n",
       "      <td>x</td>\n",
       "      <td>passaros</td>\n",
       "      <td>FPS 55</td>\n",
       "      <td>limao</td>\n",
       "      <td>Vivian</td>\n",
       "      <td>x</td>\n",
       "    </tr>\n",
       "    <tr>\n",
       "      <th>2</th>\n",
       "      <td>terceira</td>\n",
       "      <td>x</td>\n",
       "      <td>cachorro</td>\n",
       "      <td>x</td>\n",
       "      <td>maracuja</td>\n",
       "      <td>x</td>\n",
       "      <td>x</td>\n",
       "    </tr>\n",
       "    <tr>\n",
       "      <th>3</th>\n",
       "      <td>quarta</td>\n",
       "      <td>x</td>\n",
       "      <td>peixe</td>\n",
       "      <td>x</td>\n",
       "      <td>morango</td>\n",
       "      <td>x</td>\n",
       "      <td>8</td>\n",
       "    </tr>\n",
       "  </tbody>\n",
       "</table>\n",
       "</div>"
      ],
      "text/plain": [
       "  posicao_banco cor_camiseta animal_estimacao protetor_solar      suco  \\\n",
       "0      primeira            x             gato              x   laranja   \n",
       "1       segunda            x         passaros         FPS 55     limao   \n",
       "2      terceira            x         cachorro              x  maracuja   \n",
       "3        quarta            x            peixe              x   morango   \n",
       "\n",
       "     nome idade  \n",
       "0       x    11  \n",
       "1  Vivian     x  \n",
       "2       x     x  \n",
       "3       x     8  "
      ]
     },
     "execution_count": 27,
     "metadata": {},
     "output_type": "execute_result"
    }
   ],
   "source": [
    "df.loc[1, 'nome'] = \"Vivian\"\n",
    "df"
   ]
  },
  {
   "cell_type": "code",
   "execution_count": 28,
   "id": "8e54aada",
   "metadata": {},
   "outputs": [
    {
     "data": {
      "text/html": [
       "<div>\n",
       "<style scoped>\n",
       "    .dataframe tbody tr th:only-of-type {\n",
       "        vertical-align: middle;\n",
       "    }\n",
       "\n",
       "    .dataframe tbody tr th {\n",
       "        vertical-align: top;\n",
       "    }\n",
       "\n",
       "    .dataframe thead th {\n",
       "        text-align: right;\n",
       "    }\n",
       "</style>\n",
       "<table border=\"1\" class=\"dataframe\">\n",
       "  <thead>\n",
       "    <tr style=\"text-align: right;\">\n",
       "      <th></th>\n",
       "      <th>posicao_banco</th>\n",
       "      <th>cor_camiseta</th>\n",
       "      <th>animal_estimacao</th>\n",
       "      <th>protetor_solar</th>\n",
       "      <th>suco</th>\n",
       "      <th>nome</th>\n",
       "      <th>idade</th>\n",
       "    </tr>\n",
       "  </thead>\n",
       "  <tbody>\n",
       "    <tr>\n",
       "      <th>0</th>\n",
       "      <td>primeira</td>\n",
       "      <td>x</td>\n",
       "      <td>gato</td>\n",
       "      <td>x</td>\n",
       "      <td>laranja</td>\n",
       "      <td>Raquel</td>\n",
       "      <td>11</td>\n",
       "    </tr>\n",
       "    <tr>\n",
       "      <th>1</th>\n",
       "      <td>segunda</td>\n",
       "      <td>x</td>\n",
       "      <td>passaros</td>\n",
       "      <td>FPS 55</td>\n",
       "      <td>limao</td>\n",
       "      <td>Vivian</td>\n",
       "      <td>x</td>\n",
       "    </tr>\n",
       "    <tr>\n",
       "      <th>2</th>\n",
       "      <td>terceira</td>\n",
       "      <td>x</td>\n",
       "      <td>cachorro</td>\n",
       "      <td>x</td>\n",
       "      <td>maracuja</td>\n",
       "      <td>x</td>\n",
       "      <td>x</td>\n",
       "    </tr>\n",
       "    <tr>\n",
       "      <th>3</th>\n",
       "      <td>quarta</td>\n",
       "      <td>x</td>\n",
       "      <td>peixe</td>\n",
       "      <td>x</td>\n",
       "      <td>morango</td>\n",
       "      <td>x</td>\n",
       "      <td>8</td>\n",
       "    </tr>\n",
       "  </tbody>\n",
       "</table>\n",
       "</div>"
      ],
      "text/plain": [
       "  posicao_banco cor_camiseta animal_estimacao protetor_solar      suco  \\\n",
       "0      primeira            x             gato              x   laranja   \n",
       "1       segunda            x         passaros         FPS 55     limao   \n",
       "2      terceira            x         cachorro              x  maracuja   \n",
       "3        quarta            x            peixe              x   morango   \n",
       "\n",
       "     nome idade  \n",
       "0  Raquel    11  \n",
       "1  Vivian     x  \n",
       "2       x     x  \n",
       "3       x     8  "
      ]
     },
     "execution_count": 28,
     "metadata": {},
     "output_type": "execute_result"
    }
   ],
   "source": [
    "df.loc[0, 'nome'] = \"Raquel\"\n",
    "df"
   ]
  },
  {
   "cell_type": "code",
   "execution_count": 29,
   "id": "8f69221c",
   "metadata": {},
   "outputs": [
    {
     "data": {
      "text/html": [
       "<div>\n",
       "<style scoped>\n",
       "    .dataframe tbody tr th:only-of-type {\n",
       "        vertical-align: middle;\n",
       "    }\n",
       "\n",
       "    .dataframe tbody tr th {\n",
       "        vertical-align: top;\n",
       "    }\n",
       "\n",
       "    .dataframe thead th {\n",
       "        text-align: right;\n",
       "    }\n",
       "</style>\n",
       "<table border=\"1\" class=\"dataframe\">\n",
       "  <thead>\n",
       "    <tr style=\"text-align: right;\">\n",
       "      <th></th>\n",
       "      <th>posicao_banco</th>\n",
       "      <th>cor_camiseta</th>\n",
       "      <th>animal_estimacao</th>\n",
       "      <th>protetor_solar</th>\n",
       "      <th>suco</th>\n",
       "      <th>nome</th>\n",
       "      <th>idade</th>\n",
       "    </tr>\n",
       "  </thead>\n",
       "  <tbody>\n",
       "    <tr>\n",
       "      <th>0</th>\n",
       "      <td>primeira</td>\n",
       "      <td>x</td>\n",
       "      <td>gato</td>\n",
       "      <td>x</td>\n",
       "      <td>laranja</td>\n",
       "      <td>Raquel</td>\n",
       "      <td>11</td>\n",
       "    </tr>\n",
       "    <tr>\n",
       "      <th>1</th>\n",
       "      <td>segunda</td>\n",
       "      <td>x</td>\n",
       "      <td>passaros</td>\n",
       "      <td>FPS 55</td>\n",
       "      <td>limao</td>\n",
       "      <td>Vivian</td>\n",
       "      <td>x</td>\n",
       "    </tr>\n",
       "    <tr>\n",
       "      <th>2</th>\n",
       "      <td>terceira</td>\n",
       "      <td>x</td>\n",
       "      <td>cachorro</td>\n",
       "      <td>x</td>\n",
       "      <td>maracuja</td>\n",
       "      <td>x</td>\n",
       "      <td>x</td>\n",
       "    </tr>\n",
       "    <tr>\n",
       "      <th>3</th>\n",
       "      <td>quarta</td>\n",
       "      <td>verde</td>\n",
       "      <td>peixe</td>\n",
       "      <td>x</td>\n",
       "      <td>morango</td>\n",
       "      <td>x</td>\n",
       "      <td>8</td>\n",
       "    </tr>\n",
       "  </tbody>\n",
       "</table>\n",
       "</div>"
      ],
      "text/plain": [
       "  posicao_banco cor_camiseta animal_estimacao protetor_solar      suco  \\\n",
       "0      primeira            x             gato              x   laranja   \n",
       "1       segunda            x         passaros         FPS 55     limao   \n",
       "2      terceira            x         cachorro              x  maracuja   \n",
       "3        quarta        verde            peixe              x   morango   \n",
       "\n",
       "     nome idade  \n",
       "0  Raquel    11  \n",
       "1  Vivian     x  \n",
       "2       x     x  \n",
       "3       x     8  "
      ]
     },
     "execution_count": 29,
     "metadata": {},
     "output_type": "execute_result"
    }
   ],
   "source": [
    "df.loc[3, 'cor_camiseta'] = \"verde\"\n",
    "df"
   ]
  },
  {
   "cell_type": "code",
   "execution_count": 30,
   "id": "0453d34f",
   "metadata": {},
   "outputs": [
    {
     "data": {
      "text/html": [
       "<div>\n",
       "<style scoped>\n",
       "    .dataframe tbody tr th:only-of-type {\n",
       "        vertical-align: middle;\n",
       "    }\n",
       "\n",
       "    .dataframe tbody tr th {\n",
       "        vertical-align: top;\n",
       "    }\n",
       "\n",
       "    .dataframe thead th {\n",
       "        text-align: right;\n",
       "    }\n",
       "</style>\n",
       "<table border=\"1\" class=\"dataframe\">\n",
       "  <thead>\n",
       "    <tr style=\"text-align: right;\">\n",
       "      <th></th>\n",
       "      <th>posicao_banco</th>\n",
       "      <th>cor_camiseta</th>\n",
       "      <th>animal_estimacao</th>\n",
       "      <th>protetor_solar</th>\n",
       "      <th>suco</th>\n",
       "      <th>nome</th>\n",
       "      <th>idade</th>\n",
       "    </tr>\n",
       "  </thead>\n",
       "  <tbody>\n",
       "    <tr>\n",
       "      <th>0</th>\n",
       "      <td>primeira</td>\n",
       "      <td>branca</td>\n",
       "      <td>gato</td>\n",
       "      <td>x</td>\n",
       "      <td>laranja</td>\n",
       "      <td>Raquel</td>\n",
       "      <td>11</td>\n",
       "    </tr>\n",
       "    <tr>\n",
       "      <th>1</th>\n",
       "      <td>segunda</td>\n",
       "      <td>x</td>\n",
       "      <td>passaros</td>\n",
       "      <td>FPS 55</td>\n",
       "      <td>limao</td>\n",
       "      <td>Vivian</td>\n",
       "      <td>x</td>\n",
       "    </tr>\n",
       "    <tr>\n",
       "      <th>2</th>\n",
       "      <td>terceira</td>\n",
       "      <td>x</td>\n",
       "      <td>cachorro</td>\n",
       "      <td>x</td>\n",
       "      <td>maracuja</td>\n",
       "      <td>x</td>\n",
       "      <td>x</td>\n",
       "    </tr>\n",
       "    <tr>\n",
       "      <th>3</th>\n",
       "      <td>quarta</td>\n",
       "      <td>verde</td>\n",
       "      <td>peixe</td>\n",
       "      <td>x</td>\n",
       "      <td>morango</td>\n",
       "      <td>x</td>\n",
       "      <td>8</td>\n",
       "    </tr>\n",
       "  </tbody>\n",
       "</table>\n",
       "</div>"
      ],
      "text/plain": [
       "  posicao_banco cor_camiseta animal_estimacao protetor_solar      suco  \\\n",
       "0      primeira       branca             gato              x   laranja   \n",
       "1       segunda            x         passaros         FPS 55     limao   \n",
       "2      terceira            x         cachorro              x  maracuja   \n",
       "3        quarta        verde            peixe              x   morango   \n",
       "\n",
       "     nome idade  \n",
       "0  Raquel    11  \n",
       "1  Vivian     x  \n",
       "2       x     x  \n",
       "3       x     8  "
      ]
     },
     "execution_count": 30,
     "metadata": {},
     "output_type": "execute_result"
    }
   ],
   "source": [
    "df.loc[0, \"cor_camiseta\"] = \"branca\"\n",
    "df"
   ]
  },
  {
   "cell_type": "code",
   "execution_count": 31,
   "id": "da0f6865",
   "metadata": {},
   "outputs": [
    {
     "data": {
      "text/html": [
       "<div>\n",
       "<style scoped>\n",
       "    .dataframe tbody tr th:only-of-type {\n",
       "        vertical-align: middle;\n",
       "    }\n",
       "\n",
       "    .dataframe tbody tr th {\n",
       "        vertical-align: top;\n",
       "    }\n",
       "\n",
       "    .dataframe thead th {\n",
       "        text-align: right;\n",
       "    }\n",
       "</style>\n",
       "<table border=\"1\" class=\"dataframe\">\n",
       "  <thead>\n",
       "    <tr style=\"text-align: right;\">\n",
       "      <th></th>\n",
       "      <th>posicao_banco</th>\n",
       "      <th>cor_camiseta</th>\n",
       "      <th>animal_estimacao</th>\n",
       "      <th>protetor_solar</th>\n",
       "      <th>suco</th>\n",
       "      <th>nome</th>\n",
       "      <th>idade</th>\n",
       "    </tr>\n",
       "  </thead>\n",
       "  <tbody>\n",
       "    <tr>\n",
       "      <th>0</th>\n",
       "      <td>primeira</td>\n",
       "      <td>branca</td>\n",
       "      <td>gato</td>\n",
       "      <td>x</td>\n",
       "      <td>laranja</td>\n",
       "      <td>Raquel</td>\n",
       "      <td>11</td>\n",
       "    </tr>\n",
       "    <tr>\n",
       "      <th>1</th>\n",
       "      <td>segunda</td>\n",
       "      <td>x</td>\n",
       "      <td>passaros</td>\n",
       "      <td>FPS 55</td>\n",
       "      <td>limao</td>\n",
       "      <td>Vivian</td>\n",
       "      <td>10</td>\n",
       "    </tr>\n",
       "    <tr>\n",
       "      <th>2</th>\n",
       "      <td>terceira</td>\n",
       "      <td>x</td>\n",
       "      <td>cachorro</td>\n",
       "      <td>x</td>\n",
       "      <td>maracuja</td>\n",
       "      <td>x</td>\n",
       "      <td>9</td>\n",
       "    </tr>\n",
       "    <tr>\n",
       "      <th>3</th>\n",
       "      <td>quarta</td>\n",
       "      <td>verde</td>\n",
       "      <td>peixe</td>\n",
       "      <td>x</td>\n",
       "      <td>morango</td>\n",
       "      <td>x</td>\n",
       "      <td>8</td>\n",
       "    </tr>\n",
       "  </tbody>\n",
       "</table>\n",
       "</div>"
      ],
      "text/plain": [
       "  posicao_banco cor_camiseta animal_estimacao protetor_solar      suco  \\\n",
       "0      primeira       branca             gato              x   laranja   \n",
       "1       segunda            x         passaros         FPS 55     limao   \n",
       "2      terceira            x         cachorro              x  maracuja   \n",
       "3        quarta        verde            peixe              x   morango   \n",
       "\n",
       "     nome idade  \n",
       "0  Raquel    11  \n",
       "1  Vivian    10  \n",
       "2       x     9  \n",
       "3       x     8  "
      ]
     },
     "execution_count": 31,
     "metadata": {},
     "output_type": "execute_result"
    }
   ],
   "source": [
    "df.loc[1, 'idade'] = 10\n",
    "df.loc[2, 'idade'] = 9\n",
    "df"
   ]
  },
  {
   "cell_type": "code",
   "execution_count": 32,
   "id": "b0b5bd0d",
   "metadata": {},
   "outputs": [
    {
     "data": {
      "text/html": [
       "<div>\n",
       "<style scoped>\n",
       "    .dataframe tbody tr th:only-of-type {\n",
       "        vertical-align: middle;\n",
       "    }\n",
       "\n",
       "    .dataframe tbody tr th {\n",
       "        vertical-align: top;\n",
       "    }\n",
       "\n",
       "    .dataframe thead th {\n",
       "        text-align: right;\n",
       "    }\n",
       "</style>\n",
       "<table border=\"1\" class=\"dataframe\">\n",
       "  <thead>\n",
       "    <tr style=\"text-align: right;\">\n",
       "      <th></th>\n",
       "      <th>posicao_banco</th>\n",
       "      <th>cor_camiseta</th>\n",
       "      <th>animal_estimacao</th>\n",
       "      <th>protetor_solar</th>\n",
       "      <th>suco</th>\n",
       "      <th>nome</th>\n",
       "      <th>idade</th>\n",
       "    </tr>\n",
       "  </thead>\n",
       "  <tbody>\n",
       "    <tr>\n",
       "      <th>0</th>\n",
       "      <td>primeira</td>\n",
       "      <td>branca</td>\n",
       "      <td>gato</td>\n",
       "      <td>x</td>\n",
       "      <td>laranja</td>\n",
       "      <td>Raquel</td>\n",
       "      <td>11</td>\n",
       "    </tr>\n",
       "    <tr>\n",
       "      <th>1</th>\n",
       "      <td>segunda</td>\n",
       "      <td>x</td>\n",
       "      <td>passaros</td>\n",
       "      <td>FPS 55</td>\n",
       "      <td>limao</td>\n",
       "      <td>Vivian</td>\n",
       "      <td>10</td>\n",
       "    </tr>\n",
       "    <tr>\n",
       "      <th>2</th>\n",
       "      <td>terceira</td>\n",
       "      <td>x</td>\n",
       "      <td>cachorro</td>\n",
       "      <td>FPS 40</td>\n",
       "      <td>maracuja</td>\n",
       "      <td>x</td>\n",
       "      <td>9</td>\n",
       "    </tr>\n",
       "    <tr>\n",
       "      <th>3</th>\n",
       "      <td>quarta</td>\n",
       "      <td>verde</td>\n",
       "      <td>peixe</td>\n",
       "      <td>x</td>\n",
       "      <td>morango</td>\n",
       "      <td>x</td>\n",
       "      <td>8</td>\n",
       "    </tr>\n",
       "  </tbody>\n",
       "</table>\n",
       "</div>"
      ],
      "text/plain": [
       "  posicao_banco cor_camiseta animal_estimacao protetor_solar      suco  \\\n",
       "0      primeira       branca             gato              x   laranja   \n",
       "1       segunda            x         passaros         FPS 55     limao   \n",
       "2      terceira            x         cachorro         FPS 40  maracuja   \n",
       "3        quarta        verde            peixe              x   morango   \n",
       "\n",
       "     nome idade  \n",
       "0  Raquel    11  \n",
       "1  Vivian    10  \n",
       "2       x     9  \n",
       "3       x     8  "
      ]
     },
     "execution_count": 32,
     "metadata": {},
     "output_type": "execute_result"
    }
   ],
   "source": [
    "df.loc[2, 'protetor_solar'] = \"FPS 40\"\n",
    "df"
   ]
  },
  {
   "cell_type": "code",
   "execution_count": 33,
   "id": "498f7acf",
   "metadata": {},
   "outputs": [
    {
     "data": {
      "text/html": [
       "<div>\n",
       "<style scoped>\n",
       "    .dataframe tbody tr th:only-of-type {\n",
       "        vertical-align: middle;\n",
       "    }\n",
       "\n",
       "    .dataframe tbody tr th {\n",
       "        vertical-align: top;\n",
       "    }\n",
       "\n",
       "    .dataframe thead th {\n",
       "        text-align: right;\n",
       "    }\n",
       "</style>\n",
       "<table border=\"1\" class=\"dataframe\">\n",
       "  <thead>\n",
       "    <tr style=\"text-align: right;\">\n",
       "      <th></th>\n",
       "      <th>posicao_banco</th>\n",
       "      <th>cor_camiseta</th>\n",
       "      <th>animal_estimacao</th>\n",
       "      <th>protetor_solar</th>\n",
       "      <th>suco</th>\n",
       "      <th>nome</th>\n",
       "      <th>idade</th>\n",
       "    </tr>\n",
       "  </thead>\n",
       "  <tbody>\n",
       "    <tr>\n",
       "      <th>0</th>\n",
       "      <td>primeira</td>\n",
       "      <td>branca</td>\n",
       "      <td>gato</td>\n",
       "      <td>x</td>\n",
       "      <td>laranja</td>\n",
       "      <td>Raquel</td>\n",
       "      <td>11</td>\n",
       "    </tr>\n",
       "    <tr>\n",
       "      <th>1</th>\n",
       "      <td>segunda</td>\n",
       "      <td>x</td>\n",
       "      <td>passaros</td>\n",
       "      <td>FPS 55</td>\n",
       "      <td>limao</td>\n",
       "      <td>Vivian</td>\n",
       "      <td>10</td>\n",
       "    </tr>\n",
       "    <tr>\n",
       "      <th>2</th>\n",
       "      <td>terceira</td>\n",
       "      <td>x</td>\n",
       "      <td>cachorro</td>\n",
       "      <td>FPS 40</td>\n",
       "      <td>maracuja</td>\n",
       "      <td>Bruna</td>\n",
       "      <td>9</td>\n",
       "    </tr>\n",
       "    <tr>\n",
       "      <th>3</th>\n",
       "      <td>quarta</td>\n",
       "      <td>verde</td>\n",
       "      <td>peixe</td>\n",
       "      <td>x</td>\n",
       "      <td>morango</td>\n",
       "      <td>Ana</td>\n",
       "      <td>8</td>\n",
       "    </tr>\n",
       "  </tbody>\n",
       "</table>\n",
       "</div>"
      ],
      "text/plain": [
       "  posicao_banco cor_camiseta animal_estimacao protetor_solar      suco  \\\n",
       "0      primeira       branca             gato              x   laranja   \n",
       "1       segunda            x         passaros         FPS 55     limao   \n",
       "2      terceira            x         cachorro         FPS 40  maracuja   \n",
       "3        quarta        verde            peixe              x   morango   \n",
       "\n",
       "     nome idade  \n",
       "0  Raquel    11  \n",
       "1  Vivian    10  \n",
       "2   Bruna     9  \n",
       "3     Ana     8  "
      ]
     },
     "execution_count": 33,
     "metadata": {},
     "output_type": "execute_result"
    }
   ],
   "source": [
    "df.loc[2, 'nome'] = \"Bruna\"\n",
    "df.loc[3, 'nome'] = \"Ana\"\n",
    "df"
   ]
  },
  {
   "cell_type": "code",
   "execution_count": 34,
   "id": "ea30f50a",
   "metadata": {},
   "outputs": [
    {
     "data": {
      "text/html": [
       "<div>\n",
       "<style scoped>\n",
       "    .dataframe tbody tr th:only-of-type {\n",
       "        vertical-align: middle;\n",
       "    }\n",
       "\n",
       "    .dataframe tbody tr th {\n",
       "        vertical-align: top;\n",
       "    }\n",
       "\n",
       "    .dataframe thead th {\n",
       "        text-align: right;\n",
       "    }\n",
       "</style>\n",
       "<table border=\"1\" class=\"dataframe\">\n",
       "  <thead>\n",
       "    <tr style=\"text-align: right;\">\n",
       "      <th></th>\n",
       "      <th>posicao_banco</th>\n",
       "      <th>cor_camiseta</th>\n",
       "      <th>animal_estimacao</th>\n",
       "      <th>protetor_solar</th>\n",
       "      <th>suco</th>\n",
       "      <th>nome</th>\n",
       "      <th>idade</th>\n",
       "    </tr>\n",
       "  </thead>\n",
       "  <tbody>\n",
       "    <tr>\n",
       "      <th>0</th>\n",
       "      <td>primeira</td>\n",
       "      <td>branca</td>\n",
       "      <td>gato</td>\n",
       "      <td>FPS 45</td>\n",
       "      <td>laranja</td>\n",
       "      <td>Raquel</td>\n",
       "      <td>11</td>\n",
       "    </tr>\n",
       "    <tr>\n",
       "      <th>1</th>\n",
       "      <td>segunda</td>\n",
       "      <td>x</td>\n",
       "      <td>passaros</td>\n",
       "      <td>FPS 55</td>\n",
       "      <td>limao</td>\n",
       "      <td>Vivian</td>\n",
       "      <td>10</td>\n",
       "    </tr>\n",
       "    <tr>\n",
       "      <th>2</th>\n",
       "      <td>terceira</td>\n",
       "      <td>x</td>\n",
       "      <td>cachorro</td>\n",
       "      <td>FPS 40</td>\n",
       "      <td>maracuja</td>\n",
       "      <td>Bruna</td>\n",
       "      <td>9</td>\n",
       "    </tr>\n",
       "    <tr>\n",
       "      <th>3</th>\n",
       "      <td>quarta</td>\n",
       "      <td>verde</td>\n",
       "      <td>peixe</td>\n",
       "      <td>FPS 50</td>\n",
       "      <td>morango</td>\n",
       "      <td>Ana</td>\n",
       "      <td>8</td>\n",
       "    </tr>\n",
       "  </tbody>\n",
       "</table>\n",
       "</div>"
      ],
      "text/plain": [
       "  posicao_banco cor_camiseta animal_estimacao protetor_solar      suco  \\\n",
       "0      primeira       branca             gato         FPS 45   laranja   \n",
       "1       segunda            x         passaros         FPS 55     limao   \n",
       "2      terceira            x         cachorro         FPS 40  maracuja   \n",
       "3        quarta        verde            peixe         FPS 50   morango   \n",
       "\n",
       "     nome idade  \n",
       "0  Raquel    11  \n",
       "1  Vivian    10  \n",
       "2   Bruna     9  \n",
       "3     Ana     8  "
      ]
     },
     "execution_count": 34,
     "metadata": {},
     "output_type": "execute_result"
    }
   ],
   "source": [
    "df.loc[3, 'protetor_solar'] = \"FPS 50\"\n",
    "df.loc[0, 'protetor_solar'] = \"FPS 45\"\n",
    "df"
   ]
  },
  {
   "cell_type": "code",
   "execution_count": 35,
   "id": "3c88339d",
   "metadata": {},
   "outputs": [
    {
     "data": {
      "text/html": [
       "<div>\n",
       "<style scoped>\n",
       "    .dataframe tbody tr th:only-of-type {\n",
       "        vertical-align: middle;\n",
       "    }\n",
       "\n",
       "    .dataframe tbody tr th {\n",
       "        vertical-align: top;\n",
       "    }\n",
       "\n",
       "    .dataframe thead th {\n",
       "        text-align: right;\n",
       "    }\n",
       "</style>\n",
       "<table border=\"1\" class=\"dataframe\">\n",
       "  <thead>\n",
       "    <tr style=\"text-align: right;\">\n",
       "      <th></th>\n",
       "      <th>posicao_banco</th>\n",
       "      <th>cor_camiseta</th>\n",
       "      <th>animal_estimacao</th>\n",
       "      <th>protetor_solar</th>\n",
       "      <th>suco</th>\n",
       "      <th>nome</th>\n",
       "      <th>idade</th>\n",
       "    </tr>\n",
       "  </thead>\n",
       "  <tbody>\n",
       "    <tr>\n",
       "      <th>0</th>\n",
       "      <td>primeira</td>\n",
       "      <td>branca</td>\n",
       "      <td>gato</td>\n",
       "      <td>FPS 45</td>\n",
       "      <td>laranja</td>\n",
       "      <td>Raquel</td>\n",
       "      <td>11</td>\n",
       "    </tr>\n",
       "    <tr>\n",
       "      <th>1</th>\n",
       "      <td>segunda</td>\n",
       "      <td>azul</td>\n",
       "      <td>passaros</td>\n",
       "      <td>FPS 55</td>\n",
       "      <td>limao</td>\n",
       "      <td>Vivian</td>\n",
       "      <td>10</td>\n",
       "    </tr>\n",
       "    <tr>\n",
       "      <th>2</th>\n",
       "      <td>terceira</td>\n",
       "      <td>amarelo</td>\n",
       "      <td>cachorro</td>\n",
       "      <td>FPS 40</td>\n",
       "      <td>maracuja</td>\n",
       "      <td>Bruna</td>\n",
       "      <td>9</td>\n",
       "    </tr>\n",
       "    <tr>\n",
       "      <th>3</th>\n",
       "      <td>quarta</td>\n",
       "      <td>verde</td>\n",
       "      <td>peixe</td>\n",
       "      <td>FPS 50</td>\n",
       "      <td>morango</td>\n",
       "      <td>Ana</td>\n",
       "      <td>8</td>\n",
       "    </tr>\n",
       "  </tbody>\n",
       "</table>\n",
       "</div>"
      ],
      "text/plain": [
       "  posicao_banco cor_camiseta animal_estimacao protetor_solar      suco  \\\n",
       "0      primeira       branca             gato         FPS 45   laranja   \n",
       "1       segunda         azul         passaros         FPS 55     limao   \n",
       "2      terceira      amarelo         cachorro         FPS 40  maracuja   \n",
       "3        quarta        verde            peixe         FPS 50   morango   \n",
       "\n",
       "     nome idade  \n",
       "0  Raquel    11  \n",
       "1  Vivian    10  \n",
       "2   Bruna     9  \n",
       "3     Ana     8  "
      ]
     },
     "execution_count": 35,
     "metadata": {},
     "output_type": "execute_result"
    }
   ],
   "source": [
    "df.loc[1, 'cor_camiseta'] = \"azul\"\n",
    "df.loc[2, 'cor_camiseta'] = \"amarelo\"\n",
    "df"
   ]
  },
  {
   "cell_type": "markdown",
   "id": "888469a6",
   "metadata": {},
   "source": [
    "#### Outra forma de criar tabelas no Python:"
   ]
  },
  {
   "cell_type": "markdown",
   "id": "1a799829",
   "metadata": {},
   "source": [
    "| Caracteristicas x Posicao | Posicao 1 | Posicao 2 | Posicao 3 | Posicao 4 |\n",
    "|:-------------------------:|:---------:|:---------:|:---------:|:---------:|\n",
    "| Nome | Raquel | Vivian | Bruna | Ana |\n",
    "| Pet | Gato | Passaros | Cachorro | Peixe |\n",
    "| Suco | Laranja | Limao | Maracuja | Morango |\n",
    "| Protetor | 45 | 55 | 40 | 50 |\n",
    "| Camiseta | Branca | Azul | Amarelo | Verde |\n",
    "| Idade | 11 | 10 | 9 | 8 |"
   ]
  },
  {
   "cell_type": "markdown",
   "id": "217de7e2",
   "metadata": {},
   "source": [
    "# Tipos de comentários"
   ]
  },
  {
   "cell_type": "markdown",
   "id": "9eddd001",
   "metadata": {},
   "source": [
    "### Documentação"
   ]
  },
  {
   "cell_type": "code",
   "execution_count": 36,
   "id": "ec311dc7",
   "metadata": {},
   "outputs": [
    {
     "data": {
      "text/plain": [
       "' Comentário do tipo documentação. '"
      ]
     },
     "execution_count": 36,
     "metadata": {},
     "output_type": "execute_result"
    }
   ],
   "source": [
    "\"\"\" Comentário do tipo documentação. \"\"\""
   ]
  },
  {
   "cell_type": "markdown",
   "id": "275fddb3",
   "metadata": {},
   "source": [
    "### Comentário de linha"
   ]
  },
  {
   "cell_type": "code",
   "execution_count": 37,
   "id": "48ceff07",
   "metadata": {},
   "outputs": [],
   "source": [
    "a = 5 + 1 # soma igual a 6"
   ]
  },
  {
   "cell_type": "markdown",
   "id": "71ae7b0d",
   "metadata": {},
   "source": [
    "### Comentário do tipo bloco"
   ]
  },
  {
   "cell_type": "code",
   "execution_count": 38,
   "id": "98594b33",
   "metadata": {},
   "outputs": [],
   "source": [
    "# Este é um exemplo de comentário do\n",
    "# tipo bloco. Cada linha contém um \n",
    "# símbolo hashtag separado por um \n",
    "# espaço do conteúdo que desejamos \n",
    "# escrever"
   ]
  },
  {
   "cell_type": "markdown",
   "id": "544aa3dd",
   "metadata": {},
   "source": [
    "# Conversão do tipo de variáveis"
   ]
  },
  {
   "cell_type": "markdown",
   "id": "2a4e0914",
   "metadata": {},
   "source": [
    "#### String do tipo caracter para inteiro"
   ]
  },
  {
   "cell_type": "code",
   "execution_count": 39,
   "id": "2905acd3",
   "metadata": {},
   "outputs": [
    {
     "ename": "ValueError",
     "evalue": "invalid literal for int() with base 10: 'Pedro'",
     "output_type": "error",
     "traceback": [
      "\u001b[1;31m---------------------------------------------------------------------------\u001b[0m",
      "\u001b[1;31mValueError\u001b[0m                                Traceback (most recent call last)",
      "\u001b[1;32mC:\\Users\\USURIO~3\\AppData\\Local\\Temp/ipykernel_2124/4119452568.py\u001b[0m in \u001b[0;36m<module>\u001b[1;34m\u001b[0m\n\u001b[0;32m      1\u001b[0m \u001b[0mnome\u001b[0m \u001b[1;33m=\u001b[0m \u001b[1;34m'Pedro'\u001b[0m\u001b[1;33m\u001b[0m\u001b[1;33m\u001b[0m\u001b[0m\n\u001b[1;32m----> 2\u001b[1;33m \u001b[0mnome_convertido\u001b[0m \u001b[1;33m=\u001b[0m \u001b[0mint\u001b[0m\u001b[1;33m(\u001b[0m\u001b[0mnome\u001b[0m\u001b[1;33m)\u001b[0m\u001b[1;33m\u001b[0m\u001b[1;33m\u001b[0m\u001b[0m\n\u001b[0m\u001b[0;32m      3\u001b[0m \u001b[0mnome_convertido\u001b[0m\u001b[1;33m\u001b[0m\u001b[1;33m\u001b[0m\u001b[0m\n",
      "\u001b[1;31mValueError\u001b[0m: invalid literal for int() with base 10: 'Pedro'"
     ]
    }
   ],
   "source": [
    "nome = 'Pedro'\n",
    "nome_convertido = int(nome)\n",
    "nome_convertido"
   ]
  },
  {
   "cell_type": "markdown",
   "id": "227d35df",
   "metadata": {},
   "source": [
    "Não é possível converter uma string para inteiro, como visto acima. "
   ]
  },
  {
   "cell_type": "markdown",
   "id": "210294af",
   "metadata": {},
   "source": [
    "#### String numérica para inteiro"
   ]
  },
  {
   "cell_type": "code",
   "execution_count": 40,
   "id": "61e641ea",
   "metadata": {},
   "outputs": [
    {
     "data": {
      "text/plain": [
       "32"
      ]
     },
     "execution_count": 40,
     "metadata": {},
     "output_type": "execute_result"
    }
   ],
   "source": [
    "idade = '32'\n",
    "idade_convertida = int(idade)\n",
    "idade_convertida"
   ]
  },
  {
   "cell_type": "markdown",
   "id": "78fd8afb",
   "metadata": {},
   "source": [
    "Por mais que estejamos atribuindo uma string à variável \"idade\", o conteúdo é similar a um valor inteiro, então o computador faz a conversão. "
   ]
  },
  {
   "cell_type": "code",
   "execution_count": 41,
   "id": "763ec17d",
   "metadata": {},
   "outputs": [
    {
     "data": {
      "text/plain": [
       "int"
      ]
     },
     "execution_count": 41,
     "metadata": {},
     "output_type": "execute_result"
    }
   ],
   "source": [
    "type(idade_convertida)"
   ]
  },
  {
   "cell_type": "markdown",
   "id": "77ee0708",
   "metadata": {},
   "source": [
    "#### String numérica para float"
   ]
  },
  {
   "cell_type": "code",
   "execution_count": 42,
   "id": "623a7ca6",
   "metadata": {},
   "outputs": [
    {
     "data": {
      "text/plain": [
       "32.0"
      ]
     },
     "execution_count": 42,
     "metadata": {},
     "output_type": "execute_result"
    }
   ],
   "source": [
    "idade = '32'\n",
    "idade_convertida = float(idade)\n",
    "idade_convertida"
   ]
  },
  {
   "cell_type": "code",
   "execution_count": 43,
   "id": "05d93a31",
   "metadata": {},
   "outputs": [
    {
     "data": {
      "text/plain": [
       "float"
      ]
     },
     "execution_count": 43,
     "metadata": {},
     "output_type": "execute_result"
    }
   ],
   "source": [
    "type(idade_convertida)"
   ]
  },
  {
   "cell_type": "markdown",
   "id": "dd486369",
   "metadata": {},
   "source": [
    "O mesmo ocorre para a conversão de uma string - com característica numérica - para um número real. "
   ]
  },
  {
   "cell_type": "markdown",
   "id": "2e99ca83",
   "metadata": {},
   "source": [
    "#### Inteiro para string"
   ]
  },
  {
   "cell_type": "code",
   "execution_count": 44,
   "id": "ce7ed051",
   "metadata": {},
   "outputs": [
    {
     "data": {
      "text/plain": [
       "'32'"
      ]
     },
     "execution_count": 44,
     "metadata": {},
     "output_type": "execute_result"
    }
   ],
   "source": [
    "idade = 32\n",
    "idade_convertida = str(idade)\n",
    "idade_convertida"
   ]
  },
  {
   "cell_type": "code",
   "execution_count": 45,
   "id": "4445f7d2",
   "metadata": {},
   "outputs": [
    {
     "data": {
      "text/plain": [
       "str"
      ]
     },
     "execution_count": 45,
     "metadata": {},
     "output_type": "execute_result"
    }
   ],
   "source": [
    "type(idade_convertida)"
   ]
  },
  {
   "cell_type": "markdown",
   "id": "f0e8a2fa",
   "metadata": {},
   "source": [
    "Qualquer conteúdo poder convertido para string. "
   ]
  },
  {
   "cell_type": "markdown",
   "id": "16ae68e1",
   "metadata": {},
   "source": [
    "# Veracidade no Python"
   ]
  },
  {
   "cell_type": "markdown",
   "id": "b2985264",
   "metadata": {},
   "source": [
    "O Python entende uma série de índices booleanos como falsos. Para podermos tomar cuidado ao usá-los, segue abaixo uma lista de booleanos considerados falsos. "
   ]
  },
  {
   "cell_type": "code",
   "execution_count": 59,
   "id": "e39dcbb4",
   "metadata": {},
   "outputs": [
    {
     "name": "stdout",
     "output_type": "stream",
     "text": [
      "A função sem parâmetro retorna: False.\n",
      "A função com aspas como parâmetro retorna: False.\n",
      "A função com zero inteiro como parâmetro retorna: False.\n",
      "A função com zero real como parâmetro retorna: False.\n",
      "A função com uma lista vazia como parâmetro retorna: False.\n",
      "A função com um dicionário vazio como parâmetro retorna: False.\n",
      "A função com 'None' como parâmetro retorna: False.\n"
     ]
    }
   ],
   "source": [
    "print(f\"A função sem parâmetro retorna: {bool()}.\")\n",
    "print(f\"A função com aspas como parâmetro retorna: {bool('')}.\")\n",
    "print(f\"A função com zero inteiro como parâmetro retorna: {bool(0)}.\")\n",
    "print(f\"A função com zero real como parâmetro retorna: {bool(0.0)}.\")\n",
    "print(f\"A função com uma lista vazia como parâmetro retorna: {bool([])}.\")\n",
    "print(f\"A função com um dicionário vazio como parâmetro retorna: {bool({})}.\")\n",
    "print(f\"A função com 'None' como parâmetro retorna: {bool(None)}.\")"
   ]
  },
  {
   "cell_type": "markdown",
   "id": "1209ebf6",
   "metadata": {},
   "source": [
    "Resumidamente, o Python entende tudo que não tem conteúdo como falso. Por outro, ele também entende tudo que tem conteúdo como verdadeiro. "
   ]
  },
  {
   "cell_type": "markdown",
   "id": "2ab49460",
   "metadata": {},
   "source": [
    "# Leitura e escrita básica"
   ]
  },
  {
   "cell_type": "markdown",
   "id": "0f89ea93",
   "metadata": {},
   "source": [
    "A maneira mais básica de ler algo digitado pelo usuário, em Python, é utilizando a função *input*. "
   ]
  },
  {
   "cell_type": "code",
   "execution_count": 60,
   "id": "51a390ce",
   "metadata": {},
   "outputs": [
    {
     "name": "stdout",
     "output_type": "stream",
     "text": [
      "Digite a sua idade: 28\n"
     ]
    }
   ],
   "source": [
    "dado_inserido = input(\"Digite a sua idade: \")"
   ]
  },
  {
   "cell_type": "code",
   "execution_count": 61,
   "id": "6543d52c",
   "metadata": {},
   "outputs": [
    {
     "data": {
      "text/plain": [
       "'28'"
      ]
     },
     "execution_count": 61,
     "metadata": {},
     "output_type": "execute_result"
    }
   ],
   "source": [
    "dado_inserido"
   ]
  },
  {
   "cell_type": "markdown",
   "id": "be368758",
   "metadata": {},
   "source": [
    "Como visto acima, tudo que for lido pela função *input* será entendido como *str*. Para converter o conteúdo digitado, fazemos:"
   ]
  },
  {
   "cell_type": "code",
   "execution_count": 62,
   "id": "b95cc376",
   "metadata": {},
   "outputs": [
    {
     "name": "stdout",
     "output_type": "stream",
     "text": [
      "Digite a sua idade: 28\n"
     ]
    }
   ],
   "source": [
    "dado_inserido = int(input(\"Digite a sua idade: \"))"
   ]
  },
  {
   "cell_type": "code",
   "execution_count": 63,
   "id": "9b107afe",
   "metadata": {},
   "outputs": [
    {
     "data": {
      "text/plain": [
       "28"
      ]
     },
     "execution_count": 63,
     "metadata": {},
     "output_type": "execute_result"
    }
   ],
   "source": [
    "dado_inserido"
   ]
  },
  {
   "cell_type": "code",
   "execution_count": 64,
   "id": "2118ab57",
   "metadata": {},
   "outputs": [
    {
     "name": "stdout",
     "output_type": "stream",
     "text": [
      "Digite a sua altura em metros: 1.70\n"
     ]
    }
   ],
   "source": [
    "altura_inserida = float(input(\"Digite a sua altura em metros: \"))"
   ]
  },
  {
   "cell_type": "code",
   "execution_count": 65,
   "id": "8c14d142",
   "metadata": {},
   "outputs": [
    {
     "data": {
      "text/plain": [
       "float"
      ]
     },
     "execution_count": 65,
     "metadata": {},
     "output_type": "execute_result"
    }
   ],
   "source": [
    "type(altura_inserida)"
   ]
  },
  {
   "cell_type": "markdown",
   "id": "97c57df9",
   "metadata": {},
   "source": [
    "Para leitura de dados do usuário, então, usamos a função *input*. Para a escrita de dados na tela, usamos a função *print*. "
   ]
  },
  {
   "cell_type": "markdown",
   "id": "616316af",
   "metadata": {},
   "source": [
    "# Erros mais comuns"
   ]
  },
  {
   "cell_type": "markdown",
   "id": "2176b4ba",
   "metadata": {},
   "source": [
    "- Python é Case Sensitive:\n",
    "nome != Nome."
   ]
  },
  {
   "cell_type": "markdown",
   "id": "75017360",
   "metadata": {},
   "source": [
    "- Erros de digitação: escrita errada, tais como erros ortográficos, letra a menos ou a mais, etc."
   ]
  },
  {
   "cell_type": "markdown",
   "id": "db2d4641",
   "metadata": {},
   "source": [
    "- Palavras reservadas: palavras que o compilador utiliza para alguma tarefa. \n",
    "Ex: if, True, False, int, list, etc. As palavras reservadas são destacadas, automaticamente, pela cor verde no Python."
   ]
  },
  {
   "cell_type": "markdown",
   "id": "433756f3",
   "metadata": {},
   "source": [
    "Se usarmos o sinal *underscore* na frente ou atrás da palavra reservada, ele se torna uma palavra não reservada. Contudo, devemos tomar cuidado com o sinal na frente da variável, porque remete à variável privada."
   ]
  },
  {
   "cell_type": "markdown",
   "id": "e691f14b",
   "metadata": {},
   "source": [
    "- Identação: necessidade ou ausência de espaços. Obs: o Python aceita, quando há apenas uma linha de comando, identação fora da regra:"
   ]
  },
  {
   "cell_type": "code",
   "execution_count": 68,
   "id": "552b627d",
   "metadata": {},
   "outputs": [
    {
     "name": "stdout",
     "output_type": "stream",
     "text": [
      "Lucas\n"
     ]
    }
   ],
   "source": [
    "nome = \"Lucas\"\n",
    "\n",
    "if (nome): print(nome)"
   ]
  },
  {
   "cell_type": "code",
   "execution_count": 70,
   "id": "835342d9",
   "metadata": {},
   "outputs": [
    {
     "name": "stdout",
     "output_type": "stream",
     "text": [
      "Lucas\n"
     ]
    }
   ],
   "source": [
    "if (nome):\n",
    " print(nome)"
   ]
  },
  {
   "cell_type": "code",
   "execution_count": 71,
   "id": "d1fb9b73",
   "metadata": {},
   "outputs": [
    {
     "name": "stdout",
     "output_type": "stream",
     "text": [
      "Lucas\n"
     ]
    }
   ],
   "source": [
    "if (nome):\n",
    "  print(nome) "
   ]
  },
  {
   "cell_type": "code",
   "execution_count": 72,
   "id": "cfc91ed8",
   "metadata": {},
   "outputs": [
    {
     "name": "stdout",
     "output_type": "stream",
     "text": [
      "Lucas\n"
     ]
    }
   ],
   "source": [
    "if (nome):\n",
    "   print(nome)  "
   ]
  },
  {
   "cell_type": "markdown",
   "id": "cacf4fe0",
   "metadata": {},
   "source": [
    "Ainda sobre a identação, quando não padronizada, ela pode colocar o que está fora do 'if' no mesmo nível hierárquico do 'if'. Assim, o Python executará ou não o que está dentro do 'if' (a depender se a condição for atendida) e obrigatoriamente executará tudo que estiver fora, ou seja, no mesmo nível hierárquico do 'if'. Exemplo:"
   ]
  },
  {
   "cell_type": "code",
   "execution_count": 74,
   "id": "4f0ca49f",
   "metadata": {},
   "outputs": [
    {
     "name": "stdout",
     "output_type": "stream",
     "text": [
      "Fim.\n"
     ]
    }
   ],
   "source": [
    "if (False):\n",
    "    print(\"Olá!\")\n",
    "    print(\"Tudo bem?\")\n",
    "print(\"Fim.\")"
   ]
  },
  {
   "cell_type": "code",
   "execution_count": 75,
   "id": "5ad148d2",
   "metadata": {},
   "outputs": [
    {
     "name": "stdout",
     "output_type": "stream",
     "text": [
      "Olá!\n",
      "Tudo bem?\n",
      "Fim.\n"
     ]
    }
   ],
   "source": [
    "if (True):\n",
    "    print(\"Olá!\")\n",
    "    print(\"Tudo bem?\")\n",
    "print(\"Fim.\")"
   ]
  },
  {
   "cell_type": "markdown",
   "id": "4b27ead7",
   "metadata": {},
   "source": [
    "Note que o comando contendo a string \"Fim.\" foi executado todas as vezes. A diferença foi ao executar o que está dentro do 'if', a partir das condições True ou False. "
   ]
  },
  {
   "cell_type": "markdown",
   "id": "382bf5dd",
   "metadata": {},
   "source": [
    "# Problema"
   ]
  },
  {
   "cell_type": "markdown",
   "id": "9d028247",
   "metadata": {},
   "source": [
    "Codifique uma aplicação que receba como entrada dois números reais. A aplicação deve receber também um terceiro caractere, que deve ser um sinal de operação (+, -, * ou /). Em seguida, a aplicação deve fazer a operação e exibir o valor na tela. \n",
    "\n",
    "Em caso de divisão, se o segundo número recebido for 0, então o usuário deve receber a mensagem: \"Impossível dividir um número por zero\". "
   ]
  },
  {
   "cell_type": "code",
   "execution_count": 98,
   "id": "e6425e4e",
   "metadata": {},
   "outputs": [
    {
     "name": "stdout",
     "output_type": "stream",
     "text": [
      "Informe o primeir valor: 10\n",
      "Informe o segundo valor: 0\n",
      "Informe o sinal da operação (+, -, * ou /): /\n",
      "\n",
      "Impossível dividir um número por zero!\n",
      "Informe outro valor em vez de 0: 0\n",
      "\n",
      "Impossível dividir um número por zero!\n",
      "Informe outro valor em vez de 0: 0\n",
      "\n",
      "Impossível dividir um número por zero!\n",
      "Informe outro valor em vez de 0: 0\n",
      "\n",
      "Impossível dividir um número por zero!\n",
      "Informe outro valor em vez de 0: 2.5\n",
      "O resultado da operação é: 4.0.\n"
     ]
    }
   ],
   "source": [
    "num1 = float(input(\"Informe o primeir valor: \"))\n",
    "num2 = float(input(\"Informe o segundo valor: \"))\n",
    "sinal = input(\"Informe o sinal da operação (+, -, * ou /): \")\n",
    "\n",
    "\n",
    "if ((sinal == '/') and (num2 == 0)):\n",
    "    while (num2 == 0):\n",
    "        print(\"\\nImpossível dividir um número por zero!\")\n",
    "        num2 = float(input(\"Informe outro valor em vez de 0: \"))\n",
    "        \n",
    "        if (num2 != 0):\n",
    "            print(f\"O resultado da operação é: {num1/num2}.\")\n",
    "        \n",
    "elif ((sinal == '/') and (num2 != 0)):\n",
    "    print(f\"\\nO resultado da operação é: {num1/num2}.\")\n",
    "    \n",
    "elif (sinal == '+'):\n",
    "    print(f\"\\nO resultado da operação é: {num1 + num2}.\")\n",
    "\n",
    "elif (sinal == '-'):\n",
    "    print(f\"\\nO resultado da operação é: {num1 - num2}.\")\n",
    "    \n",
    "else:\n",
    "    print(f\"\\nO resultado da operação é: {num1 * num2}.\")"
   ]
  },
  {
   "cell_type": "code",
   "execution_count": null,
   "id": "a023a851",
   "metadata": {},
   "outputs": [],
   "source": []
  }
 ],
 "metadata": {
  "kernelspec": {
   "display_name": "Python 3 (ipykernel)",
   "language": "python",
   "name": "python3"
  },
  "language_info": {
   "codemirror_mode": {
    "name": "ipython",
    "version": 3
   },
   "file_extension": ".py",
   "mimetype": "text/x-python",
   "name": "python",
   "nbconvert_exporter": "python",
   "pygments_lexer": "ipython3",
   "version": "3.9.6"
  }
 },
 "nbformat": 4,
 "nbformat_minor": 5
}
