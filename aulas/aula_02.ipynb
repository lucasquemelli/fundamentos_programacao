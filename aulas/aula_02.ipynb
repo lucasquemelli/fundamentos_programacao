{
 "cells": [
  {
   "cell_type": "markdown",
   "id": "4e99c13b",
   "metadata": {},
   "source": [
    "# Tipos de comentários"
   ]
  },
  {
   "cell_type": "markdown",
   "id": "0ef250d2",
   "metadata": {},
   "source": [
    "### Documentação"
   ]
  },
  {
   "cell_type": "code",
   "execution_count": 1,
   "id": "91b6b6fd",
   "metadata": {},
   "outputs": [
    {
     "data": {
      "text/plain": [
       "' Comentário do tipo documentação. '"
      ]
     },
     "execution_count": 1,
     "metadata": {},
     "output_type": "execute_result"
    }
   ],
   "source": [
    "\"\"\" Comentário do tipo documentação. \"\"\""
   ]
  },
  {
   "cell_type": "markdown",
   "id": "47f38c0b",
   "metadata": {},
   "source": [
    "### Comentário de linha"
   ]
  },
  {
   "cell_type": "code",
   "execution_count": 2,
   "id": "5eb6fcdb",
   "metadata": {},
   "outputs": [
    {
     "data": {
      "text/plain": [
       "6"
      ]
     },
     "execution_count": 2,
     "metadata": {},
     "output_type": "execute_result"
    }
   ],
   "source": [
    "a = 5 + 1 # soma igual a 6\n",
    "a"
   ]
  },
  {
   "cell_type": "markdown",
   "id": "86101f27",
   "metadata": {},
   "source": [
    "### Comentário do tipo bloco"
   ]
  },
  {
   "cell_type": "code",
   "execution_count": 3,
   "id": "8a026dfe",
   "metadata": {},
   "outputs": [],
   "source": [
    "# Este é um exemplo de comentário do\n",
    "# tipo bloco. Cada linha contém um \n",
    "# símbolo hashtag separado por um \n",
    "# espaço do conteúdo que desejamos \n",
    "# escrever"
   ]
  },
  {
   "cell_type": "markdown",
   "id": "e399b426",
   "metadata": {},
   "source": [
    "# Conversão do tipo de variáveis"
   ]
  },
  {
   "cell_type": "markdown",
   "id": "d261ef4a",
   "metadata": {},
   "source": [
    "#### String do tipo caracter para inteiro"
   ]
  },
  {
   "cell_type": "code",
   "execution_count": 5,
   "id": "60f9f612",
   "metadata": {},
   "outputs": [
    {
     "ename": "ValueError",
     "evalue": "invalid literal for int() with base 10: 'Pedro'",
     "output_type": "error",
     "traceback": [
      "\u001b[1;31m---------------------------------------------------------------------------\u001b[0m",
      "\u001b[1;31mValueError\u001b[0m                                Traceback (most recent call last)",
      "\u001b[1;32mC:\\Users\\USURIO~3\\AppData\\Local\\Temp/ipykernel_9636/4119452568.py\u001b[0m in \u001b[0;36m<module>\u001b[1;34m\u001b[0m\n\u001b[0;32m      1\u001b[0m \u001b[0mnome\u001b[0m \u001b[1;33m=\u001b[0m \u001b[1;34m'Pedro'\u001b[0m\u001b[1;33m\u001b[0m\u001b[1;33m\u001b[0m\u001b[0m\n\u001b[1;32m----> 2\u001b[1;33m \u001b[0mnome_convertido\u001b[0m \u001b[1;33m=\u001b[0m \u001b[0mint\u001b[0m\u001b[1;33m(\u001b[0m\u001b[0mnome\u001b[0m\u001b[1;33m)\u001b[0m\u001b[1;33m\u001b[0m\u001b[1;33m\u001b[0m\u001b[0m\n\u001b[0m\u001b[0;32m      3\u001b[0m \u001b[0mnome_convertido\u001b[0m\u001b[1;33m\u001b[0m\u001b[1;33m\u001b[0m\u001b[0m\n",
      "\u001b[1;31mValueError\u001b[0m: invalid literal for int() with base 10: 'Pedro'"
     ]
    }
   ],
   "source": [
    "nome = 'Pedro'\n",
    "nome_convertido = int(nome)\n",
    "nome_convertido"
   ]
  },
  {
   "cell_type": "markdown",
   "id": "6f9768b8",
   "metadata": {},
   "source": [
    "Não é possível converter uma string para inteiro, como visto acima. "
   ]
  },
  {
   "cell_type": "markdown",
   "id": "ff7e434a",
   "metadata": {},
   "source": [
    "#### String numérica para inteiro"
   ]
  },
  {
   "cell_type": "code",
   "execution_count": 6,
   "id": "40852552",
   "metadata": {},
   "outputs": [
    {
     "data": {
      "text/plain": [
       "32"
      ]
     },
     "execution_count": 6,
     "metadata": {},
     "output_type": "execute_result"
    }
   ],
   "source": [
    "idade = '32'\n",
    "idade_convertida = int(idade)\n",
    "idade_convertida"
   ]
  },
  {
   "cell_type": "markdown",
   "id": "be9f0438",
   "metadata": {},
   "source": [
    "Por mais que estejamos atribuindo uma string à variável \"idade\", o conteúdo é similar a um valor inteiro, então o computador faz a conversão. "
   ]
  },
  {
   "cell_type": "code",
   "execution_count": 7,
   "id": "90c83b29",
   "metadata": {},
   "outputs": [
    {
     "data": {
      "text/plain": [
       "int"
      ]
     },
     "execution_count": 7,
     "metadata": {},
     "output_type": "execute_result"
    }
   ],
   "source": [
    "type(idade_convertida)"
   ]
  },
  {
   "cell_type": "markdown",
   "id": "bd5ea7f3",
   "metadata": {},
   "source": [
    "#### String numérica para float"
   ]
  },
  {
   "cell_type": "code",
   "execution_count": 9,
   "id": "a0b94452",
   "metadata": {},
   "outputs": [
    {
     "data": {
      "text/plain": [
       "32.0"
      ]
     },
     "execution_count": 9,
     "metadata": {},
     "output_type": "execute_result"
    }
   ],
   "source": [
    "idade = '32'\n",
    "idade_convertida = float(idade)\n",
    "idade_convertida"
   ]
  },
  {
   "cell_type": "code",
   "execution_count": 10,
   "id": "7b42a9d0",
   "metadata": {},
   "outputs": [
    {
     "data": {
      "text/plain": [
       "float"
      ]
     },
     "execution_count": 10,
     "metadata": {},
     "output_type": "execute_result"
    }
   ],
   "source": [
    "type(idade_convertida)"
   ]
  },
  {
   "cell_type": "markdown",
   "id": "49f08b7a",
   "metadata": {},
   "source": [
    "O mesmo ocorre para a conversão de uma string - com característica numérica - para um número real. "
   ]
  },
  {
   "cell_type": "markdown",
   "id": "19dcc8c5",
   "metadata": {},
   "source": [
    "#### Inteiro para string"
   ]
  },
  {
   "cell_type": "code",
   "execution_count": 12,
   "id": "05878a21",
   "metadata": {},
   "outputs": [
    {
     "data": {
      "text/plain": [
       "'32'"
      ]
     },
     "execution_count": 12,
     "metadata": {},
     "output_type": "execute_result"
    }
   ],
   "source": [
    "idade = 32\n",
    "idade_convertida = str(idade)\n",
    "idade_convertida"
   ]
  },
  {
   "cell_type": "code",
   "execution_count": 13,
   "id": "9b5dce31",
   "metadata": {},
   "outputs": [
    {
     "data": {
      "text/plain": [
       "str"
      ]
     },
     "execution_count": 13,
     "metadata": {},
     "output_type": "execute_result"
    }
   ],
   "source": [
    "type(idade_convertida)"
   ]
  },
  {
   "cell_type": "markdown",
   "id": "e5f8a1e9",
   "metadata": {},
   "source": [
    "Qualquer conteúdo poder convertido para string. "
   ]
  },
  {
   "cell_type": "markdown",
   "id": "3e5b1bee",
   "metadata": {},
   "source": [
    "# Veracidade no Python"
   ]
  },
  {
   "cell_type": "markdown",
   "id": "1d2bc656",
   "metadata": {},
   "source": [
    "O Python entende uma série de índices booleanos como falsos. Para podermos tomar cuidado ao usá-los, segue abaixo uma lista de booleanos considerados falsos. "
   ]
  },
  {
   "cell_type": "code",
   "execution_count": 15,
   "id": "731bc9a5",
   "metadata": {},
   "outputs": [
    {
     "name": "stdout",
     "output_type": "stream",
     "text": [
      "A função sem parâmetro retorna: False.\n",
      "A função com aspas como parâmetro retorna: False.\n",
      "A função com zero inteiro como parâmetro retorna: False.\n",
      "A função com zero real como parâmetro retorna: False.\n",
      "A função com uma lista vazia como parâmetro retorna: False.\n",
      "A função com um dicionário vazio como parâmetro retorna: False.\n",
      "A função com 'None' como parâmetro retorna: False.\n"
     ]
    }
   ],
   "source": [
    "print(f\"A função sem parâmetro retorna: {bool()}.\")\n",
    "print(f\"A função com aspas como parâmetro retorna: {bool('')}.\")\n",
    "print(f\"A função com zero inteiro como parâmetro retorna: {bool(0)}.\")\n",
    "print(f\"A função com zero real como parâmetro retorna: {bool(0.0)}.\")\n",
    "print(f\"A função com uma lista vazia como parâmetro retorna: {bool([])}.\")\n",
    "print(f\"A função com um dicionário vazio como parâmetro retorna: {bool({})}.\")\n",
    "print(f\"A função com 'None' como parâmetro retorna: {bool(None)}.\")"
   ]
  },
  {
   "cell_type": "markdown",
   "id": "04606f74",
   "metadata": {},
   "source": [
    "Resumidamente, o Python entende tudo que não tem conteúdo como falso. Por outro, ele também entende tudo que tem conteúdo como verdadeiro. "
   ]
  },
  {
   "cell_type": "markdown",
   "id": "ea507eba",
   "metadata": {},
   "source": [
    "# Leitura e escrita básica"
   ]
  },
  {
   "cell_type": "markdown",
   "id": "2b7324ae",
   "metadata": {},
   "source": [
    "A maneira mais básica de ler algo digitado pelo usuário, em Python, é utilizando a função *input*. "
   ]
  },
  {
   "cell_type": "code",
   "execution_count": 16,
   "id": "a5f68464",
   "metadata": {},
   "outputs": [
    {
     "name": "stdout",
     "output_type": "stream",
     "text": [
      "Digite a sua idade: 28\n"
     ]
    }
   ],
   "source": [
    "dado_inserido = input(\"Digite a sua idade: \")"
   ]
  },
  {
   "cell_type": "code",
   "execution_count": 17,
   "id": "f6a8e950",
   "metadata": {},
   "outputs": [
    {
     "data": {
      "text/plain": [
       "'28'"
      ]
     },
     "execution_count": 17,
     "metadata": {},
     "output_type": "execute_result"
    }
   ],
   "source": [
    "dado_inserido"
   ]
  },
  {
   "cell_type": "markdown",
   "id": "f1f2644e",
   "metadata": {},
   "source": [
    "Como visto acima, tudo que for lido pela função *input* será entendido como *str*. Para converter o conteúdo digitado, fazemos:"
   ]
  },
  {
   "cell_type": "code",
   "execution_count": 18,
   "id": "e3590c23",
   "metadata": {},
   "outputs": [
    {
     "name": "stdout",
     "output_type": "stream",
     "text": [
      "Digite a sua idade: 28\n"
     ]
    }
   ],
   "source": [
    "dado_inserido = int(input(\"Digite a sua idade: \"))"
   ]
  },
  {
   "cell_type": "code",
   "execution_count": 19,
   "id": "6ed15971",
   "metadata": {},
   "outputs": [
    {
     "data": {
      "text/plain": [
       "28"
      ]
     },
     "execution_count": 19,
     "metadata": {},
     "output_type": "execute_result"
    }
   ],
   "source": [
    "dado_inserido"
   ]
  },
  {
   "cell_type": "code",
   "execution_count": 20,
   "id": "005979bc",
   "metadata": {},
   "outputs": [
    {
     "name": "stdout",
     "output_type": "stream",
     "text": [
      "Digite a sua altura em metros: 1.70\n"
     ]
    }
   ],
   "source": [
    "altura_inserida = float(input(\"Digite a sua altura em metros: \"))"
   ]
  },
  {
   "cell_type": "code",
   "execution_count": 21,
   "id": "91940e42",
   "metadata": {},
   "outputs": [
    {
     "data": {
      "text/plain": [
       "float"
      ]
     },
     "execution_count": 21,
     "metadata": {},
     "output_type": "execute_result"
    }
   ],
   "source": [
    "type(altura_inserida)"
   ]
  },
  {
   "cell_type": "markdown",
   "id": "cbce9ca6",
   "metadata": {},
   "source": [
    "Para leitura de dados do usuário, então, usamos a função *input*. Para a escrita de dados na tela, usamos a função *print*. "
   ]
  },
  {
   "cell_type": "markdown",
   "id": "4fedcc0b",
   "metadata": {},
   "source": [
    "# Erros mais comuns"
   ]
  },
  {
   "cell_type": "markdown",
   "id": "2d8a094c",
   "metadata": {},
   "source": [
    "- Python é Case Sensitive:\n",
    "nome != Nome.\n",
    "\n",
    "- Erros de digitação: escrita errada, tais como erros ortográficos, letra a menos ou a mais, etc.\n",
    "\n",
    "- Palavras reservadas: palavras que o compilador utiliza para alguma tarefa. \n",
    "Ex: if, True, False, int, list, etc. As palavras reservadas são destacadas, automaticamente, pela cor verde no Python."
   ]
  },
  {
   "cell_type": "markdown",
   "id": "c262616b",
   "metadata": {},
   "source": [
    "Se usarmos o sinal *underscore* na frente ou atrás da palavra reservada, ele se torna uma palavra não reservada. Contudo, devemos tomar cuidado com o sinal na frente da variável, porque remete à variável privada."
   ]
  },
  {
   "cell_type": "markdown",
   "id": "a74ecc58",
   "metadata": {},
   "source": [
    "- Identação: necessidade ou ausência de espaços. Obs: o Python aceita, quando há apenas uma linha de comando, identação fora da regra:"
   ]
  },
  {
   "cell_type": "code",
   "execution_count": 22,
   "id": "8eb98181",
   "metadata": {},
   "outputs": [
    {
     "name": "stdout",
     "output_type": "stream",
     "text": [
      "Lucas\n"
     ]
    }
   ],
   "source": [
    "nome = \"Lucas\"\n",
    "\n",
    "if (nome): print(nome)"
   ]
  },
  {
   "cell_type": "code",
   "execution_count": 23,
   "id": "1dea9f39",
   "metadata": {},
   "outputs": [
    {
     "name": "stdout",
     "output_type": "stream",
     "text": [
      "Lucas\n"
     ]
    }
   ],
   "source": [
    "if (nome):\n",
    " print(nome)"
   ]
  },
  {
   "cell_type": "code",
   "execution_count": 24,
   "id": "3578b16b",
   "metadata": {},
   "outputs": [
    {
     "name": "stdout",
     "output_type": "stream",
     "text": [
      "Lucas\n"
     ]
    }
   ],
   "source": [
    "if (nome):\n",
    "  print(nome) "
   ]
  },
  {
   "cell_type": "code",
   "execution_count": 25,
   "id": "31b560b1",
   "metadata": {},
   "outputs": [
    {
     "name": "stdout",
     "output_type": "stream",
     "text": [
      "Lucas\n"
     ]
    }
   ],
   "source": [
    "if (nome):\n",
    "   print(nome) "
   ]
  },
  {
   "cell_type": "markdown",
   "id": "94fc93c9",
   "metadata": {},
   "source": [
    "Ainda sobre a identação, quando não padronizada, ela pode colocar o que está fora do 'if' no mesmo nível hierárquico do 'if'. Assim, o Python executará ou não o que está dentro do 'if' (a depender se a condição for atendida) e obrigatoriamente executará tudo que estiver fora, ou seja, no mesmo nível hierárquico do 'if'. Exemplo:"
   ]
  },
  {
   "cell_type": "code",
   "execution_count": 26,
   "id": "2ef65b0b",
   "metadata": {},
   "outputs": [
    {
     "name": "stdout",
     "output_type": "stream",
     "text": [
      "Fim.\n"
     ]
    }
   ],
   "source": [
    "if (False):\n",
    "    print(\"Olá!\")\n",
    "    print(\"Tudo bem?\")\n",
    "print(\"Fim.\")"
   ]
  },
  {
   "cell_type": "code",
   "execution_count": 27,
   "id": "0a8e5cab",
   "metadata": {},
   "outputs": [
    {
     "name": "stdout",
     "output_type": "stream",
     "text": [
      "Olá!\n",
      "Tudo bem?\n",
      "Fim.\n"
     ]
    }
   ],
   "source": [
    "if (True):\n",
    "    print(\"Olá!\")\n",
    "    print(\"Tudo bem?\")\n",
    "print(\"Fim.\")"
   ]
  },
  {
   "cell_type": "markdown",
   "id": "2d006c84",
   "metadata": {},
   "source": [
    "Note que o comando contendo a string \"Fim.\" foi executado todas as vezes. A diferença foi ao executar o que está dentro do 'if', a partir das condições True ou False. "
   ]
  },
  {
   "cell_type": "markdown",
   "id": "d419e716",
   "metadata": {},
   "source": [
    "# Problema 1"
   ]
  },
  {
   "cell_type": "markdown",
   "id": "21f9269d",
   "metadata": {},
   "source": [
    "Codifique uma aplicação que receba como entrada dois números reais. A aplicação deve receber também um terceiro caractere, que deve ser um sinal de operação (+, -, * ou /). Em seguida, a aplicação deve fazer a operação e exibir o valor na tela. \n",
    "\n",
    "Em caso de divisão, se o segundo número recebido for 0, então o usuário deve receber a mensagem: \"Impossível dividir um número por zero\". "
   ]
  },
  {
   "cell_type": "code",
   "execution_count": 28,
   "id": "8c1b7c08",
   "metadata": {},
   "outputs": [
    {
     "name": "stdout",
     "output_type": "stream",
     "text": [
      "Informe o primeiro valor: 10\n",
      "Informe o segundo valor: 0\n",
      "Informe o sinal da operação (+, -, * ou /): /\n",
      "\n",
      "Impossível dividir um número por zero!\n",
      "Informe outro valor em vez de 0: 0\n",
      "\n",
      "Impossível dividir um número por zero!\n",
      "Informe outro valor em vez de 0: 0\n",
      "\n",
      "Impossível dividir um número por zero!\n",
      "Informe outro valor em vez de 0: 0\n",
      "\n",
      "Impossível dividir um número por zero!\n",
      "Informe outro valor em vez de 0: 2.5\n",
      "O resultado da operação é: 4.0.\n"
     ]
    }
   ],
   "source": [
    "num1 = float(input(\"Informe o primeiro valor: \"))\n",
    "num2 = float(input(\"Informe o segundo valor: \"))\n",
    "sinal = input(\"Informe o sinal da operação (+, -, * ou /): \")\n",
    "\n",
    "\n",
    "if ((sinal == '/') and (num2 == 0)):\n",
    "    while (num2 == 0):\n",
    "        print(\"\\nImpossível dividir um número por zero!\")\n",
    "        num2 = float(input(\"Informe outro valor em vez de 0: \"))\n",
    "        \n",
    "        if (num2 != 0):\n",
    "            print(f\"O resultado da operação é: {num1/num2}.\")\n",
    "        \n",
    "elif ((sinal == '/') and (num2 != 0)):\n",
    "    print(f\"\\nO resultado da operação é: {num1/num2}.\")\n",
    "    \n",
    "elif (sinal == '+'):\n",
    "    print(f\"\\nO resultado da operação é: {num1 + num2}.\")\n",
    "\n",
    "elif (sinal == '-'):\n",
    "    print(f\"\\nO resultado da operação é: {num1 - num2}.\")\n",
    "    \n",
    "else:\n",
    "    print(f\"\\nO resultado da operação é: {num1 * num2}.\")"
   ]
  },
  {
   "cell_type": "markdown",
   "id": "ca4e6921",
   "metadata": {},
   "source": [
    "# Problema 2"
   ]
  },
  {
   "cell_type": "markdown",
   "id": "92ffc3d9",
   "metadata": {},
   "source": [
    "A prefeitura de Itaipeva abriu uma linha de crédito para funcionários estatuários. O valor máximo da prestação não poderá ultrapassar 30% do salário bruto.\n",
    "\n",
    "Faça uma aplicação que permita entrar com o salário bruto, o valor do empréstimo e o número de parcelas. O programa deve informar o valor da parcela e se o empréstimo pode ou não ser concedido. Caso o empréstimo não possa ser concedido, informar o valor máximo do empréstimo. "
   ]
  },
  {
   "cell_type": "code",
   "execution_count": 35,
   "id": "0098c115",
   "metadata": {},
   "outputs": [
    {
     "name": "stdout",
     "output_type": "stream",
     "text": [
      "Seja bem-vindx ao programa de linha de crédito para funcionários estatuários!\n",
      "\n",
      "Para o seu melhor atendimento, informe os valores necessários para analisarmos o seu pedido.\n",
      "\n",
      "Informe seu salário bruto: 1500\n",
      "Informe o valor desejado para o empréstimo: 460\n",
      "Informe o número de parcelas desejadas: 10\n",
      "O valor máximo do empréstimo que podemos conceder para você é: R$ 450.00.\n",
      "\n",
      "Por favor, informe um valor desejado menor para o empréstimo: 455\n",
      "O valor máximo do empréstimo que podemos conceder para você é: R$ 450.00.\n",
      "\n",
      "Por favor, informe um valor desejado menor para o empréstimo: 450.1\n",
      "O valor máximo do empréstimo que podemos conceder para você é: R$ 450.00.\n",
      "\n",
      "Por favor, informe um valor desejado menor para o empréstimo: 450\n",
      "O valor da parcela é: R$ 45.00.\n"
     ]
    }
   ],
   "source": [
    "print(\"Seja bem-vindx ao programa de linha de crédito para funcionários estatuários!\\n\")\n",
    "print(\"Para o seu melhor atendimento, informe os valores necessários para analisarmos o seu pedido.\\n\")\n",
    "\n",
    "sal = float(input(\"Informe seu salário bruto: \"))\n",
    "emp = float(input(\"Informe o valor desejado para o empréstimo: \"))\n",
    "par = int(input(\"Informe o número de parcelas desejadas: \"))\n",
    "\n",
    "if (emp > 0.3*sal):\n",
    "    while (emp > 0.3*sal):\n",
    "        print(f\"O valor máximo do empréstimo que podemos conceder para você é: R$ {(0.3*sal):.2f}.\\n\")\n",
    "        emp = float(input(\"Por favor, informe um valor desejado menor para o empréstimo: \"))\n",
    "        \n",
    "        if (emp <= 0.3*sal):\n",
    "            print(f\"O valor da parcela é: R$ {(emp/par):.2f}.\")\n",
    "            \n",
    "else:\n",
    "    print(f\"O valor da parcela é: R$ {(emp/par):.2f}.\")"
   ]
  },
  {
   "cell_type": "code",
   "execution_count": null,
   "id": "bed1921b",
   "metadata": {},
   "outputs": [],
   "source": []
  }
 ],
 "metadata": {
  "kernelspec": {
   "display_name": "Python 3 (ipykernel)",
   "language": "python",
   "name": "python3"
  },
  "language_info": {
   "codemirror_mode": {
    "name": "ipython",
    "version": 3
   },
   "file_extension": ".py",
   "mimetype": "text/x-python",
   "name": "python",
   "nbconvert_exporter": "python",
   "pygments_lexer": "ipython3",
   "version": "3.9.6"
  }
 },
 "nbformat": 4,
 "nbformat_minor": 5
}
