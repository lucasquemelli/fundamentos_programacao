{
 "cells": [
  {
   "cell_type": "markdown",
   "id": "e3bdad13",
   "metadata": {},
   "source": [
    "# Tipos de comentários"
   ]
  },
  {
   "cell_type": "markdown",
   "id": "1e5dc03e",
   "metadata": {},
   "source": [
    "### Documentação"
   ]
  },
  {
   "cell_type": "code",
   "execution_count": 1,
   "id": "450e3a57",
   "metadata": {},
   "outputs": [
    {
     "data": {
      "text/plain": [
       "' Comentário do tipo documentação. '"
      ]
     },
     "execution_count": 1,
     "metadata": {},
     "output_type": "execute_result"
    }
   ],
   "source": [
    "\"\"\" Comentário do tipo documentação. \"\"\""
   ]
  },
  {
   "cell_type": "markdown",
   "id": "847f0af4",
   "metadata": {},
   "source": [
    "### Comentário de linha"
   ]
  },
  {
   "cell_type": "code",
   "execution_count": 2,
   "id": "8f65e568",
   "metadata": {},
   "outputs": [
    {
     "data": {
      "text/plain": [
       "6"
      ]
     },
     "execution_count": 2,
     "metadata": {},
     "output_type": "execute_result"
    }
   ],
   "source": [
    "a = 5 + 1 # soma igual a 6\n",
    "a"
   ]
  },
  {
   "cell_type": "markdown",
   "id": "75aa9605",
   "metadata": {},
   "source": [
    "### Comentário do tipo bloco"
   ]
  },
  {
   "cell_type": "code",
   "execution_count": 3,
   "id": "d816bb6b",
   "metadata": {},
   "outputs": [],
   "source": [
    "# Este é um exemplo de comentário do\n",
    "# tipo bloco. Cada linha contém um \n",
    "# símbolo hashtag separado por um \n",
    "# espaço do conteúdo que desejamos \n",
    "# escrever"
   ]
  },
  {
   "cell_type": "markdown",
   "id": "d2248849",
   "metadata": {},
   "source": [
    "# Conversão do tipo de variáveis"
   ]
  },
  {
   "cell_type": "markdown",
   "id": "8452c442",
   "metadata": {},
   "source": [
    "#### String do tipo caracter para inteiro"
   ]
  },
  {
   "cell_type": "code",
   "execution_count": 5,
   "id": "bd4a17b1",
   "metadata": {},
   "outputs": [
    {
     "ename": "ValueError",
     "evalue": "invalid literal for int() with base 10: 'Pedro'",
     "output_type": "error",
     "traceback": [
      "\u001b[1;31m---------------------------------------------------------------------------\u001b[0m",
      "\u001b[1;31mValueError\u001b[0m                                Traceback (most recent call last)",
      "\u001b[1;32mC:\\Users\\USURIO~3\\AppData\\Local\\Temp/ipykernel_9636/4119452568.py\u001b[0m in \u001b[0;36m<module>\u001b[1;34m\u001b[0m\n\u001b[0;32m      1\u001b[0m \u001b[0mnome\u001b[0m \u001b[1;33m=\u001b[0m \u001b[1;34m'Pedro'\u001b[0m\u001b[1;33m\u001b[0m\u001b[1;33m\u001b[0m\u001b[0m\n\u001b[1;32m----> 2\u001b[1;33m \u001b[0mnome_convertido\u001b[0m \u001b[1;33m=\u001b[0m \u001b[0mint\u001b[0m\u001b[1;33m(\u001b[0m\u001b[0mnome\u001b[0m\u001b[1;33m)\u001b[0m\u001b[1;33m\u001b[0m\u001b[1;33m\u001b[0m\u001b[0m\n\u001b[0m\u001b[0;32m      3\u001b[0m \u001b[0mnome_convertido\u001b[0m\u001b[1;33m\u001b[0m\u001b[1;33m\u001b[0m\u001b[0m\n",
      "\u001b[1;31mValueError\u001b[0m: invalid literal for int() with base 10: 'Pedro'"
     ]
    }
   ],
   "source": [
    "nome = 'Pedro'\n",
    "nome_convertido = int(nome)\n",
    "nome_convertido"
   ]
  },
  {
   "cell_type": "markdown",
   "id": "631994e5",
   "metadata": {},
   "source": [
    "Não é possível converter uma string para inteiro, como visto acima. "
   ]
  },
  {
   "cell_type": "markdown",
   "id": "5ccb7edc",
   "metadata": {},
   "source": [
    "#### String numérica para inteiro"
   ]
  },
  {
   "cell_type": "code",
   "execution_count": 6,
   "id": "6a106da5",
   "metadata": {},
   "outputs": [
    {
     "data": {
      "text/plain": [
       "32"
      ]
     },
     "execution_count": 6,
     "metadata": {},
     "output_type": "execute_result"
    }
   ],
   "source": [
    "idade = '32'\n",
    "idade_convertida = int(idade)\n",
    "idade_convertida"
   ]
  },
  {
   "cell_type": "markdown",
   "id": "3c9baca5",
   "metadata": {},
   "source": [
    "Por mais que estejamos atribuindo uma string à variável \"idade\", o conteúdo é similar a um valor inteiro, então o computador faz a conversão. "
   ]
  },
  {
   "cell_type": "code",
   "execution_count": 7,
   "id": "e83233a3",
   "metadata": {},
   "outputs": [
    {
     "data": {
      "text/plain": [
       "int"
      ]
     },
     "execution_count": 7,
     "metadata": {},
     "output_type": "execute_result"
    }
   ],
   "source": [
    "type(idade_convertida)"
   ]
  },
  {
   "cell_type": "markdown",
   "id": "c52313ea",
   "metadata": {},
   "source": [
    "#### String numérica para float"
   ]
  },
  {
   "cell_type": "code",
   "execution_count": 9,
   "id": "a1f3c5d0",
   "metadata": {},
   "outputs": [
    {
     "data": {
      "text/plain": [
       "32.0"
      ]
     },
     "execution_count": 9,
     "metadata": {},
     "output_type": "execute_result"
    }
   ],
   "source": [
    "idade = '32'\n",
    "idade_convertida = float(idade)\n",
    "idade_convertida"
   ]
  },
  {
   "cell_type": "code",
   "execution_count": 10,
   "id": "b2a3a269",
   "metadata": {},
   "outputs": [
    {
     "data": {
      "text/plain": [
       "float"
      ]
     },
     "execution_count": 10,
     "metadata": {},
     "output_type": "execute_result"
    }
   ],
   "source": [
    "type(idade_convertida)"
   ]
  },
  {
   "cell_type": "markdown",
   "id": "802f6fbd",
   "metadata": {},
   "source": [
    "O mesmo ocorre para a conversão de uma string - com característica numérica - para um número real. "
   ]
  },
  {
   "cell_type": "markdown",
   "id": "acc39edc",
   "metadata": {},
   "source": [
    "#### Inteiro para string"
   ]
  },
  {
   "cell_type": "code",
   "execution_count": 12,
   "id": "2f99e655",
   "metadata": {},
   "outputs": [
    {
     "data": {
      "text/plain": [
       "'32'"
      ]
     },
     "execution_count": 12,
     "metadata": {},
     "output_type": "execute_result"
    }
   ],
   "source": [
    "idade = 32\n",
    "idade_convertida = str(idade)\n",
    "idade_convertida"
   ]
  },
  {
   "cell_type": "code",
   "execution_count": 13,
   "id": "dc986667",
   "metadata": {},
   "outputs": [
    {
     "data": {
      "text/plain": [
       "str"
      ]
     },
     "execution_count": 13,
     "metadata": {},
     "output_type": "execute_result"
    }
   ],
   "source": [
    "type(idade_convertida)"
   ]
  },
  {
   "cell_type": "markdown",
   "id": "284fca14",
   "metadata": {},
   "source": [
    "Qualquer conteúdo poder convertido para string. "
   ]
  },
  {
   "cell_type": "markdown",
   "id": "27345687",
   "metadata": {},
   "source": [
    "# Veracidade no Python"
   ]
  },
  {
   "cell_type": "markdown",
   "id": "3268517d",
   "metadata": {},
   "source": [
    "O Python entende uma série de índices booleanos como falsos. Para podermos tomar cuidado ao usá-los, segue abaixo uma lista de booleanos considerados falsos. "
   ]
  },
  {
   "cell_type": "code",
   "execution_count": 15,
   "id": "a5f6411b",
   "metadata": {},
   "outputs": [
    {
     "name": "stdout",
     "output_type": "stream",
     "text": [
      "A função sem parâmetro retorna: False.\n",
      "A função com aspas como parâmetro retorna: False.\n",
      "A função com zero inteiro como parâmetro retorna: False.\n",
      "A função com zero real como parâmetro retorna: False.\n",
      "A função com uma lista vazia como parâmetro retorna: False.\n",
      "A função com um dicionário vazio como parâmetro retorna: False.\n",
      "A função com 'None' como parâmetro retorna: False.\n"
     ]
    }
   ],
   "source": [
    "print(f\"A função sem parâmetro retorna: {bool()}.\")\n",
    "print(f\"A função com aspas como parâmetro retorna: {bool('')}.\")\n",
    "print(f\"A função com zero inteiro como parâmetro retorna: {bool(0)}.\")\n",
    "print(f\"A função com zero real como parâmetro retorna: {bool(0.0)}.\")\n",
    "print(f\"A função com uma lista vazia como parâmetro retorna: {bool([])}.\")\n",
    "print(f\"A função com um dicionário vazio como parâmetro retorna: {bool({})}.\")\n",
    "print(f\"A função com 'None' como parâmetro retorna: {bool(None)}.\")"
   ]
  },
  {
   "cell_type": "markdown",
   "id": "9a194768",
   "metadata": {},
   "source": [
    "Resumidamente, o Python entende tudo que não tem conteúdo como falso. Por outro, ele também entende tudo que tem conteúdo como verdadeiro. "
   ]
  },
  {
   "cell_type": "markdown",
   "id": "a39b4c52",
   "metadata": {},
   "source": [
    "# Leitura e escrita básica"
   ]
  },
  {
   "cell_type": "markdown",
   "id": "f4d3658b",
   "metadata": {},
   "source": [
    "A maneira mais básica de ler algo digitado pelo usuário, em Python, é utilizando a função *input*. "
   ]
  },
  {
   "cell_type": "code",
   "execution_count": 16,
   "id": "aebfdeab",
   "metadata": {},
   "outputs": [
    {
     "name": "stdout",
     "output_type": "stream",
     "text": [
      "Digite a sua idade: 28\n"
     ]
    }
   ],
   "source": [
    "dado_inserido = input(\"Digite a sua idade: \")"
   ]
  },
  {
   "cell_type": "code",
   "execution_count": 17,
   "id": "7330a8aa",
   "metadata": {},
   "outputs": [
    {
     "data": {
      "text/plain": [
       "'28'"
      ]
     },
     "execution_count": 17,
     "metadata": {},
     "output_type": "execute_result"
    }
   ],
   "source": [
    "dado_inserido"
   ]
  },
  {
   "cell_type": "markdown",
   "id": "c74f6201",
   "metadata": {},
   "source": [
    "Como visto acima, tudo que for lido pela função *input* será entendido como *str*. Para converter o conteúdo digitado, fazemos:"
   ]
  },
  {
   "cell_type": "code",
   "execution_count": 18,
   "id": "da973d84",
   "metadata": {},
   "outputs": [
    {
     "name": "stdout",
     "output_type": "stream",
     "text": [
      "Digite a sua idade: 28\n"
     ]
    }
   ],
   "source": [
    "dado_inserido = int(input(\"Digite a sua idade: \"))"
   ]
  },
  {
   "cell_type": "code",
   "execution_count": 19,
   "id": "ac9d1386",
   "metadata": {},
   "outputs": [
    {
     "data": {
      "text/plain": [
       "28"
      ]
     },
     "execution_count": 19,
     "metadata": {},
     "output_type": "execute_result"
    }
   ],
   "source": [
    "dado_inserido"
   ]
  },
  {
   "cell_type": "code",
   "execution_count": 20,
   "id": "58202782",
   "metadata": {},
   "outputs": [
    {
     "name": "stdout",
     "output_type": "stream",
     "text": [
      "Digite a sua altura em metros: 1.70\n"
     ]
    }
   ],
   "source": [
    "altura_inserida = float(input(\"Digite a sua altura em metros: \"))"
   ]
  },
  {
   "cell_type": "code",
   "execution_count": 21,
   "id": "8ab3f3b2",
   "metadata": {},
   "outputs": [
    {
     "data": {
      "text/plain": [
       "float"
      ]
     },
     "execution_count": 21,
     "metadata": {},
     "output_type": "execute_result"
    }
   ],
   "source": [
    "type(altura_inserida)"
   ]
  },
  {
   "cell_type": "markdown",
   "id": "72ce09e0",
   "metadata": {},
   "source": [
    "Para leitura de dados do usuário, então, usamos a função *input*. Para a escrita de dados na tela, usamos a função *print*. "
   ]
  },
  {
   "cell_type": "markdown",
   "id": "21797f3d",
   "metadata": {},
   "source": [
    "# Erros mais comuns"
   ]
  },
  {
   "cell_type": "markdown",
   "id": "f31dab41",
   "metadata": {},
   "source": [
    "- Python é Case Sensitive:\n",
    "nome != Nome.\n",
    "\n",
    "- Erros de digitação: escrita errada, tais como erros ortográficos, letra a menos ou a mais, etc.\n",
    "\n",
    "- Palavras reservadas: palavras que o compilador utiliza para alguma tarefa. \n",
    "Ex: if, True, False, int, list, etc. As palavras reservadas são destacadas, automaticamente, pela cor verde no Python."
   ]
  },
  {
   "cell_type": "markdown",
   "id": "6be86a3c",
   "metadata": {},
   "source": [
    "Se usarmos o sinal *underscore* na frente ou atrás da palavra reservada, ele se torna uma palavra não reservada. Contudo, devemos tomar cuidado com o sinal na frente da variável, porque remete à variável privada."
   ]
  },
  {
   "cell_type": "markdown",
   "id": "c49d2372",
   "metadata": {},
   "source": [
    "- Identação: necessidade ou ausência de espaços. Obs: o Python aceita, quando há apenas uma linha de comando, identação fora da regra:"
   ]
  },
  {
   "cell_type": "code",
   "execution_count": 22,
   "id": "fcb5ef1b",
   "metadata": {},
   "outputs": [
    {
     "name": "stdout",
     "output_type": "stream",
     "text": [
      "Lucas\n"
     ]
    }
   ],
   "source": [
    "nome = \"Lucas\"\n",
    "\n",
    "if (nome): print(nome)"
   ]
  },
  {
   "cell_type": "code",
   "execution_count": 23,
   "id": "28dce910",
   "metadata": {},
   "outputs": [
    {
     "name": "stdout",
     "output_type": "stream",
     "text": [
      "Lucas\n"
     ]
    }
   ],
   "source": [
    "if (nome):\n",
    " print(nome)"
   ]
  },
  {
   "cell_type": "code",
   "execution_count": 24,
   "id": "1e91c94a",
   "metadata": {},
   "outputs": [
    {
     "name": "stdout",
     "output_type": "stream",
     "text": [
      "Lucas\n"
     ]
    }
   ],
   "source": [
    "if (nome):\n",
    "  print(nome) "
   ]
  },
  {
   "cell_type": "code",
   "execution_count": 25,
   "id": "c2486321",
   "metadata": {},
   "outputs": [
    {
     "name": "stdout",
     "output_type": "stream",
     "text": [
      "Lucas\n"
     ]
    }
   ],
   "source": [
    "if (nome):\n",
    "   print(nome) "
   ]
  },
  {
   "cell_type": "markdown",
   "id": "c693b4ca",
   "metadata": {},
   "source": [
    "Ainda sobre a identação, quando não padronizada, ela pode colocar o que está fora do 'if' no mesmo nível hierárquico do 'if'. Assim, o Python executará ou não o que está dentro do 'if' (a depender se a condição for atendida) e obrigatoriamente executará tudo que estiver fora, ou seja, no mesmo nível hierárquico do 'if'. Exemplo:"
   ]
  },
  {
   "cell_type": "code",
   "execution_count": 26,
   "id": "0769cf9c",
   "metadata": {},
   "outputs": [
    {
     "name": "stdout",
     "output_type": "stream",
     "text": [
      "Fim.\n"
     ]
    }
   ],
   "source": [
    "if (False):\n",
    "    print(\"Olá!\")\n",
    "    print(\"Tudo bem?\")\n",
    "print(\"Fim.\")"
   ]
  },
  {
   "cell_type": "code",
   "execution_count": 27,
   "id": "4b4372a2",
   "metadata": {},
   "outputs": [
    {
     "name": "stdout",
     "output_type": "stream",
     "text": [
      "Olá!\n",
      "Tudo bem?\n",
      "Fim.\n"
     ]
    }
   ],
   "source": [
    "if (True):\n",
    "    print(\"Olá!\")\n",
    "    print(\"Tudo bem?\")\n",
    "print(\"Fim.\")"
   ]
  },
  {
   "cell_type": "markdown",
   "id": "f2d0ba1d",
   "metadata": {},
   "source": [
    "Note que o comando contendo a string \"Fim.\" foi executado todas as vezes. A diferença foi ao executar o que está dentro do 'if', a partir das condições True ou False. "
   ]
  },
  {
   "cell_type": "markdown",
   "id": "b26ee462",
   "metadata": {},
   "source": [
    "# Problema 1"
   ]
  },
  {
   "cell_type": "markdown",
   "id": "769d0a82",
   "metadata": {},
   "source": [
    "Codifique uma aplicação que receba como entrada dois números reais. A aplicação deve receber também um terceiro caractere, que deve ser um sinal de operação (+, -, * ou /). Em seguida, a aplicação deve fazer a operação e exibir o valor na tela. \n",
    "\n",
    "Em caso de divisão, se o segundo número recebido for 0, então o usuário deve receber a mensagem: \"Impossível dividir um número por zero\". "
   ]
  },
  {
   "cell_type": "code",
   "execution_count": 28,
   "id": "672128bc",
   "metadata": {},
   "outputs": [
    {
     "name": "stdout",
     "output_type": "stream",
     "text": [
      "Informe o primeiro valor: 10\n",
      "Informe o segundo valor: 0\n",
      "Informe o sinal da operação (+, -, * ou /): /\n",
      "\n",
      "Impossível dividir um número por zero!\n",
      "Informe outro valor em vez de 0: 0\n",
      "\n",
      "Impossível dividir um número por zero!\n",
      "Informe outro valor em vez de 0: 0\n",
      "\n",
      "Impossível dividir um número por zero!\n",
      "Informe outro valor em vez de 0: 0\n",
      "\n",
      "Impossível dividir um número por zero!\n",
      "Informe outro valor em vez de 0: 2.5\n",
      "O resultado da operação é: 4.0.\n"
     ]
    }
   ],
   "source": [
    "num1 = float(input(\"Informe o primeiro valor: \"))\n",
    "num2 = float(input(\"Informe o segundo valor: \"))\n",
    "sinal = input(\"Informe o sinal da operação (+, -, * ou /): \")\n",
    "\n",
    "\n",
    "if ((sinal == '/') and (num2 == 0)):\n",
    "    while (num2 == 0):\n",
    "        print(\"\\nImpossível dividir um número por zero!\")\n",
    "        num2 = float(input(\"Informe outro valor em vez de 0: \"))\n",
    "        \n",
    "        if (num2 != 0):\n",
    "            print(f\"O resultado da operação é: {num1/num2}.\")\n",
    "        \n",
    "elif ((sinal == '/') and (num2 != 0)):\n",
    "    print(f\"\\nO resultado da operação é: {num1/num2}.\")\n",
    "    \n",
    "elif (sinal == '+'):\n",
    "    print(f\"\\nO resultado da operação é: {num1 + num2}.\")\n",
    "\n",
    "elif (sinal == '-'):\n",
    "    print(f\"\\nO resultado da operação é: {num1 - num2}.\")\n",
    "    \n",
    "else:\n",
    "    print(f\"\\nO resultado da operação é: {num1 * num2}.\")"
   ]
  },
  {
   "cell_type": "markdown",
   "id": "0fc46fd9",
   "metadata": {},
   "source": [
    "# Problema 2"
   ]
  },
  {
   "cell_type": "markdown",
   "id": "7a740974",
   "metadata": {},
   "source": [
    "A prefeitura de Itaipeva abriu uma linha de crédito para funcionários estatuários. O valor máximo da prestação não poderá ultrapassar 30% do salário bruto.\n",
    "\n",
    "Faça uma aplicação que permita entrar com o salário bruto, o valor do empréstimo e o número de parcelas. O programa deve informar o valor da parcela e se o empréstimo pode ou não ser concedido. Caso o empréstimo não possa ser concedido, informar o valor máximo do empréstimo. "
   ]
  },
  {
   "cell_type": "code",
   "execution_count": 34,
   "id": "5569c703",
   "metadata": {},
   "outputs": [
    {
     "name": "stdout",
     "output_type": "stream",
     "text": [
      "Seja bem-vindx ao programa de linha de crédito para funcionários estatuários!\n",
      "\n",
      "Para o seu melhor atendimento, informe os valores necessários para analisarmos o seu pedido.\n",
      "\n",
      "Informe seu salário bruto: 1500.00\n",
      "Informe o valor desejado para o empréstimo: 460.00\n",
      "Informe o número de parcelas desejadas: 10\n",
      "O valor máximo do empréstimo que podemos conceder para você é: R$ 450.0.\n",
      "\n",
      "Por favor, informe um valor desejado menor para o empréstimo: 455.00\n",
      "O valor máximo do empréstimo que podemos conceder para você é: R$ 450.0.\n",
      "\n",
      "Por favor, informe um valor desejado menor para o empréstimo: 451\n",
      "O valor máximo do empréstimo que podemos conceder para você é: R$ 450.0.\n",
      "\n",
      "Por favor, informe um valor desejado menor para o empréstimo: 450.1\n",
      "O valor máximo do empréstimo que podemos conceder para você é: R$ 450.0.\n",
      "\n",
      "Por favor, informe um valor desejado menor para o empréstimo: 450.00\n",
      "O valor da parcela é: R$ 45.0.\n"
     ]
    }
   ],
   "source": [
    "print(\"Seja bem-vindx ao programa de linha de crédito para funcionários estatuários!\\n\")\n",
    "print(\"Para o seu melhor atendimento, informe os valores necessários para analisarmos o seu pedido.\\n\")\n",
    "\n",
    "sal = float(input(\"Informe seu salário bruto: \"))\n",
    "emp = float(input(\"Informe o valor desejado para o empréstimo: \"))\n",
    "par = int(input(\"Informe o número de parcelas desejadas: \"))\n",
    "\n",
    "if (emp > 0.3*sal):\n",
    "    while (emp > 0.3*sal):\n",
    "        print(f\"O valor máximo do empréstimo que podemos conceder para você é: R$ {round(0.3*sal, 2)}.\\n\")\n",
    "        emp = float(input(\"Por favor, informe um valor desejado menor para o empréstimo: \"))\n",
    "        \n",
    "        if (emp <= 0.3*sal):\n",
    "            print(f\"O valor da parcela é: R$ {round(emp/par, 2)}.\")\n",
    "            \n",
    "else:\n",
    "    print(f\"O valor da parcela é: R$ {round(emp/par), 2}.\")"
   ]
  },
  {
   "cell_type": "code",
   "execution_count": null,
   "id": "3a3d4348",
   "metadata": {},
   "outputs": [],
   "source": []
  }
 ],
 "metadata": {
  "kernelspec": {
   "display_name": "Python 3 (ipykernel)",
   "language": "python",
   "name": "python3"
  },
  "language_info": {
   "codemirror_mode": {
    "name": "ipython",
    "version": 3
   },
   "file_extension": ".py",
   "mimetype": "text/x-python",
   "name": "python",
   "nbconvert_exporter": "python",
   "pygments_lexer": "ipython3",
   "version": "3.9.6"
  }
 },
 "nbformat": 4,
 "nbformat_minor": 5
}
