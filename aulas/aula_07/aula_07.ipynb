{
 "cells": [
  {
   "cell_type": "markdown",
   "id": "80380c8b",
   "metadata": {},
   "source": [
    "# Tratamento de Erros II"
   ]
  },
  {
   "cell_type": "markdown",
   "id": "df7740ae",
   "metadata": {},
   "source": [
    "## Exercício"
   ]
  },
  {
   "cell_type": "markdown",
   "id": "848f7903",
   "metadata": {},
   "source": [
    "Imagine que você trabalhe em uma empresa e seu chefe falou o seguinte:\n",
    "\n",
    "\"O estagiário começou a criar um *script* que será utilizado para trazer a somatória dos likes dos *posts* do *blog* da empresa. Porém, ele está com dificuldade de fazer o *script*. Ajude-o a realizar a tarefa. O *script* em questão deve trazer a somatória de *Likes* de todos os *posts* e, caso não exista a coluna *Likes*, o *script* deve criar a chave *Like* e adicionar o valor zero.\"\n",
    "\n",
    "O código do estagiário é o seguinte:"
   ]
  },
  {
   "cell_type": "code",
   "execution_count": 1,
   "id": "827e0cfc",
   "metadata": {},
   "outputs": [],
   "source": [
    "# Lista com os dados dos posts do blog\n",
    "blog_posts = [\n",
    "    {'Photos': 3, 'Likes': 21, 'Comments': 2},\n",
    "    {'Photos': 3, 'Likes': 19, 'Comments': 3},\n",
    "    {'Photos': 5, 'Likes': 33, 'Comments': 8, 'Shares': 3},\n",
    "    {'Photos': 8, 'Comments': 1, 'Shares': 1},\n",
    "    {'Likes': 13, 'Comments': 2, 'Shares': 1},\n",
    "    {'Comments': 4, 'Shares': 2},\n",
    "]"
   ]
  },
  {
   "cell_type": "code",
   "execution_count": 2,
   "id": "8c06511f",
   "metadata": {},
   "outputs": [
    {
     "ename": "KeyError",
     "evalue": "'Likes'",
     "output_type": "error",
     "traceback": [
      "\u001b[1;31m---------------------------------------------------------------------------\u001b[0m",
      "\u001b[1;31mKeyError\u001b[0m                                  Traceback (most recent call last)",
      "\u001b[1;32mC:\\Users\\USURIO~3\\AppData\\Local\\Temp/ipykernel_12300/1533864974.py\u001b[0m in \u001b[0;36m<module>\u001b[1;34m\u001b[0m\n\u001b[0;32m      3\u001b[0m \u001b[1;33m\u001b[0m\u001b[0m\n\u001b[0;32m      4\u001b[0m \u001b[1;32mfor\u001b[0m \u001b[0mpost\u001b[0m \u001b[1;32min\u001b[0m \u001b[0mblog_posts\u001b[0m\u001b[1;33m:\u001b[0m\u001b[1;33m\u001b[0m\u001b[1;33m\u001b[0m\u001b[0m\n\u001b[1;32m----> 5\u001b[1;33m     \u001b[0mtotal_likes\u001b[0m \u001b[1;33m=\u001b[0m \u001b[0mtotal_likes\u001b[0m \u001b[1;33m+\u001b[0m \u001b[0mpost\u001b[0m\u001b[1;33m[\u001b[0m\u001b[1;34m'Likes'\u001b[0m\u001b[1;33m]\u001b[0m\u001b[1;33m\u001b[0m\u001b[1;33m\u001b[0m\u001b[0m\n\u001b[0m",
      "\u001b[1;31mKeyError\u001b[0m: 'Likes'"
     ]
    }
   ],
   "source": [
    "# Código do estagiário\n",
    "total_likes = 0\n",
    "\n",
    "for post in blog_posts:\n",
    "    total_likes = total_likes + post['Likes']"
   ]
  },
  {
   "cell_type": "markdown",
   "id": "5cf667ea",
   "metadata": {},
   "source": [
    "Para resolver o erro acima, primeiro vamos verificar em qual momento da execução do código está ocorrendo o erro:"
   ]
  },
  {
   "cell_type": "code",
   "execution_count": 3,
   "id": "0f2a50bc",
   "metadata": {},
   "outputs": [
    {
     "name": "stdout",
     "output_type": "stream",
     "text": [
      "{'Photos': 3, 'Likes': 21, 'Comments': 2}\n",
      "{'Photos': 3, 'Likes': 19, 'Comments': 3}\n",
      "{'Photos': 5, 'Likes': 33, 'Comments': 8, 'Shares': 3}\n",
      "{'Photos': 8, 'Comments': 1, 'Shares': 1}\n"
     ]
    },
    {
     "ename": "KeyError",
     "evalue": "'Likes'",
     "output_type": "error",
     "traceback": [
      "\u001b[1;31m---------------------------------------------------------------------------\u001b[0m",
      "\u001b[1;31mKeyError\u001b[0m                                  Traceback (most recent call last)",
      "\u001b[1;32mC:\\Users\\USURIO~3\\AppData\\Local\\Temp/ipykernel_12300/1529343207.py\u001b[0m in \u001b[0;36m<module>\u001b[1;34m\u001b[0m\n\u001b[0;32m      3\u001b[0m \u001b[1;32mfor\u001b[0m \u001b[0mpost\u001b[0m \u001b[1;32min\u001b[0m \u001b[0mblog_posts\u001b[0m\u001b[1;33m:\u001b[0m\u001b[1;33m\u001b[0m\u001b[1;33m\u001b[0m\u001b[0m\n\u001b[0;32m      4\u001b[0m     \u001b[0mprint\u001b[0m\u001b[1;33m(\u001b[0m\u001b[0mpost\u001b[0m\u001b[1;33m)\u001b[0m\u001b[1;33m\u001b[0m\u001b[1;33m\u001b[0m\u001b[0m\n\u001b[1;32m----> 5\u001b[1;33m     \u001b[0mtotal_likes\u001b[0m \u001b[1;33m=\u001b[0m \u001b[0mtotal_likes\u001b[0m \u001b[1;33m+\u001b[0m \u001b[0mpost\u001b[0m\u001b[1;33m[\u001b[0m\u001b[1;34m'Likes'\u001b[0m\u001b[1;33m]\u001b[0m\u001b[1;33m\u001b[0m\u001b[1;33m\u001b[0m\u001b[0m\n\u001b[0m",
      "\u001b[1;31mKeyError\u001b[0m: 'Likes'"
     ]
    }
   ],
   "source": [
    "total_likes = 0\n",
    "\n",
    "for post in blog_posts:\n",
    "    print(post)\n",
    "    total_likes = total_likes + post['Likes']"
   ]
  },
  {
   "cell_type": "markdown",
   "id": "4a82cba4",
   "metadata": {},
   "source": [
    "A partir do resultado acima, podemos concluir que o erro ocorre após a execução do quarto dicionário. Isso se deve à ausência da coluna/chave 'Likes' no quarto dicionário. "
   ]
  },
  {
   "cell_type": "code",
   "execution_count": 4,
   "id": "3e36ea5c",
   "metadata": {},
   "outputs": [
    {
     "name": "stdout",
     "output_type": "stream",
     "text": [
      "{'Photos': 3, 'Likes': 21, 'Comments': 2}\n",
      "O valor total de likes é: 21.\n",
      "\n",
      "{'Photos': 3, 'Likes': 19, 'Comments': 3}\n",
      "O valor total de likes é: 40.\n",
      "\n",
      "{'Photos': 5, 'Likes': 33, 'Comments': 8, 'Shares': 3}\n",
      "O valor total de likes é: 73.\n",
      "\n",
      "{'Photos': 8, 'Comments': 1, 'Shares': 1}\n"
     ]
    },
    {
     "ename": "KeyError",
     "evalue": "'Likes'",
     "output_type": "error",
     "traceback": [
      "\u001b[1;31m---------------------------------------------------------------------------\u001b[0m",
      "\u001b[1;31mKeyError\u001b[0m                                  Traceback (most recent call last)",
      "\u001b[1;32mC:\\Users\\USURIO~3\\AppData\\Local\\Temp/ipykernel_12300/3224060788.py\u001b[0m in \u001b[0;36m<module>\u001b[1;34m\u001b[0m\n\u001b[0;32m      3\u001b[0m \u001b[1;32mfor\u001b[0m \u001b[0mpost\u001b[0m \u001b[1;32min\u001b[0m \u001b[0mblog_posts\u001b[0m\u001b[1;33m:\u001b[0m\u001b[1;33m\u001b[0m\u001b[1;33m\u001b[0m\u001b[0m\n\u001b[0;32m      4\u001b[0m     \u001b[0mprint\u001b[0m\u001b[1;33m(\u001b[0m\u001b[0mpost\u001b[0m\u001b[1;33m)\u001b[0m\u001b[1;33m\u001b[0m\u001b[1;33m\u001b[0m\u001b[0m\n\u001b[1;32m----> 5\u001b[1;33m     \u001b[0mtotal_likes\u001b[0m \u001b[1;33m=\u001b[0m \u001b[0mtotal_likes\u001b[0m \u001b[1;33m+\u001b[0m \u001b[0mpost\u001b[0m\u001b[1;33m[\u001b[0m\u001b[1;34m'Likes'\u001b[0m\u001b[1;33m]\u001b[0m\u001b[1;33m\u001b[0m\u001b[1;33m\u001b[0m\u001b[0m\n\u001b[0m\u001b[0;32m      6\u001b[0m     \u001b[0mprint\u001b[0m\u001b[1;33m(\u001b[0m\u001b[1;34mf\"O valor total de likes é: {total_likes}.\\n\"\u001b[0m\u001b[1;33m)\u001b[0m\u001b[1;33m\u001b[0m\u001b[1;33m\u001b[0m\u001b[0m\n",
      "\u001b[1;31mKeyError\u001b[0m: 'Likes'"
     ]
    }
   ],
   "source": [
    "total_likes = 0\n",
    "\n",
    "for post in blog_posts:\n",
    "    print(post)\n",
    "    total_likes = total_likes + post['Likes']\n",
    "    print(f\"O valor total de likes é: {total_likes}.\\n\")"
   ]
  },
  {
   "cell_type": "markdown",
   "id": "5089b715",
   "metadata": {},
   "source": [
    "Pelo resultado acima, podemos ver que o erro se dá ao fazer a contagem de 'Likes' do quarto dicionário. Por isso, o valor total não é retornado como nos outros elementos da lista."
   ]
  },
  {
   "cell_type": "code",
   "execution_count": 5,
   "id": "9290197d",
   "metadata": {},
   "outputs": [
    {
     "name": "stdout",
     "output_type": "stream",
     "text": [
      "{'Photos': 3, 'Likes': 21, 'Comments': 2}\n",
      "O valor total de likes é: 21.\n",
      "\n",
      "{'Photos': 3, 'Likes': 19, 'Comments': 3}\n",
      "O valor total de likes é: 40.\n",
      "\n",
      "{'Photos': 5, 'Likes': 33, 'Comments': 8, 'Shares': 3}\n",
      "O valor total de likes é: 73.\n",
      "\n",
      "{'Photos': 8, 'Comments': 1, 'Shares': 1}\n",
      "{'Photos': 8, 'Comments': 1, 'Shares': 1, 'Likes': 0}\n",
      "O valor total de likes é: 73.\n",
      "\n",
      "{'Likes': 13, 'Comments': 2, 'Shares': 1}\n",
      "O valor total de likes é: 86.\n",
      "\n",
      "{'Comments': 4, 'Shares': 2}\n",
      "{'Comments': 4, 'Shares': 2, 'Likes': 0}\n",
      "O valor total de likes é: 86.\n",
      "\n"
     ]
    }
   ],
   "source": [
    "total_likes = 0\n",
    "\n",
    "for post in blog_posts:\n",
    "    try:\n",
    "        print(post)\n",
    "        total_likes = total_likes + post['Likes']\n",
    "        print(f\"O valor total de likes é: {total_likes}.\\n\")\n",
    "    \n",
    "    except:\n",
    "        post['Likes'] = 0 \n",
    "        print(post)\n",
    "        print(f\"O valor total de likes é: {total_likes}.\\n\")"
   ]
  },
  {
   "cell_type": "markdown",
   "id": "befcb896",
   "metadata": {},
   "source": [
    "Outra solução é utilizar um condicional do tipo ***if*** para localizar a chave que desejamos:"
   ]
  },
  {
   "cell_type": "code",
   "execution_count": 6,
   "id": "d2fa708a",
   "metadata": {},
   "outputs": [
    {
     "name": "stdout",
     "output_type": "stream",
     "text": [
      "{'Photos': 3, 'Likes': 21, 'Comments': 2}\n",
      "O valor total de likes é: 21.\n",
      "\n",
      "{'Photos': 3, 'Likes': 19, 'Comments': 3}\n",
      "O valor total de likes é: 40.\n",
      "\n",
      "{'Photos': 5, 'Likes': 33, 'Comments': 8, 'Shares': 3}\n",
      "O valor total de likes é: 73.\n",
      "\n",
      "{'Photos': 8, 'Comments': 1, 'Shares': 1, 'Likes': 0}\n",
      "O valor total de likes é: 73.\n",
      "\n",
      "{'Likes': 13, 'Comments': 2, 'Shares': 1}\n",
      "O valor total de likes é: 86.\n",
      "\n",
      "{'Comments': 4, 'Shares': 2, 'Likes': 0}\n",
      "O valor total de likes é: 86.\n",
      "\n"
     ]
    }
   ],
   "source": [
    "total_likes = 0\n",
    "\n",
    "for post in blog_posts:\n",
    "    if ('Likes' in post.keys()):\n",
    "        print(post)\n",
    "        total_likes = total_likes + post['Likes']\n",
    "        print(f\"O valor total de likes é: {total_likes}.\\n\")\n",
    "        \n",
    "    else:\n",
    "        post['Likes'] = 0\n",
    "        print(f\"O valor total de likes é: {total_likes}.\\n\")"
   ]
  },
  {
   "cell_type": "markdown",
   "id": "faf3e3bd",
   "metadata": {},
   "source": [
    "No condicional acima, a função *keys* retorna um conjunto de chaves de um elemento (*post*) da lista com a qual estamos trabalhando. Como nós precisávamos apenas da chave 'Likes', então a localizamos em cada *post*/elemento. Abaixo o print da função *keys* associada a cada elemento da lista:"
   ]
  },
  {
   "cell_type": "code",
   "execution_count": 7,
   "id": "6c5d9a69",
   "metadata": {},
   "outputs": [
    {
     "name": "stdout",
     "output_type": "stream",
     "text": [
      "dict_keys(['Photos', 'Likes', 'Comments'])\n",
      "dict_keys(['Photos', 'Likes', 'Comments'])\n",
      "dict_keys(['Photos', 'Likes', 'Comments', 'Shares'])\n",
      "dict_keys(['Photos', 'Comments', 'Shares', 'Likes'])\n",
      "dict_keys(['Likes', 'Comments', 'Shares'])\n",
      "dict_keys(['Comments', 'Shares', 'Likes'])\n"
     ]
    }
   ],
   "source": [
    "for post in blog_posts:\n",
    "    print(post.keys())"
   ]
  },
  {
   "cell_type": "markdown",
   "id": "e0430425",
   "metadata": {},
   "source": [
    "Entre as duas soluções acima, é preferível utilizar a com *try... except* porque ela abrange muito mais condições do que a do *if*. "
   ]
  },
  {
   "cell_type": "markdown",
   "id": "c778645b",
   "metadata": {},
   "source": [
    "## Exemplos"
   ]
  },
  {
   "cell_type": "markdown",
   "id": "d7f7cd4a",
   "metadata": {},
   "source": [
    "#### Exemplo 1"
   ]
  },
  {
   "cell_type": "markdown",
   "id": "9f426ed7",
   "metadata": {},
   "source": [
    "O teorema de Pitágoras é uma relação matemática entre os comprimentos dos lados de qualquer triângulo retângulo. Na geometria euclidiana, o teorema afirma que:\n",
    "\n",
    "\"Em qualquer triângulo retângulo, o quadrado do comprimento da hipotenusa é igual à soma dos quadrados dos comprimentos dos catetos.\""
   ]
  },
  {
   "cell_type": "markdown",
   "id": "f9a88564",
   "metadata": {},
   "source": [
    "Crie uma função que receba 03 valores que representarão os lados de um triângulo. Considere que não importa a ordem que serão recebidos os valores, podendo ser recebido primeiro a hipotenusa e depois os catetos, ou primeiro os catetos e depois a hipotenusa, etc.\n",
    "\n",
    "Dados os 03 valores, imprima na tela se trata-se de um triângulo-retângulo ou não.\n",
    "\n",
    "Utilize a função *assert* para testar os resultados."
   ]
  },
  {
   "cell_type": "code",
   "execution_count": 14,
   "id": "138ccd9e",
   "metadata": {},
   "outputs": [
    {
     "name": "stdout",
     "output_type": "stream",
     "text": [
      "Insira o primeiro valor: 1\n",
      "Insira o segundo valor: 7\n",
      "Insira o terceiro valor: 9\n",
      "\n",
      "Infelizmente, os valores inseridos não se tratam de um triângulo-retângulo.\n"
     ]
    }
   ],
   "source": [
    "a = int(input(\"Insira o primeiro valor: \"))\n",
    "b = int(input(\"Insira o segundo valor: \"))\n",
    "c = int(input(\"Insira o terceiro valor: \"))\n",
    "    \n",
    "if (a**2 == b**2 + c**2):\n",
    "    print(\"\\nOs valores inseridos compõem um triângulo-retângulo!\")\n",
    "    \n",
    "elif(b**2 == a**2 + c**2):\n",
    "    print(\"\\nOs valores inseridos compõem um triângulo-retângulo!\")\n",
    "     \n",
    "elif(c**2 == a**2 + b**2):\n",
    "    print(\"\\nOs valores inseridos compõem um triângulo-retângulo!\")\n",
    "    \n",
    "else:\n",
    "    print(\"\\nInfelizmente, os valores inseridos não se tratam de um triângulo-retângulo.\")"
   ]
  },
  {
   "cell_type": "markdown",
   "id": "f217b53b",
   "metadata": {},
   "source": [
    "Outra forma de resolução:"
   ]
  },
  {
   "cell_type": "code",
   "execution_count": 1,
   "id": "873d2e80",
   "metadata": {},
   "outputs": [],
   "source": [
    "import math\n",
    "\n",
    "def triangulo(v1, v2, v3):\n",
    "    lados = [v1, v2, v3]\n",
    "    \n",
    "    hip = max(lados)\n",
    "    lados.remove(hip)\n",
    "    \n",
    "    lad1 = lados[0]\n",
    "    lad2 = lados[1]\n",
    "    \n",
    "    if math.pow(hip, 2) == (math.pow(lad1, 2) + math.pow(lad2, 2)):\n",
    "        return True\n",
    "    \n",
    "    else:\n",
    "        return False"
   ]
  },
  {
   "cell_type": "code",
   "execution_count": 2,
   "id": "1b8598d8",
   "metadata": {},
   "outputs": [
    {
     "data": {
      "text/plain": [
       "True"
      ]
     },
     "execution_count": 2,
     "metadata": {},
     "output_type": "execute_result"
    }
   ],
   "source": [
    "triangulo(5, 12, 13)"
   ]
  },
  {
   "cell_type": "code",
   "execution_count": 3,
   "id": "c9757f3a",
   "metadata": {},
   "outputs": [],
   "source": [
    "assert triangulo(3, 4, 5), \"Não é um triângulo retângulo!\""
   ]
  },
  {
   "cell_type": "code",
   "execution_count": 4,
   "id": "557fbd8d",
   "metadata": {},
   "outputs": [
    {
     "ename": "AssertionError",
     "evalue": "Não é um triângulo retângulo!",
     "output_type": "error",
     "traceback": [
      "\u001b[1;31m---------------------------------------------------------------------------\u001b[0m",
      "\u001b[1;31mAssertionError\u001b[0m                            Traceback (most recent call last)",
      "\u001b[1;32mC:\\Users\\USURIO~3\\AppData\\Local\\Temp/ipykernel_7332/1846578560.py\u001b[0m in \u001b[0;36m<module>\u001b[1;34m\u001b[0m\n\u001b[1;32m----> 1\u001b[1;33m \u001b[1;32massert\u001b[0m \u001b[0mtriangulo\u001b[0m\u001b[1;33m(\u001b[0m\u001b[1;36m3\u001b[0m\u001b[1;33m,\u001b[0m \u001b[1;36m4\u001b[0m\u001b[1;33m,\u001b[0m \u001b[1;36m8\u001b[0m\u001b[1;33m)\u001b[0m\u001b[1;33m,\u001b[0m \u001b[1;34m\"Não é um triângulo retângulo!\"\u001b[0m\u001b[1;33m\u001b[0m\u001b[1;33m\u001b[0m\u001b[0m\n\u001b[0m",
      "\u001b[1;31mAssertionError\u001b[0m: Não é um triângulo retângulo!"
     ]
    }
   ],
   "source": [
    "assert triangulo(3, 4, 8), \"Não é um triângulo retângulo!\""
   ]
  },
  {
   "cell_type": "markdown",
   "id": "20bc06c3",
   "metadata": {},
   "source": [
    "Mais uma forma de resolver:"
   ]
  },
  {
   "cell_type": "code",
   "execution_count": 5,
   "id": "003d3964",
   "metadata": {},
   "outputs": [],
   "source": [
    "import math\n",
    "\n",
    "def triangulo(v1, v2, v3):\n",
    "    lados = [v1, v2, v3]\n",
    "    \n",
    "    hip = max(lados)\n",
    "    lados.remove(hip)\n",
    "    \n",
    "    lad1 = lados[0]\n",
    "    lad2 = lados[1]\n",
    "    \n",
    "    if math.pow(hip, 2) == (math.pow(lad1, 2) + math.pow(lad2, 2)):\n",
    "        return 'Verdadeiro'\n",
    "    \n",
    "    else:\n",
    "        return 'Falso'"
   ]
  },
  {
   "cell_type": "code",
   "execution_count": 6,
   "id": "36b22f51",
   "metadata": {},
   "outputs": [
    {
     "ename": "AssertionError",
     "evalue": "Não é um triângulo retângulo!",
     "output_type": "error",
     "traceback": [
      "\u001b[1;31m---------------------------------------------------------------------------\u001b[0m",
      "\u001b[1;31mAssertionError\u001b[0m                            Traceback (most recent call last)",
      "\u001b[1;32mC:\\Users\\USURIO~3\\AppData\\Local\\Temp/ipykernel_7332/2353895891.py\u001b[0m in \u001b[0;36m<module>\u001b[1;34m\u001b[0m\n\u001b[1;32m----> 1\u001b[1;33m \u001b[1;32massert\u001b[0m \u001b[0mtriangulo\u001b[0m\u001b[1;33m(\u001b[0m\u001b[1;36m3\u001b[0m\u001b[1;33m,\u001b[0m \u001b[1;36m4\u001b[0m\u001b[1;33m,\u001b[0m \u001b[1;36m9\u001b[0m\u001b[1;33m)\u001b[0m \u001b[1;33m==\u001b[0m \u001b[1;34m'Verdadeiro'\u001b[0m\u001b[1;33m,\u001b[0m \u001b[1;34m\"Não é um triângulo retângulo!\"\u001b[0m\u001b[1;33m\u001b[0m\u001b[1;33m\u001b[0m\u001b[0m\n\u001b[0m",
      "\u001b[1;31mAssertionError\u001b[0m: Não é um triângulo retângulo!"
     ]
    }
   ],
   "source": [
    "assert triangulo(3, 4, 9) == 'Verdadeiro', \"Não é um triângulo retângulo!\""
   ]
  },
  {
   "cell_type": "code",
   "execution_count": null,
   "id": "ce0c3586",
   "metadata": {},
   "outputs": [],
   "source": []
  }
 ],
 "metadata": {
  "kernelspec": {
   "display_name": "Python 3 (ipykernel)",
   "language": "python",
   "name": "python3"
  },
  "language_info": {
   "codemirror_mode": {
    "name": "ipython",
    "version": 3
   },
   "file_extension": ".py",
   "mimetype": "text/x-python",
   "name": "python",
   "nbconvert_exporter": "python",
   "pygments_lexer": "ipython3",
   "version": "3.9.6"
  }
 },
 "nbformat": 4,
 "nbformat_minor": 5
}
