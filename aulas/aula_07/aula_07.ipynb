{
 "cells": [
  {
   "cell_type": "markdown",
   "id": "80380c8b",
   "metadata": {},
   "source": [
    "# Tratamento de Erros II"
   ]
  },
  {
   "cell_type": "markdown",
   "id": "df7740ae",
   "metadata": {},
   "source": [
    "## Exercícios"
   ]
  },
  {
   "cell_type": "markdown",
   "id": "848f7903",
   "metadata": {},
   "source": [
    "Imagine que você trabalhe em uma empresa e seu chefe falou o seguinte:\n",
    "\n",
    "\"O estagiário começou a criar um *script* que será utilizado para trazer a somatória dos likes dos *posts* do *blog* da empresa. Porém, ele está com dificuldade de fazer o *script*. Ajude-o a realizar a tarefa. O *script* em questão deve trazer a somatória de *Likes* de todos os *posts* e, caso não exista a coluna *Likes*, o *script* deve criar a chave *Like* e adicionar o valor zero.\"\n",
    "\n",
    "O código do estagiário é o seguinte:"
   ]
  },
  {
   "cell_type": "code",
   "execution_count": 1,
   "id": "827e0cfc",
   "metadata": {},
   "outputs": [],
   "source": [
    "# Lista com os dados dos posts do blog\n",
    "blog_posts = [\n",
    "    {'Photos': 3, 'Likes': 21, 'Comments': 2},\n",
    "    {'Photos': 3, 'Likes': 19, 'Comments': 3},\n",
    "    {'Photos': 5, 'Likes': 33, 'Comments': 8, 'Shares': 3},\n",
    "    {'Photos': 8, 'Comments': 1, 'Shares': 1},\n",
    "    {'Likes': 13, 'Comments': 2, 'Shares': 1},\n",
    "    {'Comments': 4, 'Shares': 2},\n",
    "]"
   ]
  },
  {
   "cell_type": "code",
   "execution_count": 2,
   "id": "8c06511f",
   "metadata": {},
   "outputs": [
    {
     "ename": "KeyError",
     "evalue": "'Likes'",
     "output_type": "error",
     "traceback": [
      "\u001b[1;31m---------------------------------------------------------------------------\u001b[0m",
      "\u001b[1;31mKeyError\u001b[0m                                  Traceback (most recent call last)",
      "\u001b[1;32mC:\\Users\\USURIO~3\\AppData\\Local\\Temp/ipykernel_9628/1533864974.py\u001b[0m in \u001b[0;36m<module>\u001b[1;34m\u001b[0m\n\u001b[0;32m      3\u001b[0m \u001b[1;33m\u001b[0m\u001b[0m\n\u001b[0;32m      4\u001b[0m \u001b[1;32mfor\u001b[0m \u001b[0mpost\u001b[0m \u001b[1;32min\u001b[0m \u001b[0mblog_posts\u001b[0m\u001b[1;33m:\u001b[0m\u001b[1;33m\u001b[0m\u001b[1;33m\u001b[0m\u001b[0m\n\u001b[1;32m----> 5\u001b[1;33m     \u001b[0mtotal_likes\u001b[0m \u001b[1;33m=\u001b[0m \u001b[0mtotal_likes\u001b[0m \u001b[1;33m+\u001b[0m \u001b[0mpost\u001b[0m\u001b[1;33m[\u001b[0m\u001b[1;34m'Likes'\u001b[0m\u001b[1;33m]\u001b[0m\u001b[1;33m\u001b[0m\u001b[1;33m\u001b[0m\u001b[0m\n\u001b[0m",
      "\u001b[1;31mKeyError\u001b[0m: 'Likes'"
     ]
    }
   ],
   "source": [
    "# Código do estagiário\n",
    "total_likes = 0\n",
    "\n",
    "for post in blog_posts:\n",
    "    total_likes = total_likes + post['Likes']"
   ]
  },
  {
   "cell_type": "markdown",
   "id": "5cf667ea",
   "metadata": {},
   "source": [
    "Para resolver o erro acima, primeiro vamos verificar em qual momento da execução do código está ocorrendo o erro:"
   ]
  },
  {
   "cell_type": "code",
   "execution_count": 3,
   "id": "0f2a50bc",
   "metadata": {},
   "outputs": [
    {
     "name": "stdout",
     "output_type": "stream",
     "text": [
      "{'Photos': 3, 'Likes': 21, 'Comments': 2}\n",
      "{'Photos': 3, 'Likes': 19, 'Comments': 3}\n",
      "{'Photos': 5, 'Likes': 33, 'Comments': 8, 'Shares': 3}\n",
      "{'Photos': 8, 'Comments': 1, 'Shares': 1}\n"
     ]
    },
    {
     "ename": "KeyError",
     "evalue": "'Likes'",
     "output_type": "error",
     "traceback": [
      "\u001b[1;31m---------------------------------------------------------------------------\u001b[0m",
      "\u001b[1;31mKeyError\u001b[0m                                  Traceback (most recent call last)",
      "\u001b[1;32mC:\\Users\\USURIO~3\\AppData\\Local\\Temp/ipykernel_9628/1529343207.py\u001b[0m in \u001b[0;36m<module>\u001b[1;34m\u001b[0m\n\u001b[0;32m      3\u001b[0m \u001b[1;32mfor\u001b[0m \u001b[0mpost\u001b[0m \u001b[1;32min\u001b[0m \u001b[0mblog_posts\u001b[0m\u001b[1;33m:\u001b[0m\u001b[1;33m\u001b[0m\u001b[1;33m\u001b[0m\u001b[0m\n\u001b[0;32m      4\u001b[0m     \u001b[0mprint\u001b[0m\u001b[1;33m(\u001b[0m\u001b[0mpost\u001b[0m\u001b[1;33m)\u001b[0m\u001b[1;33m\u001b[0m\u001b[1;33m\u001b[0m\u001b[0m\n\u001b[1;32m----> 5\u001b[1;33m     \u001b[0mtotal_likes\u001b[0m \u001b[1;33m=\u001b[0m \u001b[0mtotal_likes\u001b[0m \u001b[1;33m+\u001b[0m \u001b[0mpost\u001b[0m\u001b[1;33m[\u001b[0m\u001b[1;34m'Likes'\u001b[0m\u001b[1;33m]\u001b[0m\u001b[1;33m\u001b[0m\u001b[1;33m\u001b[0m\u001b[0m\n\u001b[0m",
      "\u001b[1;31mKeyError\u001b[0m: 'Likes'"
     ]
    }
   ],
   "source": [
    "total_likes = 0\n",
    "\n",
    "for post in blog_posts:\n",
    "    print(post)\n",
    "    total_likes = total_likes + post['Likes']"
   ]
  },
  {
   "cell_type": "markdown",
   "id": "4a82cba4",
   "metadata": {},
   "source": [
    "A partir do resultado acima, podemos concluir que o erro ocorre após a execução do quarto dicionário. Isso se deve à ausência da coluna/chave 'Likes' no quarto dicionário. "
   ]
  },
  {
   "cell_type": "code",
   "execution_count": 4,
   "id": "3e36ea5c",
   "metadata": {},
   "outputs": [
    {
     "name": "stdout",
     "output_type": "stream",
     "text": [
      "{'Photos': 3, 'Likes': 21, 'Comments': 2}\n",
      "O valor total de likes é: 21.\n",
      "\n",
      "{'Photos': 3, 'Likes': 19, 'Comments': 3}\n",
      "O valor total de likes é: 40.\n",
      "\n",
      "{'Photos': 5, 'Likes': 33, 'Comments': 8, 'Shares': 3}\n",
      "O valor total de likes é: 73.\n",
      "\n",
      "{'Photos': 8, 'Comments': 1, 'Shares': 1}\n"
     ]
    },
    {
     "ename": "KeyError",
     "evalue": "'Likes'",
     "output_type": "error",
     "traceback": [
      "\u001b[1;31m---------------------------------------------------------------------------\u001b[0m",
      "\u001b[1;31mKeyError\u001b[0m                                  Traceback (most recent call last)",
      "\u001b[1;32mC:\\Users\\USURIO~3\\AppData\\Local\\Temp/ipykernel_9628/3224060788.py\u001b[0m in \u001b[0;36m<module>\u001b[1;34m\u001b[0m\n\u001b[0;32m      3\u001b[0m \u001b[1;32mfor\u001b[0m \u001b[0mpost\u001b[0m \u001b[1;32min\u001b[0m \u001b[0mblog_posts\u001b[0m\u001b[1;33m:\u001b[0m\u001b[1;33m\u001b[0m\u001b[1;33m\u001b[0m\u001b[0m\n\u001b[0;32m      4\u001b[0m     \u001b[0mprint\u001b[0m\u001b[1;33m(\u001b[0m\u001b[0mpost\u001b[0m\u001b[1;33m)\u001b[0m\u001b[1;33m\u001b[0m\u001b[1;33m\u001b[0m\u001b[0m\n\u001b[1;32m----> 5\u001b[1;33m     \u001b[0mtotal_likes\u001b[0m \u001b[1;33m=\u001b[0m \u001b[0mtotal_likes\u001b[0m \u001b[1;33m+\u001b[0m \u001b[0mpost\u001b[0m\u001b[1;33m[\u001b[0m\u001b[1;34m'Likes'\u001b[0m\u001b[1;33m]\u001b[0m\u001b[1;33m\u001b[0m\u001b[1;33m\u001b[0m\u001b[0m\n\u001b[0m\u001b[0;32m      6\u001b[0m     \u001b[0mprint\u001b[0m\u001b[1;33m(\u001b[0m\u001b[1;34mf\"O valor total de likes é: {total_likes}.\\n\"\u001b[0m\u001b[1;33m)\u001b[0m\u001b[1;33m\u001b[0m\u001b[1;33m\u001b[0m\u001b[0m\n",
      "\u001b[1;31mKeyError\u001b[0m: 'Likes'"
     ]
    }
   ],
   "source": [
    "total_likes = 0\n",
    "\n",
    "for post in blog_posts:\n",
    "    print(post)\n",
    "    total_likes = total_likes + post['Likes']\n",
    "    print(f\"O valor total de likes é: {total_likes}.\\n\")"
   ]
  },
  {
   "cell_type": "markdown",
   "id": "5089b715",
   "metadata": {},
   "source": [
    "Pelo resultado acima, podemos ver que o erro se dá ao fazer a contagem de 'Likes' do quarto dicionário. Por isso, o valor total não é retornado como nos outros elementos da lista."
   ]
  },
  {
   "cell_type": "code",
   "execution_count": 5,
   "id": "9290197d",
   "metadata": {},
   "outputs": [
    {
     "name": "stdout",
     "output_type": "stream",
     "text": [
      "{'Photos': 3, 'Likes': 21, 'Comments': 2}\n",
      "O valor total de likes é: 21.\n",
      "\n",
      "{'Photos': 3, 'Likes': 19, 'Comments': 3}\n",
      "O valor total de likes é: 40.\n",
      "\n",
      "{'Photos': 5, 'Likes': 33, 'Comments': 8, 'Shares': 3}\n",
      "O valor total de likes é: 73.\n",
      "\n",
      "{'Photos': 8, 'Comments': 1, 'Shares': 1}\n",
      "{'Photos': 8, 'Comments': 1, 'Shares': 1, 'Likes': 0}\n",
      "O valor total de likes é: 73.\n",
      "\n",
      "{'Likes': 13, 'Comments': 2, 'Shares': 1}\n",
      "O valor total de likes é: 86.\n",
      "\n",
      "{'Comments': 4, 'Shares': 2}\n",
      "{'Comments': 4, 'Shares': 2, 'Likes': 0}\n",
      "O valor total de likes é: 86.\n",
      "\n"
     ]
    }
   ],
   "source": [
    "total_likes = 0\n",
    "\n",
    "for post in blog_posts:\n",
    "    try:\n",
    "        print(post)\n",
    "        total_likes = total_likes + post['Likes']\n",
    "        print(f\"O valor total de likes é: {total_likes}.\\n\")\n",
    "    \n",
    "    except:\n",
    "        post['Likes'] = 0 \n",
    "        print(post)\n",
    "        print(f\"O valor total de likes é: {total_likes}.\\n\")"
   ]
  },
  {
   "cell_type": "markdown",
   "id": "45229b11",
   "metadata": {},
   "source": [
    "Outra solução é utilizar um condicional do tipo ***if*** para localizar a chave que desejamos:"
   ]
  },
  {
   "cell_type": "code",
   "execution_count": 6,
   "id": "2749a3b1",
   "metadata": {},
   "outputs": [
    {
     "name": "stdout",
     "output_type": "stream",
     "text": [
      "{'Photos': 3, 'Likes': 21, 'Comments': 2}\n",
      "O valor total de likes é: 21.\n",
      "\n",
      "{'Photos': 3, 'Likes': 19, 'Comments': 3}\n",
      "O valor total de likes é: 40.\n",
      "\n",
      "{'Photos': 5, 'Likes': 33, 'Comments': 8, 'Shares': 3}\n",
      "O valor total de likes é: 73.\n",
      "\n",
      "{'Photos': 8, 'Comments': 1, 'Shares': 1, 'Likes': 0}\n",
      "O valor total de likes é: 73.\n",
      "\n",
      "{'Likes': 13, 'Comments': 2, 'Shares': 1}\n",
      "O valor total de likes é: 86.\n",
      "\n",
      "{'Comments': 4, 'Shares': 2, 'Likes': 0}\n",
      "O valor total de likes é: 86.\n",
      "\n"
     ]
    }
   ],
   "source": [
    "total_likes = 0\n",
    "\n",
    "for post in blog_posts:\n",
    "    if ('Likes' in post.keys()):\n",
    "        print(post)\n",
    "        total_likes = total_likes + post['Likes']\n",
    "        print(f\"O valor total de likes é: {total_likes}.\\n\")\n",
    "        \n",
    "    else:\n",
    "        post['Likes'] = 0\n",
    "        print(f\"O valor total de likes é: {total_likes}.\\n\")"
   ]
  },
  {
   "cell_type": "markdown",
   "id": "055633cf",
   "metadata": {},
   "source": [
    "No condicional acima, a função *keys* retorna um conjunto de chaves de um elemento (*post*) da lista com a qual estamos trabalhando. Como nós precisávamos apenas da chave 'Likes', então a localizamos em cada *post*/elemento. Abaixo o print da função *keys* associada a cada elemento da lista:"
   ]
  },
  {
   "cell_type": "code",
   "execution_count": 7,
   "id": "e74f2c66",
   "metadata": {},
   "outputs": [
    {
     "name": "stdout",
     "output_type": "stream",
     "text": [
      "dict_keys(['Photos', 'Likes', 'Comments'])\n",
      "dict_keys(['Photos', 'Likes', 'Comments'])\n",
      "dict_keys(['Photos', 'Likes', 'Comments', 'Shares'])\n",
      "dict_keys(['Photos', 'Comments', 'Shares', 'Likes'])\n",
      "dict_keys(['Likes', 'Comments', 'Shares'])\n",
      "dict_keys(['Comments', 'Shares', 'Likes'])\n"
     ]
    }
   ],
   "source": [
    "for post in blog_posts:\n",
    "    print(post.keys())"
   ]
  },
  {
   "cell_type": "code",
   "execution_count": null,
   "id": "23f21f16",
   "metadata": {},
   "outputs": [],
   "source": []
  }
 ],
 "metadata": {
  "kernelspec": {
   "display_name": "Python 3 (ipykernel)",
   "language": "python",
   "name": "python3"
  },
  "language_info": {
   "codemirror_mode": {
    "name": "ipython",
    "version": 3
   },
   "file_extension": ".py",
   "mimetype": "text/x-python",
   "name": "python",
   "nbconvert_exporter": "python",
   "pygments_lexer": "ipython3",
   "version": "3.9.6"
  }
 },
 "nbformat": 4,
 "nbformat_minor": 5
}
