{
 "cells": [
  {
   "cell_type": "markdown",
   "id": "80380c8b",
   "metadata": {},
   "source": [
    "# Tratamento de Erros II"
   ]
  },
  {
   "cell_type": "markdown",
   "id": "df7740ae",
   "metadata": {},
   "source": [
    "## Exercícios"
   ]
  },
  {
   "cell_type": "markdown",
   "id": "848f7903",
   "metadata": {},
   "source": [
    "Imagine que você trabalhe em uma empresa e seu chefe falou o seguinte:\n",
    "\n",
    "\"O estagiário começou a criar um *script* que será utilizado para trazer a somatória dos likes dos *posts* do *blog* da empresa. Porém, ele está com dificuldade de fazer o *script*. Ajude-o a realizar a tarefa. O *script* em questão deve trazer a somatória de *Likes* de todos os *posts* e, caso não exista a coluna *Likes*, o *script* deve criar a chave *Like* e adicionar o valor zero.\"\n",
    "\n",
    "O código do estagiário é o seguinte:"
   ]
  },
  {
   "cell_type": "code",
   "execution_count": 1,
   "id": "827e0cfc",
   "metadata": {},
   "outputs": [],
   "source": [
    "# Lista com os dados dos posts do blog\n",
    "blog_posts = [\n",
    "    {'Photos': 3, 'Likes': 21, 'Comments': 2},\n",
    "    {'Photos': 3, 'Likes': 19, 'Comments': 3},\n",
    "    {'Photos': 5, 'Likes': 33, 'Comments': 8, 'Shares': 3},\n",
    "    {'Photos': 8, 'Comments': 1, 'Shares': 1},\n",
    "    {'Likes': 13, 'Comments': 2, 'Shares': 1},\n",
    "    {'Comments': 4, 'Shares': 2},\n",
    "]"
   ]
  },
  {
   "cell_type": "code",
   "execution_count": 2,
   "id": "8c06511f",
   "metadata": {},
   "outputs": [
    {
     "ename": "KeyError",
     "evalue": "'Likes'",
     "output_type": "error",
     "traceback": [
      "\u001b[1;31m---------------------------------------------------------------------------\u001b[0m",
      "\u001b[1;31mKeyError\u001b[0m                                  Traceback (most recent call last)",
      "\u001b[1;32mC:\\Users\\USURIO~3\\AppData\\Local\\Temp/ipykernel_14820/1533864974.py\u001b[0m in \u001b[0;36m<module>\u001b[1;34m\u001b[0m\n\u001b[0;32m      3\u001b[0m \u001b[1;33m\u001b[0m\u001b[0m\n\u001b[0;32m      4\u001b[0m \u001b[1;32mfor\u001b[0m \u001b[0mpost\u001b[0m \u001b[1;32min\u001b[0m \u001b[0mblog_posts\u001b[0m\u001b[1;33m:\u001b[0m\u001b[1;33m\u001b[0m\u001b[1;33m\u001b[0m\u001b[0m\n\u001b[1;32m----> 5\u001b[1;33m     \u001b[0mtotal_likes\u001b[0m \u001b[1;33m=\u001b[0m \u001b[0mtotal_likes\u001b[0m \u001b[1;33m+\u001b[0m \u001b[0mpost\u001b[0m\u001b[1;33m[\u001b[0m\u001b[1;34m'Likes'\u001b[0m\u001b[1;33m]\u001b[0m\u001b[1;33m\u001b[0m\u001b[1;33m\u001b[0m\u001b[0m\n\u001b[0m",
      "\u001b[1;31mKeyError\u001b[0m: 'Likes'"
     ]
    }
   ],
   "source": [
    "# Código do estagiário\n",
    "total_likes = 0\n",
    "\n",
    "for post in blog_posts:\n",
    "    total_likes = total_likes + post['Likes']"
   ]
  },
  {
   "cell_type": "code",
   "execution_count": null,
   "id": "6dd55064",
   "metadata": {},
   "outputs": [],
   "source": []
  }
 ],
 "metadata": {
  "kernelspec": {
   "display_name": "Python 3 (ipykernel)",
   "language": "python",
   "name": "python3"
  },
  "language_info": {
   "codemirror_mode": {
    "name": "ipython",
    "version": 3
   },
   "file_extension": ".py",
   "mimetype": "text/x-python",
   "name": "python",
   "nbconvert_exporter": "python",
   "pygments_lexer": "ipython3",
   "version": "3.9.6"
  }
 },
 "nbformat": 4,
 "nbformat_minor": 5
}
