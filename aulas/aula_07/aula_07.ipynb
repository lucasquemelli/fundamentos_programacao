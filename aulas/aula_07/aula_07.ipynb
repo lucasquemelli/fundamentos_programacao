{
 "cells": [
  {
   "cell_type": "markdown",
   "id": "80380c8b",
   "metadata": {},
   "source": [
    "# Tratamento de Erros II"
   ]
  },
  {
   "cell_type": "markdown",
   "id": "df7740ae",
   "metadata": {},
   "source": [
    "## Exercícios"
   ]
  },
  {
   "cell_type": "markdown",
   "id": "848f7903",
   "metadata": {},
   "source": [
    "Imagine que seu chefe falou o seguinte:\n",
    "\n",
    "\"O estagiário começou a criar um *script* que será utilizado para trazer a somatória dos likes dos *posts* do *blog* da empresa. Porém, ele está com dificuldade de fazer o *script*. Ajude-o a realizar a tarefa. O *script* em questão deve trazer a somatória de *Likes* de todos os *posts* e, caso não exista a coluna *Likes*, o *script* deve criar a chave *Like* e adicionar o valor zero.\"\n",
    "\n",
    "O código do estagiário é o seguinte:"
   ]
  },
  {
   "cell_type": "code",
   "execution_count": 1,
   "id": "827e0cfc",
   "metadata": {},
   "outputs": [],
   "source": [
    "# Lista com os dados dos posts do blog\n",
    "blog_posts = [\n",
    "    {'Photos': 3, 'Likes': 21, 'Comments': 2},\n",
    "    {'Photos': 3, 'Likes': 19, 'Comments': 3},\n",
    "    {'Photos': 5, 'Likes': 33, 'Comments': 8, 'Shares': 3},\n",
    "    {'Photos': 8, 'Comments': 1, 'Shares': 1},\n",
    "    {'Likes': 13, 'Comments': 2, 'Shares': 1},\n",
    "    {'Comments': 4, 'Shares': 2},\n",
    "]"
   ]
  },
  {
   "cell_type": "code",
   "execution_count": null,
   "id": "f5eec55c",
   "metadata": {},
   "outputs": [],
   "source": []
  }
 ],
 "metadata": {
  "kernelspec": {
   "display_name": "Python 3 (ipykernel)",
   "language": "python",
   "name": "python3"
  },
  "language_info": {
   "codemirror_mode": {
    "name": "ipython",
    "version": 3
   },
   "file_extension": ".py",
   "mimetype": "text/x-python",
   "name": "python",
   "nbconvert_exporter": "python",
   "pygments_lexer": "ipython3",
   "version": "3.9.6"
  }
 },
 "nbformat": 4,
 "nbformat_minor": 5
}
