{
 "cells": [
  {
   "cell_type": "markdown",
   "id": "ba3806ab",
   "metadata": {},
   "source": [
    "# Tipos de comentários"
   ]
  },
  {
   "cell_type": "markdown",
   "id": "a0f89df9",
   "metadata": {},
   "source": [
    "### Documentação"
   ]
  },
  {
   "cell_type": "code",
   "execution_count": 1,
   "id": "735fafb5",
   "metadata": {},
   "outputs": [
    {
     "data": {
      "text/plain": [
       "' Comentário do tipo documentação. '"
      ]
     },
     "execution_count": 1,
     "metadata": {},
     "output_type": "execute_result"
    }
   ],
   "source": [
    "\"\"\" Comentário do tipo documentação. \"\"\""
   ]
  },
  {
   "cell_type": "markdown",
   "id": "19696b13",
   "metadata": {},
   "source": [
    "### Comentário de linha"
   ]
  },
  {
   "cell_type": "code",
   "execution_count": 2,
   "id": "337fd3a6",
   "metadata": {},
   "outputs": [
    {
     "data": {
      "text/plain": [
       "6"
      ]
     },
     "execution_count": 2,
     "metadata": {},
     "output_type": "execute_result"
    }
   ],
   "source": [
    "a = 5 + 1 # soma igual a 6\n",
    "a"
   ]
  },
  {
   "cell_type": "markdown",
   "id": "9c258ed8",
   "metadata": {},
   "source": [
    "### Comentário do tipo bloco"
   ]
  },
  {
   "cell_type": "code",
   "execution_count": 3,
   "id": "0f330c87",
   "metadata": {},
   "outputs": [],
   "source": [
    "# Este é um exemplo de comentário do\n",
    "# tipo bloco. Cada linha contém um \n",
    "# símbolo hashtag separado por um \n",
    "# espaço do conteúdo que desejamos \n",
    "# escrever"
   ]
  },
  {
   "cell_type": "markdown",
   "id": "671e2e38",
   "metadata": {},
   "source": [
    "# Conversão do tipo de variáveis"
   ]
  },
  {
   "cell_type": "markdown",
   "id": "e71153ae",
   "metadata": {},
   "source": [
    "#### String do tipo caracter para inteiro"
   ]
  },
  {
   "cell_type": "code",
   "execution_count": 5,
   "id": "dc78dda0",
   "metadata": {},
   "outputs": [
    {
     "ename": "ValueError",
     "evalue": "invalid literal for int() with base 10: 'Pedro'",
     "output_type": "error",
     "traceback": [
      "\u001b[1;31m---------------------------------------------------------------------------\u001b[0m",
      "\u001b[1;31mValueError\u001b[0m                                Traceback (most recent call last)",
      "\u001b[1;32mC:\\Users\\USURIO~3\\AppData\\Local\\Temp/ipykernel_9636/4119452568.py\u001b[0m in \u001b[0;36m<module>\u001b[1;34m\u001b[0m\n\u001b[0;32m      1\u001b[0m \u001b[0mnome\u001b[0m \u001b[1;33m=\u001b[0m \u001b[1;34m'Pedro'\u001b[0m\u001b[1;33m\u001b[0m\u001b[1;33m\u001b[0m\u001b[0m\n\u001b[1;32m----> 2\u001b[1;33m \u001b[0mnome_convertido\u001b[0m \u001b[1;33m=\u001b[0m \u001b[0mint\u001b[0m\u001b[1;33m(\u001b[0m\u001b[0mnome\u001b[0m\u001b[1;33m)\u001b[0m\u001b[1;33m\u001b[0m\u001b[1;33m\u001b[0m\u001b[0m\n\u001b[0m\u001b[0;32m      3\u001b[0m \u001b[0mnome_convertido\u001b[0m\u001b[1;33m\u001b[0m\u001b[1;33m\u001b[0m\u001b[0m\n",
      "\u001b[1;31mValueError\u001b[0m: invalid literal for int() with base 10: 'Pedro'"
     ]
    }
   ],
   "source": [
    "nome = 'Pedro'\n",
    "nome_convertido = int(nome)\n",
    "nome_convertido"
   ]
  },
  {
   "cell_type": "markdown",
   "id": "5ab37e1f",
   "metadata": {},
   "source": [
    "Não é possível converter uma string para inteiro, como visto acima. "
   ]
  },
  {
   "cell_type": "markdown",
   "id": "b0dd1cbc",
   "metadata": {},
   "source": [
    "#### String numérica para inteiro"
   ]
  },
  {
   "cell_type": "code",
   "execution_count": 6,
   "id": "6c9f3a67",
   "metadata": {},
   "outputs": [
    {
     "data": {
      "text/plain": [
       "32"
      ]
     },
     "execution_count": 6,
     "metadata": {},
     "output_type": "execute_result"
    }
   ],
   "source": [
    "idade = '32'\n",
    "idade_convertida = int(idade)\n",
    "idade_convertida"
   ]
  },
  {
   "cell_type": "markdown",
   "id": "aa6c7dd4",
   "metadata": {},
   "source": [
    "Por mais que estejamos atribuindo uma string à variável \"idade\", o conteúdo é similar a um valor inteiro, então o computador faz a conversão. "
   ]
  },
  {
   "cell_type": "code",
   "execution_count": 7,
   "id": "35c68232",
   "metadata": {},
   "outputs": [
    {
     "data": {
      "text/plain": [
       "int"
      ]
     },
     "execution_count": 7,
     "metadata": {},
     "output_type": "execute_result"
    }
   ],
   "source": [
    "type(idade_convertida)"
   ]
  },
  {
   "cell_type": "markdown",
   "id": "fd5c2812",
   "metadata": {},
   "source": [
    "#### String numérica para float"
   ]
  },
  {
   "cell_type": "code",
   "execution_count": 9,
   "id": "21fba3f5",
   "metadata": {},
   "outputs": [
    {
     "data": {
      "text/plain": [
       "32.0"
      ]
     },
     "execution_count": 9,
     "metadata": {},
     "output_type": "execute_result"
    }
   ],
   "source": [
    "idade = '32'\n",
    "idade_convertida = float(idade)\n",
    "idade_convertida"
   ]
  },
  {
   "cell_type": "code",
   "execution_count": 10,
   "id": "d0df190a",
   "metadata": {},
   "outputs": [
    {
     "data": {
      "text/plain": [
       "float"
      ]
     },
     "execution_count": 10,
     "metadata": {},
     "output_type": "execute_result"
    }
   ],
   "source": [
    "type(idade_convertida)"
   ]
  },
  {
   "cell_type": "markdown",
   "id": "ca968858",
   "metadata": {},
   "source": [
    "O mesmo ocorre para a conversão de uma string - com característica numérica - para um número real. "
   ]
  },
  {
   "cell_type": "markdown",
   "id": "27b3baeb",
   "metadata": {},
   "source": [
    "#### Inteiro para string"
   ]
  },
  {
   "cell_type": "code",
   "execution_count": 12,
   "id": "efcfc818",
   "metadata": {},
   "outputs": [
    {
     "data": {
      "text/plain": [
       "'32'"
      ]
     },
     "execution_count": 12,
     "metadata": {},
     "output_type": "execute_result"
    }
   ],
   "source": [
    "idade = 32\n",
    "idade_convertida = str(idade)\n",
    "idade_convertida"
   ]
  },
  {
   "cell_type": "code",
   "execution_count": 13,
   "id": "238215f0",
   "metadata": {},
   "outputs": [
    {
     "data": {
      "text/plain": [
       "str"
      ]
     },
     "execution_count": 13,
     "metadata": {},
     "output_type": "execute_result"
    }
   ],
   "source": [
    "type(idade_convertida)"
   ]
  },
  {
   "cell_type": "markdown",
   "id": "6cfa0b8d",
   "metadata": {},
   "source": [
    "Qualquer conteúdo poder convertido para string. "
   ]
  },
  {
   "cell_type": "markdown",
   "id": "f47f4308",
   "metadata": {},
   "source": [
    "# Veracidade no Python"
   ]
  },
  {
   "cell_type": "markdown",
   "id": "6c6d5c95",
   "metadata": {},
   "source": [
    "O Python entende uma série de índices booleanos como falsos. Para podermos tomar cuidado ao usá-los, segue abaixo uma lista de booleanos considerados falsos. "
   ]
  },
  {
   "cell_type": "code",
   "execution_count": 15,
   "id": "aa4e70f1",
   "metadata": {},
   "outputs": [
    {
     "name": "stdout",
     "output_type": "stream",
     "text": [
      "A função sem parâmetro retorna: False.\n",
      "A função com aspas como parâmetro retorna: False.\n",
      "A função com zero inteiro como parâmetro retorna: False.\n",
      "A função com zero real como parâmetro retorna: False.\n",
      "A função com uma lista vazia como parâmetro retorna: False.\n",
      "A função com um dicionário vazio como parâmetro retorna: False.\n",
      "A função com 'None' como parâmetro retorna: False.\n"
     ]
    }
   ],
   "source": [
    "print(f\"A função sem parâmetro retorna: {bool()}.\")\n",
    "print(f\"A função com aspas como parâmetro retorna: {bool('')}.\")\n",
    "print(f\"A função com zero inteiro como parâmetro retorna: {bool(0)}.\")\n",
    "print(f\"A função com zero real como parâmetro retorna: {bool(0.0)}.\")\n",
    "print(f\"A função com uma lista vazia como parâmetro retorna: {bool([])}.\")\n",
    "print(f\"A função com um dicionário vazio como parâmetro retorna: {bool({})}.\")\n",
    "print(f\"A função com 'None' como parâmetro retorna: {bool(None)}.\")"
   ]
  },
  {
   "cell_type": "markdown",
   "id": "961935df",
   "metadata": {},
   "source": [
    "Resumidamente, o Python entende tudo que não tem conteúdo como falso. Por outro, ele também entende tudo que tem conteúdo como verdadeiro. "
   ]
  },
  {
   "cell_type": "markdown",
   "id": "085ba83d",
   "metadata": {},
   "source": [
    "# Leitura e escrita básica"
   ]
  },
  {
   "cell_type": "markdown",
   "id": "11232be4",
   "metadata": {},
   "source": [
    "A maneira mais básica de ler algo digitado pelo usuário, em Python, é utilizando a função *input*. "
   ]
  },
  {
   "cell_type": "code",
   "execution_count": 16,
   "id": "b35bb625",
   "metadata": {},
   "outputs": [
    {
     "name": "stdout",
     "output_type": "stream",
     "text": [
      "Digite a sua idade: 28\n"
     ]
    }
   ],
   "source": [
    "dado_inserido = input(\"Digite a sua idade: \")"
   ]
  },
  {
   "cell_type": "code",
   "execution_count": 17,
   "id": "5c7ca656",
   "metadata": {},
   "outputs": [
    {
     "data": {
      "text/plain": [
       "'28'"
      ]
     },
     "execution_count": 17,
     "metadata": {},
     "output_type": "execute_result"
    }
   ],
   "source": [
    "dado_inserido"
   ]
  },
  {
   "cell_type": "markdown",
   "id": "483593ae",
   "metadata": {},
   "source": [
    "Como visto acima, tudo que for lido pela função *input* será entendido como *str*. Para converter o conteúdo digitado, fazemos:"
   ]
  },
  {
   "cell_type": "code",
   "execution_count": 18,
   "id": "ed8c5a73",
   "metadata": {},
   "outputs": [
    {
     "name": "stdout",
     "output_type": "stream",
     "text": [
      "Digite a sua idade: 28\n"
     ]
    }
   ],
   "source": [
    "dado_inserido = int(input(\"Digite a sua idade: \"))"
   ]
  },
  {
   "cell_type": "code",
   "execution_count": 19,
   "id": "a6a5e8f9",
   "metadata": {},
   "outputs": [
    {
     "data": {
      "text/plain": [
       "28"
      ]
     },
     "execution_count": 19,
     "metadata": {},
     "output_type": "execute_result"
    }
   ],
   "source": [
    "dado_inserido"
   ]
  },
  {
   "cell_type": "code",
   "execution_count": 20,
   "id": "b19a1cd5",
   "metadata": {},
   "outputs": [
    {
     "name": "stdout",
     "output_type": "stream",
     "text": [
      "Digite a sua altura em metros: 1.70\n"
     ]
    }
   ],
   "source": [
    "altura_inserida = float(input(\"Digite a sua altura em metros: \"))"
   ]
  },
  {
   "cell_type": "code",
   "execution_count": 21,
   "id": "8d0b957f",
   "metadata": {},
   "outputs": [
    {
     "data": {
      "text/plain": [
       "float"
      ]
     },
     "execution_count": 21,
     "metadata": {},
     "output_type": "execute_result"
    }
   ],
   "source": [
    "type(altura_inserida)"
   ]
  },
  {
   "cell_type": "markdown",
   "id": "fbbbd190",
   "metadata": {},
   "source": [
    "Para leitura de dados do usuário, então, usamos a função *input*. Para a escrita de dados na tela, usamos a função *print*. "
   ]
  },
  {
   "cell_type": "markdown",
   "id": "89ec27a0",
   "metadata": {},
   "source": [
    "# Erros mais comuns"
   ]
  },
  {
   "cell_type": "markdown",
   "id": "a95b48da",
   "metadata": {},
   "source": [
    "- Python é Case Sensitive:\n",
    "nome != Nome.\n",
    "\n",
    "- Erros de digitação: escrita errada, tais como erros ortográficos, letra a menos ou a mais, etc.\n",
    "\n",
    "- Palavras reservadas: palavras que o compilador utiliza para alguma tarefa. \n",
    "Ex: if, True, False, int, list, etc. As palavras reservadas são destacadas, automaticamente, pela cor verde no Python."
   ]
  },
  {
   "cell_type": "markdown",
   "id": "49b9b1d6",
   "metadata": {},
   "source": [
    "Se usarmos o sinal *underscore* na frente ou atrás da palavra reservada, ele se torna uma palavra não reservada. Contudo, devemos tomar cuidado com o sinal na frente da variável, porque remete à variável privada."
   ]
  },
  {
   "cell_type": "markdown",
   "id": "b2795cc5",
   "metadata": {},
   "source": [
    "- Identação: necessidade ou ausência de espaços. Obs: o Python aceita, quando há apenas uma linha de comando, identação fora da regra:"
   ]
  },
  {
   "cell_type": "code",
   "execution_count": 22,
   "id": "c373aec0",
   "metadata": {},
   "outputs": [
    {
     "name": "stdout",
     "output_type": "stream",
     "text": [
      "Lucas\n"
     ]
    }
   ],
   "source": [
    "nome = \"Lucas\"\n",
    "\n",
    "if (nome): print(nome)"
   ]
  },
  {
   "cell_type": "code",
   "execution_count": 23,
   "id": "02978326",
   "metadata": {},
   "outputs": [
    {
     "name": "stdout",
     "output_type": "stream",
     "text": [
      "Lucas\n"
     ]
    }
   ],
   "source": [
    "if (nome):\n",
    " print(nome)"
   ]
  },
  {
   "cell_type": "code",
   "execution_count": 24,
   "id": "94401200",
   "metadata": {},
   "outputs": [
    {
     "name": "stdout",
     "output_type": "stream",
     "text": [
      "Lucas\n"
     ]
    }
   ],
   "source": [
    "if (nome):\n",
    "  print(nome) "
   ]
  },
  {
   "cell_type": "code",
   "execution_count": 25,
   "id": "605d4c4a",
   "metadata": {},
   "outputs": [
    {
     "name": "stdout",
     "output_type": "stream",
     "text": [
      "Lucas\n"
     ]
    }
   ],
   "source": [
    "if (nome):\n",
    "   print(nome) "
   ]
  },
  {
   "cell_type": "markdown",
   "id": "44983e93",
   "metadata": {},
   "source": [
    "Ainda sobre a identação, quando não padronizada, ela pode colocar o que está fora do 'if' no mesmo nível hierárquico do 'if'. Assim, o Python executará ou não o que está dentro do 'if' (a depender se a condição for atendida) e obrigatoriamente executará tudo que estiver fora, ou seja, no mesmo nível hierárquico do 'if'. Exemplo:"
   ]
  },
  {
   "cell_type": "code",
   "execution_count": 26,
   "id": "911c0ac5",
   "metadata": {},
   "outputs": [
    {
     "name": "stdout",
     "output_type": "stream",
     "text": [
      "Fim.\n"
     ]
    }
   ],
   "source": [
    "if (False):\n",
    "    print(\"Olá!\")\n",
    "    print(\"Tudo bem?\")\n",
    "print(\"Fim.\")"
   ]
  },
  {
   "cell_type": "code",
   "execution_count": 27,
   "id": "85a10d67",
   "metadata": {},
   "outputs": [
    {
     "name": "stdout",
     "output_type": "stream",
     "text": [
      "Olá!\n",
      "Tudo bem?\n",
      "Fim.\n"
     ]
    }
   ],
   "source": [
    "if (True):\n",
    "    print(\"Olá!\")\n",
    "    print(\"Tudo bem?\")\n",
    "print(\"Fim.\")"
   ]
  },
  {
   "cell_type": "markdown",
   "id": "6f232f99",
   "metadata": {},
   "source": [
    "Note que o comando contendo a string \"Fim.\" foi executado todas as vezes. A diferença foi ao executar o que está dentro do 'if', a partir das condições True ou False. "
   ]
  },
  {
   "cell_type": "markdown",
   "id": "2306b52f",
   "metadata": {},
   "source": [
    "# Problema 1"
   ]
  },
  {
   "cell_type": "markdown",
   "id": "dd454151",
   "metadata": {},
   "source": [
    "Codifique uma aplicação que receba como entrada dois números reais. A aplicação deve receber também um terceiro caractere, que deve ser um sinal de operação (+, -, * ou /). Em seguida, a aplicação deve fazer a operação e exibir o valor na tela. \n",
    "\n",
    "Em caso de divisão, se o segundo número recebido for 0, então o usuário deve receber a mensagem: \"Impossível dividir um número por zero\". "
   ]
  },
  {
   "cell_type": "code",
   "execution_count": 28,
   "id": "abf1a26d",
   "metadata": {},
   "outputs": [
    {
     "name": "stdout",
     "output_type": "stream",
     "text": [
      "Informe o primeiro valor: 10\n",
      "Informe o segundo valor: 0\n",
      "Informe o sinal da operação (+, -, * ou /): /\n",
      "\n",
      "Impossível dividir um número por zero!\n",
      "Informe outro valor em vez de 0: 0\n",
      "\n",
      "Impossível dividir um número por zero!\n",
      "Informe outro valor em vez de 0: 0\n",
      "\n",
      "Impossível dividir um número por zero!\n",
      "Informe outro valor em vez de 0: 0\n",
      "\n",
      "Impossível dividir um número por zero!\n",
      "Informe outro valor em vez de 0: 2.5\n",
      "O resultado da operação é: 4.0.\n"
     ]
    }
   ],
   "source": [
    "num1 = float(input(\"Informe o primeiro valor: \"))\n",
    "num2 = float(input(\"Informe o segundo valor: \"))\n",
    "sinal = input(\"Informe o sinal da operação (+, -, * ou /): \")\n",
    "\n",
    "\n",
    "if ((sinal == '/') and (num2 == 0)):\n",
    "    while (num2 == 0):\n",
    "        print(\"\\nImpossível dividir um número por zero!\")\n",
    "        num2 = float(input(\"Informe outro valor em vez de 0: \"))\n",
    "        \n",
    "        if (num2 != 0):\n",
    "            print(f\"O resultado da operação é: {num1/num2}.\")\n",
    "        \n",
    "elif ((sinal == '/') and (num2 != 0)):\n",
    "    print(f\"\\nO resultado da operação é: {num1/num2}.\")\n",
    "    \n",
    "elif (sinal == '+'):\n",
    "    print(f\"\\nO resultado da operação é: {num1 + num2}.\")\n",
    "\n",
    "elif (sinal == '-'):\n",
    "    print(f\"\\nO resultado da operação é: {num1 - num2}.\")\n",
    "    \n",
    "else:\n",
    "    print(f\"\\nO resultado da operação é: {num1 * num2}.\")"
   ]
  },
  {
   "cell_type": "markdown",
   "id": "326354ff",
   "metadata": {},
   "source": [
    "# Problema 2"
   ]
  },
  {
   "cell_type": "markdown",
   "id": "7292941e",
   "metadata": {},
   "source": [
    "A prefeitura de Itaipeva abriu uma linha de crédito para funcionários estatuários. O valor máximo da prestação não poderá ultrapassar 30% do salário bruto.\n",
    "\n",
    "Faça uma aplicação que permita entrar com o salário bruto, o valor do empréstimo e o número de parcelas. O programa deve informar o valor da parcela e se o empréstimo pode ou não ser concedido. Caso o empréstimo não possa ser concedido, informar o valor máximo do empréstimo. "
   ]
  },
  {
   "cell_type": "code",
   "execution_count": 35,
   "id": "86744ab9",
   "metadata": {},
   "outputs": [
    {
     "name": "stdout",
     "output_type": "stream",
     "text": [
      "Seja bem-vindx ao programa de linha de crédito para funcionários estatuários!\n",
      "\n",
      "Para o seu melhor atendimento, informe os valores necessários para analisarmos o seu pedido.\n",
      "\n",
      "Informe seu salário bruto: 1500\n",
      "Informe o valor desejado para o empréstimo: 460\n",
      "Informe o número de parcelas desejadas: 10\n",
      "O valor máximo do empréstimo que podemos conceder para você é: R$ 450.00.\n",
      "\n",
      "Por favor, informe um valor desejado menor para o empréstimo: 455\n",
      "O valor máximo do empréstimo que podemos conceder para você é: R$ 450.00.\n",
      "\n",
      "Por favor, informe um valor desejado menor para o empréstimo: 450.1\n",
      "O valor máximo do empréstimo que podemos conceder para você é: R$ 450.00.\n",
      "\n",
      "Por favor, informe um valor desejado menor para o empréstimo: 450\n",
      "O valor da parcela é: R$ 45.00.\n"
     ]
    }
   ],
   "source": [
    "print(\"Seja bem-vindx ao programa de linha de crédito para funcionários estatuários!\\n\")\n",
    "print(\"Para o seu melhor atendimento, informe os valores necessários para analisarmos o seu pedido.\\n\")\n",
    "\n",
    "sal = float(input(\"Informe seu salário bruto: \"))\n",
    "emp = float(input(\"Informe o valor desejado para o empréstimo: \"))\n",
    "par = int(input(\"Informe o número de parcelas desejadas: \"))\n",
    "\n",
    "if (emp > 0.3*sal):\n",
    "    while (emp > 0.3*sal):\n",
    "        print(f\"O valor máximo do empréstimo que podemos conceder para você é: R$ {(0.3*sal):.2f}.\\n\")\n",
    "        emp = float(input(\"Por favor, informe um valor desejado menor para o empréstimo: \"))\n",
    "        \n",
    "        if (emp <= 0.3*sal):\n",
    "            print(f\"O valor da parcela é: R$ {(emp/par):.2f}.\")\n",
    "            \n",
    "else:\n",
    "    print(f\"O valor da parcela é: R$ {(emp/par):.2f}.\")"
   ]
  },
  {
   "cell_type": "markdown",
   "id": "448223e4",
   "metadata": {},
   "source": [
    "# Problema 3"
   ]
  },
  {
   "cell_type": "markdown",
   "id": "4cacda20",
   "metadata": {},
   "source": [
    "Em uma loja de CDs existem quatro preços e estes estão associados a cores. Desenvolva uma aplicação que receba como entrada a cor do CD e mostre o preço. A loja está atualmente com a seguinte tabela de preços:\n",
    "\n",
    "| Cor | Preço |\n",
    "|:---:|:-----:|\n",
    "|Verde| 10.00|\n",
    "|Azul | 20.00|\n",
    "|Amarelo| 30.00|\n",
    "|Vermelho| 40.00|"
   ]
  },
  {
   "cell_type": "code",
   "execution_count": 46,
   "id": "0d73e015",
   "metadata": {},
   "outputs": [
    {
     "name": "stdout",
     "output_type": "stream",
     "text": [
      "Informe a cor do CD: VErde\n",
      "Você não digitou nenhuma cor válida ou cometeu algum erro de digitação. Consulte a tabela de cores.\n"
     ]
    }
   ],
   "source": [
    "cor = input(\"Informe a cor do CD: \")\n",
    "\n",
    "if ((cor == 'Verde') | (cor == 'verde')):\n",
    "    print(\"O preço do CD é R$ 10.00.\")\n",
    "    \n",
    "elif ((cor == 'Azul') | (cor == 'azul')):\n",
    "    print(\"O preço do CD é R$ 20.00.\")\n",
    "    \n",
    "elif ((cor == 'Amarelo') | (cor == 'amarelo')):\n",
    "    print(\"O preço do CD é R$ 30.00.\")\n",
    "    \n",
    "elif ((cor == 'Vermelho') | (cor == 'vermelho')):\n",
    "    print(\"O preço do CD é R$ 40.00.\")\n",
    "    \n",
    "else:\n",
    "    print(\"Você não digitou nenhuma cor válida ou cometeu algum erro de digitação. Consulte a tabela de cores.\")"
   ]
  },
  {
   "cell_type": "markdown",
   "id": "47447791",
   "metadata": {},
   "source": [
    "# Problema 4"
   ]
  },
  {
   "cell_type": "markdown",
   "id": "312d75df",
   "metadata": {},
   "source": [
    "Uma empresa decidiu dar uma gratificação de natal aos seus funcionários, baseada no números de horas extras e no número de horas que o funcionário faltou ao trabalho. O valor do prêmio é obtido pela consulta na tabela a seguir, em que:"
   ]
  },
  {
   "cell_type": "markdown",
   "id": "50587c62",
   "metadata": {},
   "source": [
    "### H = (horas_extras) - 2/3*(horas_faltas)"
   ]
  },
  {
   "cell_type": "markdown",
   "id": "99536374",
   "metadata": {},
   "source": [
    "| Horas | Gratificação |\n",
    "|:-----:|:------------:|\n",
    "|Maior que 2400| 500.00|\n",
    "|1801 até 2400| 400.00 |\n",
    "|1201 até 1800| 300.00 |\n",
    "|600 até 1200| 200.00  |\n",
    "|Menor que 600| 100.00 |"
   ]
  },
  {
   "cell_type": "markdown",
   "id": "f91ceaa8",
   "metadata": {},
   "source": [
    "Faça uma aplicação que receba o número de horas extras e o número de horas faltas do funcionário e exiba o valor da gratificação."
   ]
  },
  {
   "cell_type": "code",
   "execution_count": 64,
   "id": "b40379b8",
   "metadata": {},
   "outputs": [
    {
     "name": "stdout",
     "output_type": "stream",
     "text": [
      "Informe o número de horas extras: 4\n",
      "Informe o número de horas faltas: 7\n",
      "Desculpe, você não recebe gratificação neste ano. Tente no ano seguinte!\n"
     ]
    }
   ],
   "source": [
    "horas_extras = int(input(\"Informe o número de horas extras: \"))\n",
    "horas_faltas = int(input(\"Informe o número de horas faltas: \"))\n",
    "H = (horas_extras) - (2/3)*(horas_faltas)\n",
    "\n",
    "if (H > 2400):\n",
    "    print(\"Parabéns, sua gratificação é R$ 500.00.\")\n",
    "    \n",
    "elif ((H > 1800) & (H <=2400)):\n",
    "    print(\"Muito bom, sua gratificação é R$ 400.00.\")\n",
    "    \n",
    "elif ((H > 1200) & (H <=1800)):\n",
    "    print(\"Sua gratificação é R$ 300.00.\")\n",
    "    \n",
    "elif ((H >= 600) & (H <=1200)):\n",
    "    print(\"Sua gratificação é R$ 200.00.\")\n",
    "    \n",
    "elif ((H < 600) & (H >= 0)):\n",
    "    print(\"Sua gratificação é R$ 100.00.\")\n",
    "    \n",
    "else:\n",
    "    print(\"Desculpe, você não recebe gratificação neste ano. Tente no ano seguinte!\")"
   ]
  }
 ],
 "metadata": {
  "kernelspec": {
   "display_name": "Python 3 (ipykernel)",
   "language": "python",
   "name": "python3"
  },
  "language_info": {
   "codemirror_mode": {
    "name": "ipython",
    "version": 3
   },
   "file_extension": ".py",
   "mimetype": "text/x-python",
   "name": "python",
   "nbconvert_exporter": "python",
   "pygments_lexer": "ipython3",
   "version": "3.9.6"
  }
 },
 "nbformat": 4,
 "nbformat_minor": 5
}
