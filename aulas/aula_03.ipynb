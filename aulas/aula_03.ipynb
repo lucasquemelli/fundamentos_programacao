{
 "cells": [
  {
   "cell_type": "markdown",
   "id": "fa3ca8de",
   "metadata": {},
   "source": [
    "# Listas "
   ]
  },
  {
   "cell_type": "markdown",
   "id": "b3c65143",
   "metadata": {},
   "source": [
    "* Ordenadas: mantêm a ordem de inserção de dados.\n",
    "* Mutáveis: podemos modificar seus items.\n",
    "* Heterogêneas: contêm dados de diferentes tipos.\n",
    "* Contêm duplicatas: permite valores duplicados, porque sua ordem é baseada no índice e não no conteúdo."
   ]
  },
  {
   "cell_type": "markdown",
   "id": "5cae68a3",
   "metadata": {},
   "source": [
    "#### Formas de criar e recuperar/exibir valores de uma lista"
   ]
  },
  {
   "cell_type": "code",
   "execution_count": 1,
   "id": "95e7e9e0",
   "metadata": {},
   "outputs": [
    {
     "name": "stdout",
     "output_type": "stream",
     "text": [
      "[28, 38, 48]\n",
      "[28, 38, 48, ['Lucas']]\n"
     ]
    }
   ],
   "source": [
    "lista1 = [28, 38, 48]\n",
    "lista2 = list([28, 38, 48, ['Lucas']]) #converte para o tipo 'lista'\n",
    "\n",
    "print(lista1)\n",
    "print(lista2)"
   ]
  },
  {
   "cell_type": "code",
   "execution_count": 2,
   "id": "49b61941",
   "metadata": {},
   "outputs": [
    {
     "data": {
      "text/plain": [
       "28"
      ]
     },
     "execution_count": 2,
     "metadata": {},
     "output_type": "execute_result"
    }
   ],
   "source": [
    "lista1[0]"
   ]
  },
  {
   "cell_type": "code",
   "execution_count": 3,
   "id": "fc7bfb7e",
   "metadata": {},
   "outputs": [
    {
     "data": {
      "text/plain": [
       "['Lucas']"
      ]
     },
     "execution_count": 3,
     "metadata": {},
     "output_type": "execute_result"
    }
   ],
   "source": [
    "lista2[3]"
   ]
  },
  {
   "cell_type": "code",
   "execution_count": 4,
   "id": "f240d1d0",
   "metadata": {},
   "outputs": [
    {
     "data": {
      "text/plain": [
       "'Lu'"
      ]
     },
     "execution_count": 4,
     "metadata": {},
     "output_type": "execute_result"
    }
   ],
   "source": [
    "lista2[3][0][0:2]"
   ]
  },
  {
   "cell_type": "code",
   "execution_count": 5,
   "id": "43deabe5",
   "metadata": {},
   "outputs": [
    {
     "data": {
      "text/plain": [
       "['Lucas']"
      ]
     },
     "execution_count": 5,
     "metadata": {},
     "output_type": "execute_result"
    }
   ],
   "source": [
    "lista2[-1]"
   ]
  },
  {
   "cell_type": "code",
   "execution_count": 6,
   "id": "0c25961e",
   "metadata": {},
   "outputs": [
    {
     "data": {
      "text/plain": [
       "48"
      ]
     },
     "execution_count": 6,
     "metadata": {},
     "output_type": "execute_result"
    }
   ],
   "source": [
    "lista2[-2]"
   ]
  },
  {
   "cell_type": "code",
   "execution_count": 7,
   "id": "998a7abc",
   "metadata": {},
   "outputs": [
    {
     "data": {
      "text/plain": [
       "38"
      ]
     },
     "execution_count": 7,
     "metadata": {},
     "output_type": "execute_result"
    }
   ],
   "source": [
    "lista2[-3]"
   ]
  },
  {
   "cell_type": "code",
   "execution_count": 8,
   "id": "199e43f1",
   "metadata": {},
   "outputs": [
    {
     "data": {
      "text/plain": [
       "[28, 38, 48, 'Quemelli']"
      ]
     },
     "execution_count": 8,
     "metadata": {},
     "output_type": "execute_result"
    }
   ],
   "source": [
    "lista1.append(\"Quemelli\")\n",
    "lista1"
   ]
  },
  {
   "cell_type": "code",
   "execution_count": 9,
   "id": "51549750",
   "metadata": {},
   "outputs": [
    {
     "data": {
      "text/plain": [
       "[28, 38, 48, 'Lucas', 'Quemelli']"
      ]
     },
     "execution_count": 9,
     "metadata": {},
     "output_type": "execute_result"
    }
   ],
   "source": [
    "lista1.insert(3, \"Lucas\")\n",
    "lista1"
   ]
  },
  {
   "cell_type": "markdown",
   "id": "23cb72af",
   "metadata": {},
   "source": [
    "#### Formas de deletar elementos de uma lista"
   ]
  },
  {
   "cell_type": "markdown",
   "id": "9b8084eb",
   "metadata": {},
   "source": [
    "Usamos a função *pop* para remover e retornar o último elemento de uma lista:"
   ]
  },
  {
   "cell_type": "code",
   "execution_count": 10,
   "id": "8b4f348e",
   "metadata": {},
   "outputs": [
    {
     "data": {
      "text/plain": [
       "'Quemelli'"
      ]
     },
     "execution_count": 10,
     "metadata": {},
     "output_type": "execute_result"
    }
   ],
   "source": [
    "ultimo = lista1.pop()\n",
    "ultimo"
   ]
  },
  {
   "cell_type": "code",
   "execution_count": 11,
   "id": "79143b18",
   "metadata": {},
   "outputs": [
    {
     "data": {
      "text/plain": [
       "[28, 38, 48, 'Lucas']"
      ]
     },
     "execution_count": 11,
     "metadata": {},
     "output_type": "execute_result"
    }
   ],
   "source": [
    "lista1"
   ]
  },
  {
   "cell_type": "markdown",
   "id": "c59c7899",
   "metadata": {},
   "source": [
    "A função *pop* também pode ser utilizada para remoção de elementos por índice:"
   ]
  },
  {
   "cell_type": "code",
   "execution_count": 12,
   "id": "82377d68",
   "metadata": {},
   "outputs": [
    {
     "data": {
      "text/plain": [
       "[28, 38, 'Lucas']"
      ]
     },
     "execution_count": 12,
     "metadata": {},
     "output_type": "execute_result"
    }
   ],
   "source": [
    "lista1.pop(2)\n",
    "lista1"
   ]
  },
  {
   "cell_type": "markdown",
   "id": "7a36cdc9",
   "metadata": {},
   "source": [
    "Para removermos um elemento em específico, usamos a função *remove*, como abaixo:"
   ]
  },
  {
   "cell_type": "code",
   "execution_count": 13,
   "id": "e1444f9c",
   "metadata": {},
   "outputs": [
    {
     "data": {
      "text/plain": [
       "[28, 38]"
      ]
     },
     "execution_count": 13,
     "metadata": {},
     "output_type": "execute_result"
    }
   ],
   "source": [
    "lista1.remove('Lucas')\n",
    "lista1"
   ]
  },
  {
   "cell_type": "markdown",
   "id": "d8f618a0",
   "metadata": {},
   "source": [
    "Em caso de elementos repetidos em uma lista, a função *remove* deleta apenas o primeiro elemento que aparecer (em ordem crescente de índices):"
   ]
  },
  {
   "cell_type": "code",
   "execution_count": 16,
   "id": "dd8ab94d",
   "metadata": {},
   "outputs": [
    {
     "data": {
      "text/plain": [
       "[12, 14, 17, 25, 14, 70, 14]"
      ]
     },
     "execution_count": 16,
     "metadata": {},
     "output_type": "execute_result"
    }
   ],
   "source": [
    "lista3 = [12, 14, 17, 25, 14, 70, 14]\n",
    "lista3"
   ]
  },
  {
   "cell_type": "code",
   "execution_count": 17,
   "id": "0cb08f31",
   "metadata": {},
   "outputs": [
    {
     "data": {
      "text/plain": [
       "[12, 17, 25, 14, 70, 14]"
      ]
     },
     "execution_count": 17,
     "metadata": {},
     "output_type": "execute_result"
    }
   ],
   "source": [
    "lista3.remove(14)\n",
    "lista3"
   ]
  },
  {
   "cell_type": "markdown",
   "id": "5a55e9aa",
   "metadata": {},
   "source": [
    "Para deletar todos os elementos de uma lista, fazemos:"
   ]
  },
  {
   "cell_type": "code",
   "execution_count": 19,
   "id": "3065cb48",
   "metadata": {},
   "outputs": [
    {
     "data": {
      "text/plain": [
       "[]"
      ]
     },
     "execution_count": 19,
     "metadata": {},
     "output_type": "execute_result"
    }
   ],
   "source": [
    "lista3.clear()\n",
    "lista3"
   ]
  },
  {
   "cell_type": "markdown",
   "id": "205476c5",
   "metadata": {},
   "source": [
    "Para deletar a lista, fazemos:"
   ]
  },
  {
   "cell_type": "code",
   "execution_count": 23,
   "id": "20d770c6",
   "metadata": {},
   "outputs": [
    {
     "ename": "NameError",
     "evalue": "name 'lista3' is not defined",
     "output_type": "error",
     "traceback": [
      "\u001b[1;31m---------------------------------------------------------------------------\u001b[0m",
      "\u001b[1;31mNameError\u001b[0m                                 Traceback (most recent call last)",
      "\u001b[1;32mC:\\Users\\USURIO~3\\AppData\\Local\\Temp/ipykernel_14268/1677208847.py\u001b[0m in \u001b[0;36m<module>\u001b[1;34m\u001b[0m\n\u001b[0;32m      1\u001b[0m \u001b[1;32mdel\u001b[0m \u001b[0mlista3\u001b[0m\u001b[1;33m\u001b[0m\u001b[1;33m\u001b[0m\u001b[0m\n\u001b[1;32m----> 2\u001b[1;33m \u001b[0mlista3\u001b[0m\u001b[1;33m\u001b[0m\u001b[1;33m\u001b[0m\u001b[0m\n\u001b[0m",
      "\u001b[1;31mNameError\u001b[0m: name 'lista3' is not defined"
     ]
    }
   ],
   "source": [
    "del lista3\n",
    "lista3"
   ]
  },
  {
   "cell_type": "markdown",
   "id": "799949e1",
   "metadata": {},
   "source": [
    "Ou podemos deletar apenas um elemento da lista utilizando seu índice:"
   ]
  },
  {
   "cell_type": "code",
   "execution_count": 24,
   "id": "88b6cb77",
   "metadata": {},
   "outputs": [
    {
     "data": {
      "text/plain": [
       "[12, 21, 35, 41, 58, 62]"
      ]
     },
     "execution_count": 24,
     "metadata": {},
     "output_type": "execute_result"
    }
   ],
   "source": [
    "lista3 = [20, 12, 21, 35, 41, 58, 62]\n",
    "del lista3[0]\n",
    "lista3"
   ]
  },
  {
   "cell_type": "markdown",
   "id": "b76d7e9b",
   "metadata": {},
   "source": [
    "Também podemos deletar uma sequência de elementos utilizando seus índices:"
   ]
  },
  {
   "cell_type": "code",
   "execution_count": 25,
   "id": "fe6f7941",
   "metadata": {},
   "outputs": [
    {
     "data": {
      "text/plain": [
       "[41, 58, 62]"
      ]
     },
     "execution_count": 25,
     "metadata": {},
     "output_type": "execute_result"
    }
   ],
   "source": [
    "del lista3[0:3]\n",
    "lista3"
   ]
  },
  {
   "cell_type": "markdown",
   "id": "a0ffcde3",
   "metadata": {},
   "source": [
    "#### Substituir um valor da lista"
   ]
  },
  {
   "cell_type": "code",
   "execution_count": 14,
   "id": "3765bf95",
   "metadata": {},
   "outputs": [
    {
     "data": {
      "text/plain": [
       "[28, 38]"
      ]
     },
     "execution_count": 14,
     "metadata": {},
     "output_type": "execute_result"
    }
   ],
   "source": [
    "lista1"
   ]
  },
  {
   "cell_type": "code",
   "execution_count": 15,
   "id": "28d05b10",
   "metadata": {},
   "outputs": [
    {
     "data": {
      "text/plain": [
       "[33, 38]"
      ]
     },
     "execution_count": 15,
     "metadata": {},
     "output_type": "execute_result"
    }
   ],
   "source": [
    "lista1[0] = 33\n",
    "lista1"
   ]
  },
  {
   "cell_type": "markdown",
   "id": "edffe5d0",
   "metadata": {},
   "source": [
    "# Tuplas"
   ]
  },
  {
   "cell_type": "markdown",
   "id": "09414234",
   "metadata": {},
   "source": [
    "* Ordenadas.\n",
    "* Heterogêneas.\n",
    "* Contém duplicatas.\n",
    "- **Imutáveis**.\n",
    "\n",
    "São muito parecidas com as listas, apenas com uma diferença: uma vez criadas não podem ser alteradas."
   ]
  },
  {
   "cell_type": "markdown",
   "id": "b90029df",
   "metadata": {},
   "source": [
    "As tuplas são mais performáticas do que as listas, já que não estão associadas às funções de alteração de conteúdo. Por isso, geralmente são utilizadas tuplas - quando não há necessidade de alterar os dados - para melhorar a performance."
   ]
  },
  {
   "cell_type": "markdown",
   "id": "ee14dda9",
   "metadata": {},
   "source": [
    "#### Formas de criar e exibir/recuperar uma tupla"
   ]
  },
  {
   "cell_type": "code",
   "execution_count": 26,
   "id": "b9b17ef3",
   "metadata": {},
   "outputs": [
    {
     "data": {
      "text/plain": [
       "(25, 35, 40, 55, 60)"
      ]
     },
     "execution_count": 26,
     "metadata": {},
     "output_type": "execute_result"
    }
   ],
   "source": [
    "tupla = (25, 35, 40, 55, 60)\n",
    "tupla"
   ]
  },
  {
   "cell_type": "code",
   "execution_count": 28,
   "id": "81e7e7b8",
   "metadata": {},
   "outputs": [
    {
     "data": {
      "text/plain": [
       "(25, 35)"
      ]
     },
     "execution_count": 28,
     "metadata": {},
     "output_type": "execute_result"
    }
   ],
   "source": [
    "tupla[0:2]"
   ]
  },
  {
   "cell_type": "markdown",
   "id": "fd010dc1",
   "metadata": {},
   "source": [
    "#### Convertendo tupla para lista"
   ]
  },
  {
   "cell_type": "markdown",
   "id": "9f19eaca",
   "metadata": {},
   "source": [
    "Se houver a necessidade de alterar os dados de uma tupla, então, primeiro convertemos a tupla para lista e depois alteramos o conteúdo."
   ]
  },
  {
   "cell_type": "code",
   "execution_count": 29,
   "id": "0f9d7340",
   "metadata": {},
   "outputs": [
    {
     "data": {
      "text/plain": [
       "[25, 35, 40, 55, 60]"
      ]
     },
     "execution_count": 29,
     "metadata": {},
     "output_type": "execute_result"
    }
   ],
   "source": [
    "lista_tupla = list(tupla)\n",
    "lista_tupla"
   ]
  },
  {
   "cell_type": "code",
   "execution_count": 30,
   "id": "31bb13a5",
   "metadata": {},
   "outputs": [
    {
     "data": {
      "text/plain": [
       "['Teste', 25, 33, 40, 55, 60]"
      ]
     },
     "execution_count": 30,
     "metadata": {},
     "output_type": "execute_result"
    }
   ],
   "source": [
    "lista_tupla[1] = 33\n",
    "lista_tupla.insert(0, \"Teste\")\n",
    "lista_tupla"
   ]
  },
  {
   "cell_type": "markdown",
   "id": "a83354ed",
   "metadata": {},
   "source": [
    "# Dicionários"
   ]
  },
  {
   "cell_type": "markdown",
   "id": "22a2737a",
   "metadata": {},
   "source": [
    "Dicionários são conjuntos de chave e valor. No dicionário há um identificador e na frente dele um conteúdo.\n",
    "\n",
    "* Desordenados: os itens de um dicionário são guardados sem um valor de índice. Contudo, podemos estabelecer uma ordem para as chaves durante a criação, como por exemplo: 0, 1, 2 e 3, nessa ordem. \n",
    "* Únicos: as chaves nos dicionários devem ser únicas.\n",
    "* Mutáveis: podemos adicionar, remover ou modificar uma chave-valor após sua criação. \n",
    "\n",
    "As chaves de um dicionário devem ser únicas. Se tentarmos guardar um valor em uma chave já existente, o valor antigo será substituído. "
   ]
  },
  {
   "cell_type": "code",
   "execution_count": 31,
   "id": "d277e197",
   "metadata": {},
   "outputs": [
    {
     "data": {
      "text/plain": [
       "{0: 25, 1: 45, 2: 37, 3: 98, 4: 101}"
      ]
     },
     "execution_count": 31,
     "metadata": {},
     "output_type": "execute_result"
    }
   ],
   "source": [
    "dic = {\n",
    "    0: 25,\n",
    "    1: 45,\n",
    "    2: 37,\n",
    "    3: 98,\n",
    "    4: 101\n",
    "}\n",
    "\n",
    "dic"
   ]
  },
  {
   "cell_type": "markdown",
   "id": "d0925704",
   "metadata": {},
   "source": [
    "#### Substituição de valores em um dicionário"
   ]
  },
  {
   "cell_type": "markdown",
   "id": "2d4cf44a",
   "metadata": {},
   "source": [
    "Uma das formas é adicionando um valor a uma chave já existente na própria estrutura do dicionário."
   ]
  },
  {
   "cell_type": "code",
   "execution_count": 32,
   "id": "6608756b",
   "metadata": {},
   "outputs": [
    {
     "data": {
      "text/plain": [
       "{0: 33, 1: 45, 2: 37, 3: 98, 4: 101}"
      ]
     },
     "execution_count": 32,
     "metadata": {},
     "output_type": "execute_result"
    }
   ],
   "source": [
    "dic = {\n",
    "    0: 25,\n",
    "    1: 45,\n",
    "    2: 37,\n",
    "    3: 98,\n",
    "    4: 101,\n",
    "    0: 33\n",
    "}\n",
    "\n",
    "dic"
   ]
  },
  {
   "cell_type": "markdown",
   "id": "f6e2aa95",
   "metadata": {},
   "source": [
    "Outra forma é selecionando apenas a chave:"
   ]
  },
  {
   "cell_type": "code",
   "execution_count": 33,
   "id": "13cca600",
   "metadata": {},
   "outputs": [
    {
     "data": {
      "text/plain": [
       "{0: 33, 1: 45, 2: 47, 3: 98, 4: 101}"
      ]
     },
     "execution_count": 33,
     "metadata": {},
     "output_type": "execute_result"
    }
   ],
   "source": [
    "dic[2] = 47\n",
    "dic"
   ]
  },
  {
   "cell_type": "markdown",
   "id": "7519ea29",
   "metadata": {},
   "source": [
    "#### Inserção de valores/conteúdos no dicionário"
   ]
  },
  {
   "cell_type": "code",
   "execution_count": 34,
   "id": "bcd63f1f",
   "metadata": {},
   "outputs": [],
   "source": [
    "dic[5] = \"Lucas\""
   ]
  },
  {
   "cell_type": "code",
   "execution_count": 35,
   "id": "efe2e327",
   "metadata": {},
   "outputs": [
    {
     "data": {
      "text/plain": [
       "{0: 33, 1: 45, 2: 47, 3: 98, 4: 101, 5: 'Lucas'}"
      ]
     },
     "execution_count": 35,
     "metadata": {},
     "output_type": "execute_result"
    }
   ],
   "source": [
    "dic"
   ]
  },
  {
   "cell_type": "markdown",
   "id": "3c652ae3",
   "metadata": {},
   "source": [
    "Podemos inserir uma chave do tipo texto:"
   ]
  },
  {
   "cell_type": "code",
   "execution_count": 38,
   "id": "9ffd074e",
   "metadata": {},
   "outputs": [
    {
     "data": {
      "text/plain": [
       "{0: 33, 2: 47, 4: 101, 5: 'Lucas', 'Sobrenome': 'Quemelli'}"
      ]
     },
     "execution_count": 38,
     "metadata": {},
     "output_type": "execute_result"
    }
   ],
   "source": [
    "dic['Sobrenome'] = 'Quemelli'\n",
    "dic"
   ]
  },
  {
   "cell_type": "markdown",
   "id": "3117d1a1",
   "metadata": {},
   "source": [
    "Podemos adicionar listas dentro de um dicionário:"
   ]
  },
  {
   "cell_type": "code",
   "execution_count": 39,
   "id": "9e612939",
   "metadata": {},
   "outputs": [
    {
     "data": {
      "text/plain": [
       "{0: 33,\n",
       " 2: 47,\n",
       " 4: 101,\n",
       " 5: 'Lucas',\n",
       " 'Sobrenome': 'Quemelli',\n",
       " 'lista': ['Hello', 'World']}"
      ]
     },
     "execution_count": 39,
     "metadata": {},
     "output_type": "execute_result"
    }
   ],
   "source": [
    "dic['lista'] = [\"Hello\", \"World\"]\n",
    "dic"
   ]
  },
  {
   "cell_type": "markdown",
   "id": "2fdd259c",
   "metadata": {},
   "source": [
    "#### Remoção de conteúdo de um dicionário"
   ]
  },
  {
   "cell_type": "markdown",
   "id": "863370b8",
   "metadata": {},
   "source": [
    "Remoção por chaves:"
   ]
  },
  {
   "cell_type": "code",
   "execution_count": 36,
   "id": "4d3aad85",
   "metadata": {},
   "outputs": [
    {
     "data": {
      "text/plain": [
       "{0: 33, 2: 47, 3: 98, 4: 101, 5: 'Lucas'}"
      ]
     },
     "execution_count": 36,
     "metadata": {},
     "output_type": "execute_result"
    }
   ],
   "source": [
    "dic.pop(1)\n",
    "dic"
   ]
  },
  {
   "cell_type": "markdown",
   "id": "ff30059a",
   "metadata": {},
   "source": [
    "Se quisermos exibir o valor excluído:"
   ]
  },
  {
   "cell_type": "code",
   "execution_count": 37,
   "id": "d0743529",
   "metadata": {},
   "outputs": [
    {
     "data": {
      "text/plain": [
       "98"
      ]
     },
     "execution_count": 37,
     "metadata": {},
     "output_type": "execute_result"
    }
   ],
   "source": [
    "new_dic = dic.pop(3)\n",
    "new_dic"
   ]
  },
  {
   "cell_type": "markdown",
   "id": "6fa1a13a",
   "metadata": {},
   "source": [
    "# Estruturas de repetição"
   ]
  },
  {
   "cell_type": "markdown",
   "id": "48fcbf97",
   "metadata": {},
   "source": [
    "## Laço FOR"
   ]
  },
  {
   "cell_type": "markdown",
   "id": "02c02ad0",
   "metadata": {},
   "source": [
    "### Algumas estruturas do FOR"
   ]
  },
  {
   "cell_type": "markdown",
   "id": "9bb389bc",
   "metadata": {},
   "source": [
    "#### Laço FOR por índice"
   ]
  },
  {
   "cell_type": "code",
   "execution_count": 58,
   "id": "285eda82",
   "metadata": {},
   "outputs": [
    {
     "name": "stdout",
     "output_type": "stream",
     "text": [
      "20\n",
      "30\n",
      "40\n",
      "50\n"
     ]
    }
   ],
   "source": [
    "lista = [20, 30, 40, 50]\n",
    "\n",
    "for i in range(4):\n",
    "    print(lista[i])"
   ]
  },
  {
   "cell_type": "code",
   "execution_count": 62,
   "id": "66ba34ff",
   "metadata": {},
   "outputs": [
    {
     "name": "stdout",
     "output_type": "stream",
     "text": [
      "20\n",
      "30\n",
      "40\n",
      "50\n"
     ]
    }
   ],
   "source": [
    "for index in range(4):\n",
    "    print(lista[index])"
   ]
  },
  {
   "cell_type": "code",
   "execution_count": 64,
   "id": "f41f150d",
   "metadata": {},
   "outputs": [
    {
     "name": "stdout",
     "output_type": "stream",
     "text": [
      "20\n",
      "30\n",
      "40\n",
      "50\n"
     ]
    }
   ],
   "source": [
    "for indice in range(4):\n",
    "    print(lista[indice])"
   ]
  },
  {
   "cell_type": "code",
   "execution_count": 65,
   "id": "e8026916",
   "metadata": {},
   "outputs": [
    {
     "name": "stdout",
     "output_type": "stream",
     "text": [
      "20\n",
      "30\n",
      "40\n",
      "50\n"
     ]
    }
   ],
   "source": [
    "for coisa in range(4):\n",
    "    print(lista[coisa])"
   ]
  },
  {
   "cell_type": "code",
   "execution_count": 68,
   "id": "05ca38f5",
   "metadata": {},
   "outputs": [
    {
     "name": "stdout",
     "output_type": "stream",
     "text": [
      "20\n",
      "30\n",
      "40\n",
      "50\n"
     ]
    }
   ],
   "source": [
    "for coisa in range(len(lista)):\n",
    "    print(lista[coisa])"
   ]
  },
  {
   "cell_type": "code",
   "execution_count": 82,
   "id": "b7f7d3b4",
   "metadata": {},
   "outputs": [
    {
     "name": "stdout",
     "output_type": "stream",
     "text": [
      "20\n",
      "30\n",
      "40\n",
      "50\n"
     ]
    }
   ],
   "source": [
    "for i in range(0, 4):\n",
    "    print(lista[i])"
   ]
  },
  {
   "cell_type": "markdown",
   "id": "8c2ab5ad",
   "metadata": {},
   "source": [
    "Sempre que usarmos a estrutura **for ... in range(X):** ou **for ... in range (x, y):** o Python entende que estamos trabalhando com índices. Por isso, a nomeação do índice pode ser qualquer palavra ou letra."
   ]
  },
  {
   "cell_type": "markdown",
   "id": "27f24c7c",
   "metadata": {},
   "source": [
    "#### Laço FOR por elemento"
   ]
  },
  {
   "cell_type": "code",
   "execution_count": 59,
   "id": "ac129c88",
   "metadata": {},
   "outputs": [
    {
     "name": "stdout",
     "output_type": "stream",
     "text": [
      "20\n",
      "30\n",
      "40\n",
      "50\n"
     ]
    }
   ],
   "source": [
    "for elemento in lista:\n",
    "    print(elemento)"
   ]
  },
  {
   "cell_type": "code",
   "execution_count": 66,
   "id": "5178a57c",
   "metadata": {},
   "outputs": [
    {
     "name": "stdout",
     "output_type": "stream",
     "text": [
      "20\n",
      "30\n",
      "40\n",
      "50\n"
     ]
    }
   ],
   "source": [
    "for element in lista:\n",
    "    print(element)"
   ]
  },
  {
   "cell_type": "code",
   "execution_count": 67,
   "id": "1c964e40",
   "metadata": {},
   "outputs": [
    {
     "name": "stdout",
     "output_type": "stream",
     "text": [
      "20\n",
      "30\n",
      "40\n",
      "50\n"
     ]
    }
   ],
   "source": [
    "for coisa in lista:\n",
    "    print(coisa)"
   ]
  },
  {
   "cell_type": "markdown",
   "id": "da006ebe",
   "metadata": {},
   "source": [
    "Sempre que usarmos a estrutura **for ... in NOME_DA_VARIAVEL:** o Python entende que estamos trabalhando com elementos/conteúdos da lista, da tupla, do dicionário, da matriz ou do dataframe. Por isso, podemos utilizar qualquer nome para identidicar o elemento/conteúdo."
   ]
  },
  {
   "cell_type": "markdown",
   "id": "2e0b0e18",
   "metadata": {},
   "source": [
    "#### Laço FOR por índice e elemento"
   ]
  },
  {
   "cell_type": "code",
   "execution_count": 73,
   "id": "565dbff2",
   "metadata": {},
   "outputs": [
    {
     "name": "stdout",
     "output_type": "stream",
     "text": [
      "0 | 20\n",
      "1 | 30\n",
      "2 | 40\n",
      "3 | 50\n"
     ]
    }
   ],
   "source": [
    "for indice, elemento in enumerate(lista):\n",
    "    print(indice, '|', elemento)"
   ]
  },
  {
   "cell_type": "code",
   "execution_count": 74,
   "id": "de5f3b74",
   "metadata": {},
   "outputs": [
    {
     "name": "stdout",
     "output_type": "stream",
     "text": [
      "0 | 20\n",
      "1 | 30\n",
      "2 | 40\n",
      "3 | 50\n"
     ]
    }
   ],
   "source": [
    "for index, element in enumerate(lista):\n",
    "    print(index, '|', element)"
   ]
  },
  {
   "cell_type": "code",
   "execution_count": 75,
   "id": "81cb843c",
   "metadata": {},
   "outputs": [
    {
     "name": "stdout",
     "output_type": "stream",
     "text": [
      "0 | 20\n",
      "1 | 30\n",
      "2 | 40\n",
      "3 | 50\n"
     ]
    }
   ],
   "source": [
    "for i, number in enumerate(lista):\n",
    "    print(i, '|', number)"
   ]
  },
  {
   "cell_type": "markdown",
   "id": "2fd2e8e8",
   "metadata": {},
   "source": [
    "Sempre que usarmos a estrutura **for ... , ... in enumerate(NOME_DA_VARIAVEL):** o Python entende que, primeiro, estamos nomeando o índice e, segundo, estamos nomeando o elemento daquele índice. Por isso, podemos usar qualquer nomenclatura para o ínice e para o elemento."
   ]
  },
  {
   "cell_type": "markdown",
   "id": "c6dc7c68",
   "metadata": {},
   "source": [
    "## Laço WHILE"
   ]
  },
  {
   "cell_type": "markdown",
   "id": "d537682a",
   "metadata": {},
   "source": [
    "### Algumas estruturas do laço while"
   ]
  },
  {
   "cell_type": "markdown",
   "id": "e7684746",
   "metadata": {},
   "source": [
    "#### Laço while por índice"
   ]
  },
  {
   "cell_type": "code",
   "execution_count": 76,
   "id": "ee181112",
   "metadata": {},
   "outputs": [],
   "source": [
    "frutas = ['Morango', 'Banana', 'Mamão', 'Amora', 'Uva']"
   ]
  },
  {
   "cell_type": "code",
   "execution_count": 81,
   "id": "e3c0dffa",
   "metadata": {},
   "outputs": [
    {
     "name": "stdout",
     "output_type": "stream",
     "text": [
      "0 | Morango\n",
      "1 | Banana\n",
      "2 | Mamão\n",
      "3 | Amora\n",
      "4 | Uva\n"
     ]
    }
   ],
   "source": [
    "index = 0\n",
    "\n",
    "while index < len(frutas):\n",
    "    print(index, '|', frutas[index])\n",
    "    index += 1"
   ]
  },
  {
   "cell_type": "markdown",
   "id": "a70cbe15",
   "metadata": {},
   "source": [
    "Note que, diferentemente do laço FOR, o laço while precisa do valor inicial do índice e de um contador."
   ]
  },
  {
   "cell_type": "markdown",
   "id": "a0aae1f4",
   "metadata": {},
   "source": [
    "# I/O: input/output"
   ]
  },
  {
   "cell_type": "markdown",
   "id": "ba6360bd",
   "metadata": {},
   "source": [
    "Crie uma aplicação que receba um arquivo .csv dos usuários com os seus nomes, idades, alturas, e se eles são casados ou não. Salve essas informações na nossa base de dados."
   ]
  },
  {
   "cell_type": "code",
   "execution_count": 52,
   "id": "1ac07035",
   "metadata": {},
   "outputs": [],
   "source": [
    "import pandas as pd"
   ]
  },
  {
   "cell_type": "code",
   "execution_count": 53,
   "id": "c1d961c6",
   "metadata": {},
   "outputs": [
    {
     "data": {
      "text/html": [
       "<div>\n",
       "<style scoped>\n",
       "    .dataframe tbody tr th:only-of-type {\n",
       "        vertical-align: middle;\n",
       "    }\n",
       "\n",
       "    .dataframe tbody tr th {\n",
       "        vertical-align: top;\n",
       "    }\n",
       "\n",
       "    .dataframe thead th {\n",
       "        text-align: right;\n",
       "    }\n",
       "</style>\n",
       "<table border=\"1\" class=\"dataframe\">\n",
       "  <thead>\n",
       "    <tr style=\"text-align: right;\">\n",
       "      <th></th>\n",
       "      <th>id</th>\n",
       "      <th>nome</th>\n",
       "      <th>idade</th>\n",
       "      <th>altura</th>\n",
       "      <th>casado</th>\n",
       "    </tr>\n",
       "  </thead>\n",
       "  <tbody>\n",
       "    <tr>\n",
       "      <th>0</th>\n",
       "      <td>0</td>\n",
       "      <td>Pedro</td>\n",
       "      <td>32</td>\n",
       "      <td>1.82</td>\n",
       "      <td>True</td>\n",
       "    </tr>\n",
       "    <tr>\n",
       "      <th>1</th>\n",
       "      <td>1</td>\n",
       "      <td>Guilherme</td>\n",
       "      <td>23</td>\n",
       "      <td>1.82</td>\n",
       "      <td>False</td>\n",
       "    </tr>\n",
       "    <tr>\n",
       "      <th>2</th>\n",
       "      <td>2</td>\n",
       "      <td>Ana</td>\n",
       "      <td>29</td>\n",
       "      <td>1.79</td>\n",
       "      <td>True</td>\n",
       "    </tr>\n",
       "    <tr>\n",
       "      <th>3</th>\n",
       "      <td>3</td>\n",
       "      <td>Carolina</td>\n",
       "      <td>13</td>\n",
       "      <td>1.60</td>\n",
       "      <td>False</td>\n",
       "    </tr>\n",
       "  </tbody>\n",
       "</table>\n",
       "</div>"
      ],
      "text/plain": [
       "   id       nome  idade  altura  casado\n",
       "0   0      Pedro     32    1.82    True\n",
       "1   1  Guilherme     23    1.82   False\n",
       "2   2        Ana     29    1.79    True\n",
       "3   3   Carolina     13    1.60   False"
      ]
     },
     "execution_count": 53,
     "metadata": {},
     "output_type": "execute_result"
    }
   ],
   "source": [
    "dataset = pd.read_csv(\"https://raw.githubusercontent.com/lucasquemelli/fundamentos_programacao/main/dataset/aula_03.csv\")\n",
    "dataset"
   ]
  },
  {
   "cell_type": "code",
   "execution_count": null,
   "id": "0ac40771",
   "metadata": {},
   "outputs": [],
   "source": []
  }
 ],
 "metadata": {
  "kernelspec": {
   "display_name": "Python 3 (ipykernel)",
   "language": "python",
   "name": "python3"
  },
  "language_info": {
   "codemirror_mode": {
    "name": "ipython",
    "version": 3
   },
   "file_extension": ".py",
   "mimetype": "text/x-python",
   "name": "python",
   "nbconvert_exporter": "python",
   "pygments_lexer": "ipython3",
   "version": "3.9.6"
  }
 },
 "nbformat": 4,
 "nbformat_minor": 5
}
