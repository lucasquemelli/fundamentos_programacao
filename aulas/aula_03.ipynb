{
 "cells": [
  {
   "cell_type": "markdown",
   "id": "135adb29",
   "metadata": {},
   "source": [
    "# Listas "
   ]
  },
  {
   "cell_type": "markdown",
   "id": "0c3ef85c",
   "metadata": {},
   "source": [
    "* Ordenadas: mantêm a ordem de inserção de dados.\n",
    "* Mutáveis: podemos modificar seus items.\n",
    "* Heterogêneas: contêm dados de diferentes tipos.\n",
    "* Contêm duplicatas: permite valores duplicados, porque sua ordem é baseada no índice e não no conteúdo."
   ]
  },
  {
   "cell_type": "markdown",
   "id": "e1bf968d",
   "metadata": {},
   "source": [
    "#### Formas de criar e recuperar/exibir valores de uma lista"
   ]
  },
  {
   "cell_type": "code",
   "execution_count": 1,
   "id": "8be1b193",
   "metadata": {},
   "outputs": [
    {
     "name": "stdout",
     "output_type": "stream",
     "text": [
      "[28, 38, 48]\n",
      "[28, 38, 48, ['Lucas']]\n"
     ]
    }
   ],
   "source": [
    "lista1 = [28, 38, 48]\n",
    "lista2 = list([28, 38, 48, ['Lucas']]) #converte para o tipo 'lista'\n",
    "\n",
    "print(lista1)\n",
    "print(lista2)"
   ]
  },
  {
   "cell_type": "code",
   "execution_count": 2,
   "id": "58afffd6",
   "metadata": {},
   "outputs": [
    {
     "data": {
      "text/plain": [
       "28"
      ]
     },
     "execution_count": 2,
     "metadata": {},
     "output_type": "execute_result"
    }
   ],
   "source": [
    "lista1[0]"
   ]
  },
  {
   "cell_type": "code",
   "execution_count": 3,
   "id": "5acab5e2",
   "metadata": {},
   "outputs": [
    {
     "data": {
      "text/plain": [
       "['Lucas']"
      ]
     },
     "execution_count": 3,
     "metadata": {},
     "output_type": "execute_result"
    }
   ],
   "source": [
    "lista2[3]"
   ]
  },
  {
   "cell_type": "code",
   "execution_count": 4,
   "id": "b71115a9",
   "metadata": {},
   "outputs": [
    {
     "data": {
      "text/plain": [
       "'Lu'"
      ]
     },
     "execution_count": 4,
     "metadata": {},
     "output_type": "execute_result"
    }
   ],
   "source": [
    "lista2[3][0][0:2]"
   ]
  },
  {
   "cell_type": "code",
   "execution_count": 5,
   "id": "8ee900f6",
   "metadata": {},
   "outputs": [
    {
     "data": {
      "text/plain": [
       "['Lucas']"
      ]
     },
     "execution_count": 5,
     "metadata": {},
     "output_type": "execute_result"
    }
   ],
   "source": [
    "lista2[-1]"
   ]
  },
  {
   "cell_type": "code",
   "execution_count": 6,
   "id": "6f129bf0",
   "metadata": {},
   "outputs": [
    {
     "data": {
      "text/plain": [
       "48"
      ]
     },
     "execution_count": 6,
     "metadata": {},
     "output_type": "execute_result"
    }
   ],
   "source": [
    "lista2[-2]"
   ]
  },
  {
   "cell_type": "code",
   "execution_count": 7,
   "id": "92e4ce6f",
   "metadata": {},
   "outputs": [
    {
     "data": {
      "text/plain": [
       "38"
      ]
     },
     "execution_count": 7,
     "metadata": {},
     "output_type": "execute_result"
    }
   ],
   "source": [
    "lista2[-3]"
   ]
  },
  {
   "cell_type": "code",
   "execution_count": 8,
   "id": "d79240ee",
   "metadata": {},
   "outputs": [
    {
     "data": {
      "text/plain": [
       "[28, 38, 48, 'Quemelli']"
      ]
     },
     "execution_count": 8,
     "metadata": {},
     "output_type": "execute_result"
    }
   ],
   "source": [
    "lista1.append(\"Quemelli\")\n",
    "lista1"
   ]
  },
  {
   "cell_type": "code",
   "execution_count": 9,
   "id": "4368852f",
   "metadata": {},
   "outputs": [
    {
     "data": {
      "text/plain": [
       "[28, 38, 48, 'Lucas', 'Quemelli']"
      ]
     },
     "execution_count": 9,
     "metadata": {},
     "output_type": "execute_result"
    }
   ],
   "source": [
    "lista1.insert(3, \"Lucas\")\n",
    "lista1"
   ]
  },
  {
   "cell_type": "markdown",
   "id": "a129c246",
   "metadata": {},
   "source": [
    "#### Formas de deletar elementos de uma lista"
   ]
  },
  {
   "cell_type": "markdown",
   "id": "5850f91a",
   "metadata": {},
   "source": [
    "Usamos a função *pop* para remover e retornar o último elemento de uma lista:"
   ]
  },
  {
   "cell_type": "code",
   "execution_count": 10,
   "id": "e25bb0f6",
   "metadata": {},
   "outputs": [
    {
     "data": {
      "text/plain": [
       "'Quemelli'"
      ]
     },
     "execution_count": 10,
     "metadata": {},
     "output_type": "execute_result"
    }
   ],
   "source": [
    "ultimo = lista1.pop()\n",
    "ultimo"
   ]
  },
  {
   "cell_type": "code",
   "execution_count": 11,
   "id": "9bd8de0f",
   "metadata": {},
   "outputs": [
    {
     "data": {
      "text/plain": [
       "[28, 38, 48, 'Lucas']"
      ]
     },
     "execution_count": 11,
     "metadata": {},
     "output_type": "execute_result"
    }
   ],
   "source": [
    "lista1"
   ]
  },
  {
   "cell_type": "markdown",
   "id": "3225fb28",
   "metadata": {},
   "source": [
    "A função *pop* também pode ser utilizada para remoção de elementos por índice:"
   ]
  },
  {
   "cell_type": "code",
   "execution_count": 12,
   "id": "0c7dcbd8",
   "metadata": {},
   "outputs": [
    {
     "data": {
      "text/plain": [
       "[28, 38, 'Lucas']"
      ]
     },
     "execution_count": 12,
     "metadata": {},
     "output_type": "execute_result"
    }
   ],
   "source": [
    "lista1.pop(2)\n",
    "lista1"
   ]
  },
  {
   "cell_type": "markdown",
   "id": "54247ece",
   "metadata": {},
   "source": [
    "Para removermos um elemento em específico, usamos a função *remove*, como abaixo:"
   ]
  },
  {
   "cell_type": "code",
   "execution_count": 13,
   "id": "787ffcee",
   "metadata": {},
   "outputs": [
    {
     "data": {
      "text/plain": [
       "[28, 38]"
      ]
     },
     "execution_count": 13,
     "metadata": {},
     "output_type": "execute_result"
    }
   ],
   "source": [
    "lista1.remove('Lucas')\n",
    "lista1"
   ]
  },
  {
   "cell_type": "markdown",
   "id": "ac1fe23e",
   "metadata": {},
   "source": [
    "Em caso de elementos repetidos em uma lista, a função *remove* deleta apenas o primeiro elemento que aparecer (em ordem crescente de índices):"
   ]
  },
  {
   "cell_type": "code",
   "execution_count": 16,
   "id": "5a6377b3",
   "metadata": {},
   "outputs": [
    {
     "data": {
      "text/plain": [
       "[12, 14, 17, 25, 14, 70, 14]"
      ]
     },
     "execution_count": 16,
     "metadata": {},
     "output_type": "execute_result"
    }
   ],
   "source": [
    "lista3 = [12, 14, 17, 25, 14, 70, 14]\n",
    "lista3"
   ]
  },
  {
   "cell_type": "code",
   "execution_count": 17,
   "id": "0b678c19",
   "metadata": {},
   "outputs": [
    {
     "data": {
      "text/plain": [
       "[12, 17, 25, 14, 70, 14]"
      ]
     },
     "execution_count": 17,
     "metadata": {},
     "output_type": "execute_result"
    }
   ],
   "source": [
    "lista3.remove(14)\n",
    "lista3"
   ]
  },
  {
   "cell_type": "markdown",
   "id": "a855be77",
   "metadata": {},
   "source": [
    "Para deletar todos os elementos de uma lista, fazemos:"
   ]
  },
  {
   "cell_type": "code",
   "execution_count": 19,
   "id": "8e13e154",
   "metadata": {},
   "outputs": [
    {
     "data": {
      "text/plain": [
       "[]"
      ]
     },
     "execution_count": 19,
     "metadata": {},
     "output_type": "execute_result"
    }
   ],
   "source": [
    "lista3.clear()\n",
    "lista3"
   ]
  },
  {
   "cell_type": "markdown",
   "id": "62d0d08e",
   "metadata": {},
   "source": [
    "Para deletar a lista, fazemos:"
   ]
  },
  {
   "cell_type": "code",
   "execution_count": 23,
   "id": "f378edc7",
   "metadata": {},
   "outputs": [
    {
     "ename": "NameError",
     "evalue": "name 'lista3' is not defined",
     "output_type": "error",
     "traceback": [
      "\u001b[1;31m---------------------------------------------------------------------------\u001b[0m",
      "\u001b[1;31mNameError\u001b[0m                                 Traceback (most recent call last)",
      "\u001b[1;32mC:\\Users\\USURIO~3\\AppData\\Local\\Temp/ipykernel_14268/1677208847.py\u001b[0m in \u001b[0;36m<module>\u001b[1;34m\u001b[0m\n\u001b[0;32m      1\u001b[0m \u001b[1;32mdel\u001b[0m \u001b[0mlista3\u001b[0m\u001b[1;33m\u001b[0m\u001b[1;33m\u001b[0m\u001b[0m\n\u001b[1;32m----> 2\u001b[1;33m \u001b[0mlista3\u001b[0m\u001b[1;33m\u001b[0m\u001b[1;33m\u001b[0m\u001b[0m\n\u001b[0m",
      "\u001b[1;31mNameError\u001b[0m: name 'lista3' is not defined"
     ]
    }
   ],
   "source": [
    "del lista3\n",
    "lista3"
   ]
  },
  {
   "cell_type": "markdown",
   "id": "6b92a432",
   "metadata": {},
   "source": [
    "Ou podemos deletar apenas um elemento da lista utilizando seu índice:"
   ]
  },
  {
   "cell_type": "code",
   "execution_count": 24,
   "id": "a7c5b426",
   "metadata": {},
   "outputs": [
    {
     "data": {
      "text/plain": [
       "[12, 21, 35, 41, 58, 62]"
      ]
     },
     "execution_count": 24,
     "metadata": {},
     "output_type": "execute_result"
    }
   ],
   "source": [
    "lista3 = [20, 12, 21, 35, 41, 58, 62]\n",
    "del lista3[0]\n",
    "lista3"
   ]
  },
  {
   "cell_type": "markdown",
   "id": "0cd11818",
   "metadata": {},
   "source": [
    "Também podemos deletar uma sequência de elementos utilizando seus índices:"
   ]
  },
  {
   "cell_type": "code",
   "execution_count": 25,
   "id": "0a6d07b7",
   "metadata": {},
   "outputs": [
    {
     "data": {
      "text/plain": [
       "[41, 58, 62]"
      ]
     },
     "execution_count": 25,
     "metadata": {},
     "output_type": "execute_result"
    }
   ],
   "source": [
    "del lista3[0:3]\n",
    "lista3"
   ]
  },
  {
   "cell_type": "markdown",
   "id": "5458a653",
   "metadata": {},
   "source": [
    "#### Substituir um valor da lista"
   ]
  },
  {
   "cell_type": "code",
   "execution_count": 14,
   "id": "d50af9bb",
   "metadata": {},
   "outputs": [
    {
     "data": {
      "text/plain": [
       "[28, 38]"
      ]
     },
     "execution_count": 14,
     "metadata": {},
     "output_type": "execute_result"
    }
   ],
   "source": [
    "lista1"
   ]
  },
  {
   "cell_type": "code",
   "execution_count": 15,
   "id": "5a7c2896",
   "metadata": {},
   "outputs": [
    {
     "data": {
      "text/plain": [
       "[33, 38]"
      ]
     },
     "execution_count": 15,
     "metadata": {},
     "output_type": "execute_result"
    }
   ],
   "source": [
    "lista1[0] = 33\n",
    "lista1"
   ]
  },
  {
   "cell_type": "markdown",
   "id": "93d0cbbd",
   "metadata": {},
   "source": [
    "# Tuplas"
   ]
  },
  {
   "cell_type": "markdown",
   "id": "39ec978e",
   "metadata": {},
   "source": [
    "* Ordenadas.\n",
    "* Heterogêneas.\n",
    "* Contém duplicatas.\n",
    "- **Imutáveis**.\n",
    "\n",
    "São muito parecidas com as listas, apenas com uma diferença: uma vez criadas não podem ser alteradas."
   ]
  },
  {
   "cell_type": "markdown",
   "id": "b53fbdcd",
   "metadata": {},
   "source": [
    "As tuplas são mais performáticas do que as listas, já que não estão associadas às funções de alteração de conteúdo. Por isso, geralmente são utilizadas tuplas - quando não há necessidade de alterar os dados - para melhorar a performance."
   ]
  },
  {
   "cell_type": "markdown",
   "id": "ce489063",
   "metadata": {},
   "source": [
    "#### Formas de criar e exibir/recuperar uma tupla"
   ]
  },
  {
   "cell_type": "code",
   "execution_count": 26,
   "id": "a61bea76",
   "metadata": {},
   "outputs": [
    {
     "data": {
      "text/plain": [
       "(25, 35, 40, 55, 60)"
      ]
     },
     "execution_count": 26,
     "metadata": {},
     "output_type": "execute_result"
    }
   ],
   "source": [
    "tupla = (25, 35, 40, 55, 60)\n",
    "tupla"
   ]
  },
  {
   "cell_type": "code",
   "execution_count": 28,
   "id": "6b4e9384",
   "metadata": {},
   "outputs": [
    {
     "data": {
      "text/plain": [
       "(25, 35)"
      ]
     },
     "execution_count": 28,
     "metadata": {},
     "output_type": "execute_result"
    }
   ],
   "source": [
    "tupla[0:2]"
   ]
  },
  {
   "cell_type": "markdown",
   "id": "e408bd41",
   "metadata": {},
   "source": [
    "#### Convertendo tupla para lista"
   ]
  },
  {
   "cell_type": "markdown",
   "id": "7e6e5268",
   "metadata": {},
   "source": [
    "Se houver a necessidade de alterar os dados de uma tupla, então, primeiro convertemos a tupla para lista e depois alteramos o conteúdo."
   ]
  },
  {
   "cell_type": "code",
   "execution_count": 29,
   "id": "71a48f8a",
   "metadata": {},
   "outputs": [
    {
     "data": {
      "text/plain": [
       "[25, 35, 40, 55, 60]"
      ]
     },
     "execution_count": 29,
     "metadata": {},
     "output_type": "execute_result"
    }
   ],
   "source": [
    "lista_tupla = list(tupla)\n",
    "lista_tupla"
   ]
  },
  {
   "cell_type": "code",
   "execution_count": 30,
   "id": "942b32ad",
   "metadata": {},
   "outputs": [
    {
     "data": {
      "text/plain": [
       "['Teste', 25, 33, 40, 55, 60]"
      ]
     },
     "execution_count": 30,
     "metadata": {},
     "output_type": "execute_result"
    }
   ],
   "source": [
    "lista_tupla[1] = 33\n",
    "lista_tupla.insert(0, \"Teste\")\n",
    "lista_tupla"
   ]
  },
  {
   "cell_type": "markdown",
   "id": "990e985e",
   "metadata": {},
   "source": [
    "# Dicionários"
   ]
  },
  {
   "cell_type": "markdown",
   "id": "ec9b1817",
   "metadata": {},
   "source": [
    "Dicionários são conjuntos de chave e valor. No dicionário há um identificador e na frente dele um conteúdo.\n",
    "\n",
    "- Os índices de um dicionário devem ser únicos. Se tentarmos guardar um valor em um índice já existente, o valor antigo será substituído. "
   ]
  },
  {
   "cell_type": "code",
   "execution_count": 31,
   "id": "00a0a069",
   "metadata": {},
   "outputs": [
    {
     "data": {
      "text/plain": [
       "{0: 25, 1: 45, 2: 37, 3: 98, 4: 101}"
      ]
     },
     "execution_count": 31,
     "metadata": {},
     "output_type": "execute_result"
    }
   ],
   "source": [
    "dic = {\n",
    "    0: 25,\n",
    "    1: 45,\n",
    "    2: 37,\n",
    "    3: 98,\n",
    "    4: 101\n",
    "}\n",
    "\n",
    "dic"
   ]
  },
  {
   "cell_type": "markdown",
   "id": "9cb1d0dc",
   "metadata": {},
   "source": [
    "#### Substituição de valores em um dicionário"
   ]
  },
  {
   "cell_type": "markdown",
   "id": "5fd81621",
   "metadata": {},
   "source": [
    "Uma das formas é adicionando um valor a um índice/chave já existente na própria estrutura do dicionário."
   ]
  },
  {
   "cell_type": "code",
   "execution_count": 32,
   "id": "be9b790c",
   "metadata": {},
   "outputs": [
    {
     "data": {
      "text/plain": [
       "{0: 33, 1: 45, 2: 37, 3: 98, 4: 101}"
      ]
     },
     "execution_count": 32,
     "metadata": {},
     "output_type": "execute_result"
    }
   ],
   "source": [
    "dic = {\n",
    "    0: 25,\n",
    "    1: 45,\n",
    "    2: 37,\n",
    "    3: 98,\n",
    "    4: 101,\n",
    "    0: 33\n",
    "}\n",
    "\n",
    "dic"
   ]
  },
  {
   "cell_type": "markdown",
   "id": "2084dde4",
   "metadata": {},
   "source": [
    "Outra forma é selecionando apenas o índice:"
   ]
  },
  {
   "cell_type": "code",
   "execution_count": 33,
   "id": "44866a20",
   "metadata": {},
   "outputs": [
    {
     "data": {
      "text/plain": [
       "{0: 33, 1: 45, 2: 47, 3: 98, 4: 101}"
      ]
     },
     "execution_count": 33,
     "metadata": {},
     "output_type": "execute_result"
    }
   ],
   "source": [
    "dic[2] = 47\n",
    "dic"
   ]
  },
  {
   "cell_type": "markdown",
   "id": "70d7b681",
   "metadata": {},
   "source": [
    "#### Inserção de valores/conteúdos no dicionário"
   ]
  },
  {
   "cell_type": "code",
   "execution_count": 34,
   "id": "3db14714",
   "metadata": {},
   "outputs": [],
   "source": [
    "dic[5] = \"Lucas\""
   ]
  },
  {
   "cell_type": "code",
   "execution_count": 35,
   "id": "8325b22b",
   "metadata": {},
   "outputs": [
    {
     "data": {
      "text/plain": [
       "{0: 33, 1: 45, 2: 47, 3: 98, 4: 101, 5: 'Lucas'}"
      ]
     },
     "execution_count": 35,
     "metadata": {},
     "output_type": "execute_result"
    }
   ],
   "source": [
    "dic"
   ]
  },
  {
   "cell_type": "code",
   "execution_count": null,
   "id": "cbd7e704",
   "metadata": {},
   "outputs": [],
   "source": []
  }
 ],
 "metadata": {
  "kernelspec": {
   "display_name": "Python 3 (ipykernel)",
   "language": "python",
   "name": "python3"
  },
  "language_info": {
   "codemirror_mode": {
    "name": "ipython",
    "version": 3
   },
   "file_extension": ".py",
   "mimetype": "text/x-python",
   "name": "python",
   "nbconvert_exporter": "python",
   "pygments_lexer": "ipython3",
   "version": "3.9.6"
  }
 },
 "nbformat": 4,
 "nbformat_minor": 5
}
