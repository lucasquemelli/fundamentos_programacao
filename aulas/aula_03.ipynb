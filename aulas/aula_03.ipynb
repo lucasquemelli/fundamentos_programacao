{
 "cells": [
  {
   "cell_type": "markdown",
   "id": "3e717265",
   "metadata": {},
   "source": [
    "# Listas "
   ]
  },
  {
   "cell_type": "markdown",
   "id": "265f5c41",
   "metadata": {},
   "source": [
    "* Ordenadas: mantêm a ordem de inserção de dados.\n",
    "* Mutáveis: podemos modificar seus items.\n",
    "* Heterogêneas: contêm dados de diferentes tipos.\n",
    "* Contêm duplicatas: permite valores duplicados, porque sua ordem é baseada no índice e não no conteúdo."
   ]
  },
  {
   "cell_type": "markdown",
   "id": "dc00a23a",
   "metadata": {},
   "source": [
    "#### Formas de criar e recuperar/exibir valores de uma lista"
   ]
  },
  {
   "cell_type": "code",
   "execution_count": 1,
   "id": "9864e041",
   "metadata": {},
   "outputs": [
    {
     "name": "stdout",
     "output_type": "stream",
     "text": [
      "[28, 38, 48]\n",
      "[28, 38, 48, ['Lucas']]\n"
     ]
    }
   ],
   "source": [
    "lista1 = [28, 38, 48]\n",
    "lista2 = list([28, 38, 48, ['Lucas']]) #converte para o tipo 'lista'\n",
    "\n",
    "print(lista1)\n",
    "print(lista2)"
   ]
  },
  {
   "cell_type": "code",
   "execution_count": 2,
   "id": "a70b12a2",
   "metadata": {},
   "outputs": [
    {
     "data": {
      "text/plain": [
       "28"
      ]
     },
     "execution_count": 2,
     "metadata": {},
     "output_type": "execute_result"
    }
   ],
   "source": [
    "lista1[0]"
   ]
  },
  {
   "cell_type": "code",
   "execution_count": 3,
   "id": "72c7cae3",
   "metadata": {},
   "outputs": [
    {
     "data": {
      "text/plain": [
       "['Lucas']"
      ]
     },
     "execution_count": 3,
     "metadata": {},
     "output_type": "execute_result"
    }
   ],
   "source": [
    "lista2[3]"
   ]
  },
  {
   "cell_type": "code",
   "execution_count": 4,
   "id": "90ec60ff",
   "metadata": {},
   "outputs": [
    {
     "data": {
      "text/plain": [
       "'Lu'"
      ]
     },
     "execution_count": 4,
     "metadata": {},
     "output_type": "execute_result"
    }
   ],
   "source": [
    "lista2[3][0][0:2]"
   ]
  },
  {
   "cell_type": "code",
   "execution_count": 5,
   "id": "01264115",
   "metadata": {},
   "outputs": [
    {
     "data": {
      "text/plain": [
       "['Lucas']"
      ]
     },
     "execution_count": 5,
     "metadata": {},
     "output_type": "execute_result"
    }
   ],
   "source": [
    "lista2[-1]"
   ]
  },
  {
   "cell_type": "code",
   "execution_count": 6,
   "id": "54b104d4",
   "metadata": {},
   "outputs": [
    {
     "data": {
      "text/plain": [
       "48"
      ]
     },
     "execution_count": 6,
     "metadata": {},
     "output_type": "execute_result"
    }
   ],
   "source": [
    "lista2[-2]"
   ]
  },
  {
   "cell_type": "code",
   "execution_count": 7,
   "id": "5c03969f",
   "metadata": {},
   "outputs": [
    {
     "data": {
      "text/plain": [
       "38"
      ]
     },
     "execution_count": 7,
     "metadata": {},
     "output_type": "execute_result"
    }
   ],
   "source": [
    "lista2[-3]"
   ]
  },
  {
   "cell_type": "code",
   "execution_count": 8,
   "id": "b6fe34cd",
   "metadata": {},
   "outputs": [
    {
     "data": {
      "text/plain": [
       "[28, 38, 48, 'Quemelli']"
      ]
     },
     "execution_count": 8,
     "metadata": {},
     "output_type": "execute_result"
    }
   ],
   "source": [
    "lista1.append(\"Quemelli\")\n",
    "lista1"
   ]
  },
  {
   "cell_type": "code",
   "execution_count": 9,
   "id": "03f2d2f2",
   "metadata": {},
   "outputs": [
    {
     "data": {
      "text/plain": [
       "[28, 38, 48, 'Lucas', 'Quemelli']"
      ]
     },
     "execution_count": 9,
     "metadata": {},
     "output_type": "execute_result"
    }
   ],
   "source": [
    "lista1.insert(3, \"Lucas\")\n",
    "lista1"
   ]
  },
  {
   "cell_type": "markdown",
   "id": "0d80998b",
   "metadata": {},
   "source": [
    "#### Formas de deletar elementos de uma lista"
   ]
  },
  {
   "cell_type": "markdown",
   "id": "853d9564",
   "metadata": {},
   "source": [
    "Usamos a função *pop* para remover e retornar o último elemento de uma lista:"
   ]
  },
  {
   "cell_type": "code",
   "execution_count": 10,
   "id": "16ccfd03",
   "metadata": {},
   "outputs": [
    {
     "data": {
      "text/plain": [
       "'Quemelli'"
      ]
     },
     "execution_count": 10,
     "metadata": {},
     "output_type": "execute_result"
    }
   ],
   "source": [
    "ultimo = lista1.pop()\n",
    "ultimo"
   ]
  },
  {
   "cell_type": "code",
   "execution_count": 11,
   "id": "3ecea9ef",
   "metadata": {},
   "outputs": [
    {
     "data": {
      "text/plain": [
       "[28, 38, 48, 'Lucas']"
      ]
     },
     "execution_count": 11,
     "metadata": {},
     "output_type": "execute_result"
    }
   ],
   "source": [
    "lista1"
   ]
  },
  {
   "cell_type": "markdown",
   "id": "2671e9ca",
   "metadata": {},
   "source": [
    "A função *pop* também pode ser utilizada para remoção de elementos por índice:"
   ]
  },
  {
   "cell_type": "code",
   "execution_count": 12,
   "id": "4f8a229c",
   "metadata": {},
   "outputs": [
    {
     "data": {
      "text/plain": [
       "[28, 38, 'Lucas']"
      ]
     },
     "execution_count": 12,
     "metadata": {},
     "output_type": "execute_result"
    }
   ],
   "source": [
    "lista1.pop(2)\n",
    "lista1"
   ]
  },
  {
   "cell_type": "markdown",
   "id": "0124afa3",
   "metadata": {},
   "source": [
    "Para removermos um elemento em específico, usamos a função *remove*, como abaixo:"
   ]
  },
  {
   "cell_type": "code",
   "execution_count": 13,
   "id": "23388de0",
   "metadata": {},
   "outputs": [
    {
     "data": {
      "text/plain": [
       "[28, 38]"
      ]
     },
     "execution_count": 13,
     "metadata": {},
     "output_type": "execute_result"
    }
   ],
   "source": [
    "lista1.remove('Lucas')\n",
    "lista1"
   ]
  },
  {
   "cell_type": "markdown",
   "id": "67e7b036",
   "metadata": {},
   "source": [
    "Em caso de elementos repetidos em uma lista, a função *remove* deleta apenas o primeiro elemento que aparecer (em ordem crescente de índices):"
   ]
  },
  {
   "cell_type": "code",
   "execution_count": 16,
   "id": "5adce637",
   "metadata": {},
   "outputs": [
    {
     "data": {
      "text/plain": [
       "[12, 14, 17, 25, 14, 70, 14]"
      ]
     },
     "execution_count": 16,
     "metadata": {},
     "output_type": "execute_result"
    }
   ],
   "source": [
    "lista3 = [12, 14, 17, 25, 14, 70, 14]\n",
    "lista3"
   ]
  },
  {
   "cell_type": "code",
   "execution_count": 17,
   "id": "bd8c78b8",
   "metadata": {},
   "outputs": [
    {
     "data": {
      "text/plain": [
       "[12, 17, 25, 14, 70, 14]"
      ]
     },
     "execution_count": 17,
     "metadata": {},
     "output_type": "execute_result"
    }
   ],
   "source": [
    "lista3.remove(14)\n",
    "lista3"
   ]
  },
  {
   "cell_type": "markdown",
   "id": "3e026a2d",
   "metadata": {},
   "source": [
    "Para deletar todos os elementos de uma lista, fazemos:"
   ]
  },
  {
   "cell_type": "code",
   "execution_count": 19,
   "id": "5abc2e38",
   "metadata": {},
   "outputs": [
    {
     "data": {
      "text/plain": [
       "[]"
      ]
     },
     "execution_count": 19,
     "metadata": {},
     "output_type": "execute_result"
    }
   ],
   "source": [
    "lista3.clear()\n",
    "lista3"
   ]
  },
  {
   "cell_type": "markdown",
   "id": "ec51e68f",
   "metadata": {},
   "source": [
    "Para deletar a lista, fazemos:"
   ]
  },
  {
   "cell_type": "code",
   "execution_count": 23,
   "id": "1c5641ee",
   "metadata": {},
   "outputs": [
    {
     "ename": "NameError",
     "evalue": "name 'lista3' is not defined",
     "output_type": "error",
     "traceback": [
      "\u001b[1;31m---------------------------------------------------------------------------\u001b[0m",
      "\u001b[1;31mNameError\u001b[0m                                 Traceback (most recent call last)",
      "\u001b[1;32mC:\\Users\\USURIO~3\\AppData\\Local\\Temp/ipykernel_14268/1677208847.py\u001b[0m in \u001b[0;36m<module>\u001b[1;34m\u001b[0m\n\u001b[0;32m      1\u001b[0m \u001b[1;32mdel\u001b[0m \u001b[0mlista3\u001b[0m\u001b[1;33m\u001b[0m\u001b[1;33m\u001b[0m\u001b[0m\n\u001b[1;32m----> 2\u001b[1;33m \u001b[0mlista3\u001b[0m\u001b[1;33m\u001b[0m\u001b[1;33m\u001b[0m\u001b[0m\n\u001b[0m",
      "\u001b[1;31mNameError\u001b[0m: name 'lista3' is not defined"
     ]
    }
   ],
   "source": [
    "del lista3\n",
    "lista3"
   ]
  },
  {
   "cell_type": "markdown",
   "id": "a9cf6b7a",
   "metadata": {},
   "source": [
    "Ou podemos deletar apenas um elemento da lista utilizando seu índice:"
   ]
  },
  {
   "cell_type": "code",
   "execution_count": 24,
   "id": "c6ec5b52",
   "metadata": {},
   "outputs": [
    {
     "data": {
      "text/plain": [
       "[12, 21, 35, 41, 58, 62]"
      ]
     },
     "execution_count": 24,
     "metadata": {},
     "output_type": "execute_result"
    }
   ],
   "source": [
    "lista3 = [20, 12, 21, 35, 41, 58, 62]\n",
    "del lista3[0]\n",
    "lista3"
   ]
  },
  {
   "cell_type": "markdown",
   "id": "9e354792",
   "metadata": {},
   "source": [
    "Também podemos deletar uma sequência de elementos utilizando seus índices:"
   ]
  },
  {
   "cell_type": "code",
   "execution_count": 25,
   "id": "c7df265f",
   "metadata": {},
   "outputs": [
    {
     "data": {
      "text/plain": [
       "[41, 58, 62]"
      ]
     },
     "execution_count": 25,
     "metadata": {},
     "output_type": "execute_result"
    }
   ],
   "source": [
    "del lista3[0:3]\n",
    "lista3"
   ]
  },
  {
   "cell_type": "markdown",
   "id": "cc6ccde7",
   "metadata": {},
   "source": [
    "#### Substituir um valor da lista"
   ]
  },
  {
   "cell_type": "code",
   "execution_count": 14,
   "id": "44e6668d",
   "metadata": {},
   "outputs": [
    {
     "data": {
      "text/plain": [
       "[28, 38]"
      ]
     },
     "execution_count": 14,
     "metadata": {},
     "output_type": "execute_result"
    }
   ],
   "source": [
    "lista1"
   ]
  },
  {
   "cell_type": "code",
   "execution_count": 15,
   "id": "8a0ddd04",
   "metadata": {},
   "outputs": [
    {
     "data": {
      "text/plain": [
       "[33, 38]"
      ]
     },
     "execution_count": 15,
     "metadata": {},
     "output_type": "execute_result"
    }
   ],
   "source": [
    "lista1[0] = 33\n",
    "lista1"
   ]
  },
  {
   "cell_type": "markdown",
   "id": "b601f4e3",
   "metadata": {},
   "source": [
    "# Tuplas"
   ]
  },
  {
   "cell_type": "markdown",
   "id": "4ed215b3",
   "metadata": {},
   "source": [
    "* Ordenadas.\n",
    "* Heterogêneas.\n",
    "* Contém duplicatas.\n",
    "- **Imutáveis**.\n",
    "\n",
    "São muito parecidas com as listas, apenas com uma diferença: uma vez criadas não podem ser alteradas."
   ]
  },
  {
   "cell_type": "markdown",
   "id": "9f97ecb4",
   "metadata": {},
   "source": [
    "As tuplas são mais performáticas do que as listas, já que não estão associadas às funções de alteração de conteúdo. Por isso, geralmente são utilizadas tuplas - quando não há necessidade de alterar os dados - para melhorar a performance."
   ]
  },
  {
   "cell_type": "markdown",
   "id": "f6eb7825",
   "metadata": {},
   "source": [
    "#### Formas de criar e exibir/recuperar uma tupla"
   ]
  },
  {
   "cell_type": "code",
   "execution_count": 26,
   "id": "a42c786c",
   "metadata": {},
   "outputs": [
    {
     "data": {
      "text/plain": [
       "(25, 35, 40, 55, 60)"
      ]
     },
     "execution_count": 26,
     "metadata": {},
     "output_type": "execute_result"
    }
   ],
   "source": [
    "tupla = (25, 35, 40, 55, 60)\n",
    "tupla"
   ]
  },
  {
   "cell_type": "code",
   "execution_count": 28,
   "id": "e0fadb6b",
   "metadata": {},
   "outputs": [
    {
     "data": {
      "text/plain": [
       "(25, 35)"
      ]
     },
     "execution_count": 28,
     "metadata": {},
     "output_type": "execute_result"
    }
   ],
   "source": [
    "tupla[0:2]"
   ]
  },
  {
   "cell_type": "markdown",
   "id": "f9e4418a",
   "metadata": {},
   "source": [
    "#### Convertendo tupla para lista"
   ]
  },
  {
   "cell_type": "markdown",
   "id": "96009533",
   "metadata": {},
   "source": [
    "Se houver a necessidade de alterar os dados de uma tupla, então, primeiro convertemos a tupla para lista e depois alteramos o conteúdo."
   ]
  },
  {
   "cell_type": "code",
   "execution_count": 29,
   "id": "540237d3",
   "metadata": {},
   "outputs": [
    {
     "data": {
      "text/plain": [
       "[25, 35, 40, 55, 60]"
      ]
     },
     "execution_count": 29,
     "metadata": {},
     "output_type": "execute_result"
    }
   ],
   "source": [
    "lista_tupla = list(tupla)\n",
    "lista_tupla"
   ]
  },
  {
   "cell_type": "code",
   "execution_count": 30,
   "id": "89899266",
   "metadata": {},
   "outputs": [
    {
     "data": {
      "text/plain": [
       "['Teste', 25, 33, 40, 55, 60]"
      ]
     },
     "execution_count": 30,
     "metadata": {},
     "output_type": "execute_result"
    }
   ],
   "source": [
    "lista_tupla[1] = 33\n",
    "lista_tupla.insert(0, \"Teste\")\n",
    "lista_tupla"
   ]
  },
  {
   "cell_type": "markdown",
   "id": "11c3a39d",
   "metadata": {},
   "source": [
    "# Dicionários"
   ]
  },
  {
   "cell_type": "markdown",
   "id": "7a451000",
   "metadata": {},
   "source": [
    "Dicionários são conjuntos de chave e valor. No dicionário há um identificador e na frente dele um conteúdo.\n",
    "\n",
    "- Os índices de um dicionário devem ser únicos. Se tentarmos guardar um valor em um índice já existente, o valor antigo será substituído. "
   ]
  },
  {
   "cell_type": "code",
   "execution_count": 31,
   "id": "bef6875a",
   "metadata": {},
   "outputs": [
    {
     "data": {
      "text/plain": [
       "{0: 25, 1: 45, 2: 37, 3: 98, 4: 101}"
      ]
     },
     "execution_count": 31,
     "metadata": {},
     "output_type": "execute_result"
    }
   ],
   "source": [
    "dic = {\n",
    "    0: 25,\n",
    "    1: 45,\n",
    "    2: 37,\n",
    "    3: 98,\n",
    "    4: 101\n",
    "}\n",
    "\n",
    "dic"
   ]
  },
  {
   "cell_type": "markdown",
   "id": "d3ee10f7",
   "metadata": {},
   "source": [
    "#### Substituição de valores em um dicionário"
   ]
  },
  {
   "cell_type": "markdown",
   "id": "68ceb414",
   "metadata": {},
   "source": [
    "Uma das formas é adicionando um valor a um índice/chave já existente na própria estrutura do dicionário."
   ]
  },
  {
   "cell_type": "code",
   "execution_count": 32,
   "id": "3842047a",
   "metadata": {},
   "outputs": [
    {
     "data": {
      "text/plain": [
       "{0: 33, 1: 45, 2: 37, 3: 98, 4: 101}"
      ]
     },
     "execution_count": 32,
     "metadata": {},
     "output_type": "execute_result"
    }
   ],
   "source": [
    "dic = {\n",
    "    0: 25,\n",
    "    1: 45,\n",
    "    2: 37,\n",
    "    3: 98,\n",
    "    4: 101,\n",
    "    0: 33\n",
    "}\n",
    "\n",
    "dic"
   ]
  },
  {
   "cell_type": "markdown",
   "id": "b2c9fe5c",
   "metadata": {},
   "source": [
    "Outra forma é selecionando apenas o índice:"
   ]
  },
  {
   "cell_type": "code",
   "execution_count": 33,
   "id": "1cbb33d4",
   "metadata": {},
   "outputs": [
    {
     "data": {
      "text/plain": [
       "{0: 33, 1: 45, 2: 47, 3: 98, 4: 101}"
      ]
     },
     "execution_count": 33,
     "metadata": {},
     "output_type": "execute_result"
    }
   ],
   "source": [
    "dic[2] = 47\n",
    "dic"
   ]
  },
  {
   "cell_type": "code",
   "execution_count": null,
   "id": "e46a1505",
   "metadata": {},
   "outputs": [],
   "source": []
  }
 ],
 "metadata": {
  "kernelspec": {
   "display_name": "Python 3 (ipykernel)",
   "language": "python",
   "name": "python3"
  },
  "language_info": {
   "codemirror_mode": {
    "name": "ipython",
    "version": 3
   },
   "file_extension": ".py",
   "mimetype": "text/x-python",
   "name": "python",
   "nbconvert_exporter": "python",
   "pygments_lexer": "ipython3",
   "version": "3.9.6"
  }
 },
 "nbformat": 4,
 "nbformat_minor": 5
}
