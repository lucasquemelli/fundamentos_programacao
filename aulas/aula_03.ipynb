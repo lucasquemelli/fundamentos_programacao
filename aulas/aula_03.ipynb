{
 "cells": [
  {
   "cell_type": "markdown",
   "id": "a2c9528e",
   "metadata": {},
   "source": [
    "# Lista "
   ]
  },
  {
   "cell_type": "markdown",
   "id": "09b5996e",
   "metadata": {},
   "source": [
    "* Ordenadas: mantêm a ordem de inserção de dados.\n",
    "* Mutáveis: podemos modificar seus items.\n",
    "* Heterogêneas: contêm dados de diferentes tipos.\n",
    "* Contêm duplicatas: permite valores duplicados, porque sua ordem é baseada no índice e não no conteúdo."
   ]
  },
  {
   "cell_type": "markdown",
   "id": "1aa2f899",
   "metadata": {},
   "source": [
    "#### Formas de criar uma lista"
   ]
  },
  {
   "cell_type": "code",
   "execution_count": 1,
   "id": "0f3e2aa8",
   "metadata": {},
   "outputs": [
    {
     "name": "stdout",
     "output_type": "stream",
     "text": [
      "[28, 38, 48]\n",
      "[28, 38, 48, ['Lucas']]\n"
     ]
    }
   ],
   "source": [
    "lista1 = [28, 38, 48]\n",
    "lista2 = list([28, 38, 48, ['Lucas']]) #converte para o tipo 'lista'\n",
    "\n",
    "print(lista1)\n",
    "print(lista2)"
   ]
  },
  {
   "cell_type": "code",
   "execution_count": 2,
   "id": "60ce0a10",
   "metadata": {},
   "outputs": [
    {
     "data": {
      "text/plain": [
       "28"
      ]
     },
     "execution_count": 2,
     "metadata": {},
     "output_type": "execute_result"
    }
   ],
   "source": [
    "lista1[0]"
   ]
  },
  {
   "cell_type": "code",
   "execution_count": 3,
   "id": "8aff8503",
   "metadata": {},
   "outputs": [
    {
     "data": {
      "text/plain": [
       "['Lucas']"
      ]
     },
     "execution_count": 3,
     "metadata": {},
     "output_type": "execute_result"
    }
   ],
   "source": [
    "lista2[3]"
   ]
  },
  {
   "cell_type": "code",
   "execution_count": 4,
   "id": "54c60315",
   "metadata": {},
   "outputs": [
    {
     "data": {
      "text/plain": [
       "'Lu'"
      ]
     },
     "execution_count": 4,
     "metadata": {},
     "output_type": "execute_result"
    }
   ],
   "source": [
    "lista2[3][0][0:2]"
   ]
  },
  {
   "cell_type": "code",
   "execution_count": 5,
   "id": "485c7d33",
   "metadata": {},
   "outputs": [
    {
     "data": {
      "text/plain": [
       "['Lucas']"
      ]
     },
     "execution_count": 5,
     "metadata": {},
     "output_type": "execute_result"
    }
   ],
   "source": [
    "lista2[-1]"
   ]
  },
  {
   "cell_type": "code",
   "execution_count": 6,
   "id": "ccf864a3",
   "metadata": {},
   "outputs": [
    {
     "data": {
      "text/plain": [
       "48"
      ]
     },
     "execution_count": 6,
     "metadata": {},
     "output_type": "execute_result"
    }
   ],
   "source": [
    "lista2[-2]"
   ]
  },
  {
   "cell_type": "code",
   "execution_count": 7,
   "id": "1b3504e6",
   "metadata": {},
   "outputs": [
    {
     "data": {
      "text/plain": [
       "38"
      ]
     },
     "execution_count": 7,
     "metadata": {},
     "output_type": "execute_result"
    }
   ],
   "source": [
    "lista2[-3]"
   ]
  },
  {
   "cell_type": "code",
   "execution_count": 8,
   "id": "a7291bbd",
   "metadata": {},
   "outputs": [
    {
     "data": {
      "text/plain": [
       "[28, 38, 48, 'Quemelli']"
      ]
     },
     "execution_count": 8,
     "metadata": {},
     "output_type": "execute_result"
    }
   ],
   "source": [
    "lista1.append(\"Quemelli\")\n",
    "lista1"
   ]
  },
  {
   "cell_type": "code",
   "execution_count": 9,
   "id": "b33125e1",
   "metadata": {},
   "outputs": [
    {
     "data": {
      "text/plain": [
       "[28, 38, 48, 'Lucas', 'Quemelli']"
      ]
     },
     "execution_count": 9,
     "metadata": {},
     "output_type": "execute_result"
    }
   ],
   "source": [
    "lista1.insert(3, \"Lucas\")\n",
    "lista1"
   ]
  },
  {
   "cell_type": "markdown",
   "id": "d34b8ba8",
   "metadata": {},
   "source": [
    "#### Formas de deletar elementos de uma lista"
   ]
  },
  {
   "cell_type": "markdown",
   "id": "2d75ee1a",
   "metadata": {},
   "source": [
    "Usamos a função *pop* para remover e retornar o último elemento de uma lista:"
   ]
  },
  {
   "cell_type": "code",
   "execution_count": 10,
   "id": "c7f6ef2f",
   "metadata": {},
   "outputs": [
    {
     "data": {
      "text/plain": [
       "'Quemelli'"
      ]
     },
     "execution_count": 10,
     "metadata": {},
     "output_type": "execute_result"
    }
   ],
   "source": [
    "ultimo = lista1.pop()\n",
    "ultimo"
   ]
  },
  {
   "cell_type": "code",
   "execution_count": 11,
   "id": "62380b95",
   "metadata": {},
   "outputs": [
    {
     "data": {
      "text/plain": [
       "[28, 38, 48, 'Lucas']"
      ]
     },
     "execution_count": 11,
     "metadata": {},
     "output_type": "execute_result"
    }
   ],
   "source": [
    "lista1"
   ]
  },
  {
   "cell_type": "markdown",
   "id": "29b1145d",
   "metadata": {},
   "source": [
    "A função *pop* também pode ser utilizada para remoção de elementos por índice:"
   ]
  },
  {
   "cell_type": "code",
   "execution_count": 12,
   "id": "c7cdb5b2",
   "metadata": {},
   "outputs": [
    {
     "data": {
      "text/plain": [
       "[28, 38, 'Lucas']"
      ]
     },
     "execution_count": 12,
     "metadata": {},
     "output_type": "execute_result"
    }
   ],
   "source": [
    "lista1.pop(2)\n",
    "lista1"
   ]
  },
  {
   "cell_type": "markdown",
   "id": "2ab314c7",
   "metadata": {},
   "source": [
    "Para removermos um elemento em específico, usamos a função *remove*, como abaixo:"
   ]
  },
  {
   "cell_type": "code",
   "execution_count": 13,
   "id": "46fb25d2",
   "metadata": {},
   "outputs": [
    {
     "data": {
      "text/plain": [
       "[28, 38]"
      ]
     },
     "execution_count": 13,
     "metadata": {},
     "output_type": "execute_result"
    }
   ],
   "source": [
    "lista1.remove('Lucas')\n",
    "lista1"
   ]
  },
  {
   "cell_type": "markdown",
   "id": "b314355b",
   "metadata": {},
   "source": [
    "#### Substituir um valor da lista"
   ]
  },
  {
   "cell_type": "code",
   "execution_count": 14,
   "id": "0b0fa8cd",
   "metadata": {},
   "outputs": [
    {
     "data": {
      "text/plain": [
       "[28, 38]"
      ]
     },
     "execution_count": 14,
     "metadata": {},
     "output_type": "execute_result"
    }
   ],
   "source": [
    "lista1"
   ]
  },
  {
   "cell_type": "code",
   "execution_count": 15,
   "id": "ceb07d54",
   "metadata": {},
   "outputs": [
    {
     "data": {
      "text/plain": [
       "[33, 38]"
      ]
     },
     "execution_count": 15,
     "metadata": {},
     "output_type": "execute_result"
    }
   ],
   "source": [
    "lista1[0] = 33\n",
    "lista1"
   ]
  },
  {
   "cell_type": "code",
   "execution_count": null,
   "id": "ad42ecf2",
   "metadata": {},
   "outputs": [],
   "source": []
  }
 ],
 "metadata": {
  "kernelspec": {
   "display_name": "Python 3 (ipykernel)",
   "language": "python",
   "name": "python3"
  },
  "language_info": {
   "codemirror_mode": {
    "name": "ipython",
    "version": 3
   },
   "file_extension": ".py",
   "mimetype": "text/x-python",
   "name": "python",
   "nbconvert_exporter": "python",
   "pygments_lexer": "ipython3",
   "version": "3.9.6"
  }
 },
 "nbformat": 4,
 "nbformat_minor": 5
}
