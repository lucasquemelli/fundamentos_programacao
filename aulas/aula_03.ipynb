{
 "cells": [
  {
   "cell_type": "markdown",
   "id": "442b6489",
   "metadata": {},
   "source": [
    "# Listas "
   ]
  },
  {
   "cell_type": "markdown",
   "id": "5d4586c8",
   "metadata": {},
   "source": [
    "* Ordenadas: mantêm a ordem de inserção de dados.\n",
    "* Mutáveis: podemos modificar seus items.\n",
    "* Heterogêneas: contêm dados de diferentes tipos.\n",
    "* Contêm duplicatas: permite valores duplicados, porque sua ordem é baseada no índice e não no conteúdo."
   ]
  },
  {
   "cell_type": "markdown",
   "id": "60615740",
   "metadata": {},
   "source": [
    "#### Formas de criar uma lista"
   ]
  },
  {
   "cell_type": "code",
   "execution_count": 1,
   "id": "1d663f4d",
   "metadata": {},
   "outputs": [
    {
     "name": "stdout",
     "output_type": "stream",
     "text": [
      "[28, 38, 48]\n",
      "[28, 38, 48, ['Lucas']]\n"
     ]
    }
   ],
   "source": [
    "lista1 = [28, 38, 48]\n",
    "lista2 = list([28, 38, 48, ['Lucas']]) #converte para o tipo 'lista'\n",
    "\n",
    "print(lista1)\n",
    "print(lista2)"
   ]
  },
  {
   "cell_type": "code",
   "execution_count": 2,
   "id": "df02e3fd",
   "metadata": {},
   "outputs": [
    {
     "data": {
      "text/plain": [
       "28"
      ]
     },
     "execution_count": 2,
     "metadata": {},
     "output_type": "execute_result"
    }
   ],
   "source": [
    "lista1[0]"
   ]
  },
  {
   "cell_type": "code",
   "execution_count": 3,
   "id": "3a365596",
   "metadata": {},
   "outputs": [
    {
     "data": {
      "text/plain": [
       "['Lucas']"
      ]
     },
     "execution_count": 3,
     "metadata": {},
     "output_type": "execute_result"
    }
   ],
   "source": [
    "lista2[3]"
   ]
  },
  {
   "cell_type": "code",
   "execution_count": 4,
   "id": "f92b6b4e",
   "metadata": {},
   "outputs": [
    {
     "data": {
      "text/plain": [
       "'Lu'"
      ]
     },
     "execution_count": 4,
     "metadata": {},
     "output_type": "execute_result"
    }
   ],
   "source": [
    "lista2[3][0][0:2]"
   ]
  },
  {
   "cell_type": "code",
   "execution_count": 5,
   "id": "3cd2ba9c",
   "metadata": {},
   "outputs": [
    {
     "data": {
      "text/plain": [
       "['Lucas']"
      ]
     },
     "execution_count": 5,
     "metadata": {},
     "output_type": "execute_result"
    }
   ],
   "source": [
    "lista2[-1]"
   ]
  },
  {
   "cell_type": "code",
   "execution_count": 6,
   "id": "dba0ec3f",
   "metadata": {},
   "outputs": [
    {
     "data": {
      "text/plain": [
       "48"
      ]
     },
     "execution_count": 6,
     "metadata": {},
     "output_type": "execute_result"
    }
   ],
   "source": [
    "lista2[-2]"
   ]
  },
  {
   "cell_type": "code",
   "execution_count": 7,
   "id": "63ed848b",
   "metadata": {},
   "outputs": [
    {
     "data": {
      "text/plain": [
       "38"
      ]
     },
     "execution_count": 7,
     "metadata": {},
     "output_type": "execute_result"
    }
   ],
   "source": [
    "lista2[-3]"
   ]
  },
  {
   "cell_type": "code",
   "execution_count": 8,
   "id": "32c3ae85",
   "metadata": {},
   "outputs": [
    {
     "data": {
      "text/plain": [
       "[28, 38, 48, 'Quemelli']"
      ]
     },
     "execution_count": 8,
     "metadata": {},
     "output_type": "execute_result"
    }
   ],
   "source": [
    "lista1.append(\"Quemelli\")\n",
    "lista1"
   ]
  },
  {
   "cell_type": "code",
   "execution_count": 9,
   "id": "1048d28b",
   "metadata": {},
   "outputs": [
    {
     "data": {
      "text/plain": [
       "[28, 38, 48, 'Lucas', 'Quemelli']"
      ]
     },
     "execution_count": 9,
     "metadata": {},
     "output_type": "execute_result"
    }
   ],
   "source": [
    "lista1.insert(3, \"Lucas\")\n",
    "lista1"
   ]
  },
  {
   "cell_type": "markdown",
   "id": "3953dbd3",
   "metadata": {},
   "source": [
    "#### Formas de deletar elementos de uma lista"
   ]
  },
  {
   "cell_type": "markdown",
   "id": "87394a58",
   "metadata": {},
   "source": [
    "Usamos a função *pop* para remover e retornar o último elemento de uma lista:"
   ]
  },
  {
   "cell_type": "code",
   "execution_count": 10,
   "id": "3e1c9868",
   "metadata": {},
   "outputs": [
    {
     "data": {
      "text/plain": [
       "'Quemelli'"
      ]
     },
     "execution_count": 10,
     "metadata": {},
     "output_type": "execute_result"
    }
   ],
   "source": [
    "ultimo = lista1.pop()\n",
    "ultimo"
   ]
  },
  {
   "cell_type": "code",
   "execution_count": 11,
   "id": "c5da2353",
   "metadata": {},
   "outputs": [
    {
     "data": {
      "text/plain": [
       "[28, 38, 48, 'Lucas']"
      ]
     },
     "execution_count": 11,
     "metadata": {},
     "output_type": "execute_result"
    }
   ],
   "source": [
    "lista1"
   ]
  },
  {
   "cell_type": "markdown",
   "id": "294de696",
   "metadata": {},
   "source": [
    "A função *pop* também pode ser utilizada para remoção de elementos por índice:"
   ]
  },
  {
   "cell_type": "code",
   "execution_count": 12,
   "id": "c4929407",
   "metadata": {},
   "outputs": [
    {
     "data": {
      "text/plain": [
       "[28, 38, 'Lucas']"
      ]
     },
     "execution_count": 12,
     "metadata": {},
     "output_type": "execute_result"
    }
   ],
   "source": [
    "lista1.pop(2)\n",
    "lista1"
   ]
  },
  {
   "cell_type": "markdown",
   "id": "51612d69",
   "metadata": {},
   "source": [
    "Para removermos um elemento em específico, usamos a função *remove*, como abaixo:"
   ]
  },
  {
   "cell_type": "code",
   "execution_count": 13,
   "id": "7b2677ca",
   "metadata": {},
   "outputs": [
    {
     "data": {
      "text/plain": [
       "[28, 38]"
      ]
     },
     "execution_count": 13,
     "metadata": {},
     "output_type": "execute_result"
    }
   ],
   "source": [
    "lista1.remove('Lucas')\n",
    "lista1"
   ]
  },
  {
   "cell_type": "markdown",
   "id": "cd6b6b09",
   "metadata": {},
   "source": [
    "Em caso de elementos repetidos em uma lista, a função *remove* deleta apenas o primeiro elemento que aparecer (em ordem crescente de índices):"
   ]
  },
  {
   "cell_type": "code",
   "execution_count": 16,
   "id": "d45e78fa",
   "metadata": {},
   "outputs": [
    {
     "data": {
      "text/plain": [
       "[12, 14, 17, 25, 14, 70, 14]"
      ]
     },
     "execution_count": 16,
     "metadata": {},
     "output_type": "execute_result"
    }
   ],
   "source": [
    "lista3 = [12, 14, 17, 25, 14, 70, 14]\n",
    "lista3"
   ]
  },
  {
   "cell_type": "code",
   "execution_count": 17,
   "id": "2700b06a",
   "metadata": {},
   "outputs": [
    {
     "data": {
      "text/plain": [
       "[12, 17, 25, 14, 70, 14]"
      ]
     },
     "execution_count": 17,
     "metadata": {},
     "output_type": "execute_result"
    }
   ],
   "source": [
    "lista3.remove(14)\n",
    "lista3"
   ]
  },
  {
   "cell_type": "markdown",
   "id": "a7a1c364",
   "metadata": {},
   "source": [
    "Para deletar todos os elementos de uma lista, fazemos:"
   ]
  },
  {
   "cell_type": "code",
   "execution_count": 19,
   "id": "b06f84df",
   "metadata": {},
   "outputs": [
    {
     "data": {
      "text/plain": [
       "[]"
      ]
     },
     "execution_count": 19,
     "metadata": {},
     "output_type": "execute_result"
    }
   ],
   "source": [
    "lista3.clear()\n",
    "lista3"
   ]
  },
  {
   "cell_type": "markdown",
   "id": "c1ecaf59",
   "metadata": {},
   "source": [
    "Para deletar a lista, fazemos:"
   ]
  },
  {
   "cell_type": "code",
   "execution_count": 23,
   "id": "86327687",
   "metadata": {},
   "outputs": [
    {
     "ename": "NameError",
     "evalue": "name 'lista3' is not defined",
     "output_type": "error",
     "traceback": [
      "\u001b[1;31m---------------------------------------------------------------------------\u001b[0m",
      "\u001b[1;31mNameError\u001b[0m                                 Traceback (most recent call last)",
      "\u001b[1;32mC:\\Users\\USURIO~3\\AppData\\Local\\Temp/ipykernel_14268/1677208847.py\u001b[0m in \u001b[0;36m<module>\u001b[1;34m\u001b[0m\n\u001b[0;32m      1\u001b[0m \u001b[1;32mdel\u001b[0m \u001b[0mlista3\u001b[0m\u001b[1;33m\u001b[0m\u001b[1;33m\u001b[0m\u001b[0m\n\u001b[1;32m----> 2\u001b[1;33m \u001b[0mlista3\u001b[0m\u001b[1;33m\u001b[0m\u001b[1;33m\u001b[0m\u001b[0m\n\u001b[0m",
      "\u001b[1;31mNameError\u001b[0m: name 'lista3' is not defined"
     ]
    }
   ],
   "source": [
    "del lista3\n",
    "lista3"
   ]
  },
  {
   "cell_type": "markdown",
   "id": "4d3f64fb",
   "metadata": {},
   "source": [
    "Ou podemos deletar apenas um elemento da lista utilizando seu índice:"
   ]
  },
  {
   "cell_type": "code",
   "execution_count": 24,
   "id": "2bc4cc00",
   "metadata": {},
   "outputs": [
    {
     "data": {
      "text/plain": [
       "[12, 21, 35, 41, 58, 62]"
      ]
     },
     "execution_count": 24,
     "metadata": {},
     "output_type": "execute_result"
    }
   ],
   "source": [
    "lista3 = [20, 12, 21, 35, 41, 58, 62]\n",
    "del lista3[0]\n",
    "lista3"
   ]
  },
  {
   "cell_type": "markdown",
   "id": "7862073a",
   "metadata": {},
   "source": [
    "Também podemos deletar uma sequência de elementos utilizando seus índices:"
   ]
  },
  {
   "cell_type": "code",
   "execution_count": 25,
   "id": "bb14267a",
   "metadata": {},
   "outputs": [
    {
     "data": {
      "text/plain": [
       "[41, 58, 62]"
      ]
     },
     "execution_count": 25,
     "metadata": {},
     "output_type": "execute_result"
    }
   ],
   "source": [
    "del lista3[0:3]\n",
    "lista3"
   ]
  },
  {
   "cell_type": "markdown",
   "id": "b6ae2ed8",
   "metadata": {},
   "source": [
    "#### Substituir um valor da lista"
   ]
  },
  {
   "cell_type": "code",
   "execution_count": 14,
   "id": "b3e22cb6",
   "metadata": {},
   "outputs": [
    {
     "data": {
      "text/plain": [
       "[28, 38]"
      ]
     },
     "execution_count": 14,
     "metadata": {},
     "output_type": "execute_result"
    }
   ],
   "source": [
    "lista1"
   ]
  },
  {
   "cell_type": "code",
   "execution_count": 15,
   "id": "7959e947",
   "metadata": {},
   "outputs": [
    {
     "data": {
      "text/plain": [
       "[33, 38]"
      ]
     },
     "execution_count": 15,
     "metadata": {},
     "output_type": "execute_result"
    }
   ],
   "source": [
    "lista1[0] = 33\n",
    "lista1"
   ]
  },
  {
   "cell_type": "markdown",
   "id": "ecc69db6",
   "metadata": {},
   "source": [
    "# Tuplas"
   ]
  },
  {
   "cell_type": "markdown",
   "id": "7b771e0b",
   "metadata": {},
   "source": [
    "* Ordenadas.\n",
    "* Heterogêneas.\n",
    "* Contém duplicatas.\n",
    "- **Imutáveis**.\n",
    "\n",
    "São muito parecidas com as listas, apenas com uma diferença: uma vez criadas não podem ser alteradas."
   ]
  },
  {
   "cell_type": "code",
   "execution_count": null,
   "id": "0731c4ef",
   "metadata": {},
   "outputs": [],
   "source": []
  }
 ],
 "metadata": {
  "kernelspec": {
   "display_name": "Python 3 (ipykernel)",
   "language": "python",
   "name": "python3"
  },
  "language_info": {
   "codemirror_mode": {
    "name": "ipython",
    "version": 3
   },
   "file_extension": ".py",
   "mimetype": "text/x-python",
   "name": "python",
   "nbconvert_exporter": "python",
   "pygments_lexer": "ipython3",
   "version": "3.9.6"
  }
 },
 "nbformat": 4,
 "nbformat_minor": 5
}
