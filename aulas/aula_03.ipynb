{
 "cells": [
  {
   "cell_type": "markdown",
   "id": "a58fcbf8",
   "metadata": {},
   "source": [
    "# Listas "
   ]
  },
  {
   "cell_type": "markdown",
   "id": "3d6c64f5",
   "metadata": {},
   "source": [
    "* Ordenadas: mantêm a ordem de inserção de dados.\n",
    "* Mutáveis: podemos modificar seus items.\n",
    "* Heterogêneas: contêm dados de diferentes tipos.\n",
    "* Contêm duplicatas: permite valores duplicados, porque sua ordem é baseada no índice e não no conteúdo."
   ]
  },
  {
   "cell_type": "markdown",
   "id": "87d9ab02",
   "metadata": {},
   "source": [
    "#### Formas de criar e recuperar/exibir valores de uma lista"
   ]
  },
  {
   "cell_type": "code",
   "execution_count": 1,
   "id": "29fea5ff",
   "metadata": {},
   "outputs": [
    {
     "name": "stdout",
     "output_type": "stream",
     "text": [
      "[28, 38, 48]\n",
      "[28, 38, 48, ['Lucas']]\n"
     ]
    }
   ],
   "source": [
    "lista1 = [28, 38, 48]\n",
    "lista2 = list([28, 38, 48, ['Lucas']]) #converte para o tipo 'lista'\n",
    "\n",
    "print(lista1)\n",
    "print(lista2)"
   ]
  },
  {
   "cell_type": "code",
   "execution_count": 2,
   "id": "dc588a5e",
   "metadata": {},
   "outputs": [
    {
     "data": {
      "text/plain": [
       "28"
      ]
     },
     "execution_count": 2,
     "metadata": {},
     "output_type": "execute_result"
    }
   ],
   "source": [
    "lista1[0]"
   ]
  },
  {
   "cell_type": "code",
   "execution_count": 3,
   "id": "6f417e32",
   "metadata": {},
   "outputs": [
    {
     "data": {
      "text/plain": [
       "['Lucas']"
      ]
     },
     "execution_count": 3,
     "metadata": {},
     "output_type": "execute_result"
    }
   ],
   "source": [
    "lista2[3]"
   ]
  },
  {
   "cell_type": "code",
   "execution_count": 4,
   "id": "d7511521",
   "metadata": {},
   "outputs": [
    {
     "data": {
      "text/plain": [
       "'Lu'"
      ]
     },
     "execution_count": 4,
     "metadata": {},
     "output_type": "execute_result"
    }
   ],
   "source": [
    "lista2[3][0][0:2]"
   ]
  },
  {
   "cell_type": "code",
   "execution_count": 5,
   "id": "6077368c",
   "metadata": {},
   "outputs": [
    {
     "data": {
      "text/plain": [
       "['Lucas']"
      ]
     },
     "execution_count": 5,
     "metadata": {},
     "output_type": "execute_result"
    }
   ],
   "source": [
    "lista2[-1]"
   ]
  },
  {
   "cell_type": "code",
   "execution_count": 6,
   "id": "89285694",
   "metadata": {},
   "outputs": [
    {
     "data": {
      "text/plain": [
       "48"
      ]
     },
     "execution_count": 6,
     "metadata": {},
     "output_type": "execute_result"
    }
   ],
   "source": [
    "lista2[-2]"
   ]
  },
  {
   "cell_type": "code",
   "execution_count": 7,
   "id": "99c88355",
   "metadata": {},
   "outputs": [
    {
     "data": {
      "text/plain": [
       "38"
      ]
     },
     "execution_count": 7,
     "metadata": {},
     "output_type": "execute_result"
    }
   ],
   "source": [
    "lista2[-3]"
   ]
  },
  {
   "cell_type": "code",
   "execution_count": 8,
   "id": "f3721dc6",
   "metadata": {},
   "outputs": [
    {
     "data": {
      "text/plain": [
       "[28, 38, 48, 'Quemelli']"
      ]
     },
     "execution_count": 8,
     "metadata": {},
     "output_type": "execute_result"
    }
   ],
   "source": [
    "lista1.append(\"Quemelli\")\n",
    "lista1"
   ]
  },
  {
   "cell_type": "code",
   "execution_count": 9,
   "id": "69b9a859",
   "metadata": {},
   "outputs": [
    {
     "data": {
      "text/plain": [
       "[28, 38, 48, 'Lucas', 'Quemelli']"
      ]
     },
     "execution_count": 9,
     "metadata": {},
     "output_type": "execute_result"
    }
   ],
   "source": [
    "lista1.insert(3, \"Lucas\")\n",
    "lista1"
   ]
  },
  {
   "cell_type": "markdown",
   "id": "dc18ecb7",
   "metadata": {},
   "source": [
    "#### Formas de deletar elementos de uma lista"
   ]
  },
  {
   "cell_type": "markdown",
   "id": "b192ad40",
   "metadata": {},
   "source": [
    "Usamos a função *pop* para remover e retornar o último elemento de uma lista:"
   ]
  },
  {
   "cell_type": "code",
   "execution_count": 10,
   "id": "163920bb",
   "metadata": {},
   "outputs": [
    {
     "data": {
      "text/plain": [
       "'Quemelli'"
      ]
     },
     "execution_count": 10,
     "metadata": {},
     "output_type": "execute_result"
    }
   ],
   "source": [
    "ultimo = lista1.pop()\n",
    "ultimo"
   ]
  },
  {
   "cell_type": "code",
   "execution_count": 11,
   "id": "5c601f31",
   "metadata": {},
   "outputs": [
    {
     "data": {
      "text/plain": [
       "[28, 38, 48, 'Lucas']"
      ]
     },
     "execution_count": 11,
     "metadata": {},
     "output_type": "execute_result"
    }
   ],
   "source": [
    "lista1"
   ]
  },
  {
   "cell_type": "markdown",
   "id": "6cad263e",
   "metadata": {},
   "source": [
    "A função *pop* também pode ser utilizada para remoção de elementos por índice:"
   ]
  },
  {
   "cell_type": "code",
   "execution_count": 12,
   "id": "7f7d9121",
   "metadata": {},
   "outputs": [
    {
     "data": {
      "text/plain": [
       "[28, 38, 'Lucas']"
      ]
     },
     "execution_count": 12,
     "metadata": {},
     "output_type": "execute_result"
    }
   ],
   "source": [
    "lista1.pop(2)\n",
    "lista1"
   ]
  },
  {
   "cell_type": "markdown",
   "id": "6c79f0ac",
   "metadata": {},
   "source": [
    "Para removermos um elemento em específico, usamos a função *remove*, como abaixo:"
   ]
  },
  {
   "cell_type": "code",
   "execution_count": 13,
   "id": "90518cb3",
   "metadata": {},
   "outputs": [
    {
     "data": {
      "text/plain": [
       "[28, 38]"
      ]
     },
     "execution_count": 13,
     "metadata": {},
     "output_type": "execute_result"
    }
   ],
   "source": [
    "lista1.remove('Lucas')\n",
    "lista1"
   ]
  },
  {
   "cell_type": "markdown",
   "id": "c5512bcf",
   "metadata": {},
   "source": [
    "Em caso de elementos repetidos em uma lista, a função *remove* deleta apenas o primeiro elemento que aparecer (em ordem crescente de índices):"
   ]
  },
  {
   "cell_type": "code",
   "execution_count": 16,
   "id": "6556223d",
   "metadata": {},
   "outputs": [
    {
     "data": {
      "text/plain": [
       "[12, 14, 17, 25, 14, 70, 14]"
      ]
     },
     "execution_count": 16,
     "metadata": {},
     "output_type": "execute_result"
    }
   ],
   "source": [
    "lista3 = [12, 14, 17, 25, 14, 70, 14]\n",
    "lista3"
   ]
  },
  {
   "cell_type": "code",
   "execution_count": 17,
   "id": "8671275b",
   "metadata": {},
   "outputs": [
    {
     "data": {
      "text/plain": [
       "[12, 17, 25, 14, 70, 14]"
      ]
     },
     "execution_count": 17,
     "metadata": {},
     "output_type": "execute_result"
    }
   ],
   "source": [
    "lista3.remove(14)\n",
    "lista3"
   ]
  },
  {
   "cell_type": "markdown",
   "id": "eedaf37a",
   "metadata": {},
   "source": [
    "Para deletar todos os elementos de uma lista, fazemos:"
   ]
  },
  {
   "cell_type": "code",
   "execution_count": 19,
   "id": "624bb5d7",
   "metadata": {},
   "outputs": [
    {
     "data": {
      "text/plain": [
       "[]"
      ]
     },
     "execution_count": 19,
     "metadata": {},
     "output_type": "execute_result"
    }
   ],
   "source": [
    "lista3.clear()\n",
    "lista3"
   ]
  },
  {
   "cell_type": "markdown",
   "id": "0cbff6cc",
   "metadata": {},
   "source": [
    "Para deletar a lista, fazemos:"
   ]
  },
  {
   "cell_type": "code",
   "execution_count": 23,
   "id": "1116cd6e",
   "metadata": {},
   "outputs": [
    {
     "ename": "NameError",
     "evalue": "name 'lista3' is not defined",
     "output_type": "error",
     "traceback": [
      "\u001b[1;31m---------------------------------------------------------------------------\u001b[0m",
      "\u001b[1;31mNameError\u001b[0m                                 Traceback (most recent call last)",
      "\u001b[1;32mC:\\Users\\USURIO~3\\AppData\\Local\\Temp/ipykernel_14268/1677208847.py\u001b[0m in \u001b[0;36m<module>\u001b[1;34m\u001b[0m\n\u001b[0;32m      1\u001b[0m \u001b[1;32mdel\u001b[0m \u001b[0mlista3\u001b[0m\u001b[1;33m\u001b[0m\u001b[1;33m\u001b[0m\u001b[0m\n\u001b[1;32m----> 2\u001b[1;33m \u001b[0mlista3\u001b[0m\u001b[1;33m\u001b[0m\u001b[1;33m\u001b[0m\u001b[0m\n\u001b[0m",
      "\u001b[1;31mNameError\u001b[0m: name 'lista3' is not defined"
     ]
    }
   ],
   "source": [
    "del lista3\n",
    "lista3"
   ]
  },
  {
   "cell_type": "markdown",
   "id": "d7e16ef2",
   "metadata": {},
   "source": [
    "Ou podemos deletar apenas um elemento da lista utilizando seu índice:"
   ]
  },
  {
   "cell_type": "code",
   "execution_count": 24,
   "id": "720bd5f8",
   "metadata": {},
   "outputs": [
    {
     "data": {
      "text/plain": [
       "[12, 21, 35, 41, 58, 62]"
      ]
     },
     "execution_count": 24,
     "metadata": {},
     "output_type": "execute_result"
    }
   ],
   "source": [
    "lista3 = [20, 12, 21, 35, 41, 58, 62]\n",
    "del lista3[0]\n",
    "lista3"
   ]
  },
  {
   "cell_type": "markdown",
   "id": "9c8ced59",
   "metadata": {},
   "source": [
    "Também podemos deletar uma sequência de elementos utilizando seus índices:"
   ]
  },
  {
   "cell_type": "code",
   "execution_count": 25,
   "id": "f7736587",
   "metadata": {},
   "outputs": [
    {
     "data": {
      "text/plain": [
       "[41, 58, 62]"
      ]
     },
     "execution_count": 25,
     "metadata": {},
     "output_type": "execute_result"
    }
   ],
   "source": [
    "del lista3[0:3]\n",
    "lista3"
   ]
  },
  {
   "cell_type": "markdown",
   "id": "8d6a242d",
   "metadata": {},
   "source": [
    "#### Substituir um valor da lista"
   ]
  },
  {
   "cell_type": "code",
   "execution_count": 14,
   "id": "924f5b0e",
   "metadata": {},
   "outputs": [
    {
     "data": {
      "text/plain": [
       "[28, 38]"
      ]
     },
     "execution_count": 14,
     "metadata": {},
     "output_type": "execute_result"
    }
   ],
   "source": [
    "lista1"
   ]
  },
  {
   "cell_type": "code",
   "execution_count": 15,
   "id": "223effdb",
   "metadata": {},
   "outputs": [
    {
     "data": {
      "text/plain": [
       "[33, 38]"
      ]
     },
     "execution_count": 15,
     "metadata": {},
     "output_type": "execute_result"
    }
   ],
   "source": [
    "lista1[0] = 33\n",
    "lista1"
   ]
  },
  {
   "cell_type": "markdown",
   "id": "5a61b99e",
   "metadata": {},
   "source": [
    "# Tuplas"
   ]
  },
  {
   "cell_type": "markdown",
   "id": "ad001407",
   "metadata": {},
   "source": [
    "* Ordenadas.\n",
    "* Heterogêneas.\n",
    "* Contém duplicatas.\n",
    "- **Imutáveis**.\n",
    "\n",
    "São muito parecidas com as listas, apenas com uma diferença: uma vez criadas não podem ser alteradas."
   ]
  },
  {
   "cell_type": "markdown",
   "id": "081d39d8",
   "metadata": {},
   "source": [
    "As tuplas são mais performáticas do que as listas, já que não estão associadas às funções de alteração de conteúdo. Por isso, geralmente são utilizadas tuplas - quando não há necessidade de alterar os dados - para melhorar a performance."
   ]
  },
  {
   "cell_type": "markdown",
   "id": "93a1c34f",
   "metadata": {},
   "source": [
    "#### Formas de criar e exibir/recuperar uma tupla"
   ]
  },
  {
   "cell_type": "code",
   "execution_count": 26,
   "id": "75ed56a4",
   "metadata": {},
   "outputs": [
    {
     "data": {
      "text/plain": [
       "(25, 35, 40, 55, 60)"
      ]
     },
     "execution_count": 26,
     "metadata": {},
     "output_type": "execute_result"
    }
   ],
   "source": [
    "tupla = (25, 35, 40, 55, 60)\n",
    "tupla"
   ]
  },
  {
   "cell_type": "code",
   "execution_count": 28,
   "id": "3037eb69",
   "metadata": {},
   "outputs": [
    {
     "data": {
      "text/plain": [
       "(25, 35)"
      ]
     },
     "execution_count": 28,
     "metadata": {},
     "output_type": "execute_result"
    }
   ],
   "source": [
    "tupla[0:2]"
   ]
  },
  {
   "cell_type": "markdown",
   "id": "458ffb04",
   "metadata": {},
   "source": [
    "#### Convertendo tupla para lista"
   ]
  },
  {
   "cell_type": "markdown",
   "id": "b88cc269",
   "metadata": {},
   "source": [
    "Se houver a necessidade de alterar os dados de uma tupla, então, primeiro convertemos a tupla para lista e depois alteramos o conteúdo."
   ]
  },
  {
   "cell_type": "code",
   "execution_count": 29,
   "id": "1b230611",
   "metadata": {},
   "outputs": [
    {
     "data": {
      "text/plain": [
       "[25, 35, 40, 55, 60]"
      ]
     },
     "execution_count": 29,
     "metadata": {},
     "output_type": "execute_result"
    }
   ],
   "source": [
    "lista_tupla = list(tupla)\n",
    "lista_tupla"
   ]
  },
  {
   "cell_type": "code",
   "execution_count": 30,
   "id": "4cc18408",
   "metadata": {},
   "outputs": [
    {
     "data": {
      "text/plain": [
       "['Teste', 25, 33, 40, 55, 60]"
      ]
     },
     "execution_count": 30,
     "metadata": {},
     "output_type": "execute_result"
    }
   ],
   "source": [
    "lista_tupla[1] = 33\n",
    "lista_tupla.insert(0, \"Teste\")\n",
    "lista_tupla"
   ]
  },
  {
   "cell_type": "markdown",
   "id": "4d11d81e",
   "metadata": {},
   "source": [
    "# Dicionários"
   ]
  },
  {
   "cell_type": "markdown",
   "id": "ccbb1748",
   "metadata": {},
   "source": [
    "Dicionários são conjuntos de chave e valor. No dicionário há um identificador e na frente dele um conteúdo.\n",
    "\n",
    "* Desordenados: os itens de um dicionário são guardados sem um valor de índice. Contudo, podemos estabelecer uma ordem para as chaves durante a criação, como por exemplo: 0, 1, 2 e 3, nessa ordem. \n",
    "* Únicos: as chaves nos dicionários devem ser únicas.\n",
    "* Mutáveis: podemos adicionar, remover ou modificar uma chave-valor após sua criação. \n",
    "\n",
    "As chaves de um dicionário devem ser únicas. Se tentarmos guardar um valor em uma chave já existente, o valor antigo será substituído. "
   ]
  },
  {
   "cell_type": "code",
   "execution_count": 31,
   "id": "8e6a407b",
   "metadata": {},
   "outputs": [
    {
     "data": {
      "text/plain": [
       "{0: 25, 1: 45, 2: 37, 3: 98, 4: 101}"
      ]
     },
     "execution_count": 31,
     "metadata": {},
     "output_type": "execute_result"
    }
   ],
   "source": [
    "dic = {\n",
    "    0: 25,\n",
    "    1: 45,\n",
    "    2: 37,\n",
    "    3: 98,\n",
    "    4: 101\n",
    "}\n",
    "\n",
    "dic"
   ]
  },
  {
   "cell_type": "markdown",
   "id": "3683f140",
   "metadata": {},
   "source": [
    "#### Substituição de valores em um dicionário"
   ]
  },
  {
   "cell_type": "markdown",
   "id": "ea354fdb",
   "metadata": {},
   "source": [
    "Uma das formas é adicionando um valor a uma chave já existente na própria estrutura do dicionário."
   ]
  },
  {
   "cell_type": "code",
   "execution_count": 32,
   "id": "d775d4e4",
   "metadata": {},
   "outputs": [
    {
     "data": {
      "text/plain": [
       "{0: 33, 1: 45, 2: 37, 3: 98, 4: 101}"
      ]
     },
     "execution_count": 32,
     "metadata": {},
     "output_type": "execute_result"
    }
   ],
   "source": [
    "dic = {\n",
    "    0: 25,\n",
    "    1: 45,\n",
    "    2: 37,\n",
    "    3: 98,\n",
    "    4: 101,\n",
    "    0: 33\n",
    "}\n",
    "\n",
    "dic"
   ]
  },
  {
   "cell_type": "markdown",
   "id": "81f59550",
   "metadata": {},
   "source": [
    "Outra forma é selecionando apenas a chave:"
   ]
  },
  {
   "cell_type": "code",
   "execution_count": 33,
   "id": "434a156b",
   "metadata": {},
   "outputs": [
    {
     "data": {
      "text/plain": [
       "{0: 33, 1: 45, 2: 47, 3: 98, 4: 101}"
      ]
     },
     "execution_count": 33,
     "metadata": {},
     "output_type": "execute_result"
    }
   ],
   "source": [
    "dic[2] = 47\n",
    "dic"
   ]
  },
  {
   "cell_type": "markdown",
   "id": "55396741",
   "metadata": {},
   "source": [
    "#### Inserção de valores/conteúdos no dicionário"
   ]
  },
  {
   "cell_type": "code",
   "execution_count": 34,
   "id": "cf2145d1",
   "metadata": {},
   "outputs": [],
   "source": [
    "dic[5] = \"Lucas\""
   ]
  },
  {
   "cell_type": "code",
   "execution_count": 35,
   "id": "1e261ad2",
   "metadata": {},
   "outputs": [
    {
     "data": {
      "text/plain": [
       "{0: 33, 1: 45, 2: 47, 3: 98, 4: 101, 5: 'Lucas'}"
      ]
     },
     "execution_count": 35,
     "metadata": {},
     "output_type": "execute_result"
    }
   ],
   "source": [
    "dic"
   ]
  },
  {
   "cell_type": "markdown",
   "id": "2e9cf71e",
   "metadata": {},
   "source": [
    "Podemos inserir uma chave do tipo texto:"
   ]
  },
  {
   "cell_type": "code",
   "execution_count": 38,
   "id": "b978c6e3",
   "metadata": {},
   "outputs": [
    {
     "data": {
      "text/plain": [
       "{0: 33, 2: 47, 4: 101, 5: 'Lucas', 'Sobrenome': 'Quemelli'}"
      ]
     },
     "execution_count": 38,
     "metadata": {},
     "output_type": "execute_result"
    }
   ],
   "source": [
    "dic['Sobrenome'] = 'Quemelli'\n",
    "dic"
   ]
  },
  {
   "cell_type": "markdown",
   "id": "a1e547bc",
   "metadata": {},
   "source": [
    "Podemos adicionar listas dentro de um dicionário:"
   ]
  },
  {
   "cell_type": "code",
   "execution_count": 39,
   "id": "86676a82",
   "metadata": {},
   "outputs": [
    {
     "data": {
      "text/plain": [
       "{0: 33,\n",
       " 2: 47,\n",
       " 4: 101,\n",
       " 5: 'Lucas',\n",
       " 'Sobrenome': 'Quemelli',\n",
       " 'lista': ['Hello', 'World']}"
      ]
     },
     "execution_count": 39,
     "metadata": {},
     "output_type": "execute_result"
    }
   ],
   "source": [
    "dic['lista'] = [\"Hello\", \"World\"]\n",
    "dic"
   ]
  },
  {
   "cell_type": "markdown",
   "id": "a411fd8a",
   "metadata": {},
   "source": [
    "#### Remoção de conteúdo de um dicionário"
   ]
  },
  {
   "cell_type": "markdown",
   "id": "8b6f7a71",
   "metadata": {},
   "source": [
    "Remoção por chaves:"
   ]
  },
  {
   "cell_type": "code",
   "execution_count": 36,
   "id": "2e01e83a",
   "metadata": {},
   "outputs": [
    {
     "data": {
      "text/plain": [
       "{0: 33, 2: 47, 3: 98, 4: 101, 5: 'Lucas'}"
      ]
     },
     "execution_count": 36,
     "metadata": {},
     "output_type": "execute_result"
    }
   ],
   "source": [
    "dic.pop(1)\n",
    "dic"
   ]
  },
  {
   "cell_type": "markdown",
   "id": "5f968657",
   "metadata": {},
   "source": [
    "Se quisermos exibir o valor excluído:"
   ]
  },
  {
   "cell_type": "code",
   "execution_count": 37,
   "id": "c118893c",
   "metadata": {},
   "outputs": [
    {
     "data": {
      "text/plain": [
       "98"
      ]
     },
     "execution_count": 37,
     "metadata": {},
     "output_type": "execute_result"
    }
   ],
   "source": [
    "new_dic = dic.pop(3)\n",
    "new_dic"
   ]
  },
  {
   "cell_type": "markdown",
   "id": "f97e7eff",
   "metadata": {},
   "source": [
    "# I/O: input/output"
   ]
  },
  {
   "cell_type": "markdown",
   "id": "91d12b46",
   "metadata": {},
   "source": [
    "Crie uma aplicação que receba um arquivo .csv dos usuários com os seus nomes, idades, alturas, e se eles são casados ou não. Salve essas informações na nossa base de dados. Utilize apenas bibliotecas *built-in*."
   ]
  },
  {
   "cell_type": "code",
   "execution_count": 40,
   "id": "251e55ff",
   "metadata": {},
   "outputs": [],
   "source": [
    "import csv"
   ]
  },
  {
   "cell_type": "code",
   "execution_count": null,
   "id": "d4609e61",
   "metadata": {},
   "outputs": [],
   "source": []
  }
 ],
 "metadata": {
  "kernelspec": {
   "display_name": "Python 3 (ipykernel)",
   "language": "python",
   "name": "python3"
  },
  "language_info": {
   "codemirror_mode": {
    "name": "ipython",
    "version": 3
   },
   "file_extension": ".py",
   "mimetype": "text/x-python",
   "name": "python",
   "nbconvert_exporter": "python",
   "pygments_lexer": "ipython3",
   "version": "3.9.6"
  }
 },
 "nbformat": 4,
 "nbformat_minor": 5
}
