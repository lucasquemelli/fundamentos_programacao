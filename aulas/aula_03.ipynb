{
 "cells": [
  {
   "cell_type": "markdown",
   "id": "07e582b1",
   "metadata": {},
   "source": [
    "# Lista "
   ]
  },
  {
   "cell_type": "markdown",
   "id": "95dc9342",
   "metadata": {},
   "source": [
    "* Ordenadas: mantêm a ordem de inserção de dados.\n",
    "* Mutáveis: podemos modificar seus items.\n",
    "* Heterogêneas: contêm dados de diferentes tipos.\n",
    "* Contêm duplicatas: permite valores duplicados, porque sua ordem é baseada no índice e não no conteúdo."
   ]
  },
  {
   "cell_type": "markdown",
   "id": "653178e0",
   "metadata": {},
   "source": [
    "#### Formas de criar uma lista"
   ]
  },
  {
   "cell_type": "code",
   "execution_count": 1,
   "id": "13d7f885",
   "metadata": {},
   "outputs": [
    {
     "name": "stdout",
     "output_type": "stream",
     "text": [
      "[28, 28, 28]\n",
      "[28, 28, 28, ['Lucas']]\n"
     ]
    }
   ],
   "source": [
    "lista1 = [28, 28, 28]\n",
    "lista2 = list([28, 28, 28, ['Lucas']])\n",
    "\n",
    "print(lista1)\n",
    "print(lista2)"
   ]
  },
  {
   "cell_type": "code",
   "execution_count": null,
   "id": "f52c7472",
   "metadata": {},
   "outputs": [],
   "source": []
  }
 ],
 "metadata": {
  "kernelspec": {
   "display_name": "Python 3 (ipykernel)",
   "language": "python",
   "name": "python3"
  },
  "language_info": {
   "codemirror_mode": {
    "name": "ipython",
    "version": 3
   },
   "file_extension": ".py",
   "mimetype": "text/x-python",
   "name": "python",
   "nbconvert_exporter": "python",
   "pygments_lexer": "ipython3",
   "version": "3.9.6"
  }
 },
 "nbformat": 4,
 "nbformat_minor": 5
}
