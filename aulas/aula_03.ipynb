{
 "cells": [
  {
   "cell_type": "markdown",
   "id": "b619684c",
   "metadata": {},
   "source": [
    "# Lista "
   ]
  },
  {
   "cell_type": "markdown",
   "id": "1d97df46",
   "metadata": {},
   "source": [
    "* Ordenadas: mantêm a ordem de inserção de dados.\n",
    "* Mutáveis: podemos modificar seus items.\n",
    "* Heterogêneas: contêm dados de diferentes tipos.\n",
    "* Contêm duplicatas: permite valores duplicados, porque sua ordem é baseada no índice e não no conteúdo."
   ]
  },
  {
   "cell_type": "markdown",
   "id": "7e6f257a",
   "metadata": {},
   "source": [
    "#### Formas de criar uma lista"
   ]
  },
  {
   "cell_type": "code",
   "execution_count": 1,
   "id": "58307ded",
   "metadata": {},
   "outputs": [
    {
     "name": "stdout",
     "output_type": "stream",
     "text": [
      "[28, 38, 48]\n",
      "[28, 38, 48, ['Lucas']]\n"
     ]
    }
   ],
   "source": [
    "lista1 = [28, 38, 48]\n",
    "lista2 = list([28, 38, 48, ['Lucas']]) #converte para o tipo 'lista'\n",
    "\n",
    "print(lista1)\n",
    "print(lista2)"
   ]
  },
  {
   "cell_type": "code",
   "execution_count": 2,
   "id": "d0b1fe37",
   "metadata": {},
   "outputs": [
    {
     "data": {
      "text/plain": [
       "28"
      ]
     },
     "execution_count": 2,
     "metadata": {},
     "output_type": "execute_result"
    }
   ],
   "source": [
    "lista1[0]"
   ]
  },
  {
   "cell_type": "code",
   "execution_count": 3,
   "id": "9934b147",
   "metadata": {},
   "outputs": [
    {
     "data": {
      "text/plain": [
       "['Lucas']"
      ]
     },
     "execution_count": 3,
     "metadata": {},
     "output_type": "execute_result"
    }
   ],
   "source": [
    "lista2[3]"
   ]
  },
  {
   "cell_type": "code",
   "execution_count": 4,
   "id": "d7ede3b6",
   "metadata": {},
   "outputs": [
    {
     "data": {
      "text/plain": [
       "'Lu'"
      ]
     },
     "execution_count": 4,
     "metadata": {},
     "output_type": "execute_result"
    }
   ],
   "source": [
    "lista2[3][0][0:2]"
   ]
  },
  {
   "cell_type": "code",
   "execution_count": 5,
   "id": "cb8c0dab",
   "metadata": {},
   "outputs": [
    {
     "data": {
      "text/plain": [
       "['Lucas']"
      ]
     },
     "execution_count": 5,
     "metadata": {},
     "output_type": "execute_result"
    }
   ],
   "source": [
    "lista2[-1]"
   ]
  },
  {
   "cell_type": "code",
   "execution_count": 6,
   "id": "38c0038b",
   "metadata": {},
   "outputs": [
    {
     "data": {
      "text/plain": [
       "48"
      ]
     },
     "execution_count": 6,
     "metadata": {},
     "output_type": "execute_result"
    }
   ],
   "source": [
    "lista2[-2]"
   ]
  },
  {
   "cell_type": "code",
   "execution_count": 7,
   "id": "821e33dc",
   "metadata": {},
   "outputs": [
    {
     "data": {
      "text/plain": [
       "38"
      ]
     },
     "execution_count": 7,
     "metadata": {},
     "output_type": "execute_result"
    }
   ],
   "source": [
    "lista2[-3]"
   ]
  },
  {
   "cell_type": "code",
   "execution_count": 8,
   "id": "30ae5f96",
   "metadata": {},
   "outputs": [
    {
     "data": {
      "text/plain": [
       "[28, 38, 48, 'Quemelli']"
      ]
     },
     "execution_count": 8,
     "metadata": {},
     "output_type": "execute_result"
    }
   ],
   "source": [
    "lista1.append(\"Quemelli\")\n",
    "lista1"
   ]
  },
  {
   "cell_type": "code",
   "execution_count": 9,
   "id": "44c182ac",
   "metadata": {},
   "outputs": [
    {
     "data": {
      "text/plain": [
       "[28, 38, 48, 'Lucas', 'Quemelli']"
      ]
     },
     "execution_count": 9,
     "metadata": {},
     "output_type": "execute_result"
    }
   ],
   "source": [
    "lista1.insert(3, \"Lucas\")\n",
    "lista1"
   ]
  },
  {
   "cell_type": "markdown",
   "id": "f41fc702",
   "metadata": {},
   "source": [
    "#### Formas de deletar elementos de uma lista"
   ]
  },
  {
   "cell_type": "markdown",
   "id": "14cbc091",
   "metadata": {},
   "source": [
    "Usamos a função *pop* para remover e retornar o último elemento de uma lista:"
   ]
  },
  {
   "cell_type": "code",
   "execution_count": 10,
   "id": "72de05ff",
   "metadata": {},
   "outputs": [
    {
     "data": {
      "text/plain": [
       "'Quemelli'"
      ]
     },
     "execution_count": 10,
     "metadata": {},
     "output_type": "execute_result"
    }
   ],
   "source": [
    "ultimo = lista1.pop()\n",
    "ultimo"
   ]
  },
  {
   "cell_type": "code",
   "execution_count": 11,
   "id": "1459eff5",
   "metadata": {},
   "outputs": [
    {
     "data": {
      "text/plain": [
       "[28, 38, 48, 'Lucas']"
      ]
     },
     "execution_count": 11,
     "metadata": {},
     "output_type": "execute_result"
    }
   ],
   "source": [
    "lista1"
   ]
  },
  {
   "cell_type": "markdown",
   "id": "4f751396",
   "metadata": {},
   "source": [
    "A função *pop* também pode ser utilizada para remoção de elementos por índice:"
   ]
  },
  {
   "cell_type": "code",
   "execution_count": 12,
   "id": "4d198023",
   "metadata": {},
   "outputs": [
    {
     "data": {
      "text/plain": [
       "[28, 38, 'Lucas']"
      ]
     },
     "execution_count": 12,
     "metadata": {},
     "output_type": "execute_result"
    }
   ],
   "source": [
    "lista1.pop(2)\n",
    "lista1"
   ]
  },
  {
   "cell_type": "markdown",
   "id": "99b7d84c",
   "metadata": {},
   "source": [
    "Para removermos um elemento em específico, usamos a função *remove*, como abaixo:"
   ]
  },
  {
   "cell_type": "code",
   "execution_count": 13,
   "id": "90b46050",
   "metadata": {},
   "outputs": [
    {
     "data": {
      "text/plain": [
       "[28, 38]"
      ]
     },
     "execution_count": 13,
     "metadata": {},
     "output_type": "execute_result"
    }
   ],
   "source": [
    "lista1.remove('Lucas')\n",
    "lista1"
   ]
  },
  {
   "cell_type": "code",
   "execution_count": null,
   "id": "68f7b800",
   "metadata": {},
   "outputs": [],
   "source": []
  }
 ],
 "metadata": {
  "kernelspec": {
   "display_name": "Python 3 (ipykernel)",
   "language": "python",
   "name": "python3"
  },
  "language_info": {
   "codemirror_mode": {
    "name": "ipython",
    "version": 3
   },
   "file_extension": ".py",
   "mimetype": "text/x-python",
   "name": "python",
   "nbconvert_exporter": "python",
   "pygments_lexer": "ipython3",
   "version": "3.9.6"
  }
 },
 "nbformat": 4,
 "nbformat_minor": 5
}
