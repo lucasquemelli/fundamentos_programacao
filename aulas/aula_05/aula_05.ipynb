{
 "cells": [
  {
   "cell_type": "markdown",
   "id": "8e3567d9",
   "metadata": {},
   "source": [
    "# Programação orientada a objetos (POO)"
   ]
  },
  {
   "cell_type": "markdown",
   "id": "4ff5fe59",
   "metadata": {},
   "source": [
    "Transferência de objetos do mundo real para o mundo computacional."
   ]
  },
  {
   "cell_type": "markdown",
   "id": "754e4123",
   "metadata": {},
   "source": [
    "* Paradigma de Desenvolvimento de Software;\n",
    "* Menos repetição de blocos de código;\n",
    "* Mais próximo do mundo real;\n",
    "* Manutenção facilitada."
   ]
  },
  {
   "cell_type": "markdown",
   "id": "4b3259d9",
   "metadata": {},
   "source": [
    "A **POO** é baseada em: "
   ]
  },
  {
   "cell_type": "markdown",
   "id": "c6b21b28",
   "metadata": {},
   "source": [
    "1. Classes: representação de um objeto do mundo real. Conjunto de métodos e atributos.\n",
    "2. Objetos: variáveis e seus valores pertencentes a uma classe. Instanciar é criar um objeto para uma classe.  \n",
    "3. Atributos: basicamente, são variáveis sem os valores.\n",
    "4. Métodos: resumidamente, são funções/funcionalidades/ações/comportamentos."
   ]
  },
  {
   "cell_type": "markdown",
   "id": "19876534",
   "metadata": {},
   "source": [
    "Exemplo ilustrativo:\n",
    "\n",
    "- **classes:** carros.\n",
    "- **objetos:** modelos de carros.\n",
    "- **atributos:** características de um certo modelo de carro.\n",
    "- **métodos:** diferentes funcionalidades de um certo modelo de carro e também características gerais de outros carros como frear. "
   ]
  },
  {
   "cell_type": "markdown",
   "id": "60706893",
   "metadata": {},
   "source": [
    "## Criação de classe (parte 1)"
   ]
  },
  {
   "cell_type": "markdown",
   "id": "d8a89f04",
   "metadata": {},
   "source": [
    "Toda classe deve começar com letra maiúscula. Se houver mais de uma palavra no nome da classe, utilizamos **CamelCase ou CapitalCase**. "
   ]
  },
  {
   "cell_type": "markdown",
   "id": "3c59049c",
   "metadata": {},
   "source": [
    "Vamos começar um exemplo de classe com apenas um método (armazenar informações do usuário). Os atributos da classe, que neste caso são as informações do usuário, sempre vão no método __init__. "
   ]
  },
  {
   "cell_type": "code",
   "execution_count": 1,
   "id": "1a75e3a2",
   "metadata": {},
   "outputs": [],
   "source": [
    "class Usuario:\n",
    "    def __init__(self, nome_param, idade_param, documento_param = 0):\n",
    "        self.nome = nome_param\n",
    "        self.idade = idade_param\n",
    "        self.documento = documento_param"
   ]
  },
  {
   "cell_type": "markdown",
   "id": "9fd1f94f",
   "metadata": {},
   "source": [
    "Agora vamos criar um objeto a partir da classe acima:"
   ]
  },
  {
   "cell_type": "code",
   "execution_count": 2,
   "id": "1986c0a3",
   "metadata": {},
   "outputs": [],
   "source": [
    "lucas = Usuario('Lucas', 28, 1234567)"
   ]
  },
  {
   "cell_type": "code",
   "execution_count": 3,
   "id": "cc736591",
   "metadata": {},
   "outputs": [
    {
     "data": {
      "text/plain": [
       "<__main__.Usuario at 0x25214a77700>"
      ]
     },
     "execution_count": 3,
     "metadata": {},
     "output_type": "execute_result"
    }
   ],
   "source": [
    "lucas"
   ]
  },
  {
   "cell_type": "code",
   "execution_count": 4,
   "id": "dfd83549",
   "metadata": {},
   "outputs": [
    {
     "data": {
      "text/plain": [
       "__main__.Usuario"
      ]
     },
     "execution_count": 4,
     "metadata": {},
     "output_type": "execute_result"
    }
   ],
   "source": [
    "type(lucas)"
   ]
  },
  {
   "cell_type": "markdown",
   "id": "5fc61c2d",
   "metadata": {},
   "source": [
    "A saída acima significa que acabamos de criar um objeto com nome lucas do tipo Usuario. "
   ]
  },
  {
   "cell_type": "markdown",
   "id": "23d85b01",
   "metadata": {},
   "source": [
    "## Acessando os objetos de uma classe"
   ]
  },
  {
   "cell_type": "code",
   "execution_count": 5,
   "id": "97c8151b",
   "metadata": {},
   "outputs": [
    {
     "data": {
      "text/plain": [
       "'Lucas'"
      ]
     },
     "execution_count": 5,
     "metadata": {},
     "output_type": "execute_result"
    }
   ],
   "source": [
    "# Atributo nome\n",
    "lucas.nome"
   ]
  },
  {
   "cell_type": "code",
   "execution_count": 6,
   "id": "1b3823fc",
   "metadata": {},
   "outputs": [
    {
     "data": {
      "text/plain": [
       "28"
      ]
     },
     "execution_count": 6,
     "metadata": {},
     "output_type": "execute_result"
    }
   ],
   "source": [
    "# Atributo idade\n",
    "lucas.idade"
   ]
  },
  {
   "cell_type": "code",
   "execution_count": 7,
   "id": "346e6495",
   "metadata": {},
   "outputs": [
    {
     "data": {
      "text/plain": [
       "1234567"
      ]
     },
     "execution_count": 7,
     "metadata": {},
     "output_type": "execute_result"
    }
   ],
   "source": [
    "# Atributo documento\n",
    "lucas.documento"
   ]
  },
  {
   "cell_type": "markdown",
   "id": "6518ddb0",
   "metadata": {},
   "source": [
    "**Atributos:** nome, idade e documento.\n",
    "**Objetos:** nome = Lucas, idade = 28 e documento = 1234567. "
   ]
  },
  {
   "cell_type": "markdown",
   "id": "c7a7ea90",
   "metadata": {},
   "source": [
    "## Criação de classe (parte 2)"
   ]
  },
  {
   "cell_type": "markdown",
   "id": "6113e2db",
   "metadata": {},
   "source": [
    "Criação do segundo método (logar no sistema)."
   ]
  },
  {
   "cell_type": "code",
   "execution_count": 8,
   "id": "5f340bc9",
   "metadata": {},
   "outputs": [],
   "source": [
    "class Usuario:\n",
    "    def __init__(self, nome_param, idade_param, documento_param = 0):\n",
    "        self.nome = nome_param\n",
    "        self.idade = idade_param\n",
    "        self.documento = documento_param\n",
    "        \n",
    "    def logar_no_sistema(self):\n",
    "        # ações de login\n",
    "        print(f\"O usuário {self.nome} foi logado no sistema.\")"
   ]
  },
  {
   "cell_type": "code",
   "execution_count": 9,
   "id": "4b3f9526",
   "metadata": {},
   "outputs": [],
   "source": [
    "# Atributos da classe sempre vão no método __init__\n",
    "lucas = Usuario(\"Lucas\", 28, 1234567)"
   ]
  },
  {
   "cell_type": "code",
   "execution_count": 10,
   "id": "f0d1857e",
   "metadata": {},
   "outputs": [
    {
     "name": "stdout",
     "output_type": "stream",
     "text": [
      "O usuário Lucas foi logado no sistema.\n"
     ]
    }
   ],
   "source": [
    "lucas.logar_no_sistema()"
   ]
  },
  {
   "cell_type": "markdown",
   "id": "16eff0d6",
   "metadata": {},
   "source": [
    "## Criação de classe (parte 3)"
   ]
  },
  {
   "cell_type": "markdown",
   "id": "cb51af21",
   "metadata": {},
   "source": [
    "Vamos criar uma classe que contenha um contador para sinalizar toda vez que alguém novo insere sua digital no identificador biométrico de um dado sistema. A contagem será reiniciada diariamente. Não queremos informações do usuário, apenas o número de usuários identificados.\n",
    "\n",
    "- Fazer a contagem de um em um ou de vários em vários ao mesmo tempo.\n",
    "- Apresentar o valor da contagem.\n",
    "- Fazer o reset diariamente."
   ]
  },
  {
   "cell_type": "markdown",
   "id": "40c48f56",
   "metadata": {},
   "source": [
    "#### Primeira parte: instanciando o contador"
   ]
  },
  {
   "cell_type": "code",
   "execution_count": 11,
   "id": "c561170c",
   "metadata": {},
   "outputs": [],
   "source": [
    "class ClickCounter:\n",
    "    def __init__(self, count_param = 0):\n",
    "        self.count = count_param"
   ]
  },
  {
   "cell_type": "code",
   "execution_count": 12,
   "id": "f7f26655",
   "metadata": {},
   "outputs": [
    {
     "data": {
      "text/plain": [
       "0"
      ]
     },
     "execution_count": 12,
     "metadata": {},
     "output_type": "execute_result"
    }
   ],
   "source": [
    "contador = ClickCounter()\n",
    "contador.count"
   ]
  },
  {
   "cell_type": "code",
   "execution_count": 13,
   "id": "075f95a6",
   "metadata": {},
   "outputs": [
    {
     "data": {
      "text/plain": [
       "100"
      ]
     },
     "execution_count": 13,
     "metadata": {},
     "output_type": "execute_result"
    }
   ],
   "source": [
    "contador = ClickCounter(100)\n",
    "contador.count"
   ]
  },
  {
   "cell_type": "markdown",
   "id": "9f5e6f2d",
   "metadata": {},
   "source": [
    "#### Segunda parte: resetando o contador"
   ]
  },
  {
   "cell_type": "code",
   "execution_count": 14,
   "id": "efc68a79",
   "metadata": {},
   "outputs": [],
   "source": [
    "class ClickCounter:\n",
    "    def __init__(self, count_param = 0):\n",
    "        self.count = count_param\n",
    "        \n",
    "    def reset(self):\n",
    "        self.count = 0"
   ]
  },
  {
   "cell_type": "code",
   "execution_count": 15,
   "id": "b87af7ad",
   "metadata": {},
   "outputs": [
    {
     "data": {
      "text/plain": [
       "100"
      ]
     },
     "execution_count": 15,
     "metadata": {},
     "output_type": "execute_result"
    }
   ],
   "source": [
    "contador = ClickCounter(100)\n",
    "contador.count"
   ]
  },
  {
   "cell_type": "code",
   "execution_count": 16,
   "id": "7220479e",
   "metadata": {},
   "outputs": [
    {
     "data": {
      "text/plain": [
       "0"
      ]
     },
     "execution_count": 16,
     "metadata": {},
     "output_type": "execute_result"
    }
   ],
   "source": [
    "contador.reset()\n",
    "contador.count"
   ]
  },
  {
   "cell_type": "markdown",
   "id": "9aed3473",
   "metadata": {},
   "source": [
    "Para exemplificar, criamos um contador com valor 100 e depois o resetamos. O resultado final do contador é zero, dado que ele foi resetado. "
   ]
  },
  {
   "cell_type": "markdown",
   "id": "96937ad2",
   "metadata": {},
   "source": [
    "#### Terceira parte: incrementando valores no contador"
   ]
  },
  {
   "cell_type": "code",
   "execution_count": 17,
   "id": "7790f220",
   "metadata": {},
   "outputs": [],
   "source": [
    "class ClickCounter:\n",
    "    def __init__(self, count_param = 0):\n",
    "        self.count = count_param\n",
    "        \n",
    "    def reset(self):\n",
    "        self.count = 0\n",
    "        \n",
    "    def click(self, count_param = 1):\n",
    "        self.count += count_param"
   ]
  },
  {
   "cell_type": "markdown",
   "id": "7f1320f7",
   "metadata": {},
   "source": [
    "Instaciando o valor inicial do contador:"
   ]
  },
  {
   "cell_type": "code",
   "execution_count": 18,
   "id": "ae8a19de",
   "metadata": {},
   "outputs": [
    {
     "data": {
      "text/plain": [
       "100"
      ]
     },
     "execution_count": 18,
     "metadata": {},
     "output_type": "execute_result"
    }
   ],
   "source": [
    "contador = ClickCounter(100)\n",
    "contador.count"
   ]
  },
  {
   "cell_type": "markdown",
   "id": "67f0844f",
   "metadata": {},
   "source": [
    "Instaciando o valor do contador após a função reset:"
   ]
  },
  {
   "cell_type": "code",
   "execution_count": 19,
   "id": "4349f98f",
   "metadata": {},
   "outputs": [
    {
     "data": {
      "text/plain": [
       "0"
      ]
     },
     "execution_count": 19,
     "metadata": {},
     "output_type": "execute_result"
    }
   ],
   "source": [
    "contador.reset()\n",
    "contador.count"
   ]
  },
  {
   "cell_type": "markdown",
   "id": "7f05eb16",
   "metadata": {},
   "source": [
    "Instanciando o valor do contador em um click/incremento:"
   ]
  },
  {
   "cell_type": "code",
   "execution_count": 20,
   "id": "b94b764a",
   "metadata": {},
   "outputs": [
    {
     "data": {
      "text/plain": [
       "1"
      ]
     },
     "execution_count": 20,
     "metadata": {},
     "output_type": "execute_result"
    }
   ],
   "source": [
    "contador.click()\n",
    "contador.count"
   ]
  },
  {
   "cell_type": "markdown",
   "id": "84f82304",
   "metadata": {},
   "source": [
    "Note que o valor padrão de um click/incremento foi definido como um. Isso foi necessário para corrigir o erro de o usuário apertar o botão-click mais de uma vez e promover uma contagem errada. Por isso, se nenhum valor ou o valor 1 for passado para o método **click**, o contador aumentará em uma unidade de click apenas. "
   ]
  },
  {
   "cell_type": "code",
   "execution_count": 21,
   "id": "1b7113fe",
   "metadata": {},
   "outputs": [
    {
     "data": {
      "text/plain": [
       "2"
      ]
     },
     "execution_count": 21,
     "metadata": {},
     "output_type": "execute_result"
    }
   ],
   "source": [
    "contador.click()\n",
    "contador.count"
   ]
  },
  {
   "cell_type": "code",
   "execution_count": 22,
   "id": "9d1b4cd4",
   "metadata": {},
   "outputs": [
    {
     "data": {
      "text/plain": [
       "6"
      ]
     },
     "execution_count": 22,
     "metadata": {},
     "output_type": "execute_result"
    }
   ],
   "source": [
    "contador.click(4)\n",
    "contador.count"
   ]
  },
  {
   "cell_type": "markdown",
   "id": "c0e201c8",
   "metadata": {},
   "source": [
    "#### Quarta parte: apresentando o valor da contagem"
   ]
  },
  {
   "cell_type": "code",
   "execution_count": 23,
   "id": "d696da44",
   "metadata": {},
   "outputs": [],
   "source": [
    "class ClickCounter:\n",
    "    def __init__(self, count_param = 0):\n",
    "        self.count = count_param\n",
    "        \n",
    "    def reset(self):\n",
    "        self.count = 0\n",
    "        \n",
    "    def click(self, count_param = 1):\n",
    "        self.count += count_param\n",
    "        \n",
    "    def leitura(self):\n",
    "        return self.count"
   ]
  },
  {
   "cell_type": "code",
   "execution_count": 24,
   "id": "1fb4307f",
   "metadata": {},
   "outputs": [
    {
     "data": {
      "text/plain": [
       "100"
      ]
     },
     "execution_count": 24,
     "metadata": {},
     "output_type": "execute_result"
    }
   ],
   "source": [
    "contador = ClickCounter(100)\n",
    "contador.leitura()"
   ]
  },
  {
   "cell_type": "code",
   "execution_count": 25,
   "id": "7c4a6f64",
   "metadata": {},
   "outputs": [
    {
     "data": {
      "text/plain": [
       "0"
      ]
     },
     "execution_count": 25,
     "metadata": {},
     "output_type": "execute_result"
    }
   ],
   "source": [
    "contador.reset()\n",
    "contador.leitura()"
   ]
  },
  {
   "cell_type": "code",
   "execution_count": 26,
   "id": "35903c3c",
   "metadata": {},
   "outputs": [
    {
     "data": {
      "text/plain": [
       "7"
      ]
     },
     "execution_count": 26,
     "metadata": {},
     "output_type": "execute_result"
    }
   ],
   "source": [
    "contador.click(7)\n",
    "contador.leitura()"
   ]
  },
  {
   "cell_type": "markdown",
   "id": "1bbff3e7",
   "metadata": {},
   "source": [
    "#### Quinta parte: incrementando um limite máximo de clicks"
   ]
  },
  {
   "cell_type": "markdown",
   "id": "c3976393",
   "metadata": {},
   "source": [
    "Suponhamos que o limite máximo de contagem seja 100 - relativo a 100 pessoas por dia. Então, devemos adicionar ao contador um critério de parada quando o número máximo for atingido. \n",
    "\n",
    "Para a resolução, consideramos que o contador apenas incrementa de um em um."
   ]
  },
  {
   "cell_type": "code",
   "execution_count": 29,
   "id": "ed6d76f7",
   "metadata": {},
   "outputs": [],
   "source": [
    "class ClickCounter:\n",
    "    def __init__(self, count_param = 0):\n",
    "        self.count = count_param\n",
    "        \n",
    "    def reset(self):\n",
    "        self.count = 0\n",
    "        \n",
    "    def click(self, count_param = 1):\n",
    "        if (self.count == 25):\n",
    "            print(\"O número máximo foi atingido!\")\n",
    "        else:\n",
    "            self.count += count_param\n",
    "        \n",
    "    def leitura(self):\n",
    "        return self.count"
   ]
  },
  {
   "cell_type": "code",
   "execution_count": 30,
   "id": "dfe24be2",
   "metadata": {},
   "outputs": [
    {
     "data": {
      "text/plain": [
       "0"
      ]
     },
     "execution_count": 30,
     "metadata": {},
     "output_type": "execute_result"
    }
   ],
   "source": [
    "contador = ClickCounter()\n",
    "contador.leitura()"
   ]
  },
  {
   "cell_type": "code",
   "execution_count": 57,
   "id": "a0b5e0c9",
   "metadata": {},
   "outputs": [
    {
     "name": "stdout",
     "output_type": "stream",
     "text": [
      "O número máximo foi atingido!\n"
     ]
    },
    {
     "data": {
      "text/plain": [
       "25"
      ]
     },
     "execution_count": 57,
     "metadata": {},
     "output_type": "execute_result"
    }
   ],
   "source": [
    "contador.click()\n",
    "contador.leitura()"
   ]
  },
  {
   "cell_type": "markdown",
   "id": "b3d037e3",
   "metadata": {},
   "source": [
    "## Operações em Objetos e Built-in Functions"
   ]
  },
  {
   "cell_type": "markdown",
   "id": "91811081",
   "metadata": {},
   "source": [
    "Tudo dentro do Python é objeto!"
   ]
  },
  {
   "cell_type": "markdown",
   "id": "2ad10ece",
   "metadata": {},
   "source": [
    "#### Exibindo o nome/tipo das classes"
   ]
  },
  {
   "cell_type": "code",
   "execution_count": 58,
   "id": "36297469",
   "metadata": {},
   "outputs": [],
   "source": [
    "idade = 28"
   ]
  },
  {
   "cell_type": "code",
   "execution_count": 60,
   "id": "096a511e",
   "metadata": {},
   "outputs": [
    {
     "name": "stdout",
     "output_type": "stream",
     "text": [
      "<class 'int'>\n"
     ]
    }
   ],
   "source": [
    "print(type(idade))"
   ]
  },
  {
   "cell_type": "code",
   "execution_count": 61,
   "id": "dc43ed1f",
   "metadata": {},
   "outputs": [
    {
     "name": "stdout",
     "output_type": "stream",
     "text": [
      "<class 'str'>\n"
     ]
    }
   ],
   "source": [
    "idade = '28'\n",
    "print(type(idade))"
   ]
  },
  {
   "cell_type": "code",
   "execution_count": 62,
   "id": "8f56ebdb",
   "metadata": {},
   "outputs": [
    {
     "name": "stdout",
     "output_type": "stream",
     "text": [
      "<class 'float'>\n"
     ]
    }
   ],
   "source": [
    "idade = 28.0\n",
    "print(type(idade))"
   ]
  },
  {
   "cell_type": "markdown",
   "id": "dee9fbee",
   "metadata": {},
   "source": [
    "#### Usando métodos de uma classe"
   ]
  },
  {
   "cell_type": "markdown",
   "id": "d9b8ee8f",
   "metadata": {},
   "source": [
    "As **built-in functions** do Python são as funções e os métodos das funções do Python. "
   ]
  },
  {
   "cell_type": "code",
   "execution_count": 63,
   "id": "7bc17c09",
   "metadata": {},
   "outputs": [
    {
     "name": "stdout",
     "output_type": "stream",
     "text": [
      "<class 'list'>\n"
     ]
    }
   ],
   "source": [
    "nomes = ['Lucas', 'Assis']\n",
    "print(type(nomes))"
   ]
  },
  {
   "cell_type": "code",
   "execution_count": 64,
   "id": "dc5d7961",
   "metadata": {},
   "outputs": [
    {
     "data": {
      "text/plain": [
       "['Lucas', 'Assis', 'Quemelli']"
      ]
     },
     "execution_count": 64,
     "metadata": {},
     "output_type": "execute_result"
    }
   ],
   "source": [
    "nomes.append('Quemelli')\n",
    "nomes"
   ]
  },
  {
   "cell_type": "markdown",
   "id": "5110c78b",
   "metadata": {},
   "source": [
    "As modificações de tipo de classes são o que chamamos de instanciar uma classe. Para acessar as funções **built-in** do Python e seus métodos, basta acessar o link [Built-in Functions](https://docs.python.org/3/library/functions.html#func-str). Em cada classe (str, int, float, etc), encontramos seus métodos. "
   ]
  },
  {
   "cell_type": "markdown",
   "id": "c0f6268d",
   "metadata": {},
   "source": [
    "Exemplos de funções:\n",
    "\n",
    "- Função endswith(): para verificar em uma determinada string qual caracter em que ela termina.\n",
    "- Função find(): para buscar um conjunto de caracteres de uma string. Pode ser um padrão de repetição ou apenas uma letra.\n",
    "- Função islower(): para verificar se a string é toda minúscula. \n",
    "- Função join(iterável): juntar uma string com o conteúdo que eu coloco dentro dela. \"Iterável\" significa que podemos colocar mais de um tipo de conteúdo com o qual desejamos fazer a junção. \n",
    "- Função lower(): coloca uma string inteira em caracteres minúsculos."
   ]
  },
  {
   "cell_type": "markdown",
   "id": "2338d6a9",
   "metadata": {},
   "source": [
    "Outros exemplos de funções:\n",
    "\n",
    "- Função replace(old, new[, count]).\n",
    "- Função startswith(prefix[,start[,end]]).\n",
    "- Função strip([chars]).\n",
    "- Função upper(). \n",
    "- Função format(* args, ** kwargs)"
   ]
  }
 ],
 "metadata": {
  "kernelspec": {
   "display_name": "Python 3 (ipykernel)",
   "language": "python",
   "name": "python3"
  },
  "language_info": {
   "codemirror_mode": {
    "name": "ipython",
    "version": 3
   },
   "file_extension": ".py",
   "mimetype": "text/x-python",
   "name": "python",
   "nbconvert_exporter": "python",
   "pygments_lexer": "ipython3",
   "version": "3.9.6"
  }
 },
 "nbformat": 4,
 "nbformat_minor": 5
}
