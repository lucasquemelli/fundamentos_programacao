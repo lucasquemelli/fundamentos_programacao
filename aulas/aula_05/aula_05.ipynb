{
 "cells": [
  {
   "cell_type": "markdown",
   "id": "8e3567d9",
   "metadata": {},
   "source": [
    "# Programação orientada a objetos (POO)"
   ]
  },
  {
   "cell_type": "markdown",
   "id": "4ff5fe59",
   "metadata": {},
   "source": [
    "Transferência de objetos do mundo real para o mundo computacional."
   ]
  },
  {
   "cell_type": "markdown",
   "id": "754e4123",
   "metadata": {},
   "source": [
    "* Paradigma de Desenvolvimento de Software;\n",
    "* Menos repetição de blocos de código;\n",
    "* Mais próximo do mundo real;\n",
    "* Manutenção facilitada."
   ]
  },
  {
   "cell_type": "markdown",
   "id": "4b3259d9",
   "metadata": {},
   "source": [
    "A **POO** é baseada em: "
   ]
  },
  {
   "cell_type": "markdown",
   "id": "c6b21b28",
   "metadata": {},
   "source": [
    "1. Classes: representação de um objeto do mundo real. Conjunto de métodos e atributos.\n",
    "2. Objetos: variáveis e seus valores pertencentes a uma classe. Instanciar é criar um objeto para uma classe.  \n",
    "3. Atributos: basicamente, são variáveis sem os valores.\n",
    "4. Métodos: resumidamente, são funções/funcionalidades/ações/comportamentos."
   ]
  },
  {
   "cell_type": "markdown",
   "id": "19876534",
   "metadata": {},
   "source": [
    "Exemplo ilustrativo:\n",
    "\n",
    "- **classes:** carros.\n",
    "- **objetos:** modelos de carros.\n",
    "- **atributos:** características de um certo modelo de carro.\n",
    "- **métodos:** diferentes funcionalidades de um certo modelo de carro e também características gerais de outros carros como frear. "
   ]
  },
  {
   "cell_type": "markdown",
   "id": "f72a3cdc",
   "metadata": {},
   "source": [
    "## Criação de classe (parte 1)"
   ]
  },
  {
   "cell_type": "markdown",
   "id": "79e7daf9",
   "metadata": {},
   "source": [
    "Toda classe deve começar com letra maiúscula. Se houver mais de uma palavra no nome da classe, utilizamos **CamelCase ou CapitalCase**. "
   ]
  },
  {
   "cell_type": "markdown",
   "id": "738f6582",
   "metadata": {},
   "source": [
    "Vamos começar um exemplo de classe com apenas um método (armazenar informações do usuário). Os atributos da classe, que neste caso são as informações do usuário, sempre vão no método __init__. "
   ]
  },
  {
   "cell_type": "code",
   "execution_count": 1,
   "id": "1a75e3a2",
   "metadata": {},
   "outputs": [],
   "source": [
    "class Usuario:\n",
    "    def __init__(self, nome_param, idade_param, documento_param = 0):\n",
    "        self.nome = nome_param\n",
    "        self.idade = idade_param\n",
    "        self.documento = documento_param"
   ]
  },
  {
   "cell_type": "markdown",
   "id": "c694a595",
   "metadata": {},
   "source": [
    "Agora vamos criar um objeto a partir da classe acima:"
   ]
  },
  {
   "cell_type": "code",
   "execution_count": 2,
   "id": "71676291",
   "metadata": {},
   "outputs": [],
   "source": [
    "lucas = Usuario('Lucas', 28, 1234567)"
   ]
  },
  {
   "cell_type": "code",
   "execution_count": 3,
   "id": "15f3f14b",
   "metadata": {},
   "outputs": [
    {
     "data": {
      "text/plain": [
       "<__main__.Usuario at 0x10dc23b6af0>"
      ]
     },
     "execution_count": 3,
     "metadata": {},
     "output_type": "execute_result"
    }
   ],
   "source": [
    "lucas"
   ]
  },
  {
   "cell_type": "code",
   "execution_count": 4,
   "id": "86f6f1e0",
   "metadata": {},
   "outputs": [
    {
     "data": {
      "text/plain": [
       "__main__.Usuario"
      ]
     },
     "execution_count": 4,
     "metadata": {},
     "output_type": "execute_result"
    }
   ],
   "source": [
    "type(lucas)"
   ]
  },
  {
   "cell_type": "markdown",
   "id": "3a7c9826",
   "metadata": {},
   "source": [
    "A saída acima significa que acabamos de criar um objeto com nome lucas do tipo Usuario. "
   ]
  },
  {
   "cell_type": "markdown",
   "id": "63319864",
   "metadata": {},
   "source": [
    "## Acessando os objetos de uma classe"
   ]
  },
  {
   "cell_type": "code",
   "execution_count": 5,
   "id": "6ffa17c7",
   "metadata": {},
   "outputs": [
    {
     "data": {
      "text/plain": [
       "'Lucas'"
      ]
     },
     "execution_count": 5,
     "metadata": {},
     "output_type": "execute_result"
    }
   ],
   "source": [
    "# Atributo nome\n",
    "lucas.nome"
   ]
  },
  {
   "cell_type": "code",
   "execution_count": 6,
   "id": "047feac4",
   "metadata": {},
   "outputs": [
    {
     "data": {
      "text/plain": [
       "28"
      ]
     },
     "execution_count": 6,
     "metadata": {},
     "output_type": "execute_result"
    }
   ],
   "source": [
    "# Atributo idade\n",
    "lucas.idade"
   ]
  },
  {
   "cell_type": "code",
   "execution_count": 7,
   "id": "7705c307",
   "metadata": {},
   "outputs": [
    {
     "data": {
      "text/plain": [
       "1234567"
      ]
     },
     "execution_count": 7,
     "metadata": {},
     "output_type": "execute_result"
    }
   ],
   "source": [
    "# Atributo documento\n",
    "lucas.documento"
   ]
  },
  {
   "cell_type": "markdown",
   "id": "be13f4ac",
   "metadata": {},
   "source": [
    "**Atributos:** nome, idade e documento.\n",
    "**Objetos:** nome = Lucas, idade = 28 e documento = 1234567. "
   ]
  },
  {
   "cell_type": "markdown",
   "id": "61a9d37b",
   "metadata": {},
   "source": [
    "## Criação de classe (parte 2)"
   ]
  },
  {
   "cell_type": "markdown",
   "id": "81abf434",
   "metadata": {},
   "source": [
    "Criação do segundo método (logar no sistema)."
   ]
  },
  {
   "cell_type": "code",
   "execution_count": 8,
   "id": "8689af29",
   "metadata": {},
   "outputs": [],
   "source": [
    "class Usuario:\n",
    "    def __init__(self, nome_param, idade_param, documento_param = 0):\n",
    "        self.nome = nome_param\n",
    "        self.idade = idade_param\n",
    "        self.documento = documento_param\n",
    "        \n",
    "    def logar_no_sistema(self):\n",
    "        # ações de login\n",
    "        print(f\"O usuário {self.nome} foi logado no sistema.\")"
   ]
  },
  {
   "cell_type": "code",
   "execution_count": 10,
   "id": "c3e6c348",
   "metadata": {},
   "outputs": [],
   "source": [
    "# Atributos da classe sempre vão no método __init__\n",
    "lucas = Usuario(\"Lucas\", 28, 1234567)"
   ]
  },
  {
   "cell_type": "code",
   "execution_count": 12,
   "id": "395308b4",
   "metadata": {},
   "outputs": [
    {
     "name": "stdout",
     "output_type": "stream",
     "text": [
      "O usuário Lucas foi logado no sistema.\n"
     ]
    }
   ],
   "source": [
    "lucas.logar_no_sistema()"
   ]
  },
  {
   "cell_type": "markdown",
   "id": "67187f8b",
   "metadata": {},
   "source": [
    "## Criação de classe (parte 3)"
   ]
  },
  {
   "cell_type": "markdown",
   "id": "a0b2fa12",
   "metadata": {},
   "source": [
    "Vamos criar uma classe que contenha um contador para sinalizar toda vez que alguém novo insere sua digital no identificador biométrico de um dado sistema. A contagem será reiniciada diariamente. Não queremos informações do usuário, apenas o número de usuários identificados.\n",
    "\n",
    "- Fazer a contagem de um em um ou de vários em vários ao mesmo tempo.\n",
    "- Apresentar o valor da contagem.\n",
    "- Fazer o reset diariamente."
   ]
  },
  {
   "cell_type": "markdown",
   "id": "fce479f0",
   "metadata": {},
   "source": [
    "#### Primeira parte: instanciando o contador"
   ]
  },
  {
   "cell_type": "code",
   "execution_count": 16,
   "id": "5028b532",
   "metadata": {},
   "outputs": [],
   "source": [
    "class ClickCounter:\n",
    "    def __init__(self, count_param = 0):\n",
    "        self.count = count_param"
   ]
  },
  {
   "cell_type": "code",
   "execution_count": 18,
   "id": "0c63d2b6",
   "metadata": {},
   "outputs": [
    {
     "data": {
      "text/plain": [
       "0"
      ]
     },
     "execution_count": 18,
     "metadata": {},
     "output_type": "execute_result"
    }
   ],
   "source": [
    "contador = ClickCounter()\n",
    "contador.count"
   ]
  },
  {
   "cell_type": "code",
   "execution_count": 19,
   "id": "492ccfb8",
   "metadata": {},
   "outputs": [
    {
     "data": {
      "text/plain": [
       "100"
      ]
     },
     "execution_count": 19,
     "metadata": {},
     "output_type": "execute_result"
    }
   ],
   "source": [
    "contador = ClickCounter(100)\n",
    "contador.count"
   ]
  },
  {
   "cell_type": "markdown",
   "id": "39d54a43",
   "metadata": {},
   "source": [
    "#### Segunda parte: resetando o contador"
   ]
  },
  {
   "cell_type": "code",
   "execution_count": 20,
   "id": "92e16c8f",
   "metadata": {},
   "outputs": [],
   "source": [
    "class ClickCounter:\n",
    "    def __init__(self, count_param = 0):\n",
    "        self.count = count_param\n",
    "        \n",
    "    def reset(self):\n",
    "        self.count = 0"
   ]
  },
  {
   "cell_type": "code",
   "execution_count": 21,
   "id": "336d3963",
   "metadata": {},
   "outputs": [
    {
     "data": {
      "text/plain": [
       "100"
      ]
     },
     "execution_count": 21,
     "metadata": {},
     "output_type": "execute_result"
    }
   ],
   "source": [
    "contador = ClickCounter(100)\n",
    "contador.count"
   ]
  },
  {
   "cell_type": "code",
   "execution_count": 22,
   "id": "e5b0e4f3",
   "metadata": {},
   "outputs": [
    {
     "data": {
      "text/plain": [
       "0"
      ]
     },
     "execution_count": 22,
     "metadata": {},
     "output_type": "execute_result"
    }
   ],
   "source": [
    "contador.reset()\n",
    "contador.count"
   ]
  },
  {
   "cell_type": "markdown",
   "id": "7066df9c",
   "metadata": {},
   "source": [
    "Para exemplificar, criamos um contador com valor 100 e depois o resetamos. O resultado final do contador é zero, dado que ele foi resetado. "
   ]
  },
  {
   "cell_type": "markdown",
   "id": "3ebad36c",
   "metadata": {},
   "source": [
    "#### terceira parte: incrementando valores no contador"
   ]
  },
  {
   "cell_type": "code",
   "execution_count": 23,
   "id": "93ab0589",
   "metadata": {},
   "outputs": [],
   "source": [
    "class ClickCounter:\n",
    "    def __init__(self, count_param = 0):\n",
    "        self.count = count_param\n",
    "        \n",
    "    def reset(self):\n",
    "        self.count = 0\n",
    "        \n",
    "    def click(self, count_param = 1):\n",
    "        self.count += count_param"
   ]
  },
  {
   "cell_type": "markdown",
   "id": "0a274c32",
   "metadata": {},
   "source": [
    "Instaciando o valor inicial do contador:"
   ]
  },
  {
   "cell_type": "code",
   "execution_count": 24,
   "id": "708d4d6a",
   "metadata": {},
   "outputs": [
    {
     "data": {
      "text/plain": [
       "100"
      ]
     },
     "execution_count": 24,
     "metadata": {},
     "output_type": "execute_result"
    }
   ],
   "source": [
    "contador = ClickCounter(100)\n",
    "contador.count"
   ]
  },
  {
   "cell_type": "markdown",
   "id": "fa67956e",
   "metadata": {},
   "source": [
    "Instaciando o valor do contador após a função reset:"
   ]
  },
  {
   "cell_type": "code",
   "execution_count": 25,
   "id": "424d6f90",
   "metadata": {},
   "outputs": [
    {
     "data": {
      "text/plain": [
       "0"
      ]
     },
     "execution_count": 25,
     "metadata": {},
     "output_type": "execute_result"
    }
   ],
   "source": [
    "contador.reset()\n",
    "contador.count"
   ]
  },
  {
   "cell_type": "markdown",
   "id": "8de3eb58",
   "metadata": {},
   "source": [
    "Instanciando o valor do contador em um click/incremento:"
   ]
  },
  {
   "cell_type": "code",
   "execution_count": 26,
   "id": "2d6fd26e",
   "metadata": {},
   "outputs": [
    {
     "data": {
      "text/plain": [
       "1"
      ]
     },
     "execution_count": 26,
     "metadata": {},
     "output_type": "execute_result"
    }
   ],
   "source": [
    "contador.click()\n",
    "contador.count"
   ]
  },
  {
   "cell_type": "markdown",
   "id": "bcf5b6b5",
   "metadata": {},
   "source": [
    "Note que o valor padrão de um click/incremento foi definido como um. Isso foi necessário para corrigir o erro de o usuário apertar o botão-click mais de uma vez e promover uma contagem errada. Por isso, se nenhum valor ou o valor 1 for passado para o método **click**, o contador aumentará em uma unidade de click apenas. "
   ]
  },
  {
   "cell_type": "code",
   "execution_count": null,
   "id": "6ab12745",
   "metadata": {},
   "outputs": [],
   "source": []
  }
 ],
 "metadata": {
  "kernelspec": {
   "display_name": "Python 3 (ipykernel)",
   "language": "python",
   "name": "python3"
  },
  "language_info": {
   "codemirror_mode": {
    "name": "ipython",
    "version": 3
   },
   "file_extension": ".py",
   "mimetype": "text/x-python",
   "name": "python",
   "nbconvert_exporter": "python",
   "pygments_lexer": "ipython3",
   "version": "3.9.6"
  }
 },
 "nbformat": 4,
 "nbformat_minor": 5
}
