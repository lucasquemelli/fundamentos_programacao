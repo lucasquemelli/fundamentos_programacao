{
 "cells": [
  {
   "cell_type": "markdown",
   "id": "8e3567d9",
   "metadata": {},
   "source": [
    "# Programação orientada a objetos (POO)"
   ]
  },
  {
   "cell_type": "markdown",
   "id": "4ff5fe59",
   "metadata": {},
   "source": [
    "Transferência de objetos do mundo real para o mundo computacional."
   ]
  },
  {
   "cell_type": "markdown",
   "id": "754e4123",
   "metadata": {},
   "source": [
    "* Paradigma de Desenvolvimento de Software;\n",
    "* Menos repetição de blocos de código;\n",
    "* Mais próximo do mundo real;\n",
    "* Manutenção facilitada."
   ]
  },
  {
   "cell_type": "markdown",
   "id": "4b3259d9",
   "metadata": {},
   "source": [
    "A **POO** é baseada em: "
   ]
  },
  {
   "cell_type": "markdown",
   "id": "c6b21b28",
   "metadata": {},
   "source": [
    "1. Classes: representação de um objeto do mundo real. Conjunto de métodos e atributos.\n",
    "2. Objetos: variáveis e seus valores pertencentes a uma classe. Instanciar é criar um objeto para uma classe.  \n",
    "3. Atributos: basicamente, são variáveis sem os valores.\n",
    "4. Métodos: resumidamente, são funções/funcionalidades/ações/comportamentos."
   ]
  },
  {
   "cell_type": "markdown",
   "id": "19876534",
   "metadata": {},
   "source": [
    "Exemplo ilustrativo:\n",
    "\n",
    "- **classes:** carros.\n",
    "- **objetos:** modelos de carros.\n",
    "- **atributos:** características de um certo modelo de carro.\n",
    "- **métodos:** diferentes funcionalidades de um certo modelo de carro e também características gerais de outros carros como frear. "
   ]
  },
  {
   "cell_type": "markdown",
   "id": "e89408b8",
   "metadata": {},
   "source": [
    "## Criação de classe (parte 1)"
   ]
  },
  {
   "cell_type": "markdown",
   "id": "ebc1405a",
   "metadata": {},
   "source": [
    "Toda classe deve começar com letra maiúscula. Se houver mais de uma palavra no nome da classe, utilizamos **CamelCase ou CapitalCase**. "
   ]
  },
  {
   "cell_type": "markdown",
   "id": "43598d96",
   "metadata": {},
   "source": [
    "Vamos começar um exemplo de classe com apenas um método (armazenar informações do usuário). Os atributos da classe, que neste caso são as informações do usuário, sempre vão no método __init__. "
   ]
  },
  {
   "cell_type": "code",
   "execution_count": 1,
   "id": "1a75e3a2",
   "metadata": {},
   "outputs": [],
   "source": [
    "class Usuario:\n",
    "    def __init__(self, nome_param, idade_param, documento_param = 0):\n",
    "        self.nome = nome_param\n",
    "        self.idade = idade_param\n",
    "        self.documento = documento_param"
   ]
  },
  {
   "cell_type": "markdown",
   "id": "f7f1ef77",
   "metadata": {},
   "source": [
    "Agora vamos criar um objeto a partir da classe acima:"
   ]
  },
  {
   "cell_type": "code",
   "execution_count": 2,
   "id": "b932b247",
   "metadata": {},
   "outputs": [],
   "source": [
    "lucas = Usuario('Lucas', 28, 1234567)"
   ]
  },
  {
   "cell_type": "code",
   "execution_count": 3,
   "id": "62369c81",
   "metadata": {},
   "outputs": [
    {
     "data": {
      "text/plain": [
       "<__main__.Usuario at 0x25214a77700>"
      ]
     },
     "execution_count": 3,
     "metadata": {},
     "output_type": "execute_result"
    }
   ],
   "source": [
    "lucas"
   ]
  },
  {
   "cell_type": "code",
   "execution_count": 4,
   "id": "a80b6c80",
   "metadata": {},
   "outputs": [
    {
     "data": {
      "text/plain": [
       "__main__.Usuario"
      ]
     },
     "execution_count": 4,
     "metadata": {},
     "output_type": "execute_result"
    }
   ],
   "source": [
    "type(lucas)"
   ]
  },
  {
   "cell_type": "markdown",
   "id": "3e7971ba",
   "metadata": {},
   "source": [
    "A saída acima significa que acabamos de criar um objeto com nome lucas do tipo Usuario. "
   ]
  },
  {
   "cell_type": "markdown",
   "id": "2b45ebc7",
   "metadata": {},
   "source": [
    "## Acessando os objetos de uma classe"
   ]
  },
  {
   "cell_type": "code",
   "execution_count": 5,
   "id": "ebf6c1fe",
   "metadata": {},
   "outputs": [
    {
     "data": {
      "text/plain": [
       "'Lucas'"
      ]
     },
     "execution_count": 5,
     "metadata": {},
     "output_type": "execute_result"
    }
   ],
   "source": [
    "# Atributo nome\n",
    "lucas.nome"
   ]
  },
  {
   "cell_type": "code",
   "execution_count": 6,
   "id": "5152e0c7",
   "metadata": {},
   "outputs": [
    {
     "data": {
      "text/plain": [
       "28"
      ]
     },
     "execution_count": 6,
     "metadata": {},
     "output_type": "execute_result"
    }
   ],
   "source": [
    "# Atributo idade\n",
    "lucas.idade"
   ]
  },
  {
   "cell_type": "code",
   "execution_count": 7,
   "id": "18000ab1",
   "metadata": {},
   "outputs": [
    {
     "data": {
      "text/plain": [
       "1234567"
      ]
     },
     "execution_count": 7,
     "metadata": {},
     "output_type": "execute_result"
    }
   ],
   "source": [
    "# Atributo documento\n",
    "lucas.documento"
   ]
  },
  {
   "cell_type": "markdown",
   "id": "49bdaea8",
   "metadata": {},
   "source": [
    "**Atributos:** nome, idade e documento.\n",
    "**Objetos:** nome = Lucas, idade = 28 e documento = 1234567. "
   ]
  },
  {
   "cell_type": "markdown",
   "id": "2b26519c",
   "metadata": {},
   "source": [
    "## Criação de classe (parte 2)"
   ]
  },
  {
   "cell_type": "markdown",
   "id": "41ad047b",
   "metadata": {},
   "source": [
    "Criação do segundo método (logar no sistema)."
   ]
  },
  {
   "cell_type": "code",
   "execution_count": 8,
   "id": "e9bb75fe",
   "metadata": {},
   "outputs": [],
   "source": [
    "class Usuario:\n",
    "    def __init__(self, nome_param, idade_param, documento_param = 0):\n",
    "        self.nome = nome_param\n",
    "        self.idade = idade_param\n",
    "        self.documento = documento_param\n",
    "        \n",
    "    def logar_no_sistema(self):\n",
    "        # ações de login\n",
    "        print(f\"O usuário {self.nome} foi logado no sistema.\")"
   ]
  },
  {
   "cell_type": "code",
   "execution_count": 9,
   "id": "3e40401c",
   "metadata": {},
   "outputs": [],
   "source": [
    "# Atributos da classe sempre vão no método __init__\n",
    "lucas = Usuario(\"Lucas\", 28, 1234567)"
   ]
  },
  {
   "cell_type": "code",
   "execution_count": 10,
   "id": "2d753a0a",
   "metadata": {},
   "outputs": [
    {
     "name": "stdout",
     "output_type": "stream",
     "text": [
      "O usuário Lucas foi logado no sistema.\n"
     ]
    }
   ],
   "source": [
    "lucas.logar_no_sistema()"
   ]
  },
  {
   "cell_type": "markdown",
   "id": "d9800d55",
   "metadata": {},
   "source": [
    "## Criação de classe (parte 3)"
   ]
  },
  {
   "cell_type": "markdown",
   "id": "bd5fc3da",
   "metadata": {},
   "source": [
    "Vamos criar uma classe que contenha um contador para sinalizar toda vez que alguém novo insere sua digital no identificador biométrico de um dado sistema. A contagem será reiniciada diariamente. Não queremos informações do usuário, apenas o número de usuários identificados.\n",
    "\n",
    "- Fazer a contagem de um em um ou de vários em vários ao mesmo tempo.\n",
    "- Apresentar o valor da contagem.\n",
    "- Fazer o reset diariamente."
   ]
  },
  {
   "cell_type": "markdown",
   "id": "095e86f0",
   "metadata": {},
   "source": [
    "#### Primeira parte: instanciando o contador"
   ]
  },
  {
   "cell_type": "code",
   "execution_count": 11,
   "id": "b9885a58",
   "metadata": {},
   "outputs": [],
   "source": [
    "class ClickCounter:\n",
    "    def __init__(self, count_param = 0):\n",
    "        self.count = count_param"
   ]
  },
  {
   "cell_type": "code",
   "execution_count": 12,
   "id": "c16afe52",
   "metadata": {},
   "outputs": [
    {
     "data": {
      "text/plain": [
       "0"
      ]
     },
     "execution_count": 12,
     "metadata": {},
     "output_type": "execute_result"
    }
   ],
   "source": [
    "contador = ClickCounter()\n",
    "contador.count"
   ]
  },
  {
   "cell_type": "code",
   "execution_count": 13,
   "id": "fc2e3fa1",
   "metadata": {},
   "outputs": [
    {
     "data": {
      "text/plain": [
       "100"
      ]
     },
     "execution_count": 13,
     "metadata": {},
     "output_type": "execute_result"
    }
   ],
   "source": [
    "contador = ClickCounter(100)\n",
    "contador.count"
   ]
  },
  {
   "cell_type": "markdown",
   "id": "2be71b18",
   "metadata": {},
   "source": [
    "#### Segunda parte: resetando o contador"
   ]
  },
  {
   "cell_type": "code",
   "execution_count": 14,
   "id": "89d73573",
   "metadata": {},
   "outputs": [],
   "source": [
    "class ClickCounter:\n",
    "    def __init__(self, count_param = 0):\n",
    "        self.count = count_param\n",
    "        \n",
    "    def reset(self):\n",
    "        self.count = 0"
   ]
  },
  {
   "cell_type": "code",
   "execution_count": 15,
   "id": "d593bf81",
   "metadata": {},
   "outputs": [
    {
     "data": {
      "text/plain": [
       "100"
      ]
     },
     "execution_count": 15,
     "metadata": {},
     "output_type": "execute_result"
    }
   ],
   "source": [
    "contador = ClickCounter(100)\n",
    "contador.count"
   ]
  },
  {
   "cell_type": "code",
   "execution_count": 16,
   "id": "20d2aa55",
   "metadata": {},
   "outputs": [
    {
     "data": {
      "text/plain": [
       "0"
      ]
     },
     "execution_count": 16,
     "metadata": {},
     "output_type": "execute_result"
    }
   ],
   "source": [
    "contador.reset()\n",
    "contador.count"
   ]
  },
  {
   "cell_type": "markdown",
   "id": "cb4efa8c",
   "metadata": {},
   "source": [
    "Para exemplificar, criamos um contador com valor 100 e depois o resetamos. O resultado final do contador é zero, dado que ele foi resetado. "
   ]
  },
  {
   "cell_type": "markdown",
   "id": "9f9a79c0",
   "metadata": {},
   "source": [
    "#### Terceira parte: incrementando valores no contador"
   ]
  },
  {
   "cell_type": "code",
   "execution_count": 17,
   "id": "8780f4f6",
   "metadata": {},
   "outputs": [],
   "source": [
    "class ClickCounter:\n",
    "    def __init__(self, count_param = 0):\n",
    "        self.count = count_param\n",
    "        \n",
    "    def reset(self):\n",
    "        self.count = 0\n",
    "        \n",
    "    def click(self, count_param = 1):\n",
    "        self.count += count_param"
   ]
  },
  {
   "cell_type": "markdown",
   "id": "ed2a920f",
   "metadata": {},
   "source": [
    "Instaciando o valor inicial do contador:"
   ]
  },
  {
   "cell_type": "code",
   "execution_count": 18,
   "id": "892fdd2a",
   "metadata": {},
   "outputs": [
    {
     "data": {
      "text/plain": [
       "100"
      ]
     },
     "execution_count": 18,
     "metadata": {},
     "output_type": "execute_result"
    }
   ],
   "source": [
    "contador = ClickCounter(100)\n",
    "contador.count"
   ]
  },
  {
   "cell_type": "markdown",
   "id": "307d4800",
   "metadata": {},
   "source": [
    "Instaciando o valor do contador após a função reset:"
   ]
  },
  {
   "cell_type": "code",
   "execution_count": 19,
   "id": "f5d5fdc4",
   "metadata": {},
   "outputs": [
    {
     "data": {
      "text/plain": [
       "0"
      ]
     },
     "execution_count": 19,
     "metadata": {},
     "output_type": "execute_result"
    }
   ],
   "source": [
    "contador.reset()\n",
    "contador.count"
   ]
  },
  {
   "cell_type": "markdown",
   "id": "d48f0ddc",
   "metadata": {},
   "source": [
    "Instanciando o valor do contador em um click/incremento:"
   ]
  },
  {
   "cell_type": "code",
   "execution_count": 20,
   "id": "c4deb4a3",
   "metadata": {},
   "outputs": [
    {
     "data": {
      "text/plain": [
       "1"
      ]
     },
     "execution_count": 20,
     "metadata": {},
     "output_type": "execute_result"
    }
   ],
   "source": [
    "contador.click()\n",
    "contador.count"
   ]
  },
  {
   "cell_type": "markdown",
   "id": "aecdaf01",
   "metadata": {},
   "source": [
    "Note que o valor padrão de um click/incremento foi definido como um. Isso foi necessário para corrigir o erro de o usuário apertar o botão-click mais de uma vez e promover uma contagem errada. Por isso, se nenhum valor ou o valor 1 for passado para o método **click**, o contador aumentará em uma unidade de click apenas. "
   ]
  },
  {
   "cell_type": "code",
   "execution_count": 21,
   "id": "392100cd",
   "metadata": {},
   "outputs": [
    {
     "data": {
      "text/plain": [
       "2"
      ]
     },
     "execution_count": 21,
     "metadata": {},
     "output_type": "execute_result"
    }
   ],
   "source": [
    "contador.click()\n",
    "contador.count"
   ]
  },
  {
   "cell_type": "code",
   "execution_count": 22,
   "id": "a662e2a6",
   "metadata": {},
   "outputs": [
    {
     "data": {
      "text/plain": [
       "6"
      ]
     },
     "execution_count": 22,
     "metadata": {},
     "output_type": "execute_result"
    }
   ],
   "source": [
    "contador.click(4)\n",
    "contador.count"
   ]
  },
  {
   "cell_type": "markdown",
   "id": "e722fa25",
   "metadata": {},
   "source": [
    "#### Quarta parte: apresentando o valor da contagem"
   ]
  },
  {
   "cell_type": "code",
   "execution_count": 23,
   "id": "bdfcdea5",
   "metadata": {},
   "outputs": [],
   "source": [
    "class ClickCounter:\n",
    "    def __init__(self, count_param = 0):\n",
    "        self.count = count_param\n",
    "        \n",
    "    def reset(self):\n",
    "        self.count = 0\n",
    "        \n",
    "    def click(self, count_param = 1):\n",
    "        self.count += count_param\n",
    "        \n",
    "    def leitura(self):\n",
    "        return self.count"
   ]
  },
  {
   "cell_type": "code",
   "execution_count": 24,
   "id": "fbd6039e",
   "metadata": {},
   "outputs": [
    {
     "data": {
      "text/plain": [
       "100"
      ]
     },
     "execution_count": 24,
     "metadata": {},
     "output_type": "execute_result"
    }
   ],
   "source": [
    "contador = ClickCounter(100)\n",
    "contador.leitura()"
   ]
  },
  {
   "cell_type": "code",
   "execution_count": 25,
   "id": "062c7a19",
   "metadata": {},
   "outputs": [
    {
     "data": {
      "text/plain": [
       "0"
      ]
     },
     "execution_count": 25,
     "metadata": {},
     "output_type": "execute_result"
    }
   ],
   "source": [
    "contador.reset()\n",
    "contador.leitura()"
   ]
  },
  {
   "cell_type": "code",
   "execution_count": 26,
   "id": "3e1ba10d",
   "metadata": {},
   "outputs": [
    {
     "data": {
      "text/plain": [
       "7"
      ]
     },
     "execution_count": 26,
     "metadata": {},
     "output_type": "execute_result"
    }
   ],
   "source": [
    "contador.click(7)\n",
    "contador.leitura()"
   ]
  },
  {
   "cell_type": "markdown",
   "id": "d545a36e",
   "metadata": {},
   "source": [
    "#### Quinta parte: incrementando um limite máximo de clicks"
   ]
  },
  {
   "cell_type": "markdown",
   "id": "d400c48a",
   "metadata": {},
   "source": [
    "Suponhamos que o limite máximo de contagem seja 100 - relativo a 100 pessoas por dia. Então, devemos adicionar ao contador um critério de parada quando o número máximo for atingido. \n",
    "\n",
    "Para a resolução, consideramos que o contador apenas incrementa de um em um."
   ]
  },
  {
   "cell_type": "code",
   "execution_count": 29,
   "id": "b7c5beac",
   "metadata": {},
   "outputs": [],
   "source": [
    "class ClickCounter:\n",
    "    def __init__(self, count_param = 0):\n",
    "        self.count = count_param\n",
    "        \n",
    "    def reset(self):\n",
    "        self.count = 0\n",
    "        \n",
    "    def click(self, count_param = 1):\n",
    "        if (self.count == 25):\n",
    "            print(\"O número máximo foi atingido!\")\n",
    "        else:\n",
    "            self.count += count_param\n",
    "        \n",
    "    def leitura(self):\n",
    "        return self.count"
   ]
  },
  {
   "cell_type": "code",
   "execution_count": 30,
   "id": "d1c452d1",
   "metadata": {},
   "outputs": [
    {
     "data": {
      "text/plain": [
       "0"
      ]
     },
     "execution_count": 30,
     "metadata": {},
     "output_type": "execute_result"
    }
   ],
   "source": [
    "contador = ClickCounter()\n",
    "contador.leitura()"
   ]
  },
  {
   "cell_type": "code",
   "execution_count": 57,
   "id": "4f82778b",
   "metadata": {},
   "outputs": [
    {
     "name": "stdout",
     "output_type": "stream",
     "text": [
      "O número máximo foi atingido!\n"
     ]
    },
    {
     "data": {
      "text/plain": [
       "25"
      ]
     },
     "execution_count": 57,
     "metadata": {},
     "output_type": "execute_result"
    }
   ],
   "source": [
    "contador.click()\n",
    "contador.leitura()"
   ]
  },
  {
   "cell_type": "markdown",
   "id": "957956ad",
   "metadata": {},
   "source": [
    "## Operações em Objetos e Built-in Functions"
   ]
  },
  {
   "cell_type": "markdown",
   "id": "961b03e1",
   "metadata": {},
   "source": [
    "Tudo dentro do Python é objeto!"
   ]
  },
  {
   "cell_type": "code",
   "execution_count": 58,
   "id": "892e932d",
   "metadata": {},
   "outputs": [],
   "source": [
    "idade = 28"
   ]
  },
  {
   "cell_type": "code",
   "execution_count": 60,
   "id": "373d2b77",
   "metadata": {},
   "outputs": [
    {
     "name": "stdout",
     "output_type": "stream",
     "text": [
      "<class 'int'>\n"
     ]
    }
   ],
   "source": [
    "print(type(idade))"
   ]
  },
  {
   "cell_type": "code",
   "execution_count": 61,
   "id": "ea784ba3",
   "metadata": {},
   "outputs": [
    {
     "name": "stdout",
     "output_type": "stream",
     "text": [
      "<class 'str'>\n"
     ]
    }
   ],
   "source": [
    "idade = '28'\n",
    "print(type(idade))"
   ]
  },
  {
   "cell_type": "code",
   "execution_count": null,
   "id": "b8856939",
   "metadata": {},
   "outputs": [],
   "source": []
  }
 ],
 "metadata": {
  "kernelspec": {
   "display_name": "Python 3 (ipykernel)",
   "language": "python",
   "name": "python3"
  },
  "language_info": {
   "codemirror_mode": {
    "name": "ipython",
    "version": 3
   },
   "file_extension": ".py",
   "mimetype": "text/x-python",
   "name": "python",
   "nbconvert_exporter": "python",
   "pygments_lexer": "ipython3",
   "version": "3.9.6"
  }
 },
 "nbformat": 4,
 "nbformat_minor": 5
}
