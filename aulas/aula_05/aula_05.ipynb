{
 "cells": [
  {
   "cell_type": "markdown",
   "id": "0945386b",
   "metadata": {},
   "source": [
    "# Programação orientada a objetos (POO)"
   ]
  },
  {
   "cell_type": "markdown",
   "id": "8bd7fea9",
   "metadata": {},
   "source": [
    "Transferência de objetos do mundo real para o mundo computacional."
   ]
  },
  {
   "cell_type": "markdown",
   "id": "5b9ac370",
   "metadata": {},
   "source": [
    "* Paradigma de Desenvolvimento de Software;\n",
    "* Menos repetição de blocos de código;\n",
    "* Mais próximo do mundo real;\n",
    "* Manutenção facilitada."
   ]
  },
  {
   "cell_type": "markdown",
   "id": "b06f2c67",
   "metadata": {},
   "source": [
    "A **POO** é baseada em: "
   ]
  },
  {
   "cell_type": "markdown",
   "id": "b44f1592",
   "metadata": {},
   "source": [
    "1. Classes: representação de um objeto do mundo real. Conjunto de métodos e atributos.\n",
    "2. Objetos: variáveis e seus valores pertencentes a uma classe. Instanciar é criar um objeto para uma classe.  \n",
    "3. Atributos: basicamente, são variáveis sem os valores.\n",
    "4. Métodos: resumidamente, são funções/funcionalidades/ações/comportamentos."
   ]
  },
  {
   "cell_type": "markdown",
   "id": "eba49475",
   "metadata": {},
   "source": [
    "Exemplo ilustrativo:\n",
    "\n",
    "- **classes:** carros.\n",
    "- **objetos:** modelos de carros.\n",
    "- **atributos:** características de um certo modelo de carro.\n",
    "- **métodos:** diferentes funcionalidades de um certo modelo de carro."
   ]
  },
  {
   "cell_type": "code",
   "execution_count": null,
   "id": "ec42a7cb",
   "metadata": {},
   "outputs": [],
   "source": []
  },
  {
   "cell_type": "code",
   "execution_count": null,
   "id": "ed6a41c7",
   "metadata": {},
   "outputs": [],
   "source": []
  }
 ],
 "metadata": {
  "kernelspec": {
   "display_name": "Python 3 (ipykernel)",
   "language": "python",
   "name": "python3"
  },
  "language_info": {
   "codemirror_mode": {
    "name": "ipython",
    "version": 3
   },
   "file_extension": ".py",
   "mimetype": "text/x-python",
   "name": "python",
   "nbconvert_exporter": "python",
   "pygments_lexer": "ipython3",
   "version": "3.9.6"
  }
 },
 "nbformat": 4,
 "nbformat_minor": 5
}
