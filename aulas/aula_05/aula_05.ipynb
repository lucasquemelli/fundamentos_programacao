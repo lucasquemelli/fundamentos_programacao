{
 "cells": [
  {
   "cell_type": "markdown",
   "id": "8e3567d9",
   "metadata": {},
   "source": [
    "# Programação orientada a objetos (POO)"
   ]
  },
  {
   "cell_type": "markdown",
   "id": "4ff5fe59",
   "metadata": {},
   "source": [
    "Transferência de objetos do mundo real para o mundo computacional."
   ]
  },
  {
   "cell_type": "markdown",
   "id": "754e4123",
   "metadata": {},
   "source": [
    "* Paradigma de Desenvolvimento de Software;\n",
    "* Menos repetição de blocos de código;\n",
    "* Mais próximo do mundo real;\n",
    "* Manutenção facilitada."
   ]
  },
  {
   "cell_type": "markdown",
   "id": "4b3259d9",
   "metadata": {},
   "source": [
    "A **POO** é baseada em: "
   ]
  },
  {
   "cell_type": "markdown",
   "id": "c6b21b28",
   "metadata": {},
   "source": [
    "1. Classes: representação de um objeto do mundo real. Conjunto de métodos e atributos.\n",
    "2. Objetos: variáveis e seus valores pertencentes a uma classe. Instanciar é criar um objeto para uma classe.  \n",
    "3. Atributos: basicamente, são variáveis sem os valores.\n",
    "4. Métodos: resumidamente, são funções/funcionalidades/ações/comportamentos."
   ]
  },
  {
   "cell_type": "markdown",
   "id": "19876534",
   "metadata": {},
   "source": [
    "Exemplo ilustrativo:\n",
    "\n",
    "- **classes:** carros.\n",
    "- **objetos:** modelos de carros.\n",
    "- **atributos:** características de um certo modelo de carro.\n",
    "- **métodos:** diferentes funcionalidades de um certo modelo de carro e também características gerais de outros carros como frear. "
   ]
  },
  {
   "cell_type": "markdown",
   "id": "b5f8c5ac",
   "metadata": {},
   "source": [
    "## Criação de classe (parte 1)"
   ]
  },
  {
   "cell_type": "markdown",
   "id": "e73e898d",
   "metadata": {},
   "source": [
    "Toda classe deve começar com letra maiúscula. Se houver mais de uma palavra no nome da classe, utilizamos **CamelCase ou CapitalCase**. "
   ]
  },
  {
   "cell_type": "markdown",
   "id": "8e94a9f5",
   "metadata": {},
   "source": [
    "Vamos começar um exemplo de classe com apenas um método (armazenar informações do usuário). Os atributos da classe, que neste caso são as informações do usuário, sempre vão no método __init__. "
   ]
  },
  {
   "cell_type": "code",
   "execution_count": 1,
   "id": "1a75e3a2",
   "metadata": {},
   "outputs": [],
   "source": [
    "class Usuario:\n",
    "    def __init__(self, nome_param, idade_param, documento_param = 0):\n",
    "        self.nome = nome_param\n",
    "        self.idade = idade_param\n",
    "        self.documento = documento_param"
   ]
  },
  {
   "cell_type": "markdown",
   "id": "0102595d",
   "metadata": {},
   "source": [
    "Agora vamos criar um objeto a partir da classe acima:"
   ]
  },
  {
   "cell_type": "code",
   "execution_count": 2,
   "id": "0fbe3ed0",
   "metadata": {},
   "outputs": [],
   "source": [
    "lucas = Usuario('Lucas', 28, 1234567)"
   ]
  },
  {
   "cell_type": "code",
   "execution_count": 3,
   "id": "fb288636",
   "metadata": {},
   "outputs": [
    {
     "data": {
      "text/plain": [
       "<__main__.Usuario at 0x10dc23b6af0>"
      ]
     },
     "execution_count": 3,
     "metadata": {},
     "output_type": "execute_result"
    }
   ],
   "source": [
    "lucas"
   ]
  },
  {
   "cell_type": "code",
   "execution_count": 4,
   "id": "77099448",
   "metadata": {},
   "outputs": [
    {
     "data": {
      "text/plain": [
       "__main__.Usuario"
      ]
     },
     "execution_count": 4,
     "metadata": {},
     "output_type": "execute_result"
    }
   ],
   "source": [
    "type(lucas)"
   ]
  },
  {
   "cell_type": "markdown",
   "id": "c22e4916",
   "metadata": {},
   "source": [
    "A saída acima significa que acabamos de criar um objeto com nome lucas do tipo Usuario. "
   ]
  },
  {
   "cell_type": "markdown",
   "id": "afddf81c",
   "metadata": {},
   "source": [
    "## Acessando os objetos de uma classe"
   ]
  },
  {
   "cell_type": "code",
   "execution_count": 5,
   "id": "32bcfaba",
   "metadata": {},
   "outputs": [
    {
     "data": {
      "text/plain": [
       "'Lucas'"
      ]
     },
     "execution_count": 5,
     "metadata": {},
     "output_type": "execute_result"
    }
   ],
   "source": [
    "# Atributo nome\n",
    "lucas.nome"
   ]
  },
  {
   "cell_type": "code",
   "execution_count": 6,
   "id": "ba29e072",
   "metadata": {},
   "outputs": [
    {
     "data": {
      "text/plain": [
       "28"
      ]
     },
     "execution_count": 6,
     "metadata": {},
     "output_type": "execute_result"
    }
   ],
   "source": [
    "# Atributo idade\n",
    "lucas.idade"
   ]
  },
  {
   "cell_type": "code",
   "execution_count": 7,
   "id": "edbbb93f",
   "metadata": {},
   "outputs": [
    {
     "data": {
      "text/plain": [
       "1234567"
      ]
     },
     "execution_count": 7,
     "metadata": {},
     "output_type": "execute_result"
    }
   ],
   "source": [
    "# Atributo documento\n",
    "lucas.documento"
   ]
  },
  {
   "cell_type": "markdown",
   "id": "f786332c",
   "metadata": {},
   "source": [
    "**Atributos:** nome, idade e documento.\n",
    "**Objetos:** nome = Lucas, idade = 28 e documento = 1234567. "
   ]
  },
  {
   "cell_type": "markdown",
   "id": "9a3989c0",
   "metadata": {},
   "source": [
    "## Criação de classe (parte 2)"
   ]
  },
  {
   "cell_type": "markdown",
   "id": "e8ca505f",
   "metadata": {},
   "source": [
    "Criação do segundo método (logar no sistema)."
   ]
  },
  {
   "cell_type": "code",
   "execution_count": 8,
   "id": "1104960c",
   "metadata": {},
   "outputs": [],
   "source": [
    "class Usuario:\n",
    "    def __init__(self, nome_param, idade_param, documento_param = 0):\n",
    "        self.nome = nome_param\n",
    "        self.idade = idade_param\n",
    "        self.documento = documento_param\n",
    "        \n",
    "    def logar_no_sistema(self):\n",
    "        # ações de login\n",
    "        print(f\"O usuário {self.nome} foi logado no sistema.\")"
   ]
  },
  {
   "cell_type": "code",
   "execution_count": 10,
   "id": "a8e18143",
   "metadata": {},
   "outputs": [],
   "source": [
    "# Atributos da classe sempre vão no método __init__\n",
    "lucas = Usuario(\"Lucas\", 28, 1234567)"
   ]
  },
  {
   "cell_type": "code",
   "execution_count": 12,
   "id": "89815724",
   "metadata": {},
   "outputs": [
    {
     "name": "stdout",
     "output_type": "stream",
     "text": [
      "O usuário Lucas foi logado no sistema.\n"
     ]
    }
   ],
   "source": [
    "lucas.logar_no_sistema()"
   ]
  },
  {
   "cell_type": "code",
   "execution_count": null,
   "id": "b3b816cf",
   "metadata": {},
   "outputs": [],
   "source": []
  }
 ],
 "metadata": {
  "kernelspec": {
   "display_name": "Python 3 (ipykernel)",
   "language": "python",
   "name": "python3"
  },
  "language_info": {
   "codemirror_mode": {
    "name": "ipython",
    "version": 3
   },
   "file_extension": ".py",
   "mimetype": "text/x-python",
   "name": "python",
   "nbconvert_exporter": "python",
   "pygments_lexer": "ipython3",
   "version": "3.9.6"
  }
 },
 "nbformat": 4,
 "nbformat_minor": 5
}
