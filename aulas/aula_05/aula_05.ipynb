{
 "cells": [
  {
   "cell_type": "markdown",
   "id": "b24f1eaa",
   "metadata": {},
   "source": [
    "# Programação orientada a objetos (POO)"
   ]
  },
  {
   "cell_type": "markdown",
   "id": "16865125",
   "metadata": {},
   "source": [
    "Transferência de objetos do mundo real para o mundo computacional."
   ]
  },
  {
   "cell_type": "markdown",
   "id": "09f92740",
   "metadata": {},
   "source": [
    "* Paradigma de Desenvolvimento de Software;\n",
    "* Menos repetição de blocos de código;\n",
    "* Mais próximo do mundo real;\n",
    "* Manutenção facilitada."
   ]
  },
  {
   "cell_type": "markdown",
   "id": "61c2d729",
   "metadata": {},
   "source": [
    "A **POO** é baseada em: "
   ]
  },
  {
   "cell_type": "markdown",
   "id": "827c16bc",
   "metadata": {},
   "source": [
    "1. Classes: representação de um objeto do mundo real. Conjunto de métodos e atributos.\n",
    "2. Objetos. \n",
    "3. Atributos: basicamente, são variáveis.\n",
    "4. Métodos: resumidamente, são funções."
   ]
  },
  {
   "cell_type": "code",
   "execution_count": null,
   "id": "e871caff",
   "metadata": {},
   "outputs": [],
   "source": []
  }
 ],
 "metadata": {
  "kernelspec": {
   "display_name": "Python 3 (ipykernel)",
   "language": "python",
   "name": "python3"
  },
  "language_info": {
   "codemirror_mode": {
    "name": "ipython",
    "version": 3
   },
   "file_extension": ".py",
   "mimetype": "text/x-python",
   "name": "python",
   "nbconvert_exporter": "python",
   "pygments_lexer": "ipython3",
   "version": "3.9.6"
  }
 },
 "nbformat": 4,
 "nbformat_minor": 5
}
