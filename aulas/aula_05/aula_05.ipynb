{
 "cells": [
  {
   "cell_type": "markdown",
   "id": "8e3567d9",
   "metadata": {},
   "source": [
    "# Programação orientada a objetos (POO)"
   ]
  },
  {
   "cell_type": "markdown",
   "id": "4ff5fe59",
   "metadata": {},
   "source": [
    "Transferência de objetos do mundo real para o mundo computacional."
   ]
  },
  {
   "cell_type": "markdown",
   "id": "754e4123",
   "metadata": {},
   "source": [
    "* Paradigma de Desenvolvimento de Software;\n",
    "* Menos repetição de blocos de código;\n",
    "* Mais próximo do mundo real;\n",
    "* Manutenção facilitada."
   ]
  },
  {
   "cell_type": "markdown",
   "id": "4b3259d9",
   "metadata": {},
   "source": [
    "A **POO** é baseada em: "
   ]
  },
  {
   "cell_type": "markdown",
   "id": "c6b21b28",
   "metadata": {},
   "source": [
    "1. Classes: representação de um objeto do mundo real. Conjunto de métodos e atributos.\n",
    "2. Objetos: variáveis e seus valores pertencentes a uma classe. Instanciar é criar um objeto para uma classe.  \n",
    "3. Atributos: basicamente, são variáveis sem os valores.\n",
    "4. Métodos: resumidamente, são funções/funcionalidades/ações/comportamentos."
   ]
  },
  {
   "cell_type": "markdown",
   "id": "19876534",
   "metadata": {},
   "source": [
    "Exemplo ilustrativo:\n",
    "\n",
    "- **classes:** carros.\n",
    "- **objetos:** modelos de carros.\n",
    "- **atributos:** características de um certo modelo de carro.\n",
    "- **métodos:** diferentes funcionalidades de um certo modelo de carro e também características gerais de outros carros como frear. "
   ]
  },
  {
   "cell_type": "markdown",
   "id": "e1670938",
   "metadata": {},
   "source": [
    "## Criação de classe (parte 1)"
   ]
  },
  {
   "cell_type": "markdown",
   "id": "c08f0e73",
   "metadata": {},
   "source": [
    "Toda classe deve começar com letra maiúscula. Se houver mais de uma palavra no nome da classe, utilizamos **CamelCase ou CapitalCase**. "
   ]
  },
  {
   "cell_type": "markdown",
   "id": "0150d4c9",
   "metadata": {},
   "source": [
    "Vamos começar um exemplo de classe com apenas um método (armazenar informações do usuário). Os atributos da classe, que neste caso são as informações do usuário, sempre vão no método __init__. "
   ]
  },
  {
   "cell_type": "code",
   "execution_count": 1,
   "id": "1a75e3a2",
   "metadata": {},
   "outputs": [],
   "source": [
    "class Usuario:\n",
    "    def __init__(self, nome_param, idade_param, documento_param = 0):\n",
    "        self.nome = nome_param\n",
    "        self.idade = idade_param\n",
    "        self.documento = documento_param"
   ]
  },
  {
   "cell_type": "markdown",
   "id": "f0418611",
   "metadata": {},
   "source": [
    "Agora vamos criar um objeto a partir da classe acima:"
   ]
  },
  {
   "cell_type": "code",
   "execution_count": 2,
   "id": "a421e165",
   "metadata": {},
   "outputs": [],
   "source": [
    "lucas = Usuario('Lucas', 28, 1234567)"
   ]
  },
  {
   "cell_type": "code",
   "execution_count": 3,
   "id": "e75671e6",
   "metadata": {},
   "outputs": [
    {
     "data": {
      "text/plain": [
       "<__main__.Usuario at 0x10dc23b6af0>"
      ]
     },
     "execution_count": 3,
     "metadata": {},
     "output_type": "execute_result"
    }
   ],
   "source": [
    "lucas"
   ]
  },
  {
   "cell_type": "code",
   "execution_count": 4,
   "id": "53e28615",
   "metadata": {},
   "outputs": [
    {
     "data": {
      "text/plain": [
       "__main__.Usuario"
      ]
     },
     "execution_count": 4,
     "metadata": {},
     "output_type": "execute_result"
    }
   ],
   "source": [
    "type(lucas)"
   ]
  },
  {
   "cell_type": "markdown",
   "id": "27fda06f",
   "metadata": {},
   "source": [
    "A saída acima significa que acabamos de criar um objeto com nome lucas do tipo Usuario. "
   ]
  },
  {
   "cell_type": "markdown",
   "id": "b6ee4732",
   "metadata": {},
   "source": [
    "## Acessando os objetos de uma classe"
   ]
  },
  {
   "cell_type": "code",
   "execution_count": 5,
   "id": "117823ae",
   "metadata": {},
   "outputs": [
    {
     "data": {
      "text/plain": [
       "'Lucas'"
      ]
     },
     "execution_count": 5,
     "metadata": {},
     "output_type": "execute_result"
    }
   ],
   "source": [
    "# Atributo nome\n",
    "lucas.nome"
   ]
  },
  {
   "cell_type": "code",
   "execution_count": 6,
   "id": "f6e083c5",
   "metadata": {},
   "outputs": [
    {
     "data": {
      "text/plain": [
       "28"
      ]
     },
     "execution_count": 6,
     "metadata": {},
     "output_type": "execute_result"
    }
   ],
   "source": [
    "# Atributo idade\n",
    "lucas.idade"
   ]
  },
  {
   "cell_type": "code",
   "execution_count": 7,
   "id": "1f3a92df",
   "metadata": {},
   "outputs": [
    {
     "data": {
      "text/plain": [
       "1234567"
      ]
     },
     "execution_count": 7,
     "metadata": {},
     "output_type": "execute_result"
    }
   ],
   "source": [
    "# Atributo documento\n",
    "lucas.documento"
   ]
  },
  {
   "cell_type": "markdown",
   "id": "a435251d",
   "metadata": {},
   "source": [
    "**Atributos:** nome, idade e documento.\n",
    "**Objetos:** nome = Lucas, idade = 28 e documento = 1234567. "
   ]
  },
  {
   "cell_type": "markdown",
   "id": "c82295c2",
   "metadata": {},
   "source": [
    "## Criação de classe (parte 2)"
   ]
  },
  {
   "cell_type": "markdown",
   "id": "4eb15eb8",
   "metadata": {},
   "source": [
    "Criação do segundo método (logar no sistema)."
   ]
  },
  {
   "cell_type": "code",
   "execution_count": 8,
   "id": "0b023021",
   "metadata": {},
   "outputs": [],
   "source": [
    "class Usuario:\n",
    "    def __init__(self, nome_param, idade_param, documento_param = 0):\n",
    "        self.nome = nome_param\n",
    "        self.idade = idade_param\n",
    "        self.documento = documento_param\n",
    "        \n",
    "    def logar_no_sistema(self):\n",
    "        # ações de login\n",
    "        print(f\"O usuário {self.nome} foi logado no sistema.\")"
   ]
  },
  {
   "cell_type": "code",
   "execution_count": 10,
   "id": "e431f15b",
   "metadata": {},
   "outputs": [],
   "source": [
    "# Atributos da classe sempre vão no método __init__\n",
    "lucas = Usuario(\"Lucas\", 28, 1234567)"
   ]
  },
  {
   "cell_type": "code",
   "execution_count": 12,
   "id": "5fdb7056",
   "metadata": {},
   "outputs": [
    {
     "name": "stdout",
     "output_type": "stream",
     "text": [
      "O usuário Lucas foi logado no sistema.\n"
     ]
    }
   ],
   "source": [
    "lucas.logar_no_sistema()"
   ]
  },
  {
   "cell_type": "markdown",
   "id": "e1f78793",
   "metadata": {},
   "source": [
    "## Criação de classe (parte 3)"
   ]
  },
  {
   "cell_type": "markdown",
   "id": "99db2b7c",
   "metadata": {},
   "source": [
    "Vamos criar uma classe que contenha um contador para sinalizar toda vez que alguém novo insere sua digital no identificador biométrico de um dado sistema. A contagem será reiniciada diariamente. Não queremos informações do usuário, apenas o número de usuários identificados.\n",
    "\n",
    "- Fazer a contagem de um em um ou de vários em vários ao mesmo tempo.\n",
    "- Apresentar o valor da contagem.\n",
    "- Fazer o reset diariamente."
   ]
  },
  {
   "cell_type": "markdown",
   "id": "6db3848f",
   "metadata": {},
   "source": [
    "#### Primeira parte: instanciando o contador"
   ]
  },
  {
   "cell_type": "code",
   "execution_count": 16,
   "id": "757c3230",
   "metadata": {},
   "outputs": [],
   "source": [
    "class ClickCounter:\n",
    "    def __init__(self, count_param = 0):\n",
    "        self.count = count_param"
   ]
  },
  {
   "cell_type": "code",
   "execution_count": 18,
   "id": "8c17d087",
   "metadata": {},
   "outputs": [
    {
     "data": {
      "text/plain": [
       "0"
      ]
     },
     "execution_count": 18,
     "metadata": {},
     "output_type": "execute_result"
    }
   ],
   "source": [
    "contador = ClickCounter()\n",
    "contador.count"
   ]
  },
  {
   "cell_type": "code",
   "execution_count": 19,
   "id": "76ecd50a",
   "metadata": {},
   "outputs": [
    {
     "data": {
      "text/plain": [
       "100"
      ]
     },
     "execution_count": 19,
     "metadata": {},
     "output_type": "execute_result"
    }
   ],
   "source": [
    "contador = ClickCounter(100)\n",
    "contador.count"
   ]
  },
  {
   "cell_type": "markdown",
   "id": "53785a49",
   "metadata": {},
   "source": [
    "#### Segunda parte: resetando o contador"
   ]
  },
  {
   "cell_type": "code",
   "execution_count": 20,
   "id": "b45e14d5",
   "metadata": {},
   "outputs": [],
   "source": [
    "class ClickCounter:\n",
    "    def __init__(self, count_param = 0):\n",
    "        self.count = count_param\n",
    "        \n",
    "    def reset(self):\n",
    "        self.count = 0"
   ]
  },
  {
   "cell_type": "code",
   "execution_count": 21,
   "id": "b089d725",
   "metadata": {},
   "outputs": [
    {
     "data": {
      "text/plain": [
       "100"
      ]
     },
     "execution_count": 21,
     "metadata": {},
     "output_type": "execute_result"
    }
   ],
   "source": [
    "contador = ClickCounter(100)\n",
    "contador.count"
   ]
  },
  {
   "cell_type": "code",
   "execution_count": 22,
   "id": "5f84ad0b",
   "metadata": {},
   "outputs": [
    {
     "data": {
      "text/plain": [
       "0"
      ]
     },
     "execution_count": 22,
     "metadata": {},
     "output_type": "execute_result"
    }
   ],
   "source": [
    "contador.reset()\n",
    "contador.count"
   ]
  },
  {
   "cell_type": "markdown",
   "id": "5c0a82d9",
   "metadata": {},
   "source": [
    "Para exemplificar, criamos um contador com valor 100 e depois o resetamos. O resultado final do contador é zero, dado que ele foi resetado. "
   ]
  },
  {
   "cell_type": "code",
   "execution_count": null,
   "id": "054b56d4",
   "metadata": {},
   "outputs": [],
   "source": []
  }
 ],
 "metadata": {
  "kernelspec": {
   "display_name": "Python 3 (ipykernel)",
   "language": "python",
   "name": "python3"
  },
  "language_info": {
   "codemirror_mode": {
    "name": "ipython",
    "version": 3
   },
   "file_extension": ".py",
   "mimetype": "text/x-python",
   "name": "python",
   "nbconvert_exporter": "python",
   "pygments_lexer": "ipython3",
   "version": "3.9.6"
  }
 },
 "nbformat": 4,
 "nbformat_minor": 5
}
